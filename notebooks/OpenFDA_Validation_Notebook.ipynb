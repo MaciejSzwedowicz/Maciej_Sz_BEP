{
 "cells": [
  {
   "cell_type": "markdown",
   "id": "38dc0710",
   "metadata": {},
   "source": [
    "# OpenFDA Database Validation Notebook"
   ]
  },
  {
   "cell_type": "code",
   "execution_count": 1,
   "id": "10a0bf4d",
   "metadata": {},
   "outputs": [],
   "source": [
    "import sqlite3\n",
    "import pandas as pd\n",
    "\n",
    "db_path = r\"C:\\Users\\macie\\OneDrive\\Documents\\Edukacja\\YEAR 3\\SM2\\BEP\\OpenFDA\\notebooks\\SQL_DB\\OpenFDA_sample.db\"\n",
    "conn = sqlite3.connect(db_path)\n"
   ]
  },
  {
   "cell_type": "markdown",
   "id": "cd6823c9",
   "metadata": {},
   "source": [
    "## 1. Count total safety reports"
   ]
  },
  {
   "cell_type": "code",
   "execution_count": 2,
   "id": "18893646",
   "metadata": {},
   "outputs": [
    {
     "data": {
      "application/vnd.microsoft.datawrangler.viewer.v0+json": {
       "columns": [
        {
         "name": "index",
         "rawType": "int64",
         "type": "integer"
        },
        {
         "name": "total_reports",
         "rawType": "int64",
         "type": "integer"
        }
       ],
       "conversionMethod": "pd.DataFrame",
       "ref": "d03f012d-5a2b-4c32-86c2-eb3590f97f07",
       "rows": [
        [
         "0",
         "36000"
        ]
       ],
       "shape": {
        "columns": 1,
        "rows": 1
       }
      },
      "text/html": [
       "<div>\n",
       "<style scoped>\n",
       "    .dataframe tbody tr th:only-of-type {\n",
       "        vertical-align: middle;\n",
       "    }\n",
       "\n",
       "    .dataframe tbody tr th {\n",
       "        vertical-align: top;\n",
       "    }\n",
       "\n",
       "    .dataframe thead th {\n",
       "        text-align: right;\n",
       "    }\n",
       "</style>\n",
       "<table border=\"1\" class=\"dataframe\">\n",
       "  <thead>\n",
       "    <tr style=\"text-align: right;\">\n",
       "      <th></th>\n",
       "      <th>total_reports</th>\n",
       "    </tr>\n",
       "  </thead>\n",
       "  <tbody>\n",
       "    <tr>\n",
       "      <th>0</th>\n",
       "      <td>36000</td>\n",
       "    </tr>\n",
       "  </tbody>\n",
       "</table>\n",
       "</div>"
      ],
      "text/plain": [
       "   total_reports\n",
       "0          36000"
      ]
     },
     "execution_count": 2,
     "metadata": {},
     "output_type": "execute_result"
    }
   ],
   "source": [
    "pd.read_sql_query('SELECT COUNT(*) AS total_reports FROM safety_reports;', conn)"
   ]
  },
  {
   "cell_type": "markdown",
   "id": "efd14328",
   "metadata": {},
   "source": [
    "## 2. Validate foreign key: patients -> safety_reports"
   ]
  },
  {
   "cell_type": "code",
   "execution_count": 3,
   "id": "a39ab953",
   "metadata": {},
   "outputs": [
    {
     "data": {
      "application/vnd.microsoft.datawrangler.viewer.v0+json": {
       "columns": [
        {
         "name": "index",
         "rawType": "int64",
         "type": "integer"
        },
        {
         "name": "invalid_patients",
         "rawType": "int64",
         "type": "integer"
        }
       ],
       "conversionMethod": "pd.DataFrame",
       "ref": "fad705fa-86c1-4358-8a4d-ef2b72e8a3fd",
       "rows": [
        [
         "0",
         "0"
        ]
       ],
       "shape": {
        "columns": 1,
        "rows": 1
       }
      },
      "text/html": [
       "<div>\n",
       "<style scoped>\n",
       "    .dataframe tbody tr th:only-of-type {\n",
       "        vertical-align: middle;\n",
       "    }\n",
       "\n",
       "    .dataframe tbody tr th {\n",
       "        vertical-align: top;\n",
       "    }\n",
       "\n",
       "    .dataframe thead th {\n",
       "        text-align: right;\n",
       "    }\n",
       "</style>\n",
       "<table border=\"1\" class=\"dataframe\">\n",
       "  <thead>\n",
       "    <tr style=\"text-align: right;\">\n",
       "      <th></th>\n",
       "      <th>invalid_patients</th>\n",
       "    </tr>\n",
       "  </thead>\n",
       "  <tbody>\n",
       "    <tr>\n",
       "      <th>0</th>\n",
       "      <td>0</td>\n",
       "    </tr>\n",
       "  </tbody>\n",
       "</table>\n",
       "</div>"
      ],
      "text/plain": [
       "   invalid_patients\n",
       "0                 0"
      ]
     },
     "execution_count": 3,
     "metadata": {},
     "output_type": "execute_result"
    }
   ],
   "source": [
    "query = '''\n",
    "SELECT COUNT(*) AS invalid_patients\n",
    "FROM patients\n",
    "WHERE safetyreportid NOT IN (SELECT safetyreportid FROM safety_reports);\n",
    "'''\n",
    "pd.read_sql_query(query, conn)\n"
   ]
  },
  {
   "cell_type": "markdown",
   "id": "35cc97a3",
   "metadata": {},
   "source": [
    "## 3. Check NULL values in patientsex"
   ]
  },
  {
   "cell_type": "code",
   "execution_count": 4,
   "id": "3050221f",
   "metadata": {},
   "outputs": [
    {
     "data": {
      "application/vnd.microsoft.datawrangler.viewer.v0+json": {
       "columns": [
        {
         "name": "index",
         "rawType": "int64",
         "type": "integer"
        },
        {
         "name": "null_sex",
         "rawType": "int64",
         "type": "integer"
        }
       ],
       "conversionMethod": "pd.DataFrame",
       "ref": "50fc5399-9f34-4811-82bd-0d0b2eaba57f",
       "rows": [
        [
         "0",
         "5044"
        ]
       ],
       "shape": {
        "columns": 1,
        "rows": 1
       }
      },
      "text/html": [
       "<div>\n",
       "<style scoped>\n",
       "    .dataframe tbody tr th:only-of-type {\n",
       "        vertical-align: middle;\n",
       "    }\n",
       "\n",
       "    .dataframe tbody tr th {\n",
       "        vertical-align: top;\n",
       "    }\n",
       "\n",
       "    .dataframe thead th {\n",
       "        text-align: right;\n",
       "    }\n",
       "</style>\n",
       "<table border=\"1\" class=\"dataframe\">\n",
       "  <thead>\n",
       "    <tr style=\"text-align: right;\">\n",
       "      <th></th>\n",
       "      <th>null_sex</th>\n",
       "    </tr>\n",
       "  </thead>\n",
       "  <tbody>\n",
       "    <tr>\n",
       "      <th>0</th>\n",
       "      <td>5044</td>\n",
       "    </tr>\n",
       "  </tbody>\n",
       "</table>\n",
       "</div>"
      ],
      "text/plain": [
       "   null_sex\n",
       "0      5044"
      ]
     },
     "execution_count": 4,
     "metadata": {},
     "output_type": "execute_result"
    }
   ],
   "source": [
    "pd.read_sql_query('SELECT COUNT(*) AS null_sex FROM patients WHERE patientsex IS NULL;', conn)\n"
   ]
  },
  {
   "cell_type": "markdown",
   "id": "a72263d2",
   "metadata": {},
   "source": [
    "## 4. Distribution of patientsex values"
   ]
  },
  {
   "cell_type": "code",
   "execution_count": 5,
   "id": "274819c3",
   "metadata": {},
   "outputs": [
    {
     "data": {
      "application/vnd.microsoft.datawrangler.viewer.v0+json": {
       "columns": [
        {
         "name": "index",
         "rawType": "int64",
         "type": "integer"
        },
        {
         "name": "patientsex",
         "rawType": "object",
         "type": "unknown"
        },
        {
         "name": "count",
         "rawType": "int64",
         "type": "integer"
        }
       ],
       "conversionMethod": "pd.DataFrame",
       "ref": "8eccfacd-c289-45fa-846e-9f411ae8e227",
       "rows": [
        [
         "0",
         null,
         "5044"
        ],
        [
         "1",
         "0",
         "113"
        ],
        [
         "2",
         "1",
         "12818"
        ],
        [
         "3",
         "2",
         "18025"
        ]
       ],
       "shape": {
        "columns": 2,
        "rows": 4
       }
      },
      "text/html": [
       "<div>\n",
       "<style scoped>\n",
       "    .dataframe tbody tr th:only-of-type {\n",
       "        vertical-align: middle;\n",
       "    }\n",
       "\n",
       "    .dataframe tbody tr th {\n",
       "        vertical-align: top;\n",
       "    }\n",
       "\n",
       "    .dataframe thead th {\n",
       "        text-align: right;\n",
       "    }\n",
       "</style>\n",
       "<table border=\"1\" class=\"dataframe\">\n",
       "  <thead>\n",
       "    <tr style=\"text-align: right;\">\n",
       "      <th></th>\n",
       "      <th>patientsex</th>\n",
       "      <th>count</th>\n",
       "    </tr>\n",
       "  </thead>\n",
       "  <tbody>\n",
       "    <tr>\n",
       "      <th>0</th>\n",
       "      <td>None</td>\n",
       "      <td>5044</td>\n",
       "    </tr>\n",
       "    <tr>\n",
       "      <th>1</th>\n",
       "      <td>0</td>\n",
       "      <td>113</td>\n",
       "    </tr>\n",
       "    <tr>\n",
       "      <th>2</th>\n",
       "      <td>1</td>\n",
       "      <td>12818</td>\n",
       "    </tr>\n",
       "    <tr>\n",
       "      <th>3</th>\n",
       "      <td>2</td>\n",
       "      <td>18025</td>\n",
       "    </tr>\n",
       "  </tbody>\n",
       "</table>\n",
       "</div>"
      ],
      "text/plain": [
       "  patientsex  count\n",
       "0       None   5044\n",
       "1          0    113\n",
       "2          1  12818\n",
       "3          2  18025"
      ]
     },
     "execution_count": 5,
     "metadata": {},
     "output_type": "execute_result"
    }
   ],
   "source": [
    "pd.read_sql_query('SELECT patientsex, COUNT(*) AS count FROM patients GROUP BY patientsex;', conn)\n"
   ]
  },
  {
   "cell_type": "markdown",
   "id": "7b282a7f",
   "metadata": {},
   "source": [
    "## 5. Join Check: Reports with associated drugs"
   ]
  },
  {
   "cell_type": "code",
   "execution_count": 6,
   "id": "2708fb08",
   "metadata": {},
   "outputs": [
    {
     "data": {
      "application/vnd.microsoft.datawrangler.viewer.v0+json": {
       "columns": [
        {
         "name": "index",
         "rawType": "int64",
         "type": "integer"
        },
        {
         "name": "safetyreportid",
         "rawType": "object",
         "type": "string"
        },
        {
         "name": "num_drugs",
         "rawType": "int64",
         "type": "integer"
        }
       ],
       "conversionMethod": "pd.DataFrame",
       "ref": "639a064c-45a5-4fc8-b769-b05da4023ca5",
       "rows": [
        [
         "0",
         "10209590",
         "7"
        ],
        [
         "1",
         "10236864",
         "66"
        ],
        [
         "2",
         "10253739",
         "15"
        ],
        [
         "3",
         "10392517",
         "19"
        ],
        [
         "4",
         "10423027",
         "3"
        ],
        [
         "5",
         "10466564",
         "1"
        ],
        [
         "6",
         "10552417",
         "2"
        ],
        [
         "7",
         "10626813",
         "4"
        ],
        [
         "8",
         "10710817",
         "8"
        ],
        [
         "9",
         "10756952",
         "2"
        ]
       ],
       "shape": {
        "columns": 2,
        "rows": 10
       }
      },
      "text/html": [
       "<div>\n",
       "<style scoped>\n",
       "    .dataframe tbody tr th:only-of-type {\n",
       "        vertical-align: middle;\n",
       "    }\n",
       "\n",
       "    .dataframe tbody tr th {\n",
       "        vertical-align: top;\n",
       "    }\n",
       "\n",
       "    .dataframe thead th {\n",
       "        text-align: right;\n",
       "    }\n",
       "</style>\n",
       "<table border=\"1\" class=\"dataframe\">\n",
       "  <thead>\n",
       "    <tr style=\"text-align: right;\">\n",
       "      <th></th>\n",
       "      <th>safetyreportid</th>\n",
       "      <th>num_drugs</th>\n",
       "    </tr>\n",
       "  </thead>\n",
       "  <tbody>\n",
       "    <tr>\n",
       "      <th>0</th>\n",
       "      <td>10209590</td>\n",
       "      <td>7</td>\n",
       "    </tr>\n",
       "    <tr>\n",
       "      <th>1</th>\n",
       "      <td>10236864</td>\n",
       "      <td>66</td>\n",
       "    </tr>\n",
       "    <tr>\n",
       "      <th>2</th>\n",
       "      <td>10253739</td>\n",
       "      <td>15</td>\n",
       "    </tr>\n",
       "    <tr>\n",
       "      <th>3</th>\n",
       "      <td>10392517</td>\n",
       "      <td>19</td>\n",
       "    </tr>\n",
       "    <tr>\n",
       "      <th>4</th>\n",
       "      <td>10423027</td>\n",
       "      <td>3</td>\n",
       "    </tr>\n",
       "    <tr>\n",
       "      <th>5</th>\n",
       "      <td>10466564</td>\n",
       "      <td>1</td>\n",
       "    </tr>\n",
       "    <tr>\n",
       "      <th>6</th>\n",
       "      <td>10552417</td>\n",
       "      <td>2</td>\n",
       "    </tr>\n",
       "    <tr>\n",
       "      <th>7</th>\n",
       "      <td>10626813</td>\n",
       "      <td>4</td>\n",
       "    </tr>\n",
       "    <tr>\n",
       "      <th>8</th>\n",
       "      <td>10710817</td>\n",
       "      <td>8</td>\n",
       "    </tr>\n",
       "    <tr>\n",
       "      <th>9</th>\n",
       "      <td>10756952</td>\n",
       "      <td>2</td>\n",
       "    </tr>\n",
       "  </tbody>\n",
       "</table>\n",
       "</div>"
      ],
      "text/plain": [
       "  safetyreportid  num_drugs\n",
       "0       10209590          7\n",
       "1       10236864         66\n",
       "2       10253739         15\n",
       "3       10392517         19\n",
       "4       10423027          3\n",
       "5       10466564          1\n",
       "6       10552417          2\n",
       "7       10626813          4\n",
       "8       10710817          8\n",
       "9       10756952          2"
      ]
     },
     "execution_count": 6,
     "metadata": {},
     "output_type": "execute_result"
    }
   ],
   "source": [
    "query = '''\n",
    "SELECT sr.safetyreportid, COUNT(dr.id) AS num_drugs\n",
    "FROM safety_reports sr\n",
    "JOIN drugs dr ON sr.safetyreportid = dr.safetyreportid\n",
    "GROUP BY sr.safetyreportid\n",
    "LIMIT 10;\n",
    "'''\n",
    "pd.read_sql_query(query, conn)\n"
   ]
  },
  {
   "cell_type": "markdown",
   "id": "7412b56a",
   "metadata": {},
   "source": [
    "## 6. Sample Check: Report ID 23541411"
   ]
  },
  {
   "cell_type": "code",
   "execution_count": 7,
   "id": "edef0eb6",
   "metadata": {},
   "outputs": [
    {
     "data": {
      "application/vnd.microsoft.datawrangler.viewer.v0+json": {
       "columns": [
        {
         "name": "index",
         "rawType": "int64",
         "type": "integer"
        },
        {
         "name": "safetyreportid",
         "rawType": "object",
         "type": "string"
        },
        {
         "name": "safetyreportversion",
         "rawType": "object",
         "type": "string"
        },
        {
         "name": "reporttype",
         "rawType": "object",
         "type": "string"
        },
        {
         "name": "serious",
         "rawType": "object",
         "type": "string"
        },
        {
         "name": "seriousnessdeath",
         "rawType": "object",
         "type": "string"
        },
        {
         "name": "seriousnesslifethreatening",
         "rawType": "object",
         "type": "string"
        },
        {
         "name": "seriousnesshospitalization",
         "rawType": "object",
         "type": "string"
        },
        {
         "name": "seriousnessdisabling",
         "rawType": "object",
         "type": "string"
        },
        {
         "name": "seriousnesscongenitalanomali",
         "rawType": "object",
         "type": "unknown"
        },
        {
         "name": "seriousnessother",
         "rawType": "object",
         "type": "string"
        },
        {
         "name": "receivedate",
         "rawType": "object",
         "type": "string"
        },
        {
         "name": "receiptdate",
         "rawType": "object",
         "type": "string"
        },
        {
         "name": "transmissiondate",
         "rawType": "object",
         "type": "string"
        },
        {
         "name": "occurcountry",
         "rawType": "object",
         "type": "string"
        },
        {
         "name": "fulfillexpeditecriteria",
         "rawType": "object",
         "type": "string"
        },
        {
         "name": "authoritynumb",
         "rawType": "object",
         "type": "unknown"
        }
       ],
       "conversionMethod": "pd.DataFrame",
       "ref": "6adddf64-165f-4487-bafd-1242bb98f632",
       "rows": [
        [
         "0",
         "23541411",
         "1",
         "1",
         "1",
         "1",
         "1",
         "1",
         "1",
         null,
         "1",
         "20240219",
         "20240219",
         "20240410",
         "CA",
         "2",
         null
        ]
       ],
       "shape": {
        "columns": 16,
        "rows": 1
       }
      },
      "text/html": [
       "<div>\n",
       "<style scoped>\n",
       "    .dataframe tbody tr th:only-of-type {\n",
       "        vertical-align: middle;\n",
       "    }\n",
       "\n",
       "    .dataframe tbody tr th {\n",
       "        vertical-align: top;\n",
       "    }\n",
       "\n",
       "    .dataframe thead th {\n",
       "        text-align: right;\n",
       "    }\n",
       "</style>\n",
       "<table border=\"1\" class=\"dataframe\">\n",
       "  <thead>\n",
       "    <tr style=\"text-align: right;\">\n",
       "      <th></th>\n",
       "      <th>safetyreportid</th>\n",
       "      <th>safetyreportversion</th>\n",
       "      <th>reporttype</th>\n",
       "      <th>serious</th>\n",
       "      <th>seriousnessdeath</th>\n",
       "      <th>seriousnesslifethreatening</th>\n",
       "      <th>seriousnesshospitalization</th>\n",
       "      <th>seriousnessdisabling</th>\n",
       "      <th>seriousnesscongenitalanomali</th>\n",
       "      <th>seriousnessother</th>\n",
       "      <th>receivedate</th>\n",
       "      <th>receiptdate</th>\n",
       "      <th>transmissiondate</th>\n",
       "      <th>occurcountry</th>\n",
       "      <th>fulfillexpeditecriteria</th>\n",
       "      <th>authoritynumb</th>\n",
       "    </tr>\n",
       "  </thead>\n",
       "  <tbody>\n",
       "    <tr>\n",
       "      <th>0</th>\n",
       "      <td>23541411</td>\n",
       "      <td>1</td>\n",
       "      <td>1</td>\n",
       "      <td>1</td>\n",
       "      <td>1</td>\n",
       "      <td>1</td>\n",
       "      <td>1</td>\n",
       "      <td>1</td>\n",
       "      <td>None</td>\n",
       "      <td>1</td>\n",
       "      <td>20240219</td>\n",
       "      <td>20240219</td>\n",
       "      <td>20240410</td>\n",
       "      <td>CA</td>\n",
       "      <td>2</td>\n",
       "      <td>None</td>\n",
       "    </tr>\n",
       "  </tbody>\n",
       "</table>\n",
       "</div>"
      ],
      "text/plain": [
       "  safetyreportid safetyreportversion reporttype serious seriousnessdeath  \\\n",
       "0       23541411                   1          1       1                1   \n",
       "\n",
       "  seriousnesslifethreatening seriousnesshospitalization seriousnessdisabling  \\\n",
       "0                          1                          1                    1   \n",
       "\n",
       "  seriousnesscongenitalanomali seriousnessother receivedate receiptdate  \\\n",
       "0                         None                1    20240219    20240219   \n",
       "\n",
       "  transmissiondate occurcountry fulfillexpeditecriteria authoritynumb  \n",
       "0         20240410           CA                       2          None  "
      ]
     },
     "execution_count": 7,
     "metadata": {},
     "output_type": "execute_result"
    }
   ],
   "source": [
    "pd.read_sql_query(\"SELECT * FROM safety_reports WHERE safetyreportid = '23541411';\", conn)\n"
   ]
  },
  {
   "cell_type": "code",
   "execution_count": null,
   "id": "a25578fc",
   "metadata": {},
   "outputs": [],
   "source": []
  }
 ],
 "metadata": {
  "kernelspec": {
   "display_name": "gen_ML",
   "language": "python",
   "name": "python3"
  },
  "language_info": {
   "codemirror_mode": {
    "name": "ipython",
    "version": 3
   },
   "file_extension": ".py",
   "mimetype": "text/x-python",
   "name": "python",
   "nbconvert_exporter": "python",
   "pygments_lexer": "ipython3",
   "version": "3.9.19"
  }
 },
 "nbformat": 4,
 "nbformat_minor": 5
}
