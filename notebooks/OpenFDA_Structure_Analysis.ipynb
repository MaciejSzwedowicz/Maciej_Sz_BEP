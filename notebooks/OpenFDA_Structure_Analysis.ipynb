{
 "cells": [
  {
   "cell_type": "markdown",
   "id": "ac7f4ea3",
   "metadata": {},
   "source": [
    "# 🧬 OpenFDA Structure Analysis Notebook\n",
    "\n",
    "This notebook explores the structure of OpenFDA drug adverse event reports.  \n",
    "Goals:\n",
    " - Goal 1\n",
    " - Goal 2\n",
    " - ..."
   ]
  },
  {
   "cell_type": "markdown",
   "id": "cbfb9a11",
   "metadata": {},
   "source": [
    "## 🔍 Notebook Overview: OpenFDA Structure Analysis\n",
    "\n",
    "This notebook performs structural analysis of the OpenFDA drug adverse event reports. It follows these steps:\n",
    "\n",
    "1. **Step 1**\n",
    "2. **Step 2**\n",
    "3. **...**"
   ]
  },
  {
   "cell_type": "code",
   "execution_count": 22,
   "id": "9f434861",
   "metadata": {},
   "outputs": [],
   "source": [
    "import os\n",
    "import glob\n",
    "import ijson\n",
    "from collections import Counter, defaultdict\n",
    "import pandas as pd\n",
    "from typing import Any, Dict\n",
    "from tqdm import tqdm\n"
   ]
  },
  {
   "cell_type": "markdown",
   "id": "a22db92a",
   "metadata": {},
   "source": [
    "### Initialize the path to the dataset:"
   ]
  },
  {
   "cell_type": "code",
   "execution_count": 24,
   "id": "7384a5f9",
   "metadata": {},
   "outputs": [],
   "source": [
    "data_path = \"../data/raw/source_data\""
   ]
  },
  {
   "cell_type": "markdown",
   "id": "a8b2af54",
   "metadata": {},
   "source": [
    "## Function for iterating over the reports in the dataset:"
   ]
  },
  {
   "cell_type": "code",
   "execution_count": 23,
   "id": "8f323ba6",
   "metadata": {},
   "outputs": [],
   "source": [
    "def iterate_reports_ijson(path):\n",
    "    \"\"\"Yields one report at a time from the 'results' array inside the full dataset,\n",
    "    iterating over all .json files if a directory is provided.\"\"\"\n",
    "    \n",
    "    def yield_file(file_path):\n",
    "        with open(file_path, 'rb') as f:\n",
    "            parser = ijson.items(f, 'results.item')\n",
    "            for report in parser:\n",
    "                yield report\n",
    "\n",
    "    if os.path.isdir(path):\n",
    "        for file_path in sorted(glob.glob(os.path.join(path, '*.json'))):\n",
    "            yield from yield_file(file_path)\n",
    "    else:\n",
    "        yield from yield_file(path)\n"
   ]
  },
  {
   "cell_type": "markdown",
   "id": "59b2fa55",
   "metadata": {},
   "source": [
    "## 1. Counting the number of reports and identifying duplicates."
   ]
  },
  {
   "cell_type": "code",
   "execution_count": 26,
   "id": "40cfbf14",
   "metadata": {},
   "outputs": [
    {
     "name": "stderr",
     "output_type": "stream",
     "text": [
      "Counting reports: 99it [00:02, 41.62it/s]"
     ]
    },
    {
     "name": "stdout",
     "output_type": "stream",
     "text": [
      "📦 Total number of reports: 100\n"
     ]
    },
    {
     "name": "stderr",
     "output_type": "stream",
     "text": [
      "\n"
     ]
    }
   ],
   "source": [
    "# Count total number of reports in the dataset\n",
    "from tqdm import tqdm\n",
    "\n",
    "report_count = 0\n",
    "for _ in tqdm(iterate_reports_ijson(data_path), desc=\"Counting reports\"):\n",
    "    report_count += 1\n",
    "    if report_count == 100:\n",
    "        break\n",
    "\n",
    "print(f\"📦 Total number of reports: {report_count}\")\n"
   ]
  },
  {
   "cell_type": "code",
   "execution_count": null,
   "id": "ab897a8b",
   "metadata": {},
   "outputs": [],
   "source": []
  }
 ],
 "metadata": {
  "language_info": {
   "name": "python"
  }
 },
 "nbformat": 4,
 "nbformat_minor": 5
}
