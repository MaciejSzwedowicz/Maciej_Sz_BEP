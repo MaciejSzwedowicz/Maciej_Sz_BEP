{
 "cells": [
  {
   "cell_type": "code",
   "execution_count": 1,
   "id": "b8db9d09",
   "metadata": {},
   "outputs": [],
   "source": [
    "import sqlite3\n",
    "import pandas as pd\n",
    "import matplotlib.pyplot as plt\n",
    "from collections import Counter\n",
    "import pymongo\n",
    "from pprint import pprint\n",
    "\n",
    "# --- Connect to SQLite ---\n",
    "conn = sqlite3.connect(\"../../sql/openfda_base_updated.db\")\n",
    "cursor = conn.cursor()\n",
    "#11090837"
   ]
  },
  {
   "cell_type": "code",
   "execution_count": 2,
   "id": "d4f89a5a",
   "metadata": {},
   "outputs": [
    {
     "name": "stdout",
     "output_type": "stream",
     "text": [
      "Number of entries in drug table with safetyreportid 11090837: 561\n"
     ]
    }
   ],
   "source": [
    "# count entries in drug table where safetyreportid is 11090837\n",
    "cursor.execute(\"SELECT COUNT(*) FROM drug WHERE safetyreportid = 11090837\")\n",
    "count = cursor.fetchone()[0]\n",
    "print(f\"Number of entries in drug table with safetyreportid 11090837: {count}\")"
   ]
  },
  {
   "cell_type": "code",
   "execution_count": 3,
   "id": "b38f065e",
   "metadata": {},
   "outputs": [
    {
     "name": "stdout",
     "output_type": "stream",
     "text": [
      "Number of entries in drug table with safetyreportid 11090837: 8\n"
     ]
    }
   ],
   "source": [
    "### count reactions for SELECT COUNT(*) FROM drug WHERE safetyreportid = 11090837\n",
    "\n",
    "cursor.execute(\"SELECT COUNT(*) FROM reaction WHERE safetyreportid = 11090837\")\n",
    "count = cursor.fetchone()[0]\n",
    "print(f\"Number of entries in drug table with safetyreportid 11090837: {count}\")"
   ]
  },
  {
   "cell_type": "code",
   "execution_count": 8,
   "id": "5dca1526",
   "metadata": {},
   "outputs": [
    {
     "name": "stdout",
     "output_type": "stream",
     "text": [
      "(11090837, 'Coma', 26.1, 1)\n",
      "(11090837, 'Gastrooesophageal reflux disease', 26.1, 1)\n",
      "(11090837, 'Pneumonia aspiration', 26.1, 1)\n",
      "(11090837, 'Somnolence', 26.1, 1)\n",
      "(11090837, 'Incorrect route of product administration', 26.1, 1)\n",
      "(11090837, 'Off label use', 26.1, 1)\n",
      "(11090837, 'Incorrect dose administered by product', 26.1, 1)\n",
      "(11090837, 'Underdose', 26.1, 1)\n"
     ]
    }
   ],
   "source": [
    "### print all reactions for SELECT COUNT(*) FROM drug WHERE safetyreportid = 11090837\n",
    "cursor.execute(\"SELECT * FROM reaction WHERE safetyreportid = 11090837\")\n",
    "reactions = cursor.fetchall()\n",
    "for reaction in reactions:\n",
    "    print(reaction[1:])"
   ]
  },
  {
   "cell_type": "code",
   "execution_count": 28,
   "id": "9e41f741",
   "metadata": {},
   "outputs": [
    {
     "name": "stdout",
     "output_type": "stream",
     "text": [
      "(11090837, 5, 64, 801, 2, 69.0)\n"
     ]
    }
   ],
   "source": [
    "cursor.execute(\"SELECT * FROM patient_optional WHERE safetyreportid = 11090837\")\n",
    "patient_optional = cursor.fetchall()\n",
    "for patient in patient_optional:\n",
    "    print(patient)"
   ]
  },
  {
   "cell_type": "code",
   "execution_count": 16,
   "id": "5ad06a84",
   "metadata": {},
   "outputs": [
    {
     "name": "stdout",
     "output_type": "stream",
     "text": [
      "Number of entries in report_duplicate table with safetyreportid 11090837: 105\n"
     ]
    }
   ],
   "source": [
    "cursor.execute(\"SELECT COUNT(*) FROM report_duplicate WHERE safetyreportid = 11090837\")\n",
    "count = cursor.fetchone()[0]\n",
    "print(f\"Number of entries in report_duplicate table with safetyreportid 11090837: {count}\")"
   ]
  },
  {
   "cell_type": "code",
   "execution_count": 4,
   "id": "a3df8fef",
   "metadata": {},
   "outputs": [
    {
     "name": "stdout",
     "output_type": "stream",
     "text": [
      "[('MOMETASONE FUROATE',), ('MOMETASONE FUROATE',), ('MOMETASONE FUROATE',), ('MOMETASONE FUROATE',), ('MOMETASONE FUROATE',), ('MOMETASONE FUROATE',), ('MOMETASONE FUROATE',), ('MOMETASONE FUROATE',), ('MOMETASONE FUROATE',), ('MOMETASONE FUROATE',), ('MOMETASONE FUROATE',), ('MOMETASONE FUROATE',), ('MOMETASONE FUROATE',), ('MOMETASONE FUROATE',), ('MOMETASONE FUROATE',), ('MOMETASONE FUROATE',), ('MOMETASONE FUROATE',), ('MOMETASONE FUROATE',), ('MOMETASONE FUROATE',), ('MOMETASONE FUROATE',), ('MOMETASONE FUROATE',), ('MOMETASONE FUROATE',), ('MOMETASONE FUROATE',), ('MOMETASONE FUROATE',), ('MOMETASONE FUROATE',), ('MOMETASONE FUROATE',), ('TIZANIDINE HYDROCHLORIDE',), ('TIZANIDINE HYDROCHLORIDE',), ('FUROSEMIDE',), ('PREDNISONE',), ('WARFARIN',), ('BIFIDOBACTERIUM LONGUM\\\\LACTOBACILLUS ACIDOPHILUS',), ('POTASSIUM CHLORIDE',), ('POTASSIUM CHLORIDE',), ('POTASSIUM CHLORIDE',), ('POTASSIUM CHLORIDE',), ('ATIVAN',), ('VITAMIN B',), ('BACLOFEN',), ('CELLCEPT',), ('CYMBALTA',), ('CYMBALTA',), ('CYMBALTA',), ('DOCUSATE SODIUM',), ('OMEGA-3-ACID ETHYL ESTERS',), ('OMEGA-3-ACID ETHYL ESTERS',), ('OMEGA-3-ACID ETHYL ESTERS',), ('HYDROMORPHONE',), ('THYMOCYTE IMMUNE GLOBULIN NOS',), ('IMODIUM',), ('IMODIUM',), ('LYRICA',), ('MELATONIN',), ('NORTRIPTYLINE',), ('HYDROCHLOROTHIAZIDE',), ('SENNOSIDES A AND B',), ('SENNOSIDES A AND B',), ('VITAMIN B12',), ('VITAMIN C',), ('ZANTAC',), ('ZOPICLONE',), ('ZOPICLONE',), ('ALENDRONATE SODIUM',), ('ALENDRONATE SODIUM',), ('CALCIUM CARBONATE',), ('CALCIUM CARBONATE',), ('VITAMIN D NOS',), ('VITAMIN D NOS',), ('LORATADINE',), ('FOSAMAX',), ('DOCONEXENT\\\\ICOSAPENT',), ('SENOKOT',), ('THYMOCYTE IMMUNE GLOBULIN NOS',), ('FOLIC ACID',), ('DEXPANTHENOL',), ('ERGOCALCIFEROL',), ('NIACINAMIDE',), ('PYRIDOXINE HYDROCHLORIDE',), ('PYRIDOXINE HYDROCHLORIDE',), ('PYRIDOXINE HYDROCHLORIDE',), ('RIBOFLAVIN',), ('SULFAMETHOXAZOLE',), ('THIAMINE HYDROCHLORIDE',), ('THIAMINE HYDROCHLORIDE',), ('THIAMINE HYDROCHLORIDE',), ('SULFADIAZINE\\\\TRIMETHOPRIM',), ('SULFADIAZINE\\\\TRIMETHOPRIM',), ('SULFADIAZINE\\\\TRIMETHOPRIM',), ('SULFADIAZINE\\\\TRIMETHOPRIM',), ('SULFADIAZINE\\\\TRIMETHOPRIM',), ('SULFADIAZINE\\\\TRIMETHOPRIM',), ('SULFADIAZINE\\\\TRIMETHOPRIM',), ('SULFADIAZINE\\\\TRIMETHOPRIM',), ('SULFADIAZINE\\\\TRIMETHOPRIM',), ('SULFADIAZINE\\\\TRIMETHOPRIM',), ('SULFADIAZINE\\\\TRIMETHOPRIM',), ('SULFADIAZINE\\\\TRIMETHOPRIM',), ('SULFADIAZINE\\\\TRIMETHOPRIM',), ('SULFADIAZINE\\\\TRIMETHOPRIM',), ('SULFADIAZINE\\\\TRIMETHOPRIM',), ('SULFADIAZINE\\\\TRIMETHOPRIM',), ('SULFADIAZINE\\\\TRIMETHOPRIM',), ('SULFADIAZINE\\\\TRIMETHOPRIM',), ('SULFADIAZINE\\\\TRIMETHOPRIM',), ('OMEGA-3 FATTY ACIDS',), ('SULFAMETHOXAZOLE\\\\TRIMETHOPRIM',), ('SULFAMETHOXAZOLE\\\\TRIMETHOPRIM',), ('SULFAMETHOXAZOLE\\\\TRIMETHOPRIM',), ('SULFAMETHOXAZOLE\\\\TRIMETHOPRIM',), ('SULFAMETHOXAZOLE\\\\TRIMETHOPRIM',), ('SULFAMETHOXAZOLE\\\\TRIMETHOPRIM',), ('SULFAMETHOXAZOLE\\\\TRIMETHOPRIM',), ('SULFAMETHOXAZOLE\\\\TRIMETHOPRIM',), ('SULFAMETHOXAZOLE\\\\TRIMETHOPRIM',), ('SULFAMETHOXAZOLE\\\\TRIMETHOPRIM',), ('SULFAMETHOXAZOLE\\\\TRIMETHOPRIM',), ('SULFAMETHOXAZOLE\\\\TRIMETHOPRIM',), ('SULFAMETHOXAZOLE\\\\TRIMETHOPRIM',), ('SULFAMETHOXAZOLE\\\\TRIMETHOPRIM',), ('SULFAMETHOXAZOLE\\\\TRIMETHOPRIM',), ('SULFAMETHOXAZOLE\\\\TRIMETHOPRIM',), ('SULFAMETHOXAZOLE\\\\TRIMETHOPRIM',), ('SULFAMETHOXAZOLE\\\\TRIMETHOPRIM',), ('SULFAMETHOXAZOLE\\\\TRIMETHOPRIM',), ('SULFAMETHOXAZOLE\\\\TRIMETHOPRIM',), ('SULFAMETHOXAZOLE\\\\TRIMETHOPRIM',), ('SULFAMETHOXAZOLE\\\\TRIMETHOPRIM',), ('SULFAMETHOXAZOLE\\\\TRIMETHOPRIM',), ('SULFAMETHOXAZOLE\\\\TRIMETHOPRIM',), ('SULFAMETHOXAZOLE\\\\TRIMETHOPRIM',), ('SULFAMETHOXAZOLE\\\\TRIMETHOPRIM',), ('SULFAMETHOXAZOLE\\\\TRIMETHOPRIM',), ('SULFAMETHOXAZOLE\\\\TRIMETHOPRIM',), ('SULFAMETHOXAZOLE\\\\TRIMETHOPRIM',), ('SULFAMETHOXAZOLE\\\\TRIMETHOPRIM',), ('SULFAMETHOXAZOLE\\\\TRIMETHOPRIM',), ('SULFAMETHOXAZOLE\\\\TRIMETHOPRIM',), ('SULFAMETHOXAZOLE\\\\TRIMETHOPRIM',), ('SULFAMETHOXAZOLE\\\\TRIMETHOPRIM',), ('SULFAMETHOXAZOLE\\\\TRIMETHOPRIM',), ('SULFAMETHOXAZOLE\\\\TRIMETHOPRIM',), ('SULFAMETHOXAZOLE\\\\TRIMETHOPRIM',), ('SULFAMETHOXAZOLE\\\\TRIMETHOPRIM',), ('SULFAMETHOXAZOLE\\\\TRIMETHOPRIM',), ('SULFAMETHOXAZOLE\\\\TRIMETHOPRIM',), ('AMINOBENZOIC ACID',), ('CHOLINE BITARTRATE',), ('INOSITOL',), ('VITAMIN B COMPLEX',), ('BIFIDOBACTERIUM BIFIDUM',), ('DULOXETINE HYDROCHLORIDE',), ('DULOXETINE HYDROCHLORIDE',), ('DULOXETINE HYDROCHLORIDE',), ('DULOXETINE HYDROCHLORIDE',), ('HUMAN IMMUNOGLOBULIN G',), ('LACTOBACILLUS CASEI',), ('NORTRIPTYLINE HYDROCHLORIDE',), ('NORTRIPTYLINE HYDROCHLORIDE',), ('TRIMETHOPRIM',), ('THIAMINE',), ('CREATINE',), ('HORSE CHESTNUT',), ('LORATADINE\\\\PSEUDOEPHEDRINE SULFATE',), ('LORATADINE\\\\PSEUDOEPHEDRINE SULFATE',), ('LORATADINE\\\\PSEUDOEPHEDRINE SULFATE',), ('LORATADINE\\\\PSEUDOEPHEDRINE SULFATE',), ('LORATADINE\\\\PSEUDOEPHEDRINE SULFATE',), ('LORATADINE\\\\PSEUDOEPHEDRINE SULFATE',), ('LORATADINE\\\\PSEUDOEPHEDRINE SULFATE',), ('LORATADINE\\\\PSEUDOEPHEDRINE SULFATE',), ('LORATADINE\\\\PSEUDOEPHEDRINE SULFATE',), ('LORATADINE\\\\PSEUDOEPHEDRINE SULFATE',), ('LORATADINE\\\\PSEUDOEPHEDRINE SULFATE',), ('LORATADINE\\\\PSEUDOEPHEDRINE SULFATE',), ('LORATADINE\\\\PSEUDOEPHEDRINE SULFATE',), ('DOCONEXENT',), ('CHOLECALCIFEROL',), ('ALFACALCIDOL',), ('TRIAMTERENE',), ('INSULIN NOS',), ('GLICLAZIDE',), ('BIFIDOBACTERIUM ANIMALIS LACTIS',), ('BIFIDOBACTERIUM ANIMALIS LACTIS',), ('CALCIUM',), ('ALKA-SELTZER HEARTBURN RELIEFCHEWS',), ('ALKA-SELTZER HEARTBURN RELIEFCHEWS',), ('ALKA-SELTZER HEARTBURN RELIEFCHEWS',), ('ALKA-SELTZER HEARTBURN RELIEFCHEWS',), ('ALKA-SELTZER HEARTBURN RELIEFCHEWS',), ('ALKA-SELTZER HEARTBURN RELIEFCHEWS',), ('ALKA-SELTZER HEARTBURN RELIEFCHEWS',), ('ALKA-SELTZER HEARTBURN RELIEFCHEWS',), ('ALKA-SELTZER HEARTBURN RELIEFCHEWS',), ('ALKA-SELTZER HEARTBURN RELIEFCHEWS',), ('.ALPHA.-TOCOPHEROL, D-',), ('.ALPHA.-TOCOPHEROL, D-',), ('FISH OIL',), ('FISH OIL',), ('MYCOPHENOLATE MOFETIL',), ('NICOTINAMIDE',), ('NIACINAMIDE\\\\PYRIDOXINE HYDROCHLORIDE\\\\RIBOFLAVIN\\\\THIAMINE HYDROCHLORIDE',), ('RANITIDINE',), ('ATLANTIC SALMON OIL',), ('SENNA LEAF',), ('CREATININE',), ('CYANOCOBALAMIN',), ('FRUCTOSE',), ('SULFALENE',), ('LACTOBACILLUS RHAMNOSUS',), ('LACTOBACILLUS RHAMNOSUS',), ('CELLCEPT',), ('VITAMIN B12',), ('RIBOFLAVIN 5^-PHOSPHATE SODIUM ANHYDROUS',), ('SULFAMETHOXAZOLE\\\\TRIMETHOPRIM',), ('SULFADIAZINE',), ('BROMHEXINE HYDROCHLORIDE',), ('CLORPRENALINE HYDROCHLORIDE',), ('GAMMAGARD',), ('BACLOFEN',), ('HYDROMORPHONE HYDROCHLORIDE',), ('LOPERAMIDE',), ('NASONEX',), ('LORAZEPAM',), ('TIZANIDINE',), ('TIZANIDINE',), ('TIZANIDINE',), ('TIZANIDINE',), ('TIZANIDINE',), ('TIZANIDINE',), ('TIZANIDINE',), ('CALCIUM GLUCONATE',), ('CALCIUM GLUCONATE',), ('CALCIUM GLUCONATE',), ('CALCIUM GLUCONATE',), ('ALKA-SELTZER',), ('FISH OIL',), ('SULFALENE',), ('ASCORBIC ACID',), ('CALCIUM CARBONATE',), ('CALCIUM CARBONATE',), ('CALCIUM CARBONATE',), ('CALCIUM CARBONATE',), ('CALCIUM CARBONATE',), ('CALCIUM CARBONATE',), ('CALCIUM CARBONATE',), ('CALCIUM CARBONATE',), ('CALCIUM CARBONATE',), ('CALCIUM CARBONATE',), ('CALCIUM CARBONATE',), ('CALCIUM CARBONATE',), ('CALCIUM CARBONATE',), ('CALCIUM CARBONATE',), ('CALCIUM CARBONATE',), ('CALCIUM CARBONATE',), ('CALCIUM CARBONATE',), ('CALCIUM CARBONATE',), ('CALCIUM CARBONATE',), ('CALCIUM CARBONATE',), ('CALCIUM CARBONATE',), ('CALCIUM CARBONATE',), ('CALCIUM CARBONATE',), ('CALCIUM CARBONATE',), ('CALCIUM CARBONATE',), ('CALCIUM CARBONATE',), ('CALCIUM CARBONATE',), ('CALCIUM CARBONATE',), ('CALCIUM CARBONATE',), ('CALCIUM CARBONATE',), ('CALCIUM CARBONATE',), ('CALCIUM CARBONATE',), ('CALCIUM CARBONATE',), ('CALCIUM CARBONATE',), ('CALCIUM CARBONATE',), ('CALCIUM CARBONATE',), ('CALCIUM CARBONATE',), ('CALCIUM CARBONATE',), ('CALCIUM CARBONATE',), ('CALCIUM CARBONATE',), ('CALCIUM CARBONATE',), ('CALCIUM CARBONATE',), ('CALCIUM CARBONATE',), ('CALCIUM CARBONATE',), ('CALCIUM CARBONATE',), ('CALCIUM CARBONATE',), ('CALCIUM CARBONATE',), ('CALCIUM CARBONATE',), ('CALCIUM CARBONATE',), ('CALCIUM CARBONATE',), ('CALCIUM CARBONATE',), ('CALCIUM CARBONATE',), ('CALCIUM CARBONATE',), ('CALCIUM CARBONATE',), ('CALCIUM CARBONATE',), ('CALCIUM CARBONATE',), ('CALCIUM CARBONATE',), ('CALCIUM CARBONATE',), ('CALCIUM CARBONATE',), ('CALCIUM CARBONATE',), ('CALCIUM CARBONATE',), ('CALCIUM CARBONATE',), ('CALCIUM CARBONATE',), ('CALCIUM CARBONATE',), ('CALCIUM CARBONATE',), ('CALCIUM CARBONATE',), ('CALCIUM CARBONATE',), ('CALCIUM CARBONATE',), ('CALCIUM CARBONATE',), ('CALCIUM CARBONATE',), ('CALCIUM CARBONATE',), ('CALCIUM CARBONATE',), ('CALCIUM CARBONATE',), ('CALCIUM CARBONATE',), ('CALCIUM CARBONATE',), ('CALCIUM CARBONATE',), ('CALCIUM CARBONATE',), ('CALCIUM CARBONATE',), ('CALCIUM CARBONATE',), ('CALCIUM CARBONATE',), ('CALCIUM CARBONATE',), ('CALCIUM CARBONATE',), ('CALCIUM CARBONATE',), ('CALCIUM CARBONATE',), ('CALCIUM CARBONATE',), ('CALCIUM CARBONATE',), ('CALCIUM CARBONATE',), ('CALCIUM CARBONATE',), ('CALCIUM CARBONATE',), ('CALCIUM CARBONATE',), ('CALCIUM CARBONATE',), ('CALCIUM CARBONATE',), ('CALCIUM CARBONATE',), ('CALCIUM CARBONATE',), ('CALCIUM CARBONATE',), ('CALCIUM CARBONATE',), ('CALCIUM CARBONATE',), ('CALCIUM CARBONATE',), ('CALCIUM CARBONATE',), ('CALCIUM CARBONATE',), ('CALCIUM CARBONATE',), ('CALCIUM CARBONATE',), ('CALCIUM CARBONATE',), ('CALCIUM CARBONATE',), ('CALCIUM CARBONATE',), ('CALCIUM CARBONATE',), ('CALCIUM CARBONATE',), ('CALCIUM CARBONATE',), ('CALCIUM CARBONATE',), ('CALCIUM CARBONATE',), ('CALCIUM CARBONATE',), ('CALCIUM CARBONATE',), ('CALCIUM CARBONATE',), ('CALCIUM CARBONATE',), ('CALCIUM CARBONATE',), ('CALCIUM CARBONATE',), ('CALCIUM CARBONATE',), ('CALCIUM CARBONATE',), ('CALCIUM CARBONATE',), ('CALCIUM CARBONATE',), ('CALCIUM CARBONATE',), ('CALCIUM CARBONATE',), ('CALCIUM CARBONATE',), ('CALCIUM CARBONATE',), ('CALCIUM CARBONATE',), ('CALCIUM CARBONATE',), ('CALCIUM CARBONATE',), ('CALCIUM CARBONATE',), ('CALCIUM CARBONATE',), ('CALCIUM CARBONATE',), ('CALCIUM CARBONATE',), ('CALCIUM CARBONATE',), ('CALCIUM CARBONATE',), ('CALCIUM CARBONATE',), ('CALCIUM CARBONATE',), ('CALCIUM CARBONATE',), ('CALCIUM CARBONATE',), ('CALCIUM CARBONATE',), ('CALCIUM CARBONATE',), ('CALCIUM CARBONATE',), ('CALCIUM CARBONATE',), ('CALCIUM CARBONATE',), ('CALCIUM CARBONATE',), ('CALCIUM CARBONATE',), ('CALCIUM CARBONATE',), ('CALCIUM CARBONATE',), ('CALCIUM CARBONATE',), ('CALCIUM CARBONATE',), ('CALCIUM CARBONATE',), ('CALCIUM CARBONATE',), ('CALCIUM CARBONATE',), ('CALCIUM CARBONATE',), ('CALCIUM CARBONATE',), ('CALCIUM CARBONATE',), ('CALCIUM CARBONATE',), ('CALCIUM CARBONATE',), ('CALCIUM CARBONATE',), ('CALCIUM CARBONATE',), ('CALCIUM CARBONATE',), ('CALCIUM CARBONATE',), ('CALCIUM CARBONATE',), ('CALCIUM CARBONATE',), ('CALCIUM CARBONATE',), ('CALCIUM CARBONATE',), ('CALCIUM CARBONATE',), ('CALCIUM CARBONATE',), ('CALCIUM CARBONATE',), ('CALCIUM CARBONATE',), ('CALCIUM CARBONATE',), ('CALCIUM CARBONATE',), ('CALCIUM CARBONATE',), ('CALCIUM CARBONATE',), ('CALCIUM CARBONATE',), ('CALCIUM CARBONATE',), ('CALCIUM CARBONATE',), ('CALCIUM CARBONATE',), ('CALCIUM CARBONATE',), ('CALCIUM CARBONATE',), ('CALCIUM CARBONATE',), ('CALCIUM CARBONATE',), ('CALCIUM CARBONATE',), ('CALCIUM CARBONATE',), ('CALCIUM CARBONATE',), ('CALCIUM CARBONATE',), ('CALCIUM CARBONATE',), ('CALCIUM CARBONATE',), ('CALCIUM CARBONATE',), ('CALCIUM CARBONATE',), ('CALCIUM CARBONATE',), ('CALCIUM CARBONATE',), ('CALCIUM CARBONATE',), ('CALCIUM CARBONATE',), ('CALCIUM CARBONATE',), ('CALCIUM CARBONATE',), ('CALCIUM CARBONATE',), ('CALCIUM CARBONATE',), ('CALCIUM CARBONATE',), ('CALCIUM CARBONATE',), ('CALCIUM CARBONATE',), ('CALCIUM CARBONATE',), ('CALCIUM CARBONATE',), ('CALCIUM CARBONATE',), ('CALCIUM CARBONATE',), ('CALCIUM CARBONATE',), ('CALCIUM CARBONATE',), ('CALCIUM CARBONATE',), ('CALCIUM CARBONATE',), ('CALCIUM CARBONATE',), ('CALCIUM CARBONATE',), ('CALCIUM CARBONATE',), ('CALCIUM CARBONATE',), ('CALCIUM CARBONATE',), ('CALCIUM CARBONATE',), ('CALCIUM CARBONATE',), ('CALCIUM CARBONATE',), ('CALCIUM CARBONATE',), ('CALCIUM CARBONATE',), ('CALCIUM CARBONATE',), ('CALCIUM CARBONATE',), ('CALCIUM CARBONATE',), ('CALCIUM CARBONATE',), ('CALCIUM CARBONATE',), ('CALCIUM CARBONATE',), ('CALCIUM CARBONATE',), ('CALCIUM CARBONATE',), ('CALCIUM CARBONATE',), ('CALCIUM CARBONATE',), ('CALCIUM CARBONATE',), ('CALCIUM CARBONATE',), ('CALCIUM CARBONATE',), ('CALCIUM CARBONATE',), ('CALCIUM CARBONATE',), ('CALCIUM CARBONATE',), ('CALCIUM CARBONATE',), ('CALCIUM CARBONATE',), ('CALCIUM CARBONATE',), ('CALCIUM CARBONATE',), ('CALCIUM CARBONATE',), ('CALCIUM CARBONATE',), ('CALCIUM CARBONATE',), ('CALCIUM CARBONATE',), ('CALCIUM CARBONATE',), ('CALCIUM CARBONATE',), ('CALCIUM CARBONATE',), ('CALCIUM CARBONATE',), ('CALCIUM CARBONATE',), ('CALCIUM CARBONATE',), ('CALCIUM CARBONATE',), ('CALCIUM CARBONATE',), ('CALCIUM CARBONATE',), ('CALCIUM CARBONATE',), ('CALCIUM CARBONATE',), ('CALCIUM CARBONATE',), ('CALCIUM CARBONATE',), ('CALCIUM CARBONATE',), ('CALCIUM CARBONATE',), ('CALCIUM CARBONATE',), ('CALCIUM CARBONATE',), ('CALCIUM CARBONATE',), ('CALCIUM CARBONATE',), ('CALCIUM CARBONATE',), ('CALCIUM CARBONATE',), ('CALCIUM CARBONATE',), ('CALCIUM CARBONATE',), ('CALCIUM CARBONATE',), ('CALCIUM CARBONATE',), ('CALCIUM CARBONATE',), ('CALCIUM CARBONATE',), ('CALCIUM CARBONATE',), ('CALCIUM CARBONATE',), ('CALCIUM CARBONATE',), ('CALCIUM CARBONATE',), ('CALCIUM CARBONATE',), ('CALCIUM CARBONATE',), ('CALCIUM CARBONATE',), ('CALCIUM CARBONATE',), ('CALCIUM CARBONATE',), ('CALCIUM CARBONATE',), ('CALCIUM CARBONATE',), ('CALCIUM CARBONATE',), ('CALCIUM CARBONATE',), ('CALCIUM CARBONATE',), ('CALCIUM CARBONATE',), ('CALCIUM CARBONATE',), ('INULIN',), ('INULIN',), ('SODIUM CHLORIDE',), ('ORYCTOLAGUS CUNICULUS SKIN',), ('ORYCTOLAGUS CUNICULUS SKIN',), ('ORYCTOLAGUS CUNICULUS SKIN',), ('ALEVE',), ('LORATADINE',), ('LORATADINE',), ('LORATADINE',), ('LORATADINE',), ('LORATADINE',), ('ASPIRIN',), ('DULOXETINE',), ('RETINOL',), ('CALCIUM CARBONATE',), ('MOMETASONE FUROATE',), ('HUMAN IMMUNOGLOBULIN G',), ('.ALPHA.-TOCOPHEROL',), ('SENNA',), ('ASCORBIC ACID',), ('ASCORBIC ACID',), ('ASCORBIC ACID',), ('ASCORBIC ACID',), ('LORATADINE',), ('LORATADINE',), ('LORATADINE',), ('LORATADINE',), ('LORATADINE',), ('LORATADINE',), ('LORATADINE',), ('LORATADINE',), ('LORATADINE',), ('LORATADINE',), ('GUAIFENESIN',), ('HYDROMORPHONE HYDROCHLORIDE',), ('MAGNESIUM CITRATE',), ('COBAMAMIDE',), ('DILPACIMAB',)]\n"
     ]
    }
   ],
   "source": [
    "# count entries in drug table where safetyreportid is 11090837\n",
    "cursor.execute(\"SELECT medicinalproduct FROM drug WHERE safetyreportid = 11090837\")\n",
    "count = cursor.fetchall()\n",
    "\n",
    "unique_medicinal_products = set()\n",
    "for row in count:\n",
    "    unique_medicinal_products.add(row[0])\n",
    "print(count)"
   ]
  },
  {
   "cell_type": "code",
   "execution_count": 5,
   "id": "2c17c178",
   "metadata": {},
   "outputs": [
    {
     "name": "stdout",
     "output_type": "stream",
     "text": [
      "106\n",
      "{'RIBOFLAVIN 5^-PHOSPHATE SODIUM ANHYDROUS', 'INOSITOL', 'ASCORBIC ACID', 'MOMETASONE FUROATE', 'VITAMIN B12', 'AMINOBENZOIC ACID', 'DEXPANTHENOL', 'CALCIUM GLUCONATE', 'ALKA-SELTZER', 'SULFAMETHOXAZOLE\\\\TRIMETHOPRIM', 'PREDNISONE', 'IMODIUM', 'WARFARIN', 'GLICLAZIDE', 'RETINOL', 'LYRICA', 'ZANTAC', 'DOCUSATE SODIUM', 'SULFADIAZINE\\\\TRIMETHOPRIM', 'THIAMINE', 'TRIMETHOPRIM', 'BIFIDOBACTERIUM LONGUM\\\\LACTOBACILLUS ACIDOPHILUS', 'LACTOBACILLUS RHAMNOSUS', 'DILPACIMAB', 'SULFAMETHOXAZOLE', 'RANITIDINE', 'CREATININE', 'NICOTINAMIDE', 'CREATINE', 'THIAMINE HYDROCHLORIDE', 'TIZANIDINE', 'NIACINAMIDE', 'DOCONEXENT', 'NIACINAMIDE\\\\PYRIDOXINE HYDROCHLORIDE\\\\RIBOFLAVIN\\\\THIAMINE HYDROCHLORIDE', 'LOPERAMIDE', 'TIZANIDINE HYDROCHLORIDE', 'MELATONIN', 'CALCIUM CARBONATE', 'HYDROMORPHONE HYDROCHLORIDE', 'SENNOSIDES A AND B', 'ALENDRONATE SODIUM', 'DULOXETINE HYDROCHLORIDE', 'PYRIDOXINE HYDROCHLORIDE', 'ALKA-SELTZER HEARTBURN RELIEFCHEWS', 'VITAMIN B', 'LACTOBACILLUS CASEI', 'ZOPICLONE', 'POTASSIUM CHLORIDE', 'FRUCTOSE', 'LORATADINE', 'MAGNESIUM CITRATE', 'INULIN', 'COBAMAMIDE', 'RIBOFLAVIN', 'DULOXETINE', 'VITAMIN C', 'ATIVAN', 'VITAMIN D NOS', '.ALPHA.-TOCOPHEROL', 'HUMAN IMMUNOGLOBULIN G', 'CYMBALTA', 'HYDROCHLOROTHIAZIDE', 'CLORPRENALINE HYDROCHLORIDE', 'FUROSEMIDE', 'NASONEX', 'OMEGA-3-ACID ETHYL ESTERS', 'THYMOCYTE IMMUNE GLOBULIN NOS', 'NORTRIPTYLINE HYDROCHLORIDE', 'ERGOCALCIFEROL', 'ALFACALCIDOL', 'ORYCTOLAGUS CUNICULUS SKIN', 'CELLCEPT', 'HYDROMORPHONE', 'MYCOPHENOLATE MOFETIL', 'SULFALENE', 'CYANOCOBALAMIN', 'FOSAMAX', 'DOCONEXENT\\\\ICOSAPENT', 'GAMMAGARD', 'ASPIRIN', 'FISH OIL', 'ALEVE', 'VITAMIN B COMPLEX', 'BROMHEXINE HYDROCHLORIDE', 'FOLIC ACID', 'SENNA LEAF', 'LORAZEPAM', 'BACLOFEN', 'TRIAMTERENE', 'INSULIN NOS', 'CALCIUM', 'GUAIFENESIN', 'LORATADINE\\\\PSEUDOEPHEDRINE SULFATE', 'BIFIDOBACTERIUM BIFIDUM', 'OMEGA-3 FATTY ACIDS', 'HORSE CHESTNUT', '.ALPHA.-TOCOPHEROL, D-', 'ATLANTIC SALMON OIL', 'CHOLECALCIFEROL', 'SODIUM CHLORIDE', 'SULFADIAZINE', 'NORTRIPTYLINE', 'SENNA', 'CHOLINE BITARTRATE', 'SENOKOT', 'BIFIDOBACTERIUM ANIMALIS LACTIS'}\n"
     ]
    }
   ],
   "source": [
    "print(len(unique_medicinal_products))\n",
    "print(unique_medicinal_products)"
   ]
  },
  {
   "cell_type": "code",
   "execution_count": 12,
   "id": "fa7096de",
   "metadata": {},
   "outputs": [],
   "source": [
    "# get the drug ids for the drugs form safetyreportid 11090837\n",
    "cursor.execute(\"SELECT medicinalproduct, id FROM drug WHERE safetyreportid = 11090837\")\n",
    "drug_ids = cursor.fetchall()\n",
    "ids = []\n",
    "for drug_id in drug_ids:\n",
    "    ids.append(drug_id)\n",
    "# for drug_id in drug_ids:\n",
    "    # print(drug_id[0])"
   ]
  },
  {
   "cell_type": "code",
   "execution_count": 13,
   "id": "10e5e65d",
   "metadata": {},
   "outputs": [
    {
     "name": "stdout",
     "output_type": "stream",
     "text": [
      "[('MOMETASONE FUROATE', 116519), ('MOMETASONE FUROATE', 116520), ('MOMETASONE FUROATE', 116521), ('MOMETASONE FUROATE', 116522), ('MOMETASONE FUROATE', 116523), ('MOMETASONE FUROATE', 116524), ('MOMETASONE FUROATE', 116525), ('MOMETASONE FUROATE', 116526), ('MOMETASONE FUROATE', 116527), ('MOMETASONE FUROATE', 116528)]\n"
     ]
    }
   ],
   "source": [
    "print(ids[:10])"
   ]
  },
  {
   "cell_type": "code",
   "execution_count": 14,
   "id": "343ee005",
   "metadata": {},
   "outputs": [
    {
     "name": "stdout",
     "output_type": "stream",
     "text": [
      "561\n"
     ]
    }
   ],
   "source": [
    "print(len(ids))"
   ]
  },
  {
   "cell_type": "code",
   "execution_count": null,
   "id": "2433618a",
   "metadata": {},
   "outputs": [
    {
     "name": "stdout",
     "output_type": "stream",
     "text": [
      "106\n"
     ]
    }
   ],
   "source": [
    "dupa = []\n",
    "\n",
    "def get_ids():\n",
    "    for product in list(unique_medicinal_products):\n",
    "        # print(product)\n",
    "        ids = set()\n",
    "        cursor.execute(\"SELECT id FROM drug WHERE safetyreportid = 11090837 AND medicinalproduct = ?\", (product,))\n",
    "        drug_ids = cursor.fetchall()\n",
    "        for drug_id in drug_ids:\n",
    "            # print(drug_id[0])\n",
    "            ids.add(drug_id[0])\n",
    "        ids = list(ids)\n",
    "        dupa.append((product, ids))\n",
    "\n",
    "get_ids()\n",
    "print(len(dupa))"
   ]
  },
  {
   "cell_type": "code",
   "execution_count": null,
   "id": "288195aa",
   "metadata": {},
   "outputs": [],
   "source": []
  },
  {
   "cell_type": "code",
   "execution_count": 22,
   "id": "07b769a9",
   "metadata": {},
   "outputs": [
    {
     "name": "stdout",
     "output_type": "stream",
     "text": [
      "36\n"
     ]
    }
   ],
   "source": [
    "multi = []\n",
    "for drug in dupa:\n",
    "    if len(drug[1]) > 1:\n",
    "        multi.append(drug)\n",
    "\n",
    "print(len(multi))\n"
   ]
  },
  {
   "cell_type": "code",
   "execution_count": 25,
   "id": "2cdf1d17",
   "metadata": {},
   "outputs": [
    {
     "name": "stdout",
     "output_type": "stream",
     "text": [
      "Drug: ASCORBIC ACID - no duplicates\n",
      "Drug: MOMETASONE FUROATE - no duplicates\n",
      "Drug: VITAMIN B12 - no duplicates\n",
      "Drug: CALCIUM GLUCONATE - no duplicates\n",
      "Drug: SULFAMETHOXAZOLE\\TRIMETHOPRIM - no duplicates\n",
      "Drug: IMODIUM - no duplicates\n",
      "Drug: SULFADIAZINE\\TRIMETHOPRIM - no duplicates\n",
      "Drug: LACTOBACILLUS RHAMNOSUS - no duplicates\n",
      "Drug: THIAMINE HYDROCHLORIDE - no duplicates\n",
      "Drug: TIZANIDINE - no duplicates\n",
      "Drug: TIZANIDINE HYDROCHLORIDE - no duplicates\n",
      "Drug: CALCIUM CARBONATE - no duplicates\n",
      "Drug: HYDROMORPHONE HYDROCHLORIDE - no duplicates\n",
      "Drug: SENNOSIDES A AND B - no duplicates\n",
      "Drug: ALENDRONATE SODIUM - no duplicates\n",
      "Drug: DULOXETINE HYDROCHLORIDE - no duplicates\n",
      "Drug: PYRIDOXINE HYDROCHLORIDE - no duplicates\n",
      "Drug: ALKA-SELTZER HEARTBURN RELIEFCHEWS - no duplicates\n",
      "Drug: ZOPICLONE - no duplicates\n",
      "Drug: POTASSIUM CHLORIDE - no duplicates\n",
      "Drug: LORATADINE - no duplicates\n",
      "Drug: INULIN - no duplicates\n",
      "Drug: VITAMIN D NOS - no duplicates\n",
      "Drug: HUMAN IMMUNOGLOBULIN G - no duplicates\n",
      "Drug: CYMBALTA - no duplicates\n",
      "Drug: OMEGA-3-ACID ETHYL ESTERS - no duplicates\n",
      "Drug: THYMOCYTE IMMUNE GLOBULIN NOS - no duplicates\n",
      "Drug: NORTRIPTYLINE HYDROCHLORIDE - no duplicates\n",
      "Drug: ORYCTOLAGUS CUNICULUS SKIN - no duplicates\n",
      "Drug: CELLCEPT - no duplicates\n",
      "Drug: SULFALENE - no duplicates\n",
      "Drug: FISH OIL - no duplicates\n",
      "Drug: BACLOFEN - no duplicates\n",
      "Drug: LORATADINE\\PSEUDOEPHEDRINE SULFATE - no duplicates\n",
      "Drug: .ALPHA.-TOCOPHEROL, D- - no duplicates\n",
      "Drug: BIFIDOBACTERIUM ANIMALIS LACTIS - no duplicates\n"
     ]
    }
   ],
   "source": [
    "def get_meta():\n",
    "\n",
    "    for drug in multi:\n",
    "        # ile = \n",
    "        name = drug[0]\n",
    "        ids = drug[1]\n",
    "\n",
    "        dupa = set()\n",
    "\n",
    "        for id in ids:\n",
    "            query = f\"\"\"\n",
    "            SELECT *\n",
    "            FROM drug_openfda\n",
    "            WHERE drug_id = '{id}'\n",
    "            \"\"\"\n",
    "            results = conn.execute(query).fetchall()\n",
    "            # print(type(results))\n",
    "            # print(results[0][2:])\n",
    "            dupa.add(results[0][2:])\n",
    "\n",
    "        if len(dupa) > 1:\n",
    "            print(f\"Drug: {name}\")\n",
    "        else:\n",
    "            print(f\"Drug: {name} - no duplicates\")\n",
    "            continue\n",
    "\n",
    "\n",
    "get_meta()        "
   ]
  },
  {
   "cell_type": "code",
   "execution_count": 33,
   "id": "aa929337",
   "metadata": {},
   "outputs": [
    {
     "name": "stdout",
     "output_type": "stream",
     "text": [
      "Number of drugs without active substances: 0\n",
      "Percentage of drugs without active substances: 0.00%\n"
     ]
    }
   ],
   "source": [
    "# Check how many times each drug id from ids is not present in the drug_activesubstance table\n",
    "missing_active_substances = []\n",
    "\n",
    "for drug_id in ids:\n",
    "    cursor.execute(f\"SELECT COUNT(*) FROM drug_activesubstance WHERE drug_id = {drug_id}\")\n",
    "    count = cursor.fetchone()[0]\n",
    "    if count == 0:\n",
    "        missing_active_substances.append(drug_id)\n",
    "\n",
    "print(f\"Number of drugs without active substances: {len(missing_active_substances)}\")\n",
    "print(f\"Percentage of drugs without active substances: {len(missing_active_substances) / len(ids) * 100:.2f}%\")\n",
    "\n",
    "# Get the medicinal products for these missing active substances\n",
    "if missing_active_substances:\n",
    "    # Get a sample of up to 10 missing drugs to display\n",
    "    sample_size = min(10, len(missing_active_substances))\n",
    "    sample_ids = missing_active_substances[:sample_size]\n",
    "    \n",
    "    placeholders = ', '.join('?' for _ in sample_ids)\n",
    "    query = f\"SELECT id, medicinalproduct FROM drug WHERE id IN ({placeholders})\"\n",
    "    \n",
    "    cursor.execute(query, sample_ids)\n",
    "    sample_drugs = cursor.fetchall()\n",
    "    \n",
    "    print(\"\\nSample of drugs without active substances:\")\n",
    "    for drug_id, medicinal_product in sample_drugs:\n",
    "        print(f\"ID: {drug_id}, Medicinal Product: {medicinal_product}\")"
   ]
  },
  {
   "cell_type": "code",
   "execution_count": 34,
   "id": "6b8a0da4",
   "metadata": {},
   "outputs": [
    {
     "name": "stdout",
     "output_type": "stream",
     "text": [
      "Number of drugs without active substances: 0\n",
      "Percentage of drugs without active substances: 0.00%\n"
     ]
    }
   ],
   "source": [
    "missing_fda = []\n",
    "\n",
    "for drug_id in ids:\n",
    "    cursor.execute(f\"SELECT COUNT(*) FROM drug_openfda WHERE drug_id = {drug_id}\")\n",
    "    count = cursor.fetchone()[0]\n",
    "    if count == 0:\n",
    "        missing_fda.append(drug_id)\n",
    "\n",
    "print(f\"Number of drugs without active substances: {len(missing_fda)}\")\n",
    "print(f\"Percentage of drugs without active substances: {len(missing_fda) / len(ids) * 100:.2f}%\")\n",
    "\n",
    "# Get the medicinal products for these missing active substances\n",
    "if missing_fda:\n",
    "    # Get a sample of up to 10 missing drugs to display\n",
    "    sample_size = min(10, len(missing_fda))\n",
    "    sample_ids = missing_fda[:sample_size]\n",
    "    \n",
    "    placeholders = ', '.join('?' for _ in sample_ids)\n",
    "    query = f\"SELECT id, medicinalproduct FROM drug WHERE id IN ({placeholders})\"\n",
    "    \n",
    "    cursor.execute(query, sample_ids)\n",
    "    sample_drugs = cursor.fetchall()\n",
    "    \n",
    "    print(\"\\nSample of drugs without active substances:\")\n",
    "    for drug_id, medicinal_product in sample_drugs:\n",
    "        print(f\"ID: {drug_id}, Medicinal Product: {medicinal_product}\")"
   ]
  },
  {
   "cell_type": "code",
   "execution_count": null,
   "id": "4958b7a2",
   "metadata": {},
   "outputs": [],
   "source": []
  }
 ],
 "metadata": {
  "kernelspec": {
   "display_name": "gen_ML",
   "language": "python",
   "name": "python3"
  },
  "language_info": {
   "codemirror_mode": {
    "name": "ipython",
    "version": 3
   },
   "file_extension": ".py",
   "mimetype": "text/x-python",
   "name": "python",
   "nbconvert_exporter": "python",
   "pygments_lexer": "ipython3",
   "version": "3.9.19"
  }
 },
 "nbformat": 4,
 "nbformat_minor": 5
}
