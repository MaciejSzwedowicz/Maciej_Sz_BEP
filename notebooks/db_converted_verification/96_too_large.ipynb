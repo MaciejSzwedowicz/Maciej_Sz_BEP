{
 "cells": [
  {
   "cell_type": "code",
   "execution_count": 27,
   "id": "b8db9d09",
   "metadata": {},
   "outputs": [],
   "source": [
    "import sqlite3\n",
    "import pandas as pd\n",
    "import matplotlib.pyplot as plt\n",
    "from collections import Counter\n",
    "import pymongo\n",
    "from pprint import pprint\n",
    "\n",
    "# --- Connect to SQLite ---\n",
    "conn = sqlite3.connect(\"../../sql/openfda_base_updated.db\")\n",
    "cursor = conn.cursor()\n",
    "#11090837"
   ]
  },
  {
   "cell_type": "code",
   "execution_count": 4,
   "id": "d4f89a5a",
   "metadata": {},
   "outputs": [
    {
     "name": "stdout",
     "output_type": "stream",
     "text": [
      "Number of entries in drug table with safetyreportid 11090837: 561\n"
     ]
    }
   ],
   "source": [
    "# count entries in drug table where safetyreportid is 11090837\n",
    "cursor.execute(\"SELECT COUNT(*) FROM drug WHERE safetyreportid = 11090837\")\n",
    "count = cursor.fetchone()[0]\n",
    "print(f\"Number of entries in drug table with safetyreportid 11090837: {count}\")"
   ]
  },
  {
   "cell_type": "code",
   "execution_count": 6,
   "id": "b38f065e",
   "metadata": {},
   "outputs": [
    {
     "name": "stdout",
     "output_type": "stream",
     "text": [
      "Number of entries in drug table with safetyreportid 11090837: 8\n"
     ]
    }
   ],
   "source": [
    "### count reactions for SELECT COUNT(*) FROM drug WHERE safetyreportid = 11090837\n",
    "\n",
    "cursor.execute(\"SELECT COUNT(*) FROM reaction WHERE safetyreportid = 11090837\")\n",
    "count = cursor.fetchone()[0]\n",
    "print(f\"Number of entries in drug table with safetyreportid 11090837: {count}\")"
   ]
  },
  {
   "cell_type": "code",
   "execution_count": 8,
   "id": "5dca1526",
   "metadata": {},
   "outputs": [
    {
     "name": "stdout",
     "output_type": "stream",
     "text": [
      "(11090837, 'Coma', 26.1, 1)\n",
      "(11090837, 'Gastrooesophageal reflux disease', 26.1, 1)\n",
      "(11090837, 'Pneumonia aspiration', 26.1, 1)\n",
      "(11090837, 'Somnolence', 26.1, 1)\n",
      "(11090837, 'Incorrect route of product administration', 26.1, 1)\n",
      "(11090837, 'Off label use', 26.1, 1)\n",
      "(11090837, 'Incorrect dose administered by product', 26.1, 1)\n",
      "(11090837, 'Underdose', 26.1, 1)\n"
     ]
    }
   ],
   "source": [
    "### print all reactions for SELECT COUNT(*) FROM drug WHERE safetyreportid = 11090837\n",
    "cursor.execute(\"SELECT * FROM reaction WHERE safetyreportid = 11090837\")\n",
    "reactions = cursor.fetchall()\n",
    "for reaction in reactions:\n",
    "    print(reaction[1:])"
   ]
  },
  {
   "cell_type": "code",
   "execution_count": 28,
   "id": "9e41f741",
   "metadata": {},
   "outputs": [
    {
     "name": "stdout",
     "output_type": "stream",
     "text": [
      "(11090837, 5, 64, 801, 2, 69.0)\n"
     ]
    }
   ],
   "source": [
    "cursor.execute(\"SELECT * FROM patient_optional WHERE safetyreportid = 11090837\")\n",
    "patient_optional = cursor.fetchall()\n",
    "for patient in patient_optional:\n",
    "    print(patient)"
   ]
  },
  {
   "cell_type": "code",
   "execution_count": 16,
   "id": "5ad06a84",
   "metadata": {},
   "outputs": [
    {
     "name": "stdout",
     "output_type": "stream",
     "text": [
      "Number of entries in report_duplicate table with safetyreportid 11090837: 105\n"
     ]
    }
   ],
   "source": [
    "cursor.execute(\"SELECT COUNT(*) FROM report_duplicate WHERE safetyreportid = 11090837\")\n",
    "count = cursor.fetchone()[0]\n",
    "print(f\"Number of entries in report_duplicate table with safetyreportid 11090837: {count}\")"
   ]
  },
  {
   "cell_type": "code",
   "execution_count": 20,
   "id": "a3df8fef",
   "metadata": {},
   "outputs": [
    {
     "name": "stdout",
     "output_type": "stream",
     "text": [
      "[('MOMETASONE FUROATE',), ('MOMETASONE FUROATE',), ('MOMETASONE FUROATE',), ('MOMETASONE FUROATE',), ('MOMETASONE FUROATE',), ('MOMETASONE FUROATE',), ('MOMETASONE FUROATE',), ('MOMETASONE FUROATE',), ('MOMETASONE FUROATE',), ('MOMETASONE FUROATE',), ('MOMETASONE FUROATE',), ('MOMETASONE FUROATE',), ('MOMETASONE FUROATE',), ('MOMETASONE FUROATE',), ('MOMETASONE FUROATE',), ('MOMETASONE FUROATE',), ('MOMETASONE FUROATE',), ('MOMETASONE FUROATE',), ('MOMETASONE FUROATE',), ('MOMETASONE FUROATE',), ('MOMETASONE FUROATE',), ('MOMETASONE FUROATE',), ('MOMETASONE FUROATE',), ('MOMETASONE FUROATE',), ('MOMETASONE FUROATE',), ('MOMETASONE FUROATE',), ('TIZANIDINE HYDROCHLORIDE',), ('TIZANIDINE HYDROCHLORIDE',), ('FUROSEMIDE',), ('PREDNISONE',), ('WARFARIN',), ('BIFIDOBACTERIUM LONGUM\\\\LACTOBACILLUS ACIDOPHILUS',), ('POTASSIUM CHLORIDE',), ('POTASSIUM CHLORIDE',), ('POTASSIUM CHLORIDE',), ('POTASSIUM CHLORIDE',), ('ATIVAN',), ('VITAMIN B',), ('BACLOFEN',), ('CELLCEPT',), ('CYMBALTA',), ('CYMBALTA',), ('CYMBALTA',), ('DOCUSATE SODIUM',), ('OMEGA-3-ACID ETHYL ESTERS',), ('OMEGA-3-ACID ETHYL ESTERS',), ('OMEGA-3-ACID ETHYL ESTERS',), ('HYDROMORPHONE',), ('THYMOCYTE IMMUNE GLOBULIN NOS',), ('IMODIUM',), ('IMODIUM',), ('LYRICA',), ('MELATONIN',), ('NORTRIPTYLINE',), ('HYDROCHLOROTHIAZIDE',), ('SENNOSIDES A AND B',), ('SENNOSIDES A AND B',), ('VITAMIN B12',), ('VITAMIN C',), ('ZANTAC',), ('ZOPICLONE',), ('ZOPICLONE',), ('ALENDRONATE SODIUM',), ('ALENDRONATE SODIUM',), ('CALCIUM CARBONATE',), ('CALCIUM CARBONATE',), ('VITAMIN D NOS',), ('VITAMIN D NOS',), ('LORATADINE',), ('FOSAMAX',), ('DOCONEXENT\\\\ICOSAPENT',), ('SENOKOT',), ('THYMOCYTE IMMUNE GLOBULIN NOS',), ('FOLIC ACID',), ('DEXPANTHENOL',), ('ERGOCALCIFEROL',), ('NIACINAMIDE',), ('PYRIDOXINE HYDROCHLORIDE',), ('PYRIDOXINE HYDROCHLORIDE',), ('PYRIDOXINE HYDROCHLORIDE',), ('RIBOFLAVIN',), ('SULFAMETHOXAZOLE',), ('THIAMINE HYDROCHLORIDE',), ('THIAMINE HYDROCHLORIDE',), ('THIAMINE HYDROCHLORIDE',), ('SULFADIAZINE\\\\TRIMETHOPRIM',), ('SULFADIAZINE\\\\TRIMETHOPRIM',), ('SULFADIAZINE\\\\TRIMETHOPRIM',), ('SULFADIAZINE\\\\TRIMETHOPRIM',), ('SULFADIAZINE\\\\TRIMETHOPRIM',), ('SULFADIAZINE\\\\TRIMETHOPRIM',), ('SULFADIAZINE\\\\TRIMETHOPRIM',), ('SULFADIAZINE\\\\TRIMETHOPRIM',), ('SULFADIAZINE\\\\TRIMETHOPRIM',), ('SULFADIAZINE\\\\TRIMETHOPRIM',), ('SULFADIAZINE\\\\TRIMETHOPRIM',), ('SULFADIAZINE\\\\TRIMETHOPRIM',), ('SULFADIAZINE\\\\TRIMETHOPRIM',), ('SULFADIAZINE\\\\TRIMETHOPRIM',), ('SULFADIAZINE\\\\TRIMETHOPRIM',), ('SULFADIAZINE\\\\TRIMETHOPRIM',), ('SULFADIAZINE\\\\TRIMETHOPRIM',), ('SULFADIAZINE\\\\TRIMETHOPRIM',), ('SULFADIAZINE\\\\TRIMETHOPRIM',), ('OMEGA-3 FATTY ACIDS',), ('SULFAMETHOXAZOLE\\\\TRIMETHOPRIM',), ('SULFAMETHOXAZOLE\\\\TRIMETHOPRIM',), ('SULFAMETHOXAZOLE\\\\TRIMETHOPRIM',), ('SULFAMETHOXAZOLE\\\\TRIMETHOPRIM',), ('SULFAMETHOXAZOLE\\\\TRIMETHOPRIM',), ('SULFAMETHOXAZOLE\\\\TRIMETHOPRIM',), ('SULFAMETHOXAZOLE\\\\TRIMETHOPRIM',), ('SULFAMETHOXAZOLE\\\\TRIMETHOPRIM',), ('SULFAMETHOXAZOLE\\\\TRIMETHOPRIM',), ('SULFAMETHOXAZOLE\\\\TRIMETHOPRIM',), ('SULFAMETHOXAZOLE\\\\TRIMETHOPRIM',), ('SULFAMETHOXAZOLE\\\\TRIMETHOPRIM',), ('SULFAMETHOXAZOLE\\\\TRIMETHOPRIM',), ('SULFAMETHOXAZOLE\\\\TRIMETHOPRIM',), ('SULFAMETHOXAZOLE\\\\TRIMETHOPRIM',), ('SULFAMETHOXAZOLE\\\\TRIMETHOPRIM',), ('SULFAMETHOXAZOLE\\\\TRIMETHOPRIM',), ('SULFAMETHOXAZOLE\\\\TRIMETHOPRIM',), ('SULFAMETHOXAZOLE\\\\TRIMETHOPRIM',), ('SULFAMETHOXAZOLE\\\\TRIMETHOPRIM',), ('SULFAMETHOXAZOLE\\\\TRIMETHOPRIM',), ('SULFAMETHOXAZOLE\\\\TRIMETHOPRIM',), ('SULFAMETHOXAZOLE\\\\TRIMETHOPRIM',), ('SULFAMETHOXAZOLE\\\\TRIMETHOPRIM',), ('SULFAMETHOXAZOLE\\\\TRIMETHOPRIM',), ('SULFAMETHOXAZOLE\\\\TRIMETHOPRIM',), ('SULFAMETHOXAZOLE\\\\TRIMETHOPRIM',), ('SULFAMETHOXAZOLE\\\\TRIMETHOPRIM',), ('SULFAMETHOXAZOLE\\\\TRIMETHOPRIM',), ('SULFAMETHOXAZOLE\\\\TRIMETHOPRIM',), ('SULFAMETHOXAZOLE\\\\TRIMETHOPRIM',), ('SULFAMETHOXAZOLE\\\\TRIMETHOPRIM',), ('SULFAMETHOXAZOLE\\\\TRIMETHOPRIM',), ('SULFAMETHOXAZOLE\\\\TRIMETHOPRIM',), ('SULFAMETHOXAZOLE\\\\TRIMETHOPRIM',), ('SULFAMETHOXAZOLE\\\\TRIMETHOPRIM',), ('SULFAMETHOXAZOLE\\\\TRIMETHOPRIM',), ('SULFAMETHOXAZOLE\\\\TRIMETHOPRIM',), ('SULFAMETHOXAZOLE\\\\TRIMETHOPRIM',), ('SULFAMETHOXAZOLE\\\\TRIMETHOPRIM',), ('AMINOBENZOIC ACID',), ('CHOLINE BITARTRATE',), ('INOSITOL',), ('VITAMIN B COMPLEX',), ('BIFIDOBACTERIUM BIFIDUM',), ('DULOXETINE HYDROCHLORIDE',), ('DULOXETINE HYDROCHLORIDE',), ('DULOXETINE HYDROCHLORIDE',), ('DULOXETINE HYDROCHLORIDE',), ('HUMAN IMMUNOGLOBULIN G',), ('LACTOBACILLUS CASEI',), ('NORTRIPTYLINE HYDROCHLORIDE',), ('NORTRIPTYLINE HYDROCHLORIDE',), ('TRIMETHOPRIM',), ('THIAMINE',), ('CREATINE',), ('HORSE CHESTNUT',), ('LORATADINE\\\\PSEUDOEPHEDRINE SULFATE',), ('LORATADINE\\\\PSEUDOEPHEDRINE SULFATE',), ('LORATADINE\\\\PSEUDOEPHEDRINE SULFATE',), ('LORATADINE\\\\PSEUDOEPHEDRINE SULFATE',), ('LORATADINE\\\\PSEUDOEPHEDRINE SULFATE',), ('LORATADINE\\\\PSEUDOEPHEDRINE SULFATE',), ('LORATADINE\\\\PSEUDOEPHEDRINE SULFATE',), ('LORATADINE\\\\PSEUDOEPHEDRINE SULFATE',), ('LORATADINE\\\\PSEUDOEPHEDRINE SULFATE',), ('LORATADINE\\\\PSEUDOEPHEDRINE SULFATE',), ('LORATADINE\\\\PSEUDOEPHEDRINE SULFATE',), ('LORATADINE\\\\PSEUDOEPHEDRINE SULFATE',), ('LORATADINE\\\\PSEUDOEPHEDRINE SULFATE',), ('DOCONEXENT',), ('CHOLECALCIFEROL',), ('ALFACALCIDOL',), ('TRIAMTERENE',), ('INSULIN NOS',), ('GLICLAZIDE',), ('BIFIDOBACTERIUM ANIMALIS LACTIS',), ('BIFIDOBACTERIUM ANIMALIS LACTIS',), ('CALCIUM',), ('ALKA-SELTZER HEARTBURN RELIEFCHEWS',), ('ALKA-SELTZER HEARTBURN RELIEFCHEWS',), ('ALKA-SELTZER HEARTBURN RELIEFCHEWS',), ('ALKA-SELTZER HEARTBURN RELIEFCHEWS',), ('ALKA-SELTZER HEARTBURN RELIEFCHEWS',), ('ALKA-SELTZER HEARTBURN RELIEFCHEWS',), ('ALKA-SELTZER HEARTBURN RELIEFCHEWS',), ('ALKA-SELTZER HEARTBURN RELIEFCHEWS',), ('ALKA-SELTZER HEARTBURN RELIEFCHEWS',), ('ALKA-SELTZER HEARTBURN RELIEFCHEWS',), ('.ALPHA.-TOCOPHEROL, D-',), ('.ALPHA.-TOCOPHEROL, D-',), ('FISH OIL',), ('FISH OIL',), ('MYCOPHENOLATE MOFETIL',), ('NICOTINAMIDE',), ('NIACINAMIDE\\\\PYRIDOXINE HYDROCHLORIDE\\\\RIBOFLAVIN\\\\THIAMINE HYDROCHLORIDE',), ('RANITIDINE',), ('ATLANTIC SALMON OIL',), ('SENNA LEAF',), ('CREATININE',), ('CYANOCOBALAMIN',), ('FRUCTOSE',), ('SULFALENE',), ('LACTOBACILLUS RHAMNOSUS',), ('LACTOBACILLUS RHAMNOSUS',), ('CELLCEPT',), ('VITAMIN B12',), ('RIBOFLAVIN 5^-PHOSPHATE SODIUM ANHYDROUS',), ('SULFAMETHOXAZOLE\\\\TRIMETHOPRIM',), ('SULFADIAZINE',), ('BROMHEXINE HYDROCHLORIDE',), ('CLORPRENALINE HYDROCHLORIDE',), ('GAMMAGARD',), ('BACLOFEN',), ('HYDROMORPHONE HYDROCHLORIDE',), ('LOPERAMIDE',), ('NASONEX',), ('LORAZEPAM',), ('TIZANIDINE',), ('TIZANIDINE',), ('TIZANIDINE',), ('TIZANIDINE',), ('TIZANIDINE',), ('TIZANIDINE',), ('TIZANIDINE',), ('CALCIUM GLUCONATE',), ('CALCIUM GLUCONATE',), ('CALCIUM GLUCONATE',), ('CALCIUM GLUCONATE',), ('ALKA-SELTZER',), ('FISH OIL',), ('SULFALENE',), ('ASCORBIC ACID',), ('CALCIUM CARBONATE',), ('CALCIUM CARBONATE',), ('CALCIUM CARBONATE',), ('CALCIUM CARBONATE',), ('CALCIUM CARBONATE',), ('CALCIUM CARBONATE',), ('CALCIUM CARBONATE',), ('CALCIUM CARBONATE',), ('CALCIUM CARBONATE',), ('CALCIUM CARBONATE',), ('CALCIUM CARBONATE',), ('CALCIUM CARBONATE',), ('CALCIUM CARBONATE',), ('CALCIUM CARBONATE',), ('CALCIUM CARBONATE',), ('CALCIUM CARBONATE',), ('CALCIUM CARBONATE',), ('CALCIUM CARBONATE',), ('CALCIUM CARBONATE',), ('CALCIUM CARBONATE',), ('CALCIUM CARBONATE',), ('CALCIUM CARBONATE',), ('CALCIUM CARBONATE',), ('CALCIUM CARBONATE',), ('CALCIUM CARBONATE',), ('CALCIUM CARBONATE',), ('CALCIUM CARBONATE',), ('CALCIUM CARBONATE',), ('CALCIUM CARBONATE',), ('CALCIUM CARBONATE',), ('CALCIUM CARBONATE',), ('CALCIUM CARBONATE',), ('CALCIUM CARBONATE',), ('CALCIUM CARBONATE',), ('CALCIUM CARBONATE',), ('CALCIUM CARBONATE',), ('CALCIUM CARBONATE',), ('CALCIUM CARBONATE',), ('CALCIUM CARBONATE',), ('CALCIUM CARBONATE',), ('CALCIUM CARBONATE',), ('CALCIUM CARBONATE',), ('CALCIUM CARBONATE',), ('CALCIUM CARBONATE',), ('CALCIUM CARBONATE',), ('CALCIUM CARBONATE',), ('CALCIUM CARBONATE',), ('CALCIUM CARBONATE',), ('CALCIUM CARBONATE',), ('CALCIUM CARBONATE',), ('CALCIUM CARBONATE',), ('CALCIUM CARBONATE',), ('CALCIUM CARBONATE',), ('CALCIUM CARBONATE',), ('CALCIUM CARBONATE',), ('CALCIUM CARBONATE',), ('CALCIUM CARBONATE',), ('CALCIUM CARBONATE',), ('CALCIUM CARBONATE',), ('CALCIUM CARBONATE',), ('CALCIUM CARBONATE',), ('CALCIUM CARBONATE',), ('CALCIUM CARBONATE',), ('CALCIUM CARBONATE',), ('CALCIUM CARBONATE',), ('CALCIUM CARBONATE',), ('CALCIUM CARBONATE',), ('CALCIUM CARBONATE',), ('CALCIUM CARBONATE',), ('CALCIUM CARBONATE',), ('CALCIUM CARBONATE',), ('CALCIUM CARBONATE',), ('CALCIUM CARBONATE',), ('CALCIUM CARBONATE',), ('CALCIUM CARBONATE',), ('CALCIUM CARBONATE',), ('CALCIUM CARBONATE',), ('CALCIUM CARBONATE',), ('CALCIUM CARBONATE',), ('CALCIUM CARBONATE',), ('CALCIUM CARBONATE',), ('CALCIUM CARBONATE',), ('CALCIUM CARBONATE',), ('CALCIUM CARBONATE',), ('CALCIUM CARBONATE',), ('CALCIUM CARBONATE',), ('CALCIUM CARBONATE',), ('CALCIUM CARBONATE',), ('CALCIUM CARBONATE',), ('CALCIUM CARBONATE',), ('CALCIUM CARBONATE',), ('CALCIUM CARBONATE',), ('CALCIUM CARBONATE',), ('CALCIUM CARBONATE',), ('CALCIUM CARBONATE',), ('CALCIUM CARBONATE',), ('CALCIUM CARBONATE',), ('CALCIUM CARBONATE',), ('CALCIUM CARBONATE',), ('CALCIUM CARBONATE',), ('CALCIUM CARBONATE',), ('CALCIUM CARBONATE',), ('CALCIUM CARBONATE',), ('CALCIUM CARBONATE',), ('CALCIUM CARBONATE',), ('CALCIUM CARBONATE',), ('CALCIUM CARBONATE',), ('CALCIUM CARBONATE',), ('CALCIUM CARBONATE',), ('CALCIUM CARBONATE',), ('CALCIUM CARBONATE',), ('CALCIUM CARBONATE',), ('CALCIUM CARBONATE',), ('CALCIUM CARBONATE',), ('CALCIUM CARBONATE',), ('CALCIUM CARBONATE',), ('CALCIUM CARBONATE',), ('CALCIUM CARBONATE',), ('CALCIUM CARBONATE',), ('CALCIUM CARBONATE',), ('CALCIUM CARBONATE',), ('CALCIUM CARBONATE',), ('CALCIUM CARBONATE',), ('CALCIUM CARBONATE',), ('CALCIUM CARBONATE',), ('CALCIUM CARBONATE',), ('CALCIUM CARBONATE',), ('CALCIUM CARBONATE',), ('CALCIUM CARBONATE',), ('CALCIUM CARBONATE',), ('CALCIUM CARBONATE',), ('CALCIUM CARBONATE',), ('CALCIUM CARBONATE',), ('CALCIUM CARBONATE',), ('CALCIUM CARBONATE',), ('CALCIUM CARBONATE',), ('CALCIUM CARBONATE',), ('CALCIUM CARBONATE',), ('CALCIUM CARBONATE',), ('CALCIUM CARBONATE',), ('CALCIUM CARBONATE',), ('CALCIUM CARBONATE',), ('CALCIUM CARBONATE',), ('CALCIUM CARBONATE',), ('CALCIUM CARBONATE',), ('CALCIUM CARBONATE',), ('CALCIUM CARBONATE',), ('CALCIUM CARBONATE',), ('CALCIUM CARBONATE',), ('CALCIUM CARBONATE',), ('CALCIUM CARBONATE',), ('CALCIUM CARBONATE',), ('CALCIUM CARBONATE',), ('CALCIUM CARBONATE',), ('CALCIUM CARBONATE',), ('CALCIUM CARBONATE',), ('CALCIUM CARBONATE',), ('CALCIUM CARBONATE',), ('CALCIUM CARBONATE',), ('CALCIUM CARBONATE',), ('CALCIUM CARBONATE',), ('CALCIUM CARBONATE',), ('CALCIUM CARBONATE',), ('CALCIUM CARBONATE',), ('CALCIUM CARBONATE',), ('CALCIUM CARBONATE',), ('CALCIUM CARBONATE',), ('CALCIUM CARBONATE',), ('CALCIUM CARBONATE',), ('CALCIUM CARBONATE',), ('CALCIUM CARBONATE',), ('CALCIUM CARBONATE',), ('CALCIUM CARBONATE',), ('CALCIUM CARBONATE',), ('CALCIUM CARBONATE',), ('CALCIUM CARBONATE',), ('CALCIUM CARBONATE',), ('CALCIUM CARBONATE',), ('CALCIUM CARBONATE',), ('CALCIUM CARBONATE',), ('CALCIUM CARBONATE',), ('CALCIUM CARBONATE',), ('CALCIUM CARBONATE',), ('CALCIUM CARBONATE',), ('CALCIUM CARBONATE',), ('CALCIUM CARBONATE',), ('CALCIUM CARBONATE',), ('CALCIUM CARBONATE',), ('CALCIUM CARBONATE',), ('CALCIUM CARBONATE',), ('CALCIUM CARBONATE',), ('CALCIUM CARBONATE',), ('CALCIUM CARBONATE',), ('CALCIUM CARBONATE',), ('CALCIUM CARBONATE',), ('CALCIUM CARBONATE',), ('CALCIUM CARBONATE',), ('CALCIUM CARBONATE',), ('CALCIUM CARBONATE',), ('CALCIUM CARBONATE',), ('CALCIUM CARBONATE',), ('CALCIUM CARBONATE',), ('CALCIUM CARBONATE',), ('CALCIUM CARBONATE',), ('CALCIUM CARBONATE',), ('CALCIUM CARBONATE',), ('CALCIUM CARBONATE',), ('CALCIUM CARBONATE',), ('CALCIUM CARBONATE',), ('CALCIUM CARBONATE',), ('CALCIUM CARBONATE',), ('CALCIUM CARBONATE',), ('CALCIUM CARBONATE',), ('CALCIUM CARBONATE',), ('CALCIUM CARBONATE',), ('CALCIUM CARBONATE',), ('CALCIUM CARBONATE',), ('CALCIUM CARBONATE',), ('CALCIUM CARBONATE',), ('CALCIUM CARBONATE',), ('CALCIUM CARBONATE',), ('CALCIUM CARBONATE',), ('CALCIUM CARBONATE',), ('CALCIUM CARBONATE',), ('CALCIUM CARBONATE',), ('CALCIUM CARBONATE',), ('CALCIUM CARBONATE',), ('CALCIUM CARBONATE',), ('CALCIUM CARBONATE',), ('CALCIUM CARBONATE',), ('CALCIUM CARBONATE',), ('CALCIUM CARBONATE',), ('CALCIUM CARBONATE',), ('CALCIUM CARBONATE',), ('CALCIUM CARBONATE',), ('CALCIUM CARBONATE',), ('CALCIUM CARBONATE',), ('CALCIUM CARBONATE',), ('CALCIUM CARBONATE',), ('CALCIUM CARBONATE',), ('CALCIUM CARBONATE',), ('CALCIUM CARBONATE',), ('CALCIUM CARBONATE',), ('CALCIUM CARBONATE',), ('CALCIUM CARBONATE',), ('CALCIUM CARBONATE',), ('CALCIUM CARBONATE',), ('CALCIUM CARBONATE',), ('CALCIUM CARBONATE',), ('CALCIUM CARBONATE',), ('CALCIUM CARBONATE',), ('CALCIUM CARBONATE',), ('CALCIUM CARBONATE',), ('CALCIUM CARBONATE',), ('CALCIUM CARBONATE',), ('CALCIUM CARBONATE',), ('CALCIUM CARBONATE',), ('CALCIUM CARBONATE',), ('CALCIUM CARBONATE',), ('CALCIUM CARBONATE',), ('CALCIUM CARBONATE',), ('CALCIUM CARBONATE',), ('CALCIUM CARBONATE',), ('CALCIUM CARBONATE',), ('CALCIUM CARBONATE',), ('CALCIUM CARBONATE',), ('CALCIUM CARBONATE',), ('CALCIUM CARBONATE',), ('CALCIUM CARBONATE',), ('CALCIUM CARBONATE',), ('CALCIUM CARBONATE',), ('CALCIUM CARBONATE',), ('CALCIUM CARBONATE',), ('CALCIUM CARBONATE',), ('CALCIUM CARBONATE',), ('CALCIUM CARBONATE',), ('CALCIUM CARBONATE',), ('CALCIUM CARBONATE',), ('CALCIUM CARBONATE',), ('CALCIUM CARBONATE',), ('CALCIUM CARBONATE',), ('CALCIUM CARBONATE',), ('CALCIUM CARBONATE',), ('CALCIUM CARBONATE',), ('INULIN',), ('INULIN',), ('SODIUM CHLORIDE',), ('ORYCTOLAGUS CUNICULUS SKIN',), ('ORYCTOLAGUS CUNICULUS SKIN',), ('ORYCTOLAGUS CUNICULUS SKIN',), ('ALEVE',), ('LORATADINE',), ('LORATADINE',), ('LORATADINE',), ('LORATADINE',), ('LORATADINE',), ('ASPIRIN',), ('DULOXETINE',), ('RETINOL',), ('CALCIUM CARBONATE',), ('MOMETASONE FUROATE',), ('HUMAN IMMUNOGLOBULIN G',), ('.ALPHA.-TOCOPHEROL',), ('SENNA',), ('ASCORBIC ACID',), ('ASCORBIC ACID',), ('ASCORBIC ACID',), ('ASCORBIC ACID',), ('LORATADINE',), ('LORATADINE',), ('LORATADINE',), ('LORATADINE',), ('LORATADINE',), ('LORATADINE',), ('LORATADINE',), ('LORATADINE',), ('LORATADINE',), ('LORATADINE',), ('GUAIFENESIN',), ('HYDROMORPHONE HYDROCHLORIDE',), ('MAGNESIUM CITRATE',), ('COBAMAMIDE',), ('DILPACIMAB',)]\n"
     ]
    }
   ],
   "source": [
    "# count entries in drug table where safetyreportid is 11090837\n",
    "cursor.execute(\"SELECT medicinalproduct FROM drug WHERE safetyreportid = 11090837\")\n",
    "count = cursor.fetchall()\n",
    "\n",
    "unique_medicinal_products = set()\n",
    "for row in count:\n",
    "    unique_medicinal_products.add(row[0])\n",
    "print(count)"
   ]
  },
  {
   "cell_type": "code",
   "execution_count": 22,
   "id": "2c17c178",
   "metadata": {},
   "outputs": [
    {
     "name": "stdout",
     "output_type": "stream",
     "text": [
      "106\n",
      "{'DULOXETINE', 'SULFAMETHOXAZOLE', 'DULOXETINE HYDROCHLORIDE', 'HYDROMORPHONE', 'BACLOFEN', 'CELLCEPT', 'RIBOFLAVIN', 'BROMHEXINE HYDROCHLORIDE', 'HUMAN IMMUNOGLOBULIN G', 'OMEGA-3 FATTY ACIDS', 'RANITIDINE', 'HORSE CHESTNUT', 'THIAMINE HYDROCHLORIDE', 'SULFADIAZINE', 'RETINOL', 'PYRIDOXINE HYDROCHLORIDE', 'TIZANIDINE', 'WARFARIN', 'TRIMETHOPRIM', 'LORATADINE', 'GLICLAZIDE', 'CYMBALTA', 'FUROSEMIDE', 'MOMETASONE FUROATE', 'DOCONEXENT', 'LORAZEPAM', 'POTASSIUM CHLORIDE', 'HYDROCHLOROTHIAZIDE', 'ALKA-SELTZER', 'VITAMIN B', 'DEXPANTHENOL', 'SULFAMETHOXAZOLE\\\\TRIMETHOPRIM', 'CHOLECALCIFEROL', 'FISH OIL', 'BIFIDOBACTERIUM BIFIDUM', 'ALEVE', 'NORTRIPTYLINE HYDROCHLORIDE', 'ERGOCALCIFEROL', 'TRIAMTERENE', 'BIFIDOBACTERIUM ANIMALIS LACTIS', 'ORYCTOLAGUS CUNICULUS SKIN', 'ALKA-SELTZER HEARTBURN RELIEFCHEWS', 'FRUCTOSE', 'LYRICA', 'VITAMIN B12', 'NIACINAMIDE\\\\PYRIDOXINE HYDROCHLORIDE\\\\RIBOFLAVIN\\\\THIAMINE HYDROCHLORIDE', 'THIAMINE', 'MYCOPHENOLATE MOFETIL', 'CALCIUM CARBONATE', 'SULFALENE', 'VITAMIN C', 'VITAMIN D NOS', 'ATLANTIC SALMON OIL', 'RIBOFLAVIN 5^-PHOSPHATE SODIUM ANHYDROUS', 'GAMMAGARD', 'CREATININE', 'ASCORBIC ACID', 'AMINOBENZOIC ACID', 'SODIUM CHLORIDE', 'INSULIN NOS', 'THYMOCYTE IMMUNE GLOBULIN NOS', 'SENNOSIDES A AND B', 'COBAMAMIDE', 'CHOLINE BITARTRATE', 'MAGNESIUM CITRATE', 'SENOKOT', 'FOSAMAX', 'LORATADINE\\\\PSEUDOEPHEDRINE SULFATE', 'LOPERAMIDE', 'IMODIUM', 'CLORPRENALINE HYDROCHLORIDE', 'NIACINAMIDE', 'ALFACALCIDOL', 'BIFIDOBACTERIUM LONGUM\\\\LACTOBACILLUS ACIDOPHILUS', 'LACTOBACILLUS RHAMNOSUS', 'NORTRIPTYLINE', 'CYANOCOBALAMIN', 'VITAMIN B COMPLEX', '.ALPHA.-TOCOPHEROL', 'ASPIRIN', 'ATIVAN', 'SENNA', 'DOCONEXENT\\\\ICOSAPENT', 'FOLIC ACID', 'SULFADIAZINE\\\\TRIMETHOPRIM', 'LACTOBACILLUS CASEI', 'CALCIUM GLUCONATE', 'ALENDRONATE SODIUM', 'INOSITOL', 'CALCIUM', 'GUAIFENESIN', 'HYDROMORPHONE HYDROCHLORIDE', 'DILPACIMAB', 'NASONEX', 'OMEGA-3-ACID ETHYL ESTERS', 'ZOPICLONE', 'SENNA LEAF', 'NICOTINAMIDE', 'INULIN', 'ZANTAC', 'CREATINE', '.ALPHA.-TOCOPHEROL, D-', 'MELATONIN', 'DOCUSATE SODIUM', 'PREDNISONE', 'TIZANIDINE HYDROCHLORIDE'}\n"
     ]
    }
   ],
   "source": [
    "print(len(unique_medicinal_products))\n",
    "print(unique_medicinal_products)"
   ]
  },
  {
   "cell_type": "code",
   "execution_count": 30,
   "id": "fa7096de",
   "metadata": {},
   "outputs": [],
   "source": [
    "# get the drug ids for the drugs form safetyreportid 11090837\n",
    "cursor.execute(\"SELECT id FROM drug WHERE safetyreportid = 11090837\")\n",
    "drug_ids = cursor.fetchall()\n",
    "ids = []\n",
    "for drug_id in drug_ids:\n",
    "    ids.append(drug_id[0])\n",
    "# for drug_id in drug_ids:\n",
    "    # print(drug_id[0])"
   ]
  },
  {
   "cell_type": "code",
   "execution_count": 35,
   "id": "10e5e65d",
   "metadata": {},
   "outputs": [
    {
     "name": "stdout",
     "output_type": "stream",
     "text": [
      "[116519, 116520, 116521, 116522, 116523, 116524, 116525, 116526, 116527, 116528]\n"
     ]
    }
   ],
   "source": [
    "print(ids[:10])"
   ]
  },
  {
   "cell_type": "code",
   "execution_count": 33,
   "id": "aa929337",
   "metadata": {},
   "outputs": [
    {
     "name": "stdout",
     "output_type": "stream",
     "text": [
      "Number of drugs without active substances: 0\n",
      "Percentage of drugs without active substances: 0.00%\n"
     ]
    }
   ],
   "source": [
    "# Check how many times each drug id from ids is not present in the drug_activesubstance table\n",
    "missing_active_substances = []\n",
    "\n",
    "for drug_id in ids:\n",
    "    cursor.execute(f\"SELECT COUNT(*) FROM drug_activesubstance WHERE drug_id = {drug_id}\")\n",
    "    count = cursor.fetchone()[0]\n",
    "    if count == 0:\n",
    "        missing_active_substances.append(drug_id)\n",
    "\n",
    "print(f\"Number of drugs without active substances: {len(missing_active_substances)}\")\n",
    "print(f\"Percentage of drugs without active substances: {len(missing_active_substances) / len(ids) * 100:.2f}%\")\n",
    "\n",
    "# Get the medicinal products for these missing active substances\n",
    "if missing_active_substances:\n",
    "    # Get a sample of up to 10 missing drugs to display\n",
    "    sample_size = min(10, len(missing_active_substances))\n",
    "    sample_ids = missing_active_substances[:sample_size]\n",
    "    \n",
    "    placeholders = ', '.join('?' for _ in sample_ids)\n",
    "    query = f\"SELECT id, medicinalproduct FROM drug WHERE id IN ({placeholders})\"\n",
    "    \n",
    "    cursor.execute(query, sample_ids)\n",
    "    sample_drugs = cursor.fetchall()\n",
    "    \n",
    "    print(\"\\nSample of drugs without active substances:\")\n",
    "    for drug_id, medicinal_product in sample_drugs:\n",
    "        print(f\"ID: {drug_id}, Medicinal Product: {medicinal_product}\")"
   ]
  },
  {
   "cell_type": "code",
   "execution_count": 34,
   "id": "6b8a0da4",
   "metadata": {},
   "outputs": [
    {
     "name": "stdout",
     "output_type": "stream",
     "text": [
      "Number of drugs without active substances: 0\n",
      "Percentage of drugs without active substances: 0.00%\n"
     ]
    }
   ],
   "source": [
    "missing_fda = []\n",
    "\n",
    "for drug_id in ids:\n",
    "    cursor.execute(f\"SELECT COUNT(*) FROM drug_openfda WHERE drug_id = {drug_id}\")\n",
    "    count = cursor.fetchone()[0]\n",
    "    if count == 0:\n",
    "        missing_fda.append(drug_id)\n",
    "\n",
    "print(f\"Number of drugs without active substances: {len(missing_fda)}\")\n",
    "print(f\"Percentage of drugs without active substances: {len(missing_fda) / len(ids) * 100:.2f}%\")\n",
    "\n",
    "# Get the medicinal products for these missing active substances\n",
    "if missing_fda:\n",
    "    # Get a sample of up to 10 missing drugs to display\n",
    "    sample_size = min(10, len(missing_fda))\n",
    "    sample_ids = missing_fda[:sample_size]\n",
    "    \n",
    "    placeholders = ', '.join('?' for _ in sample_ids)\n",
    "    query = f\"SELECT id, medicinalproduct FROM drug WHERE id IN ({placeholders})\"\n",
    "    \n",
    "    cursor.execute(query, sample_ids)\n",
    "    sample_drugs = cursor.fetchall()\n",
    "    \n",
    "    print(\"\\nSample of drugs without active substances:\")\n",
    "    for drug_id, medicinal_product in sample_drugs:\n",
    "        print(f\"ID: {drug_id}, Medicinal Product: {medicinal_product}\")"
   ]
  },
  {
   "cell_type": "code",
   "execution_count": null,
   "id": "4958b7a2",
   "metadata": {},
   "outputs": [],
   "source": []
  }
 ],
 "metadata": {
  "kernelspec": {
   "display_name": "gen_ML",
   "language": "python",
   "name": "python3"
  },
  "language_info": {
   "codemirror_mode": {
    "name": "ipython",
    "version": 3
   },
   "file_extension": ".py",
   "mimetype": "text/x-python",
   "name": "python",
   "nbconvert_exporter": "python",
   "pygments_lexer": "ipython3",
   "version": "3.9.19"
  }
 },
 "nbformat": 4,
 "nbformat_minor": 5
}
