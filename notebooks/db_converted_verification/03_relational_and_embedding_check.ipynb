{
 "cells": [
  {
   "cell_type": "code",
   "execution_count": 2,
   "id": "120d1a09",
   "metadata": {},
   "outputs": [],
   "source": [
    "# 03_relational_and_embedding_check.ipynb\n",
    "\n",
    "# ✅ Notebook Goal:\n",
    "# Validate that foreign key relationships (SQLite) and embedded structures (MongoDB) are correct\n",
    "\n",
    "# --- MongoDB Setup ---\n",
    "import pymongo\n",
    "from pprint import pprint\n",
    "\n",
    "client = pymongo.MongoClient(\"mongodb://localhost:27017/\")\n",
    "db = client[\"openfda_converted\"]\n",
    "collection = db[\"full_reports\"]\n",
    "\n",
    "# --- SQLite Setup ---\n",
    "import sqlite3\n",
    "import pandas as pd\n",
    "\n",
    "conn = sqlite3.connect(\"../../sql/openfda_base_updated.db\")"
   ]
  },
  {
   "cell_type": "code",
   "execution_count": 10,
   "id": "7cb5b974",
   "metadata": {},
   "outputs": [
    {
     "name": "stdout",
     "output_type": "stream",
     "text": [
      "\n",
      "✅ Checking SQLite foreign key relationships:\n",
      "✅ reaction.safetyreportid → report.safetyreportid: OK\n",
      "✅ drug.safetyreportid → report.safetyreportid: OK\n",
      "✅ drug_optional.drug_id → drug.id: OK\n",
      "✅ drug_openfda.drug_id → drug.id: OK\n",
      "✅ drug_activesubstance.drug_id → drug.id: OK\n",
      "✅ report_duplicate.safetyreportid → report.safetyreportid: OK\n",
      "✅ summary.safetyreportid → report.safetyreportid: OK\n",
      "✅ patient_optional.safetyreportid → report.safetyreportid: OK\n",
      "✅ primarysource_literature_reference.safetyreportid → report.safetyreportid: OK\n"
     ]
    }
   ],
   "source": [
    "# --- 1. SQLite Foreign Key Consistency ---\n",
    "print(\"\\n✅ Checking SQLite foreign key relationships:\")\n",
    "table_fk_pairs = [\n",
    "    (\"reaction\", \"safetyreportid\", \"report\"),\n",
    "    (\"drug\", \"safetyreportid\", \"report\"),\n",
    "    (\"drug_optional\", \"drug_id\", \"drug\"),\n",
    "    (\"drug_openfda\", \"drug_id\", \"drug\"),\n",
    "    (\"drug_activesubstance\", \"drug_id\", \"drug\"),\n",
    "    (\"report_duplicate\", \"safetyreportid\", \"report\"),\n",
    "    (\"summary\", \"safetyreportid\", \"report\"),\n",
    "    (\"patient_optional\", \"safetyreportid\", \"report\"),\n",
    "    (\"primarysource_literature_reference\", \"safetyreportid\", \"report\")\n",
    "]\n",
    "\n",
    "# Define known primary key mappings\n",
    "primary_keys = {\n",
    "    \"report\": \"safetyreportid\",\n",
    "    \"drug\": \"id\"\n",
    "}\n",
    "\n",
    "for child_table, fk_col, parent_table in table_fk_pairs:\n",
    "    parent_pk = primary_keys[parent_table]\n",
    "    query = f\"\"\"\n",
    "    SELECT {child_table}.{fk_col}\n",
    "    FROM {child_table}\n",
    "    LEFT JOIN {parent_table}\n",
    "    ON {child_table}.{fk_col} = {parent_table}.{parent_pk}\n",
    "    WHERE {parent_table}.{parent_pk} IS NULL\n",
    "    LIMIT 5;\n",
    "    \"\"\"\n",
    "    df = pd.read_sql_query(query, conn)\n",
    "    if df.empty:\n",
    "        print(f\"✅ {child_table}.{fk_col} → {parent_table}.{parent_pk}: OK\")\n",
    "    else:\n",
    "        print(f\"❌ Foreign key error in {child_table}: Orphan records detected\")\n",
    "        print(df)"
   ]
  },
  {
   "cell_type": "code",
   "execution_count": 7,
   "id": "0c9f87af",
   "metadata": {},
   "outputs": [
    {
     "name": "stdout",
     "output_type": "stream",
     "text": [
      "\n",
      "✅ Checking embedded fields in MongoDB:\n",
      "Documents with patient.reaction: 35999\n",
      "Documents with patient.drug: 35999\n",
      "Documents with patient.drug.activesubstance: 35999\n",
      "Documents with patient.drug.openfda: 35670\n",
      "Documents with patient.summary: 16948\n",
      "Documents with patient.summary.case_event_date_extracted: 16948\n",
      "Documents with reportduplicate: 11561\n"
     ]
    }
   ],
   "source": [
    "# --- 2. MongoDB Embedded Object Check ---\n",
    "print(\"\\n✅ Checking embedded fields in MongoDB:\")\n",
    "\n",
    "def count_exists(path):\n",
    "    return collection.count_documents({path: {\"$exists\": True}})\n",
    "\n",
    "embedded_paths = [\n",
    "    \"patient.reaction\", \"patient.drug\",\n",
    "    \"patient.drug.activesubstance\", \"patient.drug.openfda\", \"patient.summary\",\n",
    "    \"patient.summary.case_event_date_extracted\", \"reportduplicate\"\n",
    "]\n",
    "\n",
    "for path in embedded_paths:\n",
    "    count = count_exists(path)\n",
    "    print(f\"Documents with {path}: {count}\")"
   ]
  },
  {
   "cell_type": "code",
   "execution_count": 9,
   "id": "2a7d9807",
   "metadata": {},
   "outputs": [
    {
     "name": "stdout",
     "output_type": "stream",
     "text": [
      "\n",
      "📊 Avg number of reactions per report (MongoDB):\n",
      "Average reactions per report: 3.50\n",
      "\n",
      "📊 Avg number of reactions per report (SQLite):\n",
      "Average reactions per report: 3.50\n"
     ]
    }
   ],
   "source": [
    "# --- Optional: Check nested list structure lengths ---\n",
    "print(\"\\n📊 Avg number of reactions per report (MongoDB):\")\n",
    "pipeline = [\n",
    "    {\"$project\": {\"reaction_count\": {\"$size\": {\"$ifNull\": [\"$patient.reaction\", []]}}}},\n",
    "    {\"$group\": {\"_id\": None, \"avg\": {\"$avg\": \"$reaction_count\"}}}\n",
    "]\n",
    "result = list(collection.aggregate(pipeline))\n",
    "print(f\"Average reactions per report: {result[0]['avg']:.2f}\")\n",
    "\n",
    "print(\"\\n📊 Avg number of reactions per report (SQLite):\")\n",
    "query = \"\"\"\n",
    "SELECT COUNT(*) AS reaction_count\n",
    "FROM reaction\n",
    "GROUP BY safetyreportid\n",
    "\"\"\"\n",
    "df = pd.read_sql_query(query, conn)\n",
    "avg_reaction_count = df[\"reaction_count\"].mean()\n",
    "print(f\"Average reactions per report: {avg_reaction_count:.2f}\")"
   ]
  },
  {
   "cell_type": "code",
   "execution_count": null,
   "id": "c805c87d",
   "metadata": {},
   "outputs": [],
   "source": []
  }
 ],
 "metadata": {
  "kernelspec": {
   "display_name": "gen_ML",
   "language": "python",
   "name": "python3"
  },
  "language_info": {
   "codemirror_mode": {
    "name": "ipython",
    "version": 3
   },
   "file_extension": ".py",
   "mimetype": "text/x-python",
   "name": "python",
   "nbconvert_exporter": "python",
   "pygments_lexer": "ipython3",
   "version": "3.9.19"
  }
 },
 "nbformat": 4,
 "nbformat_minor": 5
}
