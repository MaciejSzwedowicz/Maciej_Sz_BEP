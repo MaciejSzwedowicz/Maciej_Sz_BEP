{
 "cells": [
  {
   "cell_type": "code",
   "execution_count": 118,
   "id": "c76e8579",
   "metadata": {},
   "outputs": [],
   "source": [
    "import sqlite3\n",
    "import pandas as pd\n",
    "import matplotlib.pyplot as plt\n",
    "from collections import Counter\n",
    "\n",
    "# --- Connect to SQLite ---\n",
    "conn = sqlite3.connect(\"../../sql/openfda_base_updated.db\")\n",
    "cursor = conn.cursor()"
   ]
  },
  {
   "cell_type": "code",
   "execution_count": 115,
   "id": "b29ab603",
   "metadata": {},
   "outputs": [
    {
     "name": "stdout",
     "output_type": "stream",
     "text": [
      "Unique medicinal products: 8223\n"
     ]
    }
   ],
   "source": [
    "query = \"\"\"\n",
    "SELECT COUNT(DISTINCT medicinalproduct) AS unique_medicinalproducts\n",
    "FROM drug;\n",
    "\"\"\"\n",
    "cursor.execute(query)\n",
    "result = cursor.fetchone()\n",
    "print(f\"Unique medicinal products: {result[0]}\")"
   ]
  },
  {
   "cell_type": "code",
   "execution_count": 132,
   "id": "01519211",
   "metadata": {},
   "outputs": [
    {
     "data": {
      "application/vnd.microsoft.datawrangler.viewer.v0+json": {
       "columns": [
        {
         "name": "index",
         "rawType": "int64",
         "type": "integer"
        },
        {
         "name": "medicinalproduct",
         "rawType": "object",
         "type": "string"
        },
        {
         "name": "entry_count",
         "rawType": "int64",
         "type": "integer"
        }
       ],
       "conversionMethod": "pd.DataFrame",
       "ref": "c02f3576-7049-4177-8eda-8ec510f7c173",
       "rows": [
        [
         "0",
         "MOUNJARO",
         "10191"
        ],
        [
         "1",
         "DUPIXENT",
         "3700"
        ],
        [
         "2",
         "INFLECTRA",
         "2569"
        ],
        [
         "3",
         "PREDNISONE",
         "2386"
        ],
        [
         "4",
         "METHOTREXATE",
         "2106"
        ],
        [
         "5",
         "REPATHA",
         "1803"
        ],
        [
         "6",
         "ACETAMINOPHEN",
         "1479"
        ],
        [
         "7",
         "RITUXIMAB",
         "1419"
        ],
        [
         "8",
         "DEXAMETHASONE",
         "1306"
        ],
        [
         "9",
         "ASPIRIN",
         "1295"
        ],
        [
         "10",
         "VEDOLIZUMAB",
         "1239"
        ],
        [
         "11",
         "ZEPBOUND",
         "1128"
        ],
        [
         "12",
         "POMALYST",
         "1022"
        ],
        [
         "13",
         "FOLIC ACID",
         "938"
        ],
        [
         "14",
         "ACTEMRA",
         "910"
        ],
        [
         "15",
         "OMEPRAZOLE",
         "890"
        ],
        [
         "16",
         "GABAPENTIN",
         "874"
        ],
        [
         "17",
         "CYCLOPHOSPHAMIDE",
         "865"
        ],
        [
         "18",
         "CABOMETYX",
         "857"
        ],
        [
         "19",
         "ATORVASTATIN",
         "856"
        ]
       ],
       "shape": {
        "columns": 2,
        "rows": 20
       }
      },
      "text/html": [
       "<div>\n",
       "<style scoped>\n",
       "    .dataframe tbody tr th:only-of-type {\n",
       "        vertical-align: middle;\n",
       "    }\n",
       "\n",
       "    .dataframe tbody tr th {\n",
       "        vertical-align: top;\n",
       "    }\n",
       "\n",
       "    .dataframe thead th {\n",
       "        text-align: right;\n",
       "    }\n",
       "</style>\n",
       "<table border=\"1\" class=\"dataframe\">\n",
       "  <thead>\n",
       "    <tr style=\"text-align: right;\">\n",
       "      <th></th>\n",
       "      <th>medicinalproduct</th>\n",
       "      <th>entry_count</th>\n",
       "    </tr>\n",
       "  </thead>\n",
       "  <tbody>\n",
       "    <tr>\n",
       "      <th>0</th>\n",
       "      <td>MOUNJARO</td>\n",
       "      <td>10191</td>\n",
       "    </tr>\n",
       "    <tr>\n",
       "      <th>1</th>\n",
       "      <td>DUPIXENT</td>\n",
       "      <td>3700</td>\n",
       "    </tr>\n",
       "    <tr>\n",
       "      <th>2</th>\n",
       "      <td>INFLECTRA</td>\n",
       "      <td>2569</td>\n",
       "    </tr>\n",
       "    <tr>\n",
       "      <th>3</th>\n",
       "      <td>PREDNISONE</td>\n",
       "      <td>2386</td>\n",
       "    </tr>\n",
       "    <tr>\n",
       "      <th>4</th>\n",
       "      <td>METHOTREXATE</td>\n",
       "      <td>2106</td>\n",
       "    </tr>\n",
       "    <tr>\n",
       "      <th>5</th>\n",
       "      <td>REPATHA</td>\n",
       "      <td>1803</td>\n",
       "    </tr>\n",
       "    <tr>\n",
       "      <th>6</th>\n",
       "      <td>ACETAMINOPHEN</td>\n",
       "      <td>1479</td>\n",
       "    </tr>\n",
       "    <tr>\n",
       "      <th>7</th>\n",
       "      <td>RITUXIMAB</td>\n",
       "      <td>1419</td>\n",
       "    </tr>\n",
       "    <tr>\n",
       "      <th>8</th>\n",
       "      <td>DEXAMETHASONE</td>\n",
       "      <td>1306</td>\n",
       "    </tr>\n",
       "    <tr>\n",
       "      <th>9</th>\n",
       "      <td>ASPIRIN</td>\n",
       "      <td>1295</td>\n",
       "    </tr>\n",
       "    <tr>\n",
       "      <th>10</th>\n",
       "      <td>VEDOLIZUMAB</td>\n",
       "      <td>1239</td>\n",
       "    </tr>\n",
       "    <tr>\n",
       "      <th>11</th>\n",
       "      <td>ZEPBOUND</td>\n",
       "      <td>1128</td>\n",
       "    </tr>\n",
       "    <tr>\n",
       "      <th>12</th>\n",
       "      <td>POMALYST</td>\n",
       "      <td>1022</td>\n",
       "    </tr>\n",
       "    <tr>\n",
       "      <th>13</th>\n",
       "      <td>FOLIC ACID</td>\n",
       "      <td>938</td>\n",
       "    </tr>\n",
       "    <tr>\n",
       "      <th>14</th>\n",
       "      <td>ACTEMRA</td>\n",
       "      <td>910</td>\n",
       "    </tr>\n",
       "    <tr>\n",
       "      <th>15</th>\n",
       "      <td>OMEPRAZOLE</td>\n",
       "      <td>890</td>\n",
       "    </tr>\n",
       "    <tr>\n",
       "      <th>16</th>\n",
       "      <td>GABAPENTIN</td>\n",
       "      <td>874</td>\n",
       "    </tr>\n",
       "    <tr>\n",
       "      <th>17</th>\n",
       "      <td>CYCLOPHOSPHAMIDE</td>\n",
       "      <td>865</td>\n",
       "    </tr>\n",
       "    <tr>\n",
       "      <th>18</th>\n",
       "      <td>CABOMETYX</td>\n",
       "      <td>857</td>\n",
       "    </tr>\n",
       "    <tr>\n",
       "      <th>19</th>\n",
       "      <td>ATORVASTATIN</td>\n",
       "      <td>856</td>\n",
       "    </tr>\n",
       "  </tbody>\n",
       "</table>\n",
       "</div>"
      ],
      "text/plain": [
       "    medicinalproduct  entry_count\n",
       "0           MOUNJARO        10191\n",
       "1           DUPIXENT         3700\n",
       "2          INFLECTRA         2569\n",
       "3         PREDNISONE         2386\n",
       "4       METHOTREXATE         2106\n",
       "5            REPATHA         1803\n",
       "6      ACETAMINOPHEN         1479\n",
       "7          RITUXIMAB         1419\n",
       "8      DEXAMETHASONE         1306\n",
       "9            ASPIRIN         1295\n",
       "10       VEDOLIZUMAB         1239\n",
       "11          ZEPBOUND         1128\n",
       "12          POMALYST         1022\n",
       "13        FOLIC ACID          938\n",
       "14           ACTEMRA          910\n",
       "15        OMEPRAZOLE          890\n",
       "16        GABAPENTIN          874\n",
       "17  CYCLOPHOSPHAMIDE          865\n",
       "18         CABOMETYX          857\n",
       "19      ATORVASTATIN          856"
      ]
     },
     "execution_count": 132,
     "metadata": {},
     "output_type": "execute_result"
    }
   ],
   "source": [
    "query = \"\"\"\n",
    "SELECT medicinalproduct, COUNT(*) AS entry_count\n",
    "FROM drug\n",
    "GROUP BY medicinalproduct\n",
    "ORDER BY entry_count DESC;\n",
    "\"\"\"\n",
    "cursor.execute(query)\n",
    "results = cursor.fetchall()\n",
    "df = pd.DataFrame(results, columns=[\"medicinalproduct\", \"entry_count\"])\n",
    "df.head(20)"
   ]
  },
  {
   "cell_type": "code",
   "execution_count": 133,
   "id": "4899adbc",
   "metadata": {},
   "outputs": [
    {
     "name": "stdout",
     "output_type": "stream",
     "text": [
      "['MOUNJARO', 'DUPIXENT', 'INFLECTRA', 'PREDNISONE', 'METHOTREXATE']\n",
      "8223\n"
     ]
    }
   ],
   "source": [
    "# list of medicinal products\n",
    "medicinal_products = df[\"medicinalproduct\"].tolist()\n",
    "print(medicinal_products[:5])\n",
    "print(len(medicinal_products))"
   ]
  },
  {
   "cell_type": "code",
   "execution_count": null,
   "id": "58bae922",
   "metadata": {},
   "outputs": [],
   "source": [
    "# get field names from drug, drug_openfda, and drug_optional tables\n",
    "query = \"\"\"\n",
    "SELECT name\n",
    "FROM pragma_table_info('drug')\n",
    "\"\"\"\n",
    "cursor.execute(query)\n",
    "drug_fields = [row[0] for row in cursor.fetchall()]\n",
    "\n",
    "query = \"\"\"\n",
    "SELECT name\n",
    "FROM pragma_table_info('drug_openfda')\n",
    "\"\"\"\n",
    "cursor.execute(query)\n",
    "drug_openfda_fields = [row[0] for row in cursor.fetchall()]\n",
    "\n",
    "query = \"\"\"\n",
    "SELECT name\n",
    "FROM pragma_table_info('drug_optional')\n",
    "\"\"\"\n",
    "cursor.execute(query)\n",
    "drug_optional_fields = [row[0] for row in cursor.fetchall()]\n",
    "\n",
    "all_drug_fields = set(drug_fields + drug_openfda_fields + drug_optional_fields)\n",
    "all_drug_fields.remove(\"id\")\n",
    "all_drug_fields.remove(\"medicinalproduct\")\n",
    "all_drug_fields.remove(\"safetyreportid\")\n",
    "all_drug_fields.to_list()\n"
   ]
  },
  {
   "cell_type": "markdown",
   "id": "65f53097",
   "metadata": {},
   "source": [
    "## Check drug table"
   ]
  },
  {
   "cell_type": "code",
   "execution_count": 48,
   "id": "cd38a91e",
   "metadata": {},
   "outputs": [
    {
     "name": "stdout",
     "output_type": "stream",
     "text": [
      " \n",
      " Drug field candidate drugcharacterization,checking MOUNJARO\n",
      "[(1, 10153), (2, 26), (3, 12)]\n",
      " Drug field candidate drugauthorizationnumb,checking MOUNJARO\n",
      "[('215866', 8001), (None, 2186), ('99', 4)]\n",
      " \n",
      " Drug field candidate drugcharacterization,checking DUPIXENT\n",
      "[(1, 3670), (2, 27), (3, 3)]\n",
      " \n",
      " Drug field candidate drugcharacterization,checking INFLECTRA\n",
      "[(1, 2556), (2, 13)]\n",
      " Drug field candidate drugauthorizationnumb,checking INFLECTRA\n",
      "[('125544', 2483), (None, 86)]\n",
      " \n",
      " Drug field candidate drugcharacterization,checking PREDNISONE\n",
      "[(1, 1275), (2, 1091), (3, 20)]\n",
      " \n",
      " Drug field candidate drugcharacterization,checking METHOTREXATE\n",
      "[(1, 1666), (2, 417), (3, 23)]\n",
      " \n",
      " Drug field candidate drugcharacterization,checking REPATHA\n",
      "[(1, 1769), (2, 34)]\n",
      " \n",
      " Drug field candidate drugcharacterization,checking ACETAMINOPHEN\n",
      "[(2, 802), (1, 654), (3, 23)]\n",
      " Drug field candidate drugenddateformat,checking ACETAMINOPHEN\n",
      "[(None, 1252), (102, 216), (610, 11)]\n",
      " \n",
      " Drug field candidate drugcharacterization,checking RITUXIMAB\n",
      "[(1, 1322), (2, 91), (3, 6)]\n"
     ]
    }
   ],
   "source": [
    "def check_drug_table(table_name, field_name, medical):\n",
    "    # print(f\"Checking {field_name} in {table_name} for {medical}\")\n",
    "    query = f\"\"\"\n",
    "    SELECT {field_name}, COUNT(*)\n",
    "    FROM {table_name}\n",
    "    WHERE medicinalproduct = '{medical}'\n",
    "    GROUP BY {field_name}\n",
    "    ORDER BY COUNT(*) DESC;\n",
    "    \"\"\"\n",
    "    cursor.execute(query)\n",
    "    results = cursor.fetchall()\n",
    "    return results\n",
    "\n",
    "for drug in medicinal_products[:8]:\n",
    "    print(\" \")\n",
    "    for field in drug_fields[3:]:\n",
    "        # print(f\"Checking {field} in {drug}\")\n",
    "        results = check_drug_table(table_name= \"drug\", field_name= field ,medical= drug)\n",
    "        if len(results) > 3:\n",
    "            # print(f\"Results for {field}: {len(results)}\")\n",
    "            continue\n",
    "        else:\n",
    "            print(f\" Drug field candidate {field},checking {drug}\")\n",
    "            print(results)"
   ]
  },
  {
   "cell_type": "code",
   "execution_count": 55,
   "id": "83a8da0f",
   "metadata": {},
   "outputs": [
    {
     "name": "stdout",
     "output_type": "stream",
     "text": [
      "[(None, 589), ('Concentrate for solution for infusion', 482), ('Solution for infusion', 98), ('Unknown', 85), ('Infusion, Solution', 85), ('Injection', 33), ('Unknown formulation', 12), ('UNK', 8), ('Infusion', 7), ('Solution for injection', 6), ('INJECTION, SOLUTION', 5), ('Formulation unknown', 5), ('Herbal tea', 2), ('Solution for injection/infusion', 1), ('Intravenous infusion', 1)]\n"
     ]
    }
   ],
   "source": [
    "query = \"\"\"\n",
    "SELECT drugdosageform, COUNT(*)\n",
    "FROM drug\n",
    "WHERE medicinalproduct = 'RITUXIMAB'\n",
    "GROUP BY drugdosageform\n",
    "ORDER BY COUNT(*) DESC;\n",
    "\"\"\"\n",
    "cursor.execute(query)\n",
    "results = cursor.fetchall()\n",
    "print(results)"
   ]
  },
  {
   "cell_type": "markdown",
   "id": "2c29413e",
   "metadata": {},
   "source": [
    "## Check drug_optional table"
   ]
  },
  {
   "cell_type": "code",
   "execution_count": 112,
   "id": "412fd3a1",
   "metadata": {},
   "outputs": [
    {
     "name": "stdout",
     "output_type": "stream",
     "text": [
      " Drug optional field candidate !!!!drugcumulativedosagenumb,checking MOUNJARO\n",
      "[(None, 10184), (2.5, 4), (17.5, 3)]\n",
      " Drug optional field candidate !!!!drugcumulativedosageunit,checking MOUNJARO\n",
      "[(None, 10184), (3, 7)]\n",
      " Drug optional field candidate !!!!drugintervaldosagedefinition,checking MOUNJARO\n",
      "[(None, 9508), (803, 683)]\n",
      " Drug optional field candidate !!!!drugintervaldosageunitnumb,checking MOUNJARO\n",
      "[(None, 9508), (1.0, 683)]\n",
      " Drug optional field candidate !!!!drugseparatedosagenumb,checking MOUNJARO\n",
      "[(None, 9508), (1.0, 683)]\n",
      " Drug optional field candidate !!!!drugtreatmentdurationunit,checking MOUNJARO\n",
      "[(None, 10149), (804, 41), (802, 1)]\n",
      " Drug optional field candidate !!!!drugcumulativedosageunit,checking DUPIXENT\n",
      "[(None, 3678), (3, 22)]\n",
      " Drug optional field candidate !!!!drugseparatedosagenumb,checking DUPIXENT\n",
      "[(1.0, 3185), (None, 515)]\n",
      " Drug optional field candidate !!!!drugstructuredosageunit,checking DUPIXENT\n",
      "[(3, 3125), (None, 509), (32, 66)]\n",
      " Drug optional field candidate !!!!drugintervaldosagedefinition,checking INFLECTRA\n",
      "[(None, 2528), (803, 41)]\n",
      " Drug optional field candidate !!!!drugrecurreadministration,checking INFLECTRA\n",
      "[(None, 2567), (3, 2)]\n",
      " Drug optional field candidate !!!!drugseparatedosagenumb,checking INFLECTRA\n",
      "[(None, 2528), (1.0, 41)]\n",
      " Drug optional field candidate !!!!drugcumulativedosageunit,checking PREDNISONE\n",
      "[(None, 2365), (3, 20), (32, 1)]\n",
      " Drug optional field candidate !!!!drugcumulativedosagenumb,checking METHOTREXATE\n",
      "[(None, 2104), (10.0, 1), (2.0, 1)]\n",
      " Drug optional field candidate !!!!drugcumulativedosageunit,checking METHOTREXATE\n",
      "[(None, 2104), (32, 1), (3, 1)]\n",
      " Drug optional field candidate !!!!drugrecurreadministration,checking METHOTREXATE\n",
      "[(None, 2019), (3, 81), (2, 6)]\n",
      " Drug optional field candidate !!!!drugcumulativedosagenumb,checking REPATHA\n",
      "[(None, 1800), (420.0, 3)]\n",
      " Drug optional field candidate !!!!drugcumulativedosageunit,checking REPATHA\n",
      "[(None, 1800), (3, 3)]\n",
      " Drug optional field candidate !!!!drugseparatedosagenumb,checking REPATHA\n",
      "[(1.0, 1017), (None, 786)]\n",
      " Drug optional field candidate !!!!drugtreatmentduration,checking REPATHA\n",
      "[(None, 1800), (29.0, 2), (1.0, 1)]\n",
      " Drug optional field candidate !!!!drugtreatmentdurationunit,checking REPATHA\n",
      "[(None, 1800), (804, 3)]\n",
      " Drug optional field candidate !!!!drugrecurreadministration,checking RITUXIMAB\n",
      "[(None, 1323), (3, 93), (2, 3)]\n",
      " Drug optional field candidate !!!!drugcumulativedosageunit,checking DEXAMETHASONE\n",
      "[(None, 1204), (3, 96), (32, 6)]\n",
      " Drug optional field candidate !!!!drugrecurreadministration,checking DEXAMETHASONE\n",
      "[(None, 1201), (3, 105)]\n",
      " Drug optional field candidate !!!!drugcumulativedosageunit,checking ASPIRIN\n",
      "[(None, 1282), (3, 10), (32, 3)]\n",
      " Drug optional field candidate !!!!drugrecurreadministration,checking ASPIRIN\n",
      "[(None, 1261), (3, 30), (2, 4)]\n",
      " Drug optional field candidate !!!!drugseparatedosagenumb,checking ASPIRIN\n",
      "[(None, 1048), (1.0, 245), (2.0, 2)]\n"
     ]
    }
   ],
   "source": [
    "def check_d_opt(table_name, field_name, medical):\n",
    "    # print(f\"Checking {field_name} in {table_name} for {medical}\")\n",
    "    query = f\"\"\"\n",
    "    SELECT {field_name}, COUNT(*)\n",
    "    FROM {table_name}\n",
    "    JOIN drug ON drug_optional.drug_id = drug.id\n",
    "    WHERE drug.medicinalproduct = '{medical}'\n",
    "    GROUP BY {field}\n",
    "    ORDER BY COUNT(*) DESC;\n",
    "    \"\"\"\n",
    "    cursor.execute(query)\n",
    "    results = cursor.fetchall()\n",
    "    return results\n",
    "\n",
    "candidates = []\n",
    "nogo = set()\n",
    "\n",
    "for drug in medicinal_products[:10]:\n",
    "    for field in drug_optional_fields[1:]:\n",
    "        # print(f\"Checking {field} in {drug}\")\n",
    "        results = check_d_opt(table_name= \"drug_optional\", field_name= field ,medical= drug)\n",
    "        if len(results) > 3:\n",
    "            # print(f\"Results for {field}: {len(results)}\")\n",
    "            # print(results)\n",
    "            nogo.add(field)\n",
    "        elif 4 > len(results) > 1:\n",
    "            print(f\" Drug optional field candidate !!!!{field},checking {drug}\")\n",
    "            candidates.append(field)\n",
    "            print(results)\n"
   ]
  },
  {
   "cell_type": "code",
   "execution_count": 77,
   "id": "cf4997db",
   "metadata": {},
   "outputs": [
    {
     "name": "stdout",
     "output_type": "stream",
     "text": [
      "drugcumulativedosageunit\n",
      "drugseparatedosagenumb\n",
      "drugtreatmentdurationunit\n",
      "drugcumulativedosagenumb\n",
      "drugintervaldosagedefinition\n",
      "drugintervaldosageunitnumb\n",
      "drugtreatmentduration\n",
      "drugrecurreadministration\n",
      "drugstructuredosageunit\n",
      "9\n"
     ]
    }
   ],
   "source": [
    "candidates = list(set(candidates))\n",
    "\n",
    "for candiatade in candidates:\n",
    "    print(candiatade)\n",
    "print(len(candidates))    "
   ]
  },
  {
   "cell_type": "code",
   "execution_count": 68,
   "id": "638bed2d",
   "metadata": {},
   "outputs": [
    {
     "name": "stdout",
     "output_type": "stream",
     "text": [
      "set()\n"
     ]
    }
   ],
   "source": [
    "x = set(candidates) - nogo\n",
    "print(x)"
   ]
  },
  {
   "cell_type": "code",
   "execution_count": 110,
   "id": "0588d720",
   "metadata": {},
   "outputs": [],
   "source": [
    "def check_d_opt(table_name, field_name, medical):\n",
    "    # print(f\"Checking {field_name} in {table_name} for {medical}\")\n",
    "    query = f\"\"\"\n",
    "    SELECT {field_name}, COUNT(*)\n",
    "    FROM {table_name}\n",
    "    JOIN drug ON drug_optional.drug_id = drug.id\n",
    "    WHERE drug.medicinalproduct = '{medical}'\n",
    "    GROUP BY {field}\n",
    "    ORDER BY COUNT(*) DESC;\n",
    "    \"\"\"\n",
    "    cursor.execute(query)\n",
    "    results = cursor.fetchall()\n",
    "    return results\n",
    "\n",
    "dupa = set()\n",
    "\n",
    "for drug in medicinal_products[:15]:\n",
    "    for field in candidates:\n",
    "        # print(f\"Checking {field} in {drug}\")\n",
    "        results = check_d_opt(table_name= \"drug_optional\", field_name= field ,medical= drug)\n",
    "        if len(results) > 5:\n",
    "            # print(f\"Results for {field}: {len(results)}\")\n",
    "            # print(results)\n",
    "            dupa.add(field)\n",
    "        elif 4 > len(results) > 1:\n",
    "            # print(f\" Drug optional field candidate !!!!{field},checking {drug}\")\n",
    "            # candidates.append(field)\n",
    "            # print(results)\n",
    "            continue"
   ]
  },
  {
   "cell_type": "code",
   "execution_count": 111,
   "id": "2e1cfd38",
   "metadata": {},
   "outputs": [
    {
     "name": "stdout",
     "output_type": "stream",
     "text": [
      "0\n",
      "0\n",
      "set()\n",
      "0\n"
     ]
    }
   ],
   "source": [
    "x = set(candidates) - dupa\n",
    "print(len(candidates))\n",
    "print(len(dupa))\n",
    "print(x)\n",
    "print(len(x))"
   ]
  },
  {
   "cell_type": "code",
   "execution_count": 74,
   "id": "871b31c3",
   "metadata": {},
   "outputs": [
    {
     "name": "stdout",
     "output_type": "stream",
     "text": [
      "{'drugtreatmentduration', 'drugstructuredosageunit', 'drugcumulativedosagenumb', 'drugintervaldosageunitnumb'}\n"
     ]
    }
   ],
   "source": [
    "print(dupa)"
   ]
  },
  {
   "cell_type": "markdown",
   "id": "a593aefb",
   "metadata": {},
   "source": [
    "## Openfda table"
   ]
  },
  {
   "cell_type": "code",
   "execution_count": 95,
   "id": "b7936041",
   "metadata": {},
   "outputs": [],
   "source": [
    "def check_d_open(table_name, field_name, medical):\n",
    "    # print(f\"Checking {field_name} in {table_name} for {medical}\")\n",
    "    query = f\"\"\"\n",
    "    SELECT {field_name}, COUNT(*)\n",
    "    FROM {table_name}\n",
    "    JOIN drug ON drug_openfda.drug_id = drug.id\n",
    "    WHERE drug.medicinalproduct = '{medical}'\n",
    "    GROUP BY {field}\n",
    "    ORDER BY COUNT(*) DESC;\n",
    "    \"\"\"\n",
    "    cursor.execute(query)\n",
    "    results = cursor.fetchall()\n",
    "    return results\n",
    "\n",
    "essa = set()\n",
    "mialmial = set()\n",
    "\n",
    "for drug in medicinal_products[:15]:\n",
    "    # print(drug)\n",
    "    for field in drug_openfda_fields[2:]:\n",
    "        # print(field)\n",
    "        # print(f\"Checking {field} in {drug}\")\n",
    "        results = check_d_open(table_name= \"drug_openfda\", field_name= field ,medical= drug)\n",
    "        if len(results) < 2:\n",
    "            # print(f\"BINGO for {field}: {len(results)}\")\n",
    "            essa.add(field)\n",
    "\n",
    "        elif len(results) >= 2:\n",
    "            print(f\"Results for {field}: {len(results)}\")\n",
    "            # print(results)\n",
    "            mialmial.add(field)\n",
    "        elif len(results) > 3:\n",
    "            print(f\" Uwaga !!!!{field},checking {drug}\")\n",
    "            print(results)"
   ]
  },
  {
   "cell_type": "code",
   "execution_count": 85,
   "id": "fac3417b",
   "metadata": {},
   "outputs": [
    {
     "name": "stdout",
     "output_type": "stream",
     "text": [
      "['application_number', 'brand_name', 'generic_name', 'manufacturer_name', 'nui', 'package_ndc', 'pharm_class_cs', 'pharm_class_epc', 'pharm_class_moa', 'pharm_class_pe', 'product_ndc', 'product_type', 'route', 'rxcui', 'spl_id', 'spl_set_id', 'substance_name', 'unii']\n"
     ]
    }
   ],
   "source": [
    "print(drug_openfda_fields[2:])"
   ]
  },
  {
   "cell_type": "code",
   "execution_count": 96,
   "id": "ea73b64f",
   "metadata": {},
   "outputs": [
    {
     "name": "stdout",
     "output_type": "stream",
     "text": [
      "set()\n"
     ]
    }
   ],
   "source": [
    "print(mialmial)"
   ]
  },
  {
   "cell_type": "code",
   "execution_count": 97,
   "id": "8122fc0a",
   "metadata": {},
   "outputs": [
    {
     "name": "stdout",
     "output_type": "stream",
     "text": [
      "{'pharm_class_epc', 'spl_set_id', 'pharm_class_pe', 'substance_name', 'product_ndc', 'product_type', 'nui', 'brand_name', 'package_ndc', 'generic_name', 'pharm_class_moa', 'route', 'rxcui', 'spl_id', 'manufacturer_name', 'pharm_class_cs', 'unii', 'application_number'}\n"
     ]
    }
   ],
   "source": [
    "print(essa)"
   ]
  },
  {
   "cell_type": "markdown",
   "id": "5ec8d0dd",
   "metadata": {},
   "source": [
    "## active substance"
   ]
  },
  {
   "cell_type": "code",
   "execution_count": 135,
   "id": "3e4fc576",
   "metadata": {},
   "outputs": [
    {
     "name": "stdout",
     "output_type": "stream",
     "text": [
      "Results for LEVOTHYROXINE: 2\n",
      "Results for OXYCODONE: 2\n",
      "Results for CITALOPRAM: 2\n",
      "Results for NOREPINEPHRINE: 2\n",
      "Results for ESOMEPRAZOLE MAGNESIUM: 2\n",
      "Results for PRAMIPEXOLE: 2\n",
      "Results for OXYBUTYNIN: 2\n",
      "Results for LEUPROLIDE ACETATE: 2\n",
      "Results for RUCONEST: 2\n",
      "Results for OCTREOTIDE: 2\n",
      "Results for RASAGILINE: 2\n",
      "Results for ATOMOXETINE: 2\n",
      "Results for SARCLISA: 2\n",
      "Results for BETAXOLOL: 2\n"
     ]
    },
    {
     "ename": "KeyboardInterrupt",
     "evalue": "",
     "output_type": "error",
     "traceback": [
      "\u001b[1;31m---------------------------------------------------------------------------\u001b[0m",
      "\u001b[1;31mKeyboardInterrupt\u001b[0m                         Traceback (most recent call last)",
      "Cell \u001b[1;32mIn[135], line 19\u001b[0m\n\u001b[0;32m     15\u001b[0m upsi \u001b[38;5;241m=\u001b[39m \u001b[38;5;28mset\u001b[39m()\n\u001b[0;32m     17\u001b[0m \u001b[38;5;28;01mfor\u001b[39;00m drug \u001b[38;5;129;01min\u001b[39;00m medicinal_products:\n\u001b[0;32m     18\u001b[0m     \u001b[38;5;66;03m# print(drug)\u001b[39;00m\n\u001b[1;32m---> 19\u001b[0m     results \u001b[38;5;241m=\u001b[39m \u001b[43mcheck_d_acti\u001b[49m\u001b[43m(\u001b[49m\u001b[43mtable_name\u001b[49m\u001b[38;5;241;43m=\u001b[39;49m\u001b[43m \u001b[49m\u001b[38;5;124;43m\"\u001b[39;49m\u001b[38;5;124;43mdrug_activesubstance\u001b[39;49m\u001b[38;5;124;43m\"\u001b[39;49m\u001b[43m,\u001b[49m\u001b[43m \u001b[49m\u001b[43mfield_name\u001b[49m\u001b[38;5;241;43m=\u001b[39;49m\u001b[43m \u001b[49m\u001b[38;5;124;43m\"\u001b[39;49m\u001b[38;5;124;43mactivesubstancename\u001b[39;49m\u001b[38;5;124;43m\"\u001b[39;49m\u001b[43m,\u001b[49m\u001b[43m \u001b[49m\u001b[43mmedical\u001b[49m\u001b[38;5;241;43m=\u001b[39;49m\u001b[43m \u001b[49m\u001b[43mdrug\u001b[49m\u001b[43m)\u001b[49m\n\u001b[0;32m     20\u001b[0m     \u001b[38;5;28;01mif\u001b[39;00m \u001b[38;5;28mlen\u001b[39m(results) \u001b[38;5;241m<\u001b[39m \u001b[38;5;241m2\u001b[39m:\n\u001b[0;32m     21\u001b[0m         \u001b[38;5;66;03m# print(f\"BINGO for {field}: {len(results)}\")\u001b[39;00m\n\u001b[0;32m     22\u001b[0m         \u001b[38;5;66;03m# essa.add(field)\u001b[39;00m\n\u001b[0;32m     23\u001b[0m         \u001b[38;5;28;01mcontinue\u001b[39;00m\n",
      "Cell \u001b[1;32mIn[135], line 11\u001b[0m, in \u001b[0;36mcheck_d_acti\u001b[1;34m(table_name, field_name, medical)\u001b[0m\n\u001b[0;32m      1\u001b[0m \u001b[38;5;28;01mdef\u001b[39;00m \u001b[38;5;21mcheck_d_acti\u001b[39m(table_name, field_name, medical):\n\u001b[0;32m      2\u001b[0m     \u001b[38;5;66;03m# print(f\"Checking {field_name} in {table_name} for {medical}\")\u001b[39;00m\n\u001b[0;32m      3\u001b[0m     query \u001b[38;5;241m=\u001b[39m \u001b[38;5;124mf\u001b[39m\u001b[38;5;124m\"\"\"\u001b[39m\n\u001b[0;32m      4\u001b[0m \u001b[38;5;124m    SELECT \u001b[39m\u001b[38;5;132;01m{\u001b[39;00mfield_name\u001b[38;5;132;01m}\u001b[39;00m\u001b[38;5;124m, COUNT(*)\u001b[39m\n\u001b[0;32m      5\u001b[0m \u001b[38;5;124m    FROM \u001b[39m\u001b[38;5;132;01m{\u001b[39;00mtable_name\u001b[38;5;132;01m}\u001b[39;00m\n\u001b[1;32m   (...)\u001b[0m\n\u001b[0;32m      9\u001b[0m \u001b[38;5;124m    ORDER BY COUNT(*) DESC;\u001b[39m\n\u001b[0;32m     10\u001b[0m \u001b[38;5;124m    \u001b[39m\u001b[38;5;124m\"\"\"\u001b[39m\n\u001b[1;32m---> 11\u001b[0m     \u001b[43mcursor\u001b[49m\u001b[38;5;241;43m.\u001b[39;49m\u001b[43mexecute\u001b[49m\u001b[43m(\u001b[49m\u001b[43mquery\u001b[49m\u001b[43m)\u001b[49m\n\u001b[0;32m     12\u001b[0m     results \u001b[38;5;241m=\u001b[39m cursor\u001b[38;5;241m.\u001b[39mfetchall()\n\u001b[0;32m     13\u001b[0m     \u001b[38;5;28;01mreturn\u001b[39;00m results\n",
      "\u001b[1;31mKeyboardInterrupt\u001b[0m: "
     ]
    }
   ],
   "source": [
    "def check_d_acti(table_name, field_name, medical):\n",
    "    # print(f\"Checking {field_name} in {table_name} for {medical}\")\n",
    "    query = f\"\"\"\n",
    "    SELECT {field_name}, COUNT(*)\n",
    "    FROM {table_name}\n",
    "    JOIN drug ON drug_activesubstance.drug_id = drug.id\n",
    "    WHERE drug.medicinalproduct = '{medical}'\n",
    "    GROUP BY {field_name}\n",
    "    ORDER BY COUNT(*) DESC;\n",
    "    \"\"\"\n",
    "    cursor.execute(query)\n",
    "    results = cursor.fetchall()\n",
    "    return results\n",
    "\n",
    "upsi = set()\n",
    "\n",
    "for drug in medicinal_products:\n",
    "    # print(drug)\n",
    "    results = check_d_acti(table_name= \"drug_activesubstance\", field_name= \"activesubstancename\", medical= drug)\n",
    "    if len(results) < 2:\n",
    "        # print(f\"BINGO for {field}: {len(results)}\")\n",
    "        # essa.add(field)\n",
    "        continue\n",
    "    elif len(results) >= 2:\n",
    "        print(f\"Results for {drug}: {len(results)}\")\n",
    "        # print(results)\n",
    "        upsi.add(drug)\n",
    "    elif len(results) > 3:\n",
    "        print(f\" Uwaga !!!!{field},checking {drug}\")\n",
    "        print(results)"
   ]
  },
  {
   "cell_type": "code",
   "execution_count": 126,
   "id": "761d482b",
   "metadata": {},
   "outputs": [
    {
     "name": "stdout",
     "output_type": "stream",
     "text": [
      "0\n"
     ]
    }
   ],
   "source": [
    "upsi = list(set(upsi))\n",
    "print(len(upsi))"
   ]
  },
  {
   "cell_type": "code",
   "execution_count": 137,
   "id": "cf1f22e8",
   "metadata": {},
   "outputs": [],
   "source": [
    "conn.close()"
   ]
  },
  {
   "cell_type": "code",
   "execution_count": null,
   "id": "cd8924c6",
   "metadata": {},
   "outputs": [],
   "source": []
  }
 ],
 "metadata": {
  "kernelspec": {
   "display_name": "gen_ML",
   "language": "python",
   "name": "python3"
  },
  "language_info": {
   "codemirror_mode": {
    "name": "ipython",
    "version": 3
   },
   "file_extension": ".py",
   "mimetype": "text/x-python",
   "name": "python",
   "nbconvert_exporter": "python",
   "pygments_lexer": "ipython3",
   "version": "3.9.19"
  }
 },
 "nbformat": 4,
 "nbformat_minor": 5
}
