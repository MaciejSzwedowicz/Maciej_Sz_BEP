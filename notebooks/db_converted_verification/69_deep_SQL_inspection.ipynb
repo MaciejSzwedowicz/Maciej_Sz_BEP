{
 "cells": [
  {
   "cell_type": "markdown",
   "id": "11614df3",
   "metadata": {},
   "source": [
    "## ✅ Notebook Goal:\n",
    " Explore and evaluate the structure, density, and effectiveness of the SQLite schema design\n"
   ]
  },
  {
   "cell_type": "code",
   "execution_count": 1,
   "id": "fcb1fb89",
   "metadata": {},
   "outputs": [],
   "source": [
    "import sqlite3\n",
    "import pandas as pd\n",
    "import matplotlib.pyplot as plt\n",
    "from collections import Counter\n",
    "\n",
    "# --- Connect to SQLite ---\n",
    "conn = sqlite3.connect(\"../../sql/openfda_base_updated.db\")\n",
    "cursor = conn.cursor()"
   ]
  },
  {
   "cell_type": "code",
   "execution_count": 2,
   "id": "60be6ede",
   "metadata": {},
   "outputs": [
    {
     "name": "stdout",
     "output_type": "stream",
     "text": [
      "Table: report has 28 columns\n",
      "Table: reaction has 5 columns\n",
      "Table: report_duplicate has 4 columns\n",
      "Table: patient_optional has 6 columns\n",
      "Table: drug has 13 columns\n",
      "Table: drug_openfda has 20 columns\n",
      "Table: drug_activesubstance has 3 columns\n",
      "Table: drug_optional has 15 columns\n",
      "Table: summary has 4 columns\n",
      "Table: primarysource_literature_reference has 3 columns\n"
     ]
    }
   ],
   "source": [
    "tables = conn.execute(\"SELECT name FROM sqlite_master WHERE type='table';\").fetchall()\n",
    "\n",
    "def get_columns(table_name):\n",
    "    query = f\"PRAGMA table_info({table_name})\"\n",
    "    columns = conn.execute(query).fetchall()\n",
    "    return [col[1] for col in columns]\n",
    "\n",
    "for table in tables:\n",
    "    print(f\"Table: {table[0]} has {len(get_columns(table[0]))} columns\")"
   ]
  },
  {
   "cell_type": "code",
   "execution_count": 3,
   "id": "f6587025",
   "metadata": {},
   "outputs": [
    {
     "data": {
      "text/plain": [
       "['safetyreportid',\n",
       " 'safetyreportversion',\n",
       " 'receivedateformat',\n",
       " 'receivedate',\n",
       " 'receiptdateformat',\n",
       " 'receiptdate',\n",
       " 'transmissiondateformat',\n",
       " 'transmissiondate',\n",
       " 'companynumb',\n",
       " 'reporttype',\n",
       " 'fulfillexpeditecriteria',\n",
       " 'serious',\n",
       " 'seriousnessdeath',\n",
       " 'seriousnesslifethreatening',\n",
       " 'seriousnesshospitalization',\n",
       " 'seriousnessdisabling',\n",
       " 'seriousnesscongenitalanomali',\n",
       " 'seriousnessother',\n",
       " 'primarysourcecountry',\n",
       " 'sendertype',\n",
       " 'senderorganization',\n",
       " 'receivertype',\n",
       " 'receiverorganization',\n",
       " 'primarysource_qualification',\n",
       " 'primarysource_reportercountry',\n",
       " 'authoritynumb',\n",
       " 'occurcountry',\n",
       " 'duplicate']"
      ]
     },
     "execution_count": 3,
     "metadata": {},
     "output_type": "execute_result"
    }
   ],
   "source": [
    "get_columns(tables[0][0])"
   ]
  },
  {
   "cell_type": "markdown",
   "id": "d0ad4956",
   "metadata": {},
   "source": [
    "## Parent fields analysis"
   ]
  },
  {
   "cell_type": "code",
   "execution_count": 24,
   "id": "acbad753",
   "metadata": {},
   "outputs": [
    {
     "name": "stdout",
     "output_type": "stream",
     "text": [
      "Type of results: <class 'list'>\n",
      "Drugs per report: 166\n",
      "Drugs per report 0: (13270, 1)\n",
      "Drugs per report 1: (5927, 2)\n",
      "Drugs per report 2: (3374, 3)\n",
      "Drugs per report 3: (2705, 4)\n",
      "Drugs per report 4: (1867, 5)\n",
      "Drugs per report 5: (1334, 6)\n",
      "Drugs per report 6: (952, 7)\n",
      "Drugs per report 7: (1048, 8)\n",
      "Drugs per report 8: (678, 9)\n",
      "Drugs per report 9: (759, 10)\n"
     ]
    }
   ],
   "source": [
    "# --- 1. Drugs per report ---\n",
    "query = \"\"\"\n",
    "SELECT COUNT(*) AS num_reports, drug_count\n",
    "FROM (\n",
    "  SELECT safetyreportid, COUNT(*) AS drug_count\n",
    "  FROM drug\n",
    "  GROUP BY safetyreportid\n",
    ") AS report_drug_counts\n",
    "GROUP BY drug_count\n",
    "ORDER BY drug_count;\n",
    "\"\"\"\n",
    "\n",
    "cursor.execute(query)\n",
    "results = cursor.fetchall()\n",
    "# check type of results\n",
    "print(f\"Type of results: {type(results)}\")\n",
    "\n",
    "print(f\"Drugs per report: {len(results)}\")\n",
    "\n",
    "for i in range(10):\n",
    "    print(f\"Drugs per report {i}: {results[i]}\")\n",
    "\n"
   ]
  },
  {
   "cell_type": "code",
   "execution_count": 49,
   "id": "1702fe96",
   "metadata": {},
   "outputs": [
    {
     "name": "stdout",
     "output_type": "stream",
     "text": [
      "Type of results: <class 'list'>\n",
      "Reactions per report: 89\n",
      "Reactions per report 1: (12840, 1)\n",
      "Reactions per report 2: (8471, 2)\n",
      "Reactions per report 3: (4784, 3)\n",
      "Reactions per report 4: (2751, 4)\n",
      "Reactions per report 5: (1836, 5)\n",
      "Reactions per report 6: (1207, 6)\n",
      "Reactions per report 7: (807, 7)\n",
      "Reactions per report 8: (633, 8)\n",
      "Reactions per report 9: (481, 9)\n",
      "Reactions per report 10: (385, 10)\n"
     ]
    }
   ],
   "source": [
    "# --- Reactions per report ---\n",
    "query = \"\"\"\n",
    "SELECT COUNT(*) AS num_reports, reaction_count\n",
    "FROM (\n",
    "  SELECT safetyreportid, COUNT(*) AS reaction_count\n",
    "  FROM reaction\n",
    "  GROUP BY safetyreportid\n",
    ") AS report_reaction_counts\n",
    "GROUP BY reaction_count\n",
    "ORDER BY reaction_count;\n",
    "\"\"\"\n",
    "\n",
    "cursor.execute(query)\n",
    "results = cursor.fetchall()\n",
    "\n",
    "print(f\"Type of results: {type(results)}\")\n",
    "print(f\"Reactions per report: {len(results)}\")\n",
    "\n",
    "for i in range(min(10, len(results))):\n",
    "    print(f\"Reactions per report {i+1}: {results[i]}\")"
   ]
  },
  {
   "cell_type": "code",
   "execution_count": 43,
   "id": "0446c480",
   "metadata": {},
   "outputs": [
    {
     "name": "stdout",
     "output_type": "stream",
     "text": [
      "Reports by year: 16 years\n",
      "2007: 2 reports\n",
      "2008: 2 reports\n",
      "2010: 3 reports\n",
      "2012: 2 reports\n",
      "2013: 1 reports\n",
      "2014: 10 reports\n",
      "2015: 24 reports\n",
      "2016: 55 reports\n",
      "2017: 91 reports\n",
      "2018: 110 reports\n",
      "2019: 186 reports\n",
      "2020: 298 reports\n",
      "2021: 580 reports\n",
      "2022: 1521 reports\n",
      "2023: 7257 reports\n",
      "2024: 25858 reports\n"
     ]
    }
   ],
   "source": [
    "# --- Reports per year (based on receivedate) ---\n",
    "query = \"\"\"\n",
    "SELECT SUBSTR(receivedate, 1, 4) AS year, COUNT(*) AS num_reports\n",
    "FROM report\n",
    "WHERE LENGTH(receivedate) >= 4\n",
    "GROUP BY year\n",
    "ORDER BY year;\n",
    "\"\"\"\n",
    "\n",
    "cursor.execute(query)\n",
    "results = cursor.fetchall()\n",
    "\n",
    "print(f\"Reports by year: {len(results)} years\")\n",
    "\n",
    "for year, count in results:\n",
    "    print(f\"{year}: {count} reports\")"
   ]
  },
  {
   "cell_type": "code",
   "execution_count": 45,
   "id": "8726b122",
   "metadata": {},
   "outputs": [
    {
     "name": "stdout",
     "output_type": "stream",
     "text": [
      "Number of reports with duplicates: 5581\n"
     ]
    }
   ],
   "source": [
    "# --- Distribution of report_duplicate entries per report ---\n",
    "query = \"\"\"\n",
    "SELECT COUNT(*) AS num_duplicates, safetyreportid\n",
    "FROM report_duplicate\n",
    "GROUP BY safetyreportid\n",
    "ORDER BY num_duplicates DESC;\n",
    "\"\"\"\n",
    "\n",
    "cursor.execute(query)\n",
    "results = cursor.fetchall()\n",
    "\n",
    "print(f\"Number of reports with duplicates: {len(results)}\")\n",
    "\n",
    "# Distribution summary\n",
    "\n",
    "# distribution = Counter(count for count, _ in results)\n",
    "# for dup_count in sorted(distribution.keys()):\n",
    "#     print(f\"{dup_count} duplicates: {distribution[dup_count]} reports\")"
   ]
  },
  {
   "cell_type": "code",
   "execution_count": 46,
   "id": "681a1bc6",
   "metadata": {},
   "outputs": [
    {
     "name": "stdout",
     "output_type": "stream",
     "text": [
      "Number of drugs with openfda info: 188847\n",
      "1 openfda records: 188847 drugs\n"
     ]
    }
   ],
   "source": [
    "# --- Distribution of drug_openfda entries per drug ---\n",
    "query = \"\"\"\n",
    "SELECT COUNT(*) AS num_openfda, drug_id\n",
    "FROM drug_openfda\n",
    "GROUP BY drug_id\n",
    "ORDER BY num_openfda DESC;\n",
    "\"\"\"\n",
    "\n",
    "cursor.execute(query)\n",
    "results = cursor.fetchall()\n",
    "\n",
    "print(f\"Number of drugs with openfda info: {len(results)}\")\n",
    "\n",
    "distribution = Counter(count for count, _ in results)\n",
    "for entry_count in sorted(distribution.keys()):\n",
    "    print(f\"{entry_count} openfda records: {distribution[entry_count]} drugs\")"
   ]
  },
  {
   "cell_type": "code",
   "execution_count": 47,
   "id": "b31327dd",
   "metadata": {},
   "outputs": [
    {
     "name": "stdout",
     "output_type": "stream",
     "text": [
      "Number of drugs with activesubstance info: 185151\n",
      "1 substances: 185151 drugs\n"
     ]
    }
   ],
   "source": [
    "# --- Distribution of drug_activesubstance entries per drug ---\n",
    "query = \"\"\"\n",
    "SELECT COUNT(*) AS num_substances, drug_id\n",
    "FROM drug_activesubstance\n",
    "GROUP BY drug_id\n",
    "ORDER BY num_substances DESC;\n",
    "\"\"\"\n",
    "\n",
    "cursor.execute(query)\n",
    "results = cursor.fetchall()\n",
    "\n",
    "print(f\"Number of drugs with activesubstance info: {len(results)}\")\n",
    "\n",
    "distribution = Counter(count for count, _ in results)\n",
    "for entry_count in sorted(distribution.keys()):\n",
    "    print(f\"{entry_count} substances: {distribution[entry_count]} drugs\")"
   ]
  },
  {
   "cell_type": "markdown",
   "id": "c84facbe",
   "metadata": {},
   "source": [
    "## Nested list completeness"
   ]
  },
  {
   "cell_type": "code",
   "execution_count": 48,
   "id": "d00a1efa",
   "metadata": {},
   "outputs": [
    {
     "name": "stdout",
     "output_type": "stream",
     "text": [
      "Reports with ≥1 reaction: 36000 / 36000 (100.0%)\n"
     ]
    }
   ],
   "source": [
    "query = \"\"\"\n",
    "SELECT COUNT(DISTINCT safetyreportid) AS with_reactions\n",
    "FROM reaction;\n",
    "\"\"\"\n",
    "cursor.execute(query)\n",
    "reaction_count = cursor.fetchone()[0]\n",
    "\n",
    "cursor.execute(\"SELECT COUNT(*) FROM report;\")\n",
    "report_total = cursor.fetchone()[0]\n",
    "\n",
    "print(f\"Reports with ≥1 reaction: {reaction_count} / {report_total} ({100 * reaction_count / report_total:.1f}%)\")\n"
   ]
  },
  {
   "cell_type": "code",
   "execution_count": 50,
   "id": "0bd08e70",
   "metadata": {},
   "outputs": [
    {
     "name": "stdout",
     "output_type": "stream",
     "text": [
      "Reports with ≥1 duplicate: 5581 / 36000 (15.5%)\n"
     ]
    }
   ],
   "source": [
    "query = \"\"\"\n",
    "SELECT COUNT(DISTINCT safetyreportid) AS with_duplicates\n",
    "FROM report_duplicate;\n",
    "\"\"\"\n",
    "cursor.execute(query)\n",
    "duplicate_count = cursor.fetchone()[0]\n",
    "\n",
    "print(f\"Reports with ≥1 duplicate: {duplicate_count} / {report_total} ({100 * duplicate_count / report_total:.1f}%)\")\n"
   ]
  },
  {
   "cell_type": "code",
   "execution_count": 51,
   "id": "b75226da",
   "metadata": {},
   "outputs": [
    {
     "name": "stdout",
     "output_type": "stream",
     "text": [
      "Reports with ≥1 drug: 36000 / 36000 (100.0%)\n"
     ]
    }
   ],
   "source": [
    "query = \"\"\"\n",
    "SELECT COUNT(DISTINCT safetyreportid) AS with_drugs\n",
    "FROM drug;\n",
    "\"\"\"\n",
    "cursor.execute(query)\n",
    "drug_count = cursor.fetchone()[0]\n",
    "\n",
    "print(f\"Reports with ≥1 drug: {drug_count} / {report_total} ({100 * drug_count / report_total:.1f}%)\")\n"
   ]
  },
  {
   "cell_type": "code",
   "execution_count": 52,
   "id": "e16cc689",
   "metadata": {},
   "outputs": [
    {
     "name": "stdout",
     "output_type": "stream",
     "text": [
      "Drugs with ≥1 openfda: 188847 / 188847 (100.0%)\n"
     ]
    }
   ],
   "source": [
    "query = \"\"\"\n",
    "SELECT COUNT(DISTINCT drug_id) AS with_openfda\n",
    "FROM drug_openfda;\n",
    "\"\"\"\n",
    "cursor.execute(query)\n",
    "openfda_count = cursor.fetchone()[0]\n",
    "\n",
    "cursor.execute(\"SELECT COUNT(*) FROM drug;\")\n",
    "drug_total = cursor.fetchone()[0]\n",
    "\n",
    "print(f\"Drugs with ≥1 openfda: {openfda_count} / {drug_total} ({100 * openfda_count / drug_total:.1f}%)\")\n"
   ]
  },
  {
   "cell_type": "code",
   "execution_count": 53,
   "id": "8be13c29",
   "metadata": {},
   "outputs": [
    {
     "name": "stdout",
     "output_type": "stream",
     "text": [
      "Drugs with ≥1 openfda: 188847 / 188847 (100.0%)\n"
     ]
    }
   ],
   "source": [
    "query = \"\"\"\n",
    "SELECT COUNT(DISTINCT drug_id) AS with_openfda\n",
    "FROM drug_openfda;\n",
    "\"\"\"\n",
    "cursor.execute(query)\n",
    "openfda_count = cursor.fetchone()[0]\n",
    "\n",
    "cursor.execute(\"SELECT COUNT(*) FROM drug;\")\n",
    "drug_total = cursor.fetchone()[0]\n",
    "\n",
    "print(f\"Drugs with ≥1 openfda: {openfda_count} / {drug_total} ({100 * openfda_count / drug_total:.1f}%)\")\n"
   ]
  },
  {
   "cell_type": "markdown",
   "id": "dc11b046",
   "metadata": {},
   "source": [
    "## Date - Date Format"
   ]
  },
  {
   "cell_type": "code",
   "execution_count": 56,
   "id": "ba17e57f",
   "metadata": {},
   "outputs": [],
   "source": [
    "def summarize_date_and_format_counts(table, date_column, format_column):\n",
    "    print(f\"📌 Field: {date_column}\")\n",
    "    \n",
    "    # Count grouped by format where date IS NOT NULL\n",
    "    query_date_present = f\"\"\"\n",
    "    SELECT {format_column} AS format_code, COUNT(*) AS date_present_count\n",
    "    FROM {table}\n",
    "    WHERE {date_column} IS NOT NULL\n",
    "    GROUP BY {format_column}\n",
    "    \"\"\"\n",
    "\n",
    "    # Count grouped by format regardless of date\n",
    "    query_format_total = f\"\"\"\n",
    "    SELECT {format_column} AS format_code, COUNT(*) AS total_format_entries\n",
    "    FROM {table}\n",
    "    GROUP BY {format_column}\n",
    "    \"\"\"\n",
    "\n",
    "    df_dates = pd.read_sql_query(query_date_present, conn)\n",
    "    df_format = pd.read_sql_query(query_format_total, conn)\n",
    "\n",
    "    df = pd.merge(df_format, df_dates, on=\"format_code\", how=\"outer\").fillna(0)\n",
    "    df = df.astype({\"total_format_entries\": int, \"date_present_count\": int})\n",
    "    df = df.sort_values(\"format_code\")\n",
    "\n",
    "    print(df.rename(columns={\n",
    "        \"format_code\": \"Format\",\n",
    "        \"total_format_entries\": \"# Format Entries\",\n",
    "        \"date_present_count\": \"# Non-null Dates\"\n",
    "    }).to_string(index=False))\n",
    "    print()"
   ]
  },
  {
   "cell_type": "code",
   "execution_count": 57,
   "id": "94c2e1ac",
   "metadata": {},
   "outputs": [
    {
     "name": "stdout",
     "output_type": "stream",
     "text": [
      "📌 Field: receivedate\n",
      " Format  # Format Entries  # Non-null Dates\n",
      "    102             36000             36000\n",
      "\n",
      "📌 Field: receiptdate\n",
      " Format  # Format Entries  # Non-null Dates\n",
      "    102             36000             36000\n",
      "\n",
      "📌 Field: transmissiondate\n",
      " Format  # Format Entries  # Non-null Dates\n",
      "    102             36000             36000\n",
      "\n",
      "📌 Field: drugstartdate\n",
      " Format  # Format Entries  # Non-null Dates\n",
      "    0.0            135011                 0\n",
      "  102.0             40224             40224\n",
      "  602.0              4551              4551\n",
      "  610.0              9061              9061\n",
      "\n",
      "📌 Field: drugenddate\n",
      " Format  # Format Entries  # Non-null Dates\n",
      "    0.0            165696                 0\n",
      "  102.0             19162             19162\n",
      "  602.0              1289              1289\n",
      "  610.0              2700              2700\n",
      "\n"
     ]
    }
   ],
   "source": [
    "# Report table\n",
    "summarize_date_and_format_counts(\"report\", \"receivedate\", \"receivedateformat\")\n",
    "summarize_date_and_format_counts(\"report\", \"receiptdate\", \"receiptdateformat\")\n",
    "summarize_date_and_format_counts(\"report\", \"transmissiondate\", \"transmissiondateformat\")\n",
    "\n",
    "# Drug table\n",
    "summarize_date_and_format_counts(\"drug\", \"drugstartdate\", \"drugstartdateformat\")\n",
    "summarize_date_and_format_counts(\"drug\", \"drugenddate\", \"drugenddateformat\")"
   ]
  },
  {
   "cell_type": "code",
   "execution_count": 60,
   "id": "27527e6f",
   "metadata": {},
   "outputs": [
    {
     "name": "stdout",
     "output_type": "stream",
     "text": [
      "🔍 Validating drugstartdate consistency with drugstartdateformat\n",
      "\n",
      "Format 602: 0 incorrectly padded (expected '0101' ending)\n",
      "Format 610: 0 incorrectly padded (expected '01' ending)\n",
      "Format 102: 0 with unexpected length (should be 8 digits)\n",
      "\n",
      "🔍 Validating drugenddate consistency with drugenddateformat\n",
      "\n",
      "Format 602: 0 incorrectly padded (expected '0101' ending)\n",
      "Format 610: 0 incorrectly padded (expected '01' ending)\n",
      "Format 102: 0 with unexpected length (should be 8 digits)\n",
      "\n"
     ]
    }
   ],
   "source": [
    "def validate_drug_date_padding(date_column, format_column):\n",
    "    print(f\"🔍 Validating {date_column} consistency with {format_column}\\n\")\n",
    "\n",
    "    # Check for format 602: year only, should end with '0101'\n",
    "    query_602 = f\"\"\"\n",
    "    SELECT {date_column}\n",
    "    FROM drug\n",
    "    WHERE {format_column} = 602\n",
    "      AND SUBSTR({date_column}, -5) != '01-01'\n",
    "    \"\"\"\n",
    "    df_602 = pd.read_sql_query(query_602, conn)\n",
    "    print(f\"Format 602: {len(df_602)} incorrectly padded (expected '0101' ending)\")\n",
    "\n",
    "    # Check for format 610: year+month, should end with '01'\n",
    "    query_610 = f\"\"\"\n",
    "    SELECT {date_column}\n",
    "    FROM drug\n",
    "    WHERE {format_column} = 610\n",
    "      AND SUBSTR({date_column}, -2) != '01'\n",
    "    \"\"\"\n",
    "    df_610 = pd.read_sql_query(query_610, conn)\n",
    "    print(f\"Format 610: {len(df_610)} incorrectly padded (expected '01' ending)\")\n",
    "\n",
    "    # Check for format 102: full date, should be exactly 8 digits\n",
    "    query_102 = f\"\"\"\n",
    "    SELECT {date_column}\n",
    "    FROM drug\n",
    "    WHERE {format_column} = 102\n",
    "      AND LENGTH({date_column}) != 10\n",
    "    \"\"\"\n",
    "    df_102 = pd.read_sql_query(query_102, conn)\n",
    "    print(f\"Format 102: {len(df_102)} with unexpected length (should be 8 digits)\")\n",
    "\n",
    "    print()\n",
    "\n",
    "# Run for both date fields in drug table\n",
    "validate_drug_date_padding(\"drugstartdate\", \"drugstartdateformat\")\n",
    "validate_drug_date_padding(\"drugenddate\", \"drugenddateformat\")\n"
   ]
  },
  {
   "cell_type": "markdown",
   "id": "56cb70d0",
   "metadata": {},
   "source": [
    "## Categorical fields calidation"
   ]
  },
  {
   "cell_type": "code",
   "execution_count": 5,
   "id": "4a31cc78",
   "metadata": {},
   "outputs": [],
   "source": [
    "def validate_categorical_field(table, column, expected_codes=None, description=None):\n",
    "    print(f\"🔎 Checking values in {table}.{column}\")\n",
    "    if description:\n",
    "        print(f\"   → {description}\")\n",
    "    \n",
    "    query = f\"\"\"\n",
    "    SELECT {column} AS code, COUNT(*) AS count\n",
    "    FROM {table}\n",
    "    GROUP BY {column}\n",
    "    ORDER BY code;\n",
    "    \"\"\"\n",
    "    df = pd.read_sql_query(query, conn)\n",
    "    print(df.to_string(index=False))\n",
    "    \n",
    "    if expected_codes is not None:\n",
    "        found_codes = set(df[\"code\"].dropna())\n",
    "        expected_codes = set(expected_codes)\n",
    "        unexpected = found_codes - expected_codes\n",
    "        missing = expected_codes - found_codes\n",
    "\n",
    "        if unexpected:\n",
    "            print(f\"❌ Unexpected codes found: {sorted(unexpected)}\")\n",
    "        else:\n",
    "            print(\"✅ No unexpected codes.\")\n",
    "\n",
    "        if missing:\n",
    "            print(f\"⚠️ Expected codes missing: {sorted(missing)}\")\n",
    "        else:\n",
    "            print(\"✅ All expected codes present.\")\n",
    "    \n",
    "    print()\n"
   ]
  },
  {
   "cell_type": "code",
   "execution_count": 13,
   "id": "750152da",
   "metadata": {},
   "outputs": [
    {
     "name": "stdout",
     "output_type": "stream",
     "text": [
      "🔎 Checking values in patient_optional.patientagegroup\n",
      "   → 1–9 = Standard age groups (check codes)\n",
      " code  count\n",
      "  NaN  23805\n",
      "  1.0     47\n",
      "  2.0     50\n",
      "  3.0    392\n",
      "  4.0    390\n",
      "  5.0   6867\n",
      "  6.0   4449\n",
      "✅ No unexpected codes.\n",
      "⚠️ Expected codes missing: [7, 8, 9]\n",
      "\n",
      "🔎 Checking values in patient_optional.patientonsetageunit\n",
      "   → 801 = Years, 802 = Months, 803 = Days, 804 = Hours, 805 = Minutes, 806 = Seconds\n",
      " code  count\n",
      "  NaN  12456\n",
      "800.0    338\n",
      "801.0  22990\n",
      "802.0    112\n",
      "803.0      8\n",
      "804.0     94\n",
      "805.0      2\n",
      "✅ No unexpected codes.\n",
      "✅ All expected codes present.\n",
      "\n"
     ]
    }
   ],
   "source": [
    "categorical_fields = [\n",
    "    # {\n",
    "    #     \"table\": \"patient_optional\",\n",
    "    #     \"column\": \"patientsex\",\n",
    "    #     \"expected\": [0, 1, 2],\n",
    "    #     \"description\": \"0 = Unknown, 1 = Male, 2 = Female\"\n",
    "    # },\n",
    "    {\n",
    "        \"table\": \"patient_optional\",\n",
    "        \"column\": \"patientagegroup\",\n",
    "        \"expected\": list(range(1, 10)),  # placeholder; adjust based on MedDRA\n",
    "        \"description\": \"1–9 = Standard age groups (check codes)\"\n",
    "    },\n",
    "    # {\n",
    "    #     \"table\": \"reaction\",\n",
    "    #     \"column\": \"reactionoutcome\",\n",
    "    #     \"expected\": [1, 2, 3, 4, 5, 6],\n",
    "    #     \"description\": \"MedDRA outcome codes\"\n",
    "    # },\n",
    "    # {\n",
    "    #     \"table\": \"report\",\n",
    "    #     \"column\": \"seriousnessdeath\",\n",
    "    #     \"expected\": [1, 2],\n",
    "    #     \"description\": \"1 = Yes, 2 = No\"\n",
    "    # },\n",
    "    # {\n",
    "    #     \"table\": \"report\",\n",
    "    #     \"column\": \"seriousnesshospitalization\",\n",
    "    #     \"expected\": [1, 2],\n",
    "    #     \"description\": \"1 = Yes, 2 = No\"\n",
    "    # },\n",
    "    # {\n",
    "    #     \"table\": \"report\",\n",
    "    #     \"column\": \"seriousnesslifethreatening\",\n",
    "    #     \"expected\": [1, 2],\n",
    "    #     \"description\": \"1 = Yes, 2 = No\"\n",
    "    # },\n",
    "    # {\n",
    "    #     \"table\": \"report\",\n",
    "    #     \"column\": \"reporttype\",\n",
    "    #     \"expected\": [1, 2, 3, 4, 5],  # placeholder; adjust if needed\n",
    "    #     \"description\": \"Type of report (check OpenFDA spec)\"\n",
    "    # },\n",
    "    # {\n",
    "    #     \"table\": \"drug\",\n",
    "    #     \"column\": \"drugcharacterization\",\n",
    "    #     \"expected\": [1, 2, 3],\n",
    "    #     \"description\": \"1 = Suspect, 2 = Concomitant, 3 = Interacting\"\n",
    "    # },\n",
    "    # {\n",
    "    #     \"table\": \"drug_optional\",\n",
    "    #     \"column\": \"drugintervaldosagedefinition\",\n",
    "    #     \"expected\": [802, 803, 804],  # placeholder; update based on data\n",
    "    #     \"description\": \"Interval dosage definitions (802 = Daily, etc.)\"\n",
    "    # },\n",
    "    # {\n",
    "    #     \"table\": \"report\",\n",
    "    #     \"column\": \"safetyreportversion\",\n",
    "    #     \"expected\": [1, 2, 3],  # placeholder; adjust based on data\n",
    "    #     \"description\": \"Version of the safety report (check OpenFDA spec)\"\n",
    "    # }\n",
    "]\n",
    "\n",
    "categorical_fields = [\n",
    "    {\n",
    "        \"table\": \"patient_optional\",\n",
    "        \"column\": \"patientagegroup\",\n",
    "        \"expected\": list(range(1, 10)),  # placeholder; adjust based on MedDRA\n",
    "        \"description\": \"1–9 = Standard age groups (check codes)\"\n",
    "    },\n",
    "    {\n",
    "        \"table\": \"patient_optional\",\n",
    "        \"column\": \"patientonsetageunit\",\n",
    "        \"expected\": [800, 801, 802, 803, 804, 805],\n",
    "        \"description\": \"801 = Years, 802 = Months, 803 = Days, 804 = Hours, 805 = Minutes, 806 = Seconds\"\n",
    "    }\n",
    "]\n",
    "\n",
    "\n",
    "for field in categorical_fields:\n",
    "    validate_categorical_field(\n",
    "        table=field[\"table\"],\n",
    "        column=field[\"column\"],\n",
    "        expected_codes=field[\"expected\"],\n",
    "        description=field[\"description\"]\n",
    "    )\n"
   ]
  },
  {
   "cell_type": "markdown",
   "id": "b06ba52a",
   "metadata": {},
   "source": [
    "## Field sparsity"
   ]
  },
  {
   "cell_type": "code",
   "execution_count": 8,
   "id": "464f0500",
   "metadata": {},
   "outputs": [
    {
     "name": "stdout",
     "output_type": "stream",
     "text": [
      "📊 NULL summary for table: report\n"
     ]
    },
    {
     "data": {
      "text/plain": [
       "authoritynumb                   89.46\n",
       "duplicate                       67.46\n",
       "companynumb                     10.88\n",
       "occurcountry                     7.06\n",
       "seriousnesscongenitalanomali     3.59\n",
       "seriousnessdisabling             3.56\n",
       "seriousnessdeath                 3.27\n",
       "seriousnesslifethreatening       3.20\n",
       "seriousnesshospitalization       2.32\n",
       "seriousnessother                 2.18\n",
       "primarysource_qualification      0.61\n",
       "primarysourcecountry             0.40\n",
       "reporttype                       0.07\n",
       "Name: NULL %, dtype: float64"
      ]
     },
     "metadata": {},
     "output_type": "display_data"
    },
    {
     "name": "stdout",
     "output_type": "stream",
     "text": [
      "\n",
      "📊 NULL summary for table: reaction\n"
     ]
    },
    {
     "data": {
      "text/plain": [
       "reactionoutcome    3.07\n",
       "Name: NULL %, dtype: float64"
      ]
     },
     "metadata": {},
     "output_type": "display_data"
    },
    {
     "name": "stdout",
     "output_type": "stream",
     "text": [
      "\n",
      "📊 NULL summary for table: drug\n"
     ]
    },
    {
     "data": {
      "text/plain": [
       "drugenddate                87.74\n",
       "drugenddateformat          87.74\n",
       "drugstartdate              71.49\n",
       "drugstartdateformat        71.49\n",
       "drugauthorizationnumb      66.17\n",
       "drugdosageform             50.28\n",
       "drugindication             34.44\n",
       "drugadministrationroute    29.81\n",
       "drugdosagetext             28.23\n",
       "Name: NULL %, dtype: float64"
      ]
     },
     "metadata": {},
     "output_type": "display_data"
    },
    {
     "name": "stdout",
     "output_type": "stream",
     "text": [
      "\n",
      "📊 NULL summary for table: drug_optional\n"
     ]
    },
    {
     "data": {
      "text/plain": [
       "drugcumulativedosagenumb        97.61\n",
       "drugcumulativedosageunit        97.61\n",
       "drugrecurreadministration       92.82\n",
       "drugtreatmentduration           90.16\n",
       "drugtreatmentdurationunit       90.16\n",
       "drugbatchnumb                   77.77\n",
       "drugintervaldosagedefinition    75.74\n",
       "drugintervaldosageunitnumb      75.74\n",
       "drugseparatedosagenumb          72.06\n",
       "drugstructuredosageunit         55.95\n",
       "drugstructuredosagenumb         55.93\n",
       "drugadditional                  41.66\n",
       "actiondrug                      29.86\n",
       "Name: NULL %, dtype: float64"
      ]
     },
     "metadata": {},
     "output_type": "display_data"
    },
    {
     "name": "stdout",
     "output_type": "stream",
     "text": [
      "\n",
      "📊 NULL summary for table: drug_openfda\n"
     ]
    },
    {
     "data": {
      "text/plain": [
       "pharm_class_pe        91.29\n",
       "pharm_class_cs        81.41\n",
       "pharm_class_moa       57.39\n",
       "pharm_class_epc       43.46\n",
       "nui                   42.02\n",
       "rxcui                 25.08\n",
       "substance_name        16.51\n",
       "unii                  16.50\n",
       "route                 16.49\n",
       "application_number    16.33\n",
       "package_ndc           15.09\n",
       "manufacturer_name     15.09\n",
       "generic_name          15.09\n",
       "product_ndc           15.09\n",
       "product_type          15.09\n",
       "brand_name            15.09\n",
       "spl_id                15.09\n",
       "spl_set_id            15.09\n",
       "Name: NULL %, dtype: float64"
      ]
     },
     "metadata": {},
     "output_type": "display_data"
    },
    {
     "name": "stdout",
     "output_type": "stream",
     "text": [
      "\n",
      "📊 NULL summary for table: drug_activesubstance\n"
     ]
    },
    {
     "data": {
      "text/plain": [
       "Series([], Name: NULL %, dtype: float64)"
      ]
     },
     "metadata": {},
     "output_type": "display_data"
    },
    {
     "name": "stdout",
     "output_type": "stream",
     "text": [
      "\n",
      "📊 NULL summary for table: patient_optional\n"
     ]
    },
    {
     "data": {
      "text/plain": [
       "patientweight          80.90\n",
       "patientagegroup        66.12\n",
       "patientonsetage        34.61\n",
       "patientonsetageunit    34.60\n",
       "patientsex             14.01\n",
       "Name: NULL %, dtype: float64"
      ]
     },
     "metadata": {},
     "output_type": "display_data"
    },
    {
     "name": "stdout",
     "output_type": "stream",
     "text": [
      "\n",
      "📊 NULL summary for table: report_duplicate\n"
     ]
    },
    {
     "data": {
      "text/plain": [
       "duplicatesource    4.85\n",
       "duplicatenumb      0.01\n",
       "Name: NULL %, dtype: float64"
      ]
     },
     "metadata": {},
     "output_type": "display_data"
    },
    {
     "name": "stdout",
     "output_type": "stream",
     "text": [
      "\n",
      "📊 NULL summary for table: summary\n"
     ]
    },
    {
     "data": {
      "text/plain": [
       "Series([], Name: NULL %, dtype: float64)"
      ]
     },
     "metadata": {},
     "output_type": "display_data"
    },
    {
     "name": "stdout",
     "output_type": "stream",
     "text": [
      "\n",
      "📊 NULL summary for table: primarysource_literature_reference\n"
     ]
    },
    {
     "data": {
      "text/plain": [
       "Series([], Name: NULL %, dtype: float64)"
      ]
     },
     "metadata": {},
     "output_type": "display_data"
    },
    {
     "name": "stdout",
     "output_type": "stream",
     "text": [
      "\n"
     ]
    }
   ],
   "source": [
    "# Prepare a collector DataFrame\n",
    "all_nulls = []\n",
    "\n",
    "def summarize_null_ratios(table_name, limit=28):\n",
    "    print(f\"📊 NULL summary for table: {table_name}\")\n",
    "    df = pd.read_sql_query(f\"SELECT * FROM {table_name}\", conn)\n",
    "    null_ratios = df.isnull().mean().sort_values(ascending=False) * 100\n",
    "    null_ratios = null_ratios[null_ratios > 0].round(2)\n",
    "\n",
    "    display(null_ratios.head(limit).rename(\"NULL %\"))\n",
    "    \n",
    "    # Add to master summary\n",
    "    for col, pct in null_ratios.items():\n",
    "        all_nulls.append({\n",
    "            \"table\": table_name,\n",
    "            \"column\": col,\n",
    "            \"null_pct\": pct\n",
    "        })\n",
    "    print()\n",
    "\n",
    "# Loop over all key tables\n",
    "tables_to_check = [\n",
    "    \"report\",\n",
    "    \"reaction\",\n",
    "    \"drug\",\n",
    "    \"drug_optional\",\n",
    "    \"drug_openfda\",\n",
    "    \"drug_activesubstance\",\n",
    "    \"patient_optional\",\n",
    "    \"report_duplicate\",\n",
    "    \"summary\",\n",
    "    \"primarysource_literature_reference\"\n",
    "]\n",
    "\n",
    "for table in tables_to_check:\n",
    "    summarize_null_ratios(table)\n",
    "\n",
    "# Combine into DataFrame\n",
    "null_summary_df = pd.DataFrame(all_nulls)"
   ]
  },
  {
   "cell_type": "code",
   "execution_count": 91,
   "id": "3918c3f1",
   "metadata": {},
   "outputs": [
    {
     "name": "stdout",
     "output_type": "stream",
     "text": [
      "✅ Exported sparse fields to: reports/evaluation_results/sql_null_summary.csv\n"
     ]
    }
   ],
   "source": [
    "null_summary_df.to_csv(\"../../reports/evaluation_results/sql_null_summary.csv\", index=False)\n",
    "print(\"✅ Exported sparse fields to: reports/evaluation_results/sql_null_summary.csv\")"
   ]
  },
  {
   "cell_type": "code",
   "execution_count": 68,
   "id": "45353435",
   "metadata": {},
   "outputs": [],
   "source": [
    "from matplotlib import pyplot as plt\n",
    "\n",
    "# Collect nulls for all tables\n",
    "null_summary = []\n",
    "\n",
    "for table in tables_to_check:\n",
    "    df = pd.read_sql_query(f\"SELECT * FROM {table}\", conn)\n",
    "    null_ratios = df.isnull().mean() * 100\n",
    "    for col, pct in null_ratios.items():\n",
    "        if pct > 0:\n",
    "            null_summary.append({\n",
    "                \"table\": table,\n",
    "                \"column\": col,\n",
    "                \"null_pct\": round(pct, 2)\n",
    "            })\n",
    "\n",
    "null_df = pd.DataFrame(null_summary)\n"
   ]
  },
  {
   "cell_type": "code",
   "execution_count": 90,
   "id": "c40f4cbd",
   "metadata": {},
   "outputs": [],
   "source": [
    "# # Group NULLs by table\n",
    "# nulls_by_table = null_df.groupby(\"table\")\n",
    "\n",
    "# for table_name, group in nulls_by_table:\n",
    "#     group_sorted = group.sort_values(\"null_pct\", ascending=True)\n",
    "\n",
    "#     plt.figure(figsize=(8, 0.4 * len(group_sorted) + 1))\n",
    "#     plt.barh(\n",
    "#         y=group_sorted[\"column\"],\n",
    "#         width=group_sorted[\"null_pct\"]\n",
    "#     )\n",
    "#     plt.xlabel(\"% NULL\")\n",
    "#     plt.title(f\"{table_name}: NULL Percentage per Column\")\n",
    "#     plt.grid(axis=\"x\", linestyle=\"--\", alpha=0.5)\n",
    "#     plt.tight_layout()\n",
    "#     plt.show()"
   ]
  },
  {
   "cell_type": "code",
   "execution_count": 14,
   "id": "071650c6",
   "metadata": {},
   "outputs": [
    {
     "name": "stdout",
     "output_type": "stream",
     "text": [
      "Reports with duplicate info but no report_duplicate entry: 6134\n"
     ]
    }
   ],
   "source": [
    "query = \"\"\"\n",
    "SELECT COUNT(*)\n",
    "FROM report\n",
    "WHERE duplicate IS NOT NULL\n",
    "AND safetyreportid NOT IN (\n",
    "  SELECT safetyreportid FROM report_duplicate\n",
    ");\n",
    "\"\"\"\n",
    "cursor.execute(query)\n",
    "missing_duplicates = cursor.fetchone()[0]\n",
    "print(f\"Reports with duplicate info but no report_duplicate entry: {missing_duplicates}\")"
   ]
  },
  {
   "cell_type": "markdown",
   "id": "46f5c265",
   "metadata": {},
   "source": [
    "## IDs - drugs\n"
   ]
  },
  {
   "cell_type": "code",
   "execution_count": 96,
   "id": "5625c873",
   "metadata": {},
   "outputs": [
    {
     "name": "stdout",
     "output_type": "stream",
     "text": [
      "Total number of distinct drug names: 8223\n"
     ]
    }
   ],
   "source": [
    "query = \"\"\"\n",
    "SELECT COUNT(DISTINCT medicinalproduct) AS num_unique_drug_names\n",
    "FROM drug;\n",
    "\"\"\"\n",
    "\n",
    "cursor.execute(query)\n",
    "result = cursor.fetchone()[0]\n",
    "print(f\"Total number of distinct drug names: {result}\")\n"
   ]
  },
  {
   "cell_type": "code",
   "execution_count": 95,
   "id": "b1cce28b",
   "metadata": {},
   "outputs": [
    {
     "name": "stdout",
     "output_type": "stream",
     "text": [
      "(5722, 2)\n",
      "Top 20 drugs by number of unique active substances:\n"
     ]
    },
    {
     "data": {
      "application/vnd.microsoft.datawrangler.viewer.v0+json": {
       "columns": [
        {
         "name": "index",
         "rawType": "int64",
         "type": "integer"
        },
        {
         "name": "medicinalproduct",
         "rawType": "object",
         "type": "string"
        },
        {
         "name": "unique_substance_count",
         "rawType": "int64",
         "type": "integer"
        }
       ],
       "conversionMethod": "pd.DataFrame",
       "ref": "24af3535-e68a-4775-8094-d0f87c737c32",
       "rows": [
        [
         "0",
         "SARCLISA",
         "2"
        ],
        [
         "1",
         "RUCONEST",
         "2"
        ],
        [
         "2",
         "RASAGILINE",
         "2"
        ],
        [
         "3",
         "PRAMIPEXOLE",
         "2"
        ],
        [
         "4",
         "OXYCODONE",
         "2"
        ],
        [
         "5",
         "OXYBUTYNIN",
         "2"
        ],
        [
         "6",
         "OCTREOTIDE",
         "2"
        ],
        [
         "7",
         "NOREPINEPHRINE",
         "2"
        ],
        [
         "8",
         "LEVOTHYROXINE",
         "2"
        ],
        [
         "9",
         "LEUPROLIDE ACETATE",
         "2"
        ],
        [
         "10",
         "ESOMEPRAZOLE MAGNESIUM",
         "2"
        ],
        [
         "11",
         "CITALOPRAM",
         "2"
        ],
        [
         "12",
         "BETAXOLOL",
         "2"
        ],
        [
         "13",
         "ATOMOXETINE",
         "2"
        ],
        [
         "14",
         "ZZZQUIL NIGHTTIME SLEEP-AID",
         "1"
        ],
        [
         "15",
         "ZYVOX",
         "1"
        ],
        [
         "16",
         "ZYTIGA",
         "1"
        ],
        [
         "17",
         "ZYRTEC-D ALLERGY AND CONGESTION",
         "1"
        ],
        [
         "18",
         "ZYRTEC-D",
         "1"
        ],
        [
         "19",
         "ZYRTEC",
         "1"
        ],
        [
         "20",
         "ZYPREXA ZYDIS",
         "1"
        ],
        [
         "21",
         "ZYPREXA",
         "1"
        ],
        [
         "22",
         "ZYNRELEF",
         "1"
        ],
        [
         "23",
         "ZYMAR",
         "1"
        ],
        [
         "24",
         "ZYLOPRIM",
         "1"
        ],
        [
         "25",
         "ZYDONE",
         "1"
        ],
        [
         "26",
         "ZYDELIG",
         "1"
        ],
        [
         "27",
         "ZURZUVAE",
         "1"
        ],
        [
         "28",
         "ZULRESSO",
         "1"
        ],
        [
         "29",
         "ZUCLOPENTHIXOL HYDROCHLORIDE",
         "1"
        ],
        [
         "30",
         "ZUCLOPENTHIXOL DECANOATE",
         "1"
        ],
        [
         "31",
         "ZUCLOPENTHIXOL ACETATE",
         "1"
        ],
        [
         "32",
         "ZUCLOPENTHIXOL",
         "1"
        ],
        [
         "33",
         "ZUBSOLV",
         "1"
        ],
        [
         "34",
         "ZTALMY",
         "1"
        ],
        [
         "35",
         "ZOVIRAX",
         "1"
        ],
        [
         "36",
         "ZOTEPINE",
         "1"
        ],
        [
         "37",
         "ZOSYN",
         "1"
        ],
        [
         "38",
         "ZOSTRIX ORIGINAL STRENGTH",
         "1"
        ],
        [
         "39",
         "ZOSTRIX HP",
         "1"
        ],
        [
         "40",
         "ZORYVE",
         "1"
        ],
        [
         "41",
         "ZORTRESS",
         "1"
        ],
        [
         "42",
         "ZOPICLONE",
         "1"
        ],
        [
         "43",
         "ZONISAMIDE",
         "1"
        ],
        [
         "44",
         "ZONEGRAN",
         "1"
        ],
        [
         "45",
         "ZOMIG",
         "1"
        ],
        [
         "46",
         "ZOMETA",
         "1"
        ],
        [
         "47",
         "ZOLPIDEM TARTRATE",
         "1"
        ],
        [
         "48",
         "ZOLPIDEM",
         "1"
        ],
        [
         "49",
         "ZOLOFT",
         "1"
        ]
       ],
       "shape": {
        "columns": 2,
        "rows": 5722
       }
      },
      "text/html": [
       "<div>\n",
       "<style scoped>\n",
       "    .dataframe tbody tr th:only-of-type {\n",
       "        vertical-align: middle;\n",
       "    }\n",
       "\n",
       "    .dataframe tbody tr th {\n",
       "        vertical-align: top;\n",
       "    }\n",
       "\n",
       "    .dataframe thead th {\n",
       "        text-align: right;\n",
       "    }\n",
       "</style>\n",
       "<table border=\"1\" class=\"dataframe\">\n",
       "  <thead>\n",
       "    <tr style=\"text-align: right;\">\n",
       "      <th></th>\n",
       "      <th>medicinalproduct</th>\n",
       "      <th>unique_substance_count</th>\n",
       "    </tr>\n",
       "  </thead>\n",
       "  <tbody>\n",
       "    <tr>\n",
       "      <th>0</th>\n",
       "      <td>SARCLISA</td>\n",
       "      <td>2</td>\n",
       "    </tr>\n",
       "    <tr>\n",
       "      <th>1</th>\n",
       "      <td>RUCONEST</td>\n",
       "      <td>2</td>\n",
       "    </tr>\n",
       "    <tr>\n",
       "      <th>2</th>\n",
       "      <td>RASAGILINE</td>\n",
       "      <td>2</td>\n",
       "    </tr>\n",
       "    <tr>\n",
       "      <th>3</th>\n",
       "      <td>PRAMIPEXOLE</td>\n",
       "      <td>2</td>\n",
       "    </tr>\n",
       "    <tr>\n",
       "      <th>4</th>\n",
       "      <td>OXYCODONE</td>\n",
       "      <td>2</td>\n",
       "    </tr>\n",
       "    <tr>\n",
       "      <th>...</th>\n",
       "      <td>...</td>\n",
       "      <td>...</td>\n",
       "    </tr>\n",
       "    <tr>\n",
       "      <th>5717</th>\n",
       "      <td>.ALPHA.-TOCOPHEROL ACETATE, D-\\EVENING PRIMROS...</td>\n",
       "      <td>1</td>\n",
       "    </tr>\n",
       "    <tr>\n",
       "      <th>5718</th>\n",
       "      <td>.ALPHA.-TOCOPHEROL ACETATE, D-</td>\n",
       "      <td>1</td>\n",
       "    </tr>\n",
       "    <tr>\n",
       "      <th>5719</th>\n",
       "      <td>.ALPHA.-TOCOPHEROL ACETATE</td>\n",
       "      <td>1</td>\n",
       "    </tr>\n",
       "    <tr>\n",
       "      <th>5720</th>\n",
       "      <td>.ALPHA.-TOCOPHEROL</td>\n",
       "      <td>1</td>\n",
       "    </tr>\n",
       "    <tr>\n",
       "      <th>5721</th>\n",
       "      <td>.ALPHA.-PYRROLIDINOISOHEXANOPHENONE</td>\n",
       "      <td>1</td>\n",
       "    </tr>\n",
       "  </tbody>\n",
       "</table>\n",
       "<p>5722 rows × 2 columns</p>\n",
       "</div>"
      ],
      "text/plain": [
       "                                       medicinalproduct  \\\n",
       "0                                              SARCLISA   \n",
       "1                                              RUCONEST   \n",
       "2                                            RASAGILINE   \n",
       "3                                           PRAMIPEXOLE   \n",
       "4                                             OXYCODONE   \n",
       "...                                                 ...   \n",
       "5717  .ALPHA.-TOCOPHEROL ACETATE, D-\\EVENING PRIMROS...   \n",
       "5718                     .ALPHA.-TOCOPHEROL ACETATE, D-   \n",
       "5719                         .ALPHA.-TOCOPHEROL ACETATE   \n",
       "5720                                 .ALPHA.-TOCOPHEROL   \n",
       "5721                .ALPHA.-PYRROLIDINOISOHEXANOPHENONE   \n",
       "\n",
       "      unique_substance_count  \n",
       "0                          2  \n",
       "1                          2  \n",
       "2                          2  \n",
       "3                          2  \n",
       "4                          2  \n",
       "...                      ...  \n",
       "5717                       1  \n",
       "5718                       1  \n",
       "5719                       1  \n",
       "5720                       1  \n",
       "5721                       1  \n",
       "\n",
       "[5722 rows x 2 columns]"
      ]
     },
     "metadata": {},
     "output_type": "display_data"
    }
   ],
   "source": [
    "query = \"\"\"\n",
    "SELECT d.medicinalproduct, COUNT(DISTINCT a.activesubstancename) AS unique_substance_count\n",
    "FROM drug d\n",
    "JOIN drug_activesubstance a ON d.id = a.drug_id\n",
    "GROUP BY d.medicinalproduct\n",
    "ORDER BY unique_substance_count DESC;\n",
    "\"\"\"\n",
    "\n",
    "df = pd.read_sql_query(query, conn)\n",
    "print(df.shape)\n",
    "print(\"Top 20 drugs by number of unique active substances:\")\n",
    "display(df)\n"
   ]
  },
  {
   "cell_type": "code",
   "execution_count": 7,
   "id": "3a6ee7f2",
   "metadata": {},
   "outputs": [
    {
     "name": "stdout",
     "output_type": "stream",
     "text": [
      "Total number of distinct active substances: 3750\n"
     ]
    }
   ],
   "source": [
    "# distinct activesubstance names\n",
    "query = \"\"\"\n",
    "SELECT COUNT(DISTINCT activesubstancename) AS num_unique_substances\n",
    "FROM drug_activesubstance;\n",
    "\"\"\"\n",
    "cursor.execute(query)\n",
    "result = cursor.fetchone()[0]\n",
    "print(f\"Total number of distinct active substances: {result}\")\n"
   ]
  },
  {
   "cell_type": "code",
   "execution_count": 100,
   "id": "79beff3c",
   "metadata": {},
   "outputs": [
    {
     "name": "stdout",
     "output_type": "stream",
     "text": [
      "(5722, 2)\n",
      "Top 20 drugs by number of unique active substances:\n"
     ]
    },
    {
     "data": {
      "application/vnd.microsoft.datawrangler.viewer.v0+json": {
       "columns": [
        {
         "name": "index",
         "rawType": "int64",
         "type": "integer"
        },
        {
         "name": "medicinalproduct",
         "rawType": "object",
         "type": "string"
        },
        {
         "name": "unique_substance_count",
         "rawType": "int64",
         "type": "integer"
        }
       ],
       "conversionMethod": "pd.DataFrame",
       "ref": "31a3ab07-af41-4081-b1da-9c228a8e3f5d",
       "rows": [
        [
         "0",
         "SARCLISA",
         "2"
        ],
        [
         "1",
         "RUCONEST",
         "2"
        ],
        [
         "2",
         "RASAGILINE",
         "2"
        ],
        [
         "3",
         "PRAMIPEXOLE",
         "2"
        ],
        [
         "4",
         "OXYCODONE",
         "2"
        ],
        [
         "5",
         "OXYBUTYNIN",
         "2"
        ],
        [
         "6",
         "OCTREOTIDE",
         "2"
        ],
        [
         "7",
         "NOREPINEPHRINE",
         "2"
        ],
        [
         "8",
         "LEVOTHYROXINE",
         "2"
        ],
        [
         "9",
         "LEUPROLIDE ACETATE",
         "2"
        ],
        [
         "10",
         "ESOMEPRAZOLE MAGNESIUM",
         "2"
        ],
        [
         "11",
         "CITALOPRAM",
         "2"
        ],
        [
         "12",
         "BETAXOLOL",
         "2"
        ],
        [
         "13",
         "ATOMOXETINE",
         "2"
        ],
        [
         "14",
         "ZZZQUIL NIGHTTIME SLEEP-AID",
         "1"
        ],
        [
         "15",
         "ZYVOX",
         "1"
        ],
        [
         "16",
         "ZYTIGA",
         "1"
        ],
        [
         "17",
         "ZYRTEC-D ALLERGY AND CONGESTION",
         "1"
        ],
        [
         "18",
         "ZYRTEC-D",
         "1"
        ],
        [
         "19",
         "ZYRTEC",
         "1"
        ],
        [
         "20",
         "ZYPREXA ZYDIS",
         "1"
        ],
        [
         "21",
         "ZYPREXA",
         "1"
        ],
        [
         "22",
         "ZYNRELEF",
         "1"
        ],
        [
         "23",
         "ZYMAR",
         "1"
        ],
        [
         "24",
         "ZYLOPRIM",
         "1"
        ],
        [
         "25",
         "ZYDONE",
         "1"
        ],
        [
         "26",
         "ZYDELIG",
         "1"
        ],
        [
         "27",
         "ZURZUVAE",
         "1"
        ],
        [
         "28",
         "ZULRESSO",
         "1"
        ],
        [
         "29",
         "ZUCLOPENTHIXOL HYDROCHLORIDE",
         "1"
        ],
        [
         "30",
         "ZUCLOPENTHIXOL DECANOATE",
         "1"
        ],
        [
         "31",
         "ZUCLOPENTHIXOL ACETATE",
         "1"
        ],
        [
         "32",
         "ZUCLOPENTHIXOL",
         "1"
        ],
        [
         "33",
         "ZUBSOLV",
         "1"
        ],
        [
         "34",
         "ZTALMY",
         "1"
        ],
        [
         "35",
         "ZOVIRAX",
         "1"
        ],
        [
         "36",
         "ZOTEPINE",
         "1"
        ],
        [
         "37",
         "ZOSYN",
         "1"
        ],
        [
         "38",
         "ZOSTRIX ORIGINAL STRENGTH",
         "1"
        ],
        [
         "39",
         "ZOSTRIX HP",
         "1"
        ],
        [
         "40",
         "ZORYVE",
         "1"
        ],
        [
         "41",
         "ZORTRESS",
         "1"
        ],
        [
         "42",
         "ZOPICLONE",
         "1"
        ],
        [
         "43",
         "ZONISAMIDE",
         "1"
        ],
        [
         "44",
         "ZONEGRAN",
         "1"
        ],
        [
         "45",
         "ZOMIG",
         "1"
        ],
        [
         "46",
         "ZOMETA",
         "1"
        ],
        [
         "47",
         "ZOLPIDEM TARTRATE",
         "1"
        ],
        [
         "48",
         "ZOLPIDEM",
         "1"
        ],
        [
         "49",
         "ZOLOFT",
         "1"
        ]
       ],
       "shape": {
        "columns": 2,
        "rows": 5722
       }
      },
      "text/html": [
       "<div>\n",
       "<style scoped>\n",
       "    .dataframe tbody tr th:only-of-type {\n",
       "        vertical-align: middle;\n",
       "    }\n",
       "\n",
       "    .dataframe tbody tr th {\n",
       "        vertical-align: top;\n",
       "    }\n",
       "\n",
       "    .dataframe thead th {\n",
       "        text-align: right;\n",
       "    }\n",
       "</style>\n",
       "<table border=\"1\" class=\"dataframe\">\n",
       "  <thead>\n",
       "    <tr style=\"text-align: right;\">\n",
       "      <th></th>\n",
       "      <th>medicinalproduct</th>\n",
       "      <th>unique_substance_count</th>\n",
       "    </tr>\n",
       "  </thead>\n",
       "  <tbody>\n",
       "    <tr>\n",
       "      <th>0</th>\n",
       "      <td>SARCLISA</td>\n",
       "      <td>2</td>\n",
       "    </tr>\n",
       "    <tr>\n",
       "      <th>1</th>\n",
       "      <td>RUCONEST</td>\n",
       "      <td>2</td>\n",
       "    </tr>\n",
       "    <tr>\n",
       "      <th>2</th>\n",
       "      <td>RASAGILINE</td>\n",
       "      <td>2</td>\n",
       "    </tr>\n",
       "    <tr>\n",
       "      <th>3</th>\n",
       "      <td>PRAMIPEXOLE</td>\n",
       "      <td>2</td>\n",
       "    </tr>\n",
       "    <tr>\n",
       "      <th>4</th>\n",
       "      <td>OXYCODONE</td>\n",
       "      <td>2</td>\n",
       "    </tr>\n",
       "    <tr>\n",
       "      <th>...</th>\n",
       "      <td>...</td>\n",
       "      <td>...</td>\n",
       "    </tr>\n",
       "    <tr>\n",
       "      <th>5717</th>\n",
       "      <td>.ALPHA.-TOCOPHEROL ACETATE, D-\\EVENING PRIMROS...</td>\n",
       "      <td>1</td>\n",
       "    </tr>\n",
       "    <tr>\n",
       "      <th>5718</th>\n",
       "      <td>.ALPHA.-TOCOPHEROL ACETATE, D-</td>\n",
       "      <td>1</td>\n",
       "    </tr>\n",
       "    <tr>\n",
       "      <th>5719</th>\n",
       "      <td>.ALPHA.-TOCOPHEROL ACETATE</td>\n",
       "      <td>1</td>\n",
       "    </tr>\n",
       "    <tr>\n",
       "      <th>5720</th>\n",
       "      <td>.ALPHA.-TOCOPHEROL</td>\n",
       "      <td>1</td>\n",
       "    </tr>\n",
       "    <tr>\n",
       "      <th>5721</th>\n",
       "      <td>.ALPHA.-PYRROLIDINOISOHEXANOPHENONE</td>\n",
       "      <td>1</td>\n",
       "    </tr>\n",
       "  </tbody>\n",
       "</table>\n",
       "<p>5722 rows × 2 columns</p>\n",
       "</div>"
      ],
      "text/plain": [
       "                                       medicinalproduct  \\\n",
       "0                                              SARCLISA   \n",
       "1                                              RUCONEST   \n",
       "2                                            RASAGILINE   \n",
       "3                                           PRAMIPEXOLE   \n",
       "4                                             OXYCODONE   \n",
       "...                                                 ...   \n",
       "5717  .ALPHA.-TOCOPHEROL ACETATE, D-\\EVENING PRIMROS...   \n",
       "5718                     .ALPHA.-TOCOPHEROL ACETATE, D-   \n",
       "5719                         .ALPHA.-TOCOPHEROL ACETATE   \n",
       "5720                                 .ALPHA.-TOCOPHEROL   \n",
       "5721                .ALPHA.-PYRROLIDINOISOHEXANOPHENONE   \n",
       "\n",
       "      unique_substance_count  \n",
       "0                          2  \n",
       "1                          2  \n",
       "2                          2  \n",
       "3                          2  \n",
       "4                          2  \n",
       "...                      ...  \n",
       "5717                       1  \n",
       "5718                       1  \n",
       "5719                       1  \n",
       "5720                       1  \n",
       "5721                       1  \n",
       "\n",
       "[5722 rows x 2 columns]"
      ]
     },
     "metadata": {},
     "output_type": "display_data"
    }
   ],
   "source": [
    "query = \"\"\"\n",
    "SELECT d.medicinalproduct, COUNT(DISTINCT a.activesubstancename) AS unique_substance_count\n",
    "FROM drug d\n",
    "JOIN drug_activesubstance a ON d.id = a.drug_id\n",
    "GROUP BY d.medicinalproduct\n",
    "ORDER BY unique_substance_count DESC;\n",
    "\"\"\"\n",
    "\n",
    "df = pd.read_sql_query(query, conn)\n",
    "print(df.shape)\n",
    "print(\"Top 20 drugs by number of unique active substances:\")\n",
    "display(df)"
   ]
  },
  {
   "cell_type": "code",
   "execution_count": 104,
   "id": "661e4894",
   "metadata": {},
   "outputs": [
    {
     "data": {
      "application/vnd.microsoft.datawrangler.viewer.v0+json": {
       "columns": [
        {
         "name": "index",
         "rawType": "int64",
         "type": "integer"
        },
        {
         "name": "medicinalproduct",
         "rawType": "object",
         "type": "string"
        },
        {
         "name": "substance_count",
         "rawType": "int64",
         "type": "integer"
        },
        {
         "name": "substances",
         "rawType": "object",
         "type": "string"
        }
       ],
       "conversionMethod": "pd.DataFrame",
       "ref": "930af8f2-39f3-4cf2-9a4e-6e2cee0b0b8b",
       "rows": [
        [
         "0",
         "SARCLISA",
         "2",
         "ISATUXIMAB\\ISATUXIMAB-IRFC, ISATUXIMAB-IRFC"
        ],
        [
         "1",
         "RUCONEST",
         "2",
         "CONESTAT ALFA, HUMAN C1-ESTERASE INHIBITOR"
        ],
        [
         "2",
         "RASAGILINE",
         "2",
         "RASAGILINE\\RASAGILINE MESYLATE, RASAGILINE"
        ],
        [
         "3",
         "PRAMIPEXOLE",
         "2",
         "PRAMIPEXOLE\\PRAMIPEXOLE DIHYDROCHLORIDE, PRAMIPEXOLE"
        ],
        [
         "4",
         "OXYCODONE",
         "2",
         "OXYCODONE\\OXYCODONE HYDROCHLORIDE, OXYCODONE"
        ],
        [
         "5",
         "OXYBUTYNIN",
         "2",
         "OXYBUTYNIN\\OXYBUTYNIN CHLORIDE, OXYBUTYNIN"
        ],
        [
         "6",
         "OCTREOTIDE",
         "2",
         "OCTREOTIDE\\OCTREOTIDE ACETATE, OCTREOTIDE"
        ],
        [
         "7",
         "NOREPINEPHRINE",
         "2",
         "NOREPINEPHRINE, NOREPINEPHRINE\\NOREPINEPHRINE BITARTRATE"
        ],
        [
         "8",
         "LEVOTHYROXINE",
         "2",
         "LEVOTHYROXINE\\LEVOTHYROXINE SODIUM, LEVOTHYROXINE"
        ],
        [
         "9",
         "LEUPROLIDE ACETATE",
         "2",
         "LEUPROLIDE ACETATE, ISOPROPYL ALCOHOL\\LEUPROLIDE ACETATE"
        ],
        [
         "10",
         "ESOMEPRAZOLE MAGNESIUM",
         "2",
         "ESOMEPRAZOLE MAGNESIUM, ESOMEPRAZOLE\\ESOMEPRAZOLE MAGNESIUM\\ESOMEPRAZOLE MAGNESIUM DIHYDRATE"
        ],
        [
         "11",
         "CITALOPRAM",
         "2",
         "CITALOPRAM HYDROBROMIDE, CITALOPRAM\\CITALOPRAM HYDROBROMIDE"
        ],
        [
         "12",
         "BETAXOLOL",
         "2",
         "BETAXOLOL, BETAXOLOL\\BETAXOLOL HYDROCHLORIDE"
        ],
        [
         "13",
         "ATOMOXETINE",
         "2",
         "ATOMOXETINE\\ATOMOXETINE HYDROCHLORIDE, ATOMOXETINE"
        ],
        [
         "14",
         "ZZZQUIL NIGHTTIME SLEEP-AID",
         "1",
         "DIPHENHYDRAMINE HYDROCHLORIDE"
        ],
        [
         "15",
         "ZYVOX",
         "1",
         "LINEZOLID"
        ],
        [
         "16",
         "ZYTIGA",
         "1",
         "ABIRATERONE ACETATE"
        ],
        [
         "17",
         "ZYRTEC-D ALLERGY AND CONGESTION",
         "1",
         "CETIRIZINE HYDROCHLORIDE\\PSEUDOEPHEDRINE HYDROCHLORIDE"
        ],
        [
         "18",
         "ZYRTEC-D",
         "1",
         "CETIRIZINE HYDROCHLORIDE\\PSEUDOEPHEDRINE HYDROCHLORIDE"
        ],
        [
         "19",
         "ZYRTEC",
         "1",
         "CETIRIZINE HYDROCHLORIDE"
        ],
        [
         "20",
         "ZYPREXA ZYDIS",
         "1",
         "OLANZAPINE"
        ],
        [
         "21",
         "ZYPREXA",
         "1",
         "OLANZAPINE"
        ],
        [
         "22",
         "ZYNRELEF",
         "1",
         "BUPIVACAINE\\MELOXICAM"
        ],
        [
         "23",
         "ZYMAR",
         "1",
         "GATIFLOXACIN"
        ],
        [
         "24",
         "ZYLOPRIM",
         "1",
         "ALLOPURINOL"
        ],
        [
         "25",
         "ZYDONE",
         "1",
         "ACETAMINOPHEN\\HYDROCODONE BITARTRATE"
        ],
        [
         "26",
         "ZYDELIG",
         "1",
         "IDELALISIB"
        ],
        [
         "27",
         "ZURZUVAE",
         "1",
         "ZURANOLONE"
        ],
        [
         "28",
         "ZULRESSO",
         "1",
         "BREXANOLONE"
        ],
        [
         "29",
         "ZUCLOPENTHIXOL HYDROCHLORIDE",
         "1",
         "ZUCLOPENTHIXOL HYDROCHLORIDE"
        ],
        [
         "30",
         "ZUCLOPENTHIXOL DECANOATE",
         "1",
         "ZUCLOPENTHIXOL DECANOATE"
        ],
        [
         "31",
         "ZUCLOPENTHIXOL ACETATE",
         "1",
         "ZUCLOPENTHIXOL ACETATE"
        ],
        [
         "32",
         "ZUCLOPENTHIXOL",
         "1",
         "ZUCLOPENTHIXOL"
        ],
        [
         "33",
         "ZUBSOLV",
         "1",
         "BUPRENORPHINE HYDROCHLORIDE\\NALOXONE HYDROCHLORIDE"
        ],
        [
         "34",
         "ZTALMY",
         "1",
         "GANAXOLONE"
        ],
        [
         "35",
         "ZOVIRAX",
         "1",
         "ACYCLOVIR"
        ],
        [
         "36",
         "ZOTEPINE",
         "1",
         "ZOTEPINE"
        ],
        [
         "37",
         "ZOSYN",
         "1",
         "PIPERACILLIN SODIUM\\TAZOBACTAM SODIUM"
        ],
        [
         "38",
         "ZOSTRIX ORIGINAL STRENGTH",
         "1",
         "CAPSAICIN"
        ],
        [
         "39",
         "ZOSTRIX HP",
         "1",
         "CAPSAICIN"
        ],
        [
         "40",
         "ZORYVE",
         "1",
         "ROFLUMILAST"
        ],
        [
         "41",
         "ZORTRESS",
         "1",
         "EVEROLIMUS"
        ],
        [
         "42",
         "ZOPICLONE",
         "1",
         "ZOPICLONE"
        ],
        [
         "43",
         "ZONISAMIDE",
         "1",
         "ZONISAMIDE"
        ],
        [
         "44",
         "ZONEGRAN",
         "1",
         "ZONISAMIDE"
        ],
        [
         "45",
         "ZOMIG",
         "1",
         "ZOLMITRIPTAN"
        ],
        [
         "46",
         "ZOMETA",
         "1",
         "ZOLEDRONIC ACID"
        ],
        [
         "47",
         "ZOLPIDEM TARTRATE",
         "1",
         "ZOLPIDEM TARTRATE"
        ],
        [
         "48",
         "ZOLPIDEM",
         "1",
         "ZOLPIDEM TARTRATE"
        ],
        [
         "49",
         "ZOLOFT",
         "1",
         "SERTRALINE HYDROCHLORIDE"
        ]
       ],
       "shape": {
        "columns": 3,
        "rows": 50
       }
      },
      "text/html": [
       "<div>\n",
       "<style scoped>\n",
       "    .dataframe tbody tr th:only-of-type {\n",
       "        vertical-align: middle;\n",
       "    }\n",
       "\n",
       "    .dataframe tbody tr th {\n",
       "        vertical-align: top;\n",
       "    }\n",
       "\n",
       "    .dataframe thead th {\n",
       "        text-align: right;\n",
       "    }\n",
       "</style>\n",
       "<table border=\"1\" class=\"dataframe\">\n",
       "  <thead>\n",
       "    <tr style=\"text-align: right;\">\n",
       "      <th></th>\n",
       "      <th>medicinalproduct</th>\n",
       "      <th>substance_count</th>\n",
       "      <th>substances</th>\n",
       "    </tr>\n",
       "  </thead>\n",
       "  <tbody>\n",
       "    <tr>\n",
       "      <th>0</th>\n",
       "      <td>SARCLISA</td>\n",
       "      <td>2</td>\n",
       "      <td>ISATUXIMAB\\ISATUXIMAB-IRFC, ISATUXIMAB-IRFC</td>\n",
       "    </tr>\n",
       "    <tr>\n",
       "      <th>1</th>\n",
       "      <td>RUCONEST</td>\n",
       "      <td>2</td>\n",
       "      <td>CONESTAT ALFA, HUMAN C1-ESTERASE INHIBITOR</td>\n",
       "    </tr>\n",
       "    <tr>\n",
       "      <th>2</th>\n",
       "      <td>RASAGILINE</td>\n",
       "      <td>2</td>\n",
       "      <td>RASAGILINE\\RASAGILINE MESYLATE, RASAGILINE</td>\n",
       "    </tr>\n",
       "    <tr>\n",
       "      <th>3</th>\n",
       "      <td>PRAMIPEXOLE</td>\n",
       "      <td>2</td>\n",
       "      <td>PRAMIPEXOLE\\PRAMIPEXOLE DIHYDROCHLORIDE, PRAMI...</td>\n",
       "    </tr>\n",
       "    <tr>\n",
       "      <th>4</th>\n",
       "      <td>OXYCODONE</td>\n",
       "      <td>2</td>\n",
       "      <td>OXYCODONE\\OXYCODONE HYDROCHLORIDE, OXYCODONE</td>\n",
       "    </tr>\n",
       "    <tr>\n",
       "      <th>5</th>\n",
       "      <td>OXYBUTYNIN</td>\n",
       "      <td>2</td>\n",
       "      <td>OXYBUTYNIN\\OXYBUTYNIN CHLORIDE, OXYBUTYNIN</td>\n",
       "    </tr>\n",
       "    <tr>\n",
       "      <th>6</th>\n",
       "      <td>OCTREOTIDE</td>\n",
       "      <td>2</td>\n",
       "      <td>OCTREOTIDE\\OCTREOTIDE ACETATE, OCTREOTIDE</td>\n",
       "    </tr>\n",
       "    <tr>\n",
       "      <th>7</th>\n",
       "      <td>NOREPINEPHRINE</td>\n",
       "      <td>2</td>\n",
       "      <td>NOREPINEPHRINE, NOREPINEPHRINE\\NOREPINEPHRINE ...</td>\n",
       "    </tr>\n",
       "    <tr>\n",
       "      <th>8</th>\n",
       "      <td>LEVOTHYROXINE</td>\n",
       "      <td>2</td>\n",
       "      <td>LEVOTHYROXINE\\LEVOTHYROXINE SODIUM, LEVOTHYROXINE</td>\n",
       "    </tr>\n",
       "    <tr>\n",
       "      <th>9</th>\n",
       "      <td>LEUPROLIDE ACETATE</td>\n",
       "      <td>2</td>\n",
       "      <td>LEUPROLIDE ACETATE, ISOPROPYL ALCOHOL\\LEUPROLI...</td>\n",
       "    </tr>\n",
       "    <tr>\n",
       "      <th>10</th>\n",
       "      <td>ESOMEPRAZOLE MAGNESIUM</td>\n",
       "      <td>2</td>\n",
       "      <td>ESOMEPRAZOLE MAGNESIUM, ESOMEPRAZOLE\\ESOMEPRAZ...</td>\n",
       "    </tr>\n",
       "    <tr>\n",
       "      <th>11</th>\n",
       "      <td>CITALOPRAM</td>\n",
       "      <td>2</td>\n",
       "      <td>CITALOPRAM HYDROBROMIDE, CITALOPRAM\\CITALOPRAM...</td>\n",
       "    </tr>\n",
       "    <tr>\n",
       "      <th>12</th>\n",
       "      <td>BETAXOLOL</td>\n",
       "      <td>2</td>\n",
       "      <td>BETAXOLOL, BETAXOLOL\\BETAXOLOL HYDROCHLORIDE</td>\n",
       "    </tr>\n",
       "    <tr>\n",
       "      <th>13</th>\n",
       "      <td>ATOMOXETINE</td>\n",
       "      <td>2</td>\n",
       "      <td>ATOMOXETINE\\ATOMOXETINE HYDROCHLORIDE, ATOMOXE...</td>\n",
       "    </tr>\n",
       "    <tr>\n",
       "      <th>14</th>\n",
       "      <td>ZZZQUIL NIGHTTIME SLEEP-AID</td>\n",
       "      <td>1</td>\n",
       "      <td>DIPHENHYDRAMINE HYDROCHLORIDE</td>\n",
       "    </tr>\n",
       "    <tr>\n",
       "      <th>15</th>\n",
       "      <td>ZYVOX</td>\n",
       "      <td>1</td>\n",
       "      <td>LINEZOLID</td>\n",
       "    </tr>\n",
       "    <tr>\n",
       "      <th>16</th>\n",
       "      <td>ZYTIGA</td>\n",
       "      <td>1</td>\n",
       "      <td>ABIRATERONE ACETATE</td>\n",
       "    </tr>\n",
       "    <tr>\n",
       "      <th>17</th>\n",
       "      <td>ZYRTEC-D ALLERGY AND CONGESTION</td>\n",
       "      <td>1</td>\n",
       "      <td>CETIRIZINE HYDROCHLORIDE\\PSEUDOEPHEDRINE HYDRO...</td>\n",
       "    </tr>\n",
       "    <tr>\n",
       "      <th>18</th>\n",
       "      <td>ZYRTEC-D</td>\n",
       "      <td>1</td>\n",
       "      <td>CETIRIZINE HYDROCHLORIDE\\PSEUDOEPHEDRINE HYDRO...</td>\n",
       "    </tr>\n",
       "    <tr>\n",
       "      <th>19</th>\n",
       "      <td>ZYRTEC</td>\n",
       "      <td>1</td>\n",
       "      <td>CETIRIZINE HYDROCHLORIDE</td>\n",
       "    </tr>\n",
       "    <tr>\n",
       "      <th>20</th>\n",
       "      <td>ZYPREXA ZYDIS</td>\n",
       "      <td>1</td>\n",
       "      <td>OLANZAPINE</td>\n",
       "    </tr>\n",
       "    <tr>\n",
       "      <th>21</th>\n",
       "      <td>ZYPREXA</td>\n",
       "      <td>1</td>\n",
       "      <td>OLANZAPINE</td>\n",
       "    </tr>\n",
       "    <tr>\n",
       "      <th>22</th>\n",
       "      <td>ZYNRELEF</td>\n",
       "      <td>1</td>\n",
       "      <td>BUPIVACAINE\\MELOXICAM</td>\n",
       "    </tr>\n",
       "    <tr>\n",
       "      <th>23</th>\n",
       "      <td>ZYMAR</td>\n",
       "      <td>1</td>\n",
       "      <td>GATIFLOXACIN</td>\n",
       "    </tr>\n",
       "    <tr>\n",
       "      <th>24</th>\n",
       "      <td>ZYLOPRIM</td>\n",
       "      <td>1</td>\n",
       "      <td>ALLOPURINOL</td>\n",
       "    </tr>\n",
       "    <tr>\n",
       "      <th>25</th>\n",
       "      <td>ZYDONE</td>\n",
       "      <td>1</td>\n",
       "      <td>ACETAMINOPHEN\\HYDROCODONE BITARTRATE</td>\n",
       "    </tr>\n",
       "    <tr>\n",
       "      <th>26</th>\n",
       "      <td>ZYDELIG</td>\n",
       "      <td>1</td>\n",
       "      <td>IDELALISIB</td>\n",
       "    </tr>\n",
       "    <tr>\n",
       "      <th>27</th>\n",
       "      <td>ZURZUVAE</td>\n",
       "      <td>1</td>\n",
       "      <td>ZURANOLONE</td>\n",
       "    </tr>\n",
       "    <tr>\n",
       "      <th>28</th>\n",
       "      <td>ZULRESSO</td>\n",
       "      <td>1</td>\n",
       "      <td>BREXANOLONE</td>\n",
       "    </tr>\n",
       "    <tr>\n",
       "      <th>29</th>\n",
       "      <td>ZUCLOPENTHIXOL HYDROCHLORIDE</td>\n",
       "      <td>1</td>\n",
       "      <td>ZUCLOPENTHIXOL HYDROCHLORIDE</td>\n",
       "    </tr>\n",
       "    <tr>\n",
       "      <th>30</th>\n",
       "      <td>ZUCLOPENTHIXOL DECANOATE</td>\n",
       "      <td>1</td>\n",
       "      <td>ZUCLOPENTHIXOL DECANOATE</td>\n",
       "    </tr>\n",
       "    <tr>\n",
       "      <th>31</th>\n",
       "      <td>ZUCLOPENTHIXOL ACETATE</td>\n",
       "      <td>1</td>\n",
       "      <td>ZUCLOPENTHIXOL ACETATE</td>\n",
       "    </tr>\n",
       "    <tr>\n",
       "      <th>32</th>\n",
       "      <td>ZUCLOPENTHIXOL</td>\n",
       "      <td>1</td>\n",
       "      <td>ZUCLOPENTHIXOL</td>\n",
       "    </tr>\n",
       "    <tr>\n",
       "      <th>33</th>\n",
       "      <td>ZUBSOLV</td>\n",
       "      <td>1</td>\n",
       "      <td>BUPRENORPHINE HYDROCHLORIDE\\NALOXONE HYDROCHLO...</td>\n",
       "    </tr>\n",
       "    <tr>\n",
       "      <th>34</th>\n",
       "      <td>ZTALMY</td>\n",
       "      <td>1</td>\n",
       "      <td>GANAXOLONE</td>\n",
       "    </tr>\n",
       "    <tr>\n",
       "      <th>35</th>\n",
       "      <td>ZOVIRAX</td>\n",
       "      <td>1</td>\n",
       "      <td>ACYCLOVIR</td>\n",
       "    </tr>\n",
       "    <tr>\n",
       "      <th>36</th>\n",
       "      <td>ZOTEPINE</td>\n",
       "      <td>1</td>\n",
       "      <td>ZOTEPINE</td>\n",
       "    </tr>\n",
       "    <tr>\n",
       "      <th>37</th>\n",
       "      <td>ZOSYN</td>\n",
       "      <td>1</td>\n",
       "      <td>PIPERACILLIN SODIUM\\TAZOBACTAM SODIUM</td>\n",
       "    </tr>\n",
       "    <tr>\n",
       "      <th>38</th>\n",
       "      <td>ZOSTRIX ORIGINAL STRENGTH</td>\n",
       "      <td>1</td>\n",
       "      <td>CAPSAICIN</td>\n",
       "    </tr>\n",
       "    <tr>\n",
       "      <th>39</th>\n",
       "      <td>ZOSTRIX HP</td>\n",
       "      <td>1</td>\n",
       "      <td>CAPSAICIN</td>\n",
       "    </tr>\n",
       "    <tr>\n",
       "      <th>40</th>\n",
       "      <td>ZORYVE</td>\n",
       "      <td>1</td>\n",
       "      <td>ROFLUMILAST</td>\n",
       "    </tr>\n",
       "    <tr>\n",
       "      <th>41</th>\n",
       "      <td>ZORTRESS</td>\n",
       "      <td>1</td>\n",
       "      <td>EVEROLIMUS</td>\n",
       "    </tr>\n",
       "    <tr>\n",
       "      <th>42</th>\n",
       "      <td>ZOPICLONE</td>\n",
       "      <td>1</td>\n",
       "      <td>ZOPICLONE</td>\n",
       "    </tr>\n",
       "    <tr>\n",
       "      <th>43</th>\n",
       "      <td>ZONISAMIDE</td>\n",
       "      <td>1</td>\n",
       "      <td>ZONISAMIDE</td>\n",
       "    </tr>\n",
       "    <tr>\n",
       "      <th>44</th>\n",
       "      <td>ZONEGRAN</td>\n",
       "      <td>1</td>\n",
       "      <td>ZONISAMIDE</td>\n",
       "    </tr>\n",
       "    <tr>\n",
       "      <th>45</th>\n",
       "      <td>ZOMIG</td>\n",
       "      <td>1</td>\n",
       "      <td>ZOLMITRIPTAN</td>\n",
       "    </tr>\n",
       "    <tr>\n",
       "      <th>46</th>\n",
       "      <td>ZOMETA</td>\n",
       "      <td>1</td>\n",
       "      <td>ZOLEDRONIC ACID</td>\n",
       "    </tr>\n",
       "    <tr>\n",
       "      <th>47</th>\n",
       "      <td>ZOLPIDEM TARTRATE</td>\n",
       "      <td>1</td>\n",
       "      <td>ZOLPIDEM TARTRATE</td>\n",
       "    </tr>\n",
       "    <tr>\n",
       "      <th>48</th>\n",
       "      <td>ZOLPIDEM</td>\n",
       "      <td>1</td>\n",
       "      <td>ZOLPIDEM TARTRATE</td>\n",
       "    </tr>\n",
       "    <tr>\n",
       "      <th>49</th>\n",
       "      <td>ZOLOFT</td>\n",
       "      <td>1</td>\n",
       "      <td>SERTRALINE HYDROCHLORIDE</td>\n",
       "    </tr>\n",
       "  </tbody>\n",
       "</table>\n",
       "</div>"
      ],
      "text/plain": [
       "                   medicinalproduct  substance_count  \\\n",
       "0                          SARCLISA                2   \n",
       "1                          RUCONEST                2   \n",
       "2                        RASAGILINE                2   \n",
       "3                       PRAMIPEXOLE                2   \n",
       "4                         OXYCODONE                2   \n",
       "5                        OXYBUTYNIN                2   \n",
       "6                        OCTREOTIDE                2   \n",
       "7                    NOREPINEPHRINE                2   \n",
       "8                     LEVOTHYROXINE                2   \n",
       "9                LEUPROLIDE ACETATE                2   \n",
       "10           ESOMEPRAZOLE MAGNESIUM                2   \n",
       "11                       CITALOPRAM                2   \n",
       "12                        BETAXOLOL                2   \n",
       "13                      ATOMOXETINE                2   \n",
       "14      ZZZQUIL NIGHTTIME SLEEP-AID                1   \n",
       "15                            ZYVOX                1   \n",
       "16                           ZYTIGA                1   \n",
       "17  ZYRTEC-D ALLERGY AND CONGESTION                1   \n",
       "18                         ZYRTEC-D                1   \n",
       "19                           ZYRTEC                1   \n",
       "20                    ZYPREXA ZYDIS                1   \n",
       "21                          ZYPREXA                1   \n",
       "22                         ZYNRELEF                1   \n",
       "23                            ZYMAR                1   \n",
       "24                         ZYLOPRIM                1   \n",
       "25                           ZYDONE                1   \n",
       "26                          ZYDELIG                1   \n",
       "27                         ZURZUVAE                1   \n",
       "28                         ZULRESSO                1   \n",
       "29     ZUCLOPENTHIXOL HYDROCHLORIDE                1   \n",
       "30         ZUCLOPENTHIXOL DECANOATE                1   \n",
       "31           ZUCLOPENTHIXOL ACETATE                1   \n",
       "32                   ZUCLOPENTHIXOL                1   \n",
       "33                          ZUBSOLV                1   \n",
       "34                           ZTALMY                1   \n",
       "35                          ZOVIRAX                1   \n",
       "36                         ZOTEPINE                1   \n",
       "37                            ZOSYN                1   \n",
       "38        ZOSTRIX ORIGINAL STRENGTH                1   \n",
       "39                       ZOSTRIX HP                1   \n",
       "40                           ZORYVE                1   \n",
       "41                         ZORTRESS                1   \n",
       "42                        ZOPICLONE                1   \n",
       "43                       ZONISAMIDE                1   \n",
       "44                         ZONEGRAN                1   \n",
       "45                            ZOMIG                1   \n",
       "46                           ZOMETA                1   \n",
       "47                ZOLPIDEM TARTRATE                1   \n",
       "48                         ZOLPIDEM                1   \n",
       "49                           ZOLOFT                1   \n",
       "\n",
       "                                           substances  \n",
       "0         ISATUXIMAB\\ISATUXIMAB-IRFC, ISATUXIMAB-IRFC  \n",
       "1          CONESTAT ALFA, HUMAN C1-ESTERASE INHIBITOR  \n",
       "2          RASAGILINE\\RASAGILINE MESYLATE, RASAGILINE  \n",
       "3   PRAMIPEXOLE\\PRAMIPEXOLE DIHYDROCHLORIDE, PRAMI...  \n",
       "4        OXYCODONE\\OXYCODONE HYDROCHLORIDE, OXYCODONE  \n",
       "5          OXYBUTYNIN\\OXYBUTYNIN CHLORIDE, OXYBUTYNIN  \n",
       "6           OCTREOTIDE\\OCTREOTIDE ACETATE, OCTREOTIDE  \n",
       "7   NOREPINEPHRINE, NOREPINEPHRINE\\NOREPINEPHRINE ...  \n",
       "8   LEVOTHYROXINE\\LEVOTHYROXINE SODIUM, LEVOTHYROXINE  \n",
       "9   LEUPROLIDE ACETATE, ISOPROPYL ALCOHOL\\LEUPROLI...  \n",
       "10  ESOMEPRAZOLE MAGNESIUM, ESOMEPRAZOLE\\ESOMEPRAZ...  \n",
       "11  CITALOPRAM HYDROBROMIDE, CITALOPRAM\\CITALOPRAM...  \n",
       "12       BETAXOLOL, BETAXOLOL\\BETAXOLOL HYDROCHLORIDE  \n",
       "13  ATOMOXETINE\\ATOMOXETINE HYDROCHLORIDE, ATOMOXE...  \n",
       "14                      DIPHENHYDRAMINE HYDROCHLORIDE  \n",
       "15                                          LINEZOLID  \n",
       "16                                ABIRATERONE ACETATE  \n",
       "17  CETIRIZINE HYDROCHLORIDE\\PSEUDOEPHEDRINE HYDRO...  \n",
       "18  CETIRIZINE HYDROCHLORIDE\\PSEUDOEPHEDRINE HYDRO...  \n",
       "19                           CETIRIZINE HYDROCHLORIDE  \n",
       "20                                         OLANZAPINE  \n",
       "21                                         OLANZAPINE  \n",
       "22                              BUPIVACAINE\\MELOXICAM  \n",
       "23                                       GATIFLOXACIN  \n",
       "24                                        ALLOPURINOL  \n",
       "25               ACETAMINOPHEN\\HYDROCODONE BITARTRATE  \n",
       "26                                         IDELALISIB  \n",
       "27                                         ZURANOLONE  \n",
       "28                                        BREXANOLONE  \n",
       "29                       ZUCLOPENTHIXOL HYDROCHLORIDE  \n",
       "30                           ZUCLOPENTHIXOL DECANOATE  \n",
       "31                             ZUCLOPENTHIXOL ACETATE  \n",
       "32                                     ZUCLOPENTHIXOL  \n",
       "33  BUPRENORPHINE HYDROCHLORIDE\\NALOXONE HYDROCHLO...  \n",
       "34                                         GANAXOLONE  \n",
       "35                                          ACYCLOVIR  \n",
       "36                                           ZOTEPINE  \n",
       "37              PIPERACILLIN SODIUM\\TAZOBACTAM SODIUM  \n",
       "38                                          CAPSAICIN  \n",
       "39                                          CAPSAICIN  \n",
       "40                                        ROFLUMILAST  \n",
       "41                                         EVEROLIMUS  \n",
       "42                                          ZOPICLONE  \n",
       "43                                         ZONISAMIDE  \n",
       "44                                         ZONISAMIDE  \n",
       "45                                       ZOLMITRIPTAN  \n",
       "46                                    ZOLEDRONIC ACID  \n",
       "47                                  ZOLPIDEM TARTRATE  \n",
       "48                                  ZOLPIDEM TARTRATE  \n",
       "49                           SERTRALINE HYDROCHLORIDE  "
      ]
     },
     "metadata": {},
     "output_type": "display_data"
    }
   ],
   "source": [
    "query = \"\"\"\n",
    "SELECT d.medicinalproduct,\n",
    "       COUNT(DISTINCT a.activesubstancename) AS substance_count,\n",
    "       GROUP_CONCAT(DISTINCT a.activesubstancename) AS substances\n",
    "FROM drug d\n",
    "JOIN drug_activesubstance a ON d.id = a.drug_id\n",
    "WHERE d.medicinalproduct IS NOT NULL AND a.activesubstancename IS NOT NULL\n",
    "GROUP BY d.medicinalproduct\n",
    "ORDER BY substance_count DESC\n",
    "LIMIT 50;\n",
    "\"\"\"\n",
    "\n",
    "df = pd.read_sql_query(query, conn)\n",
    "df[\"substances\"] = df[\"substances\"].str.replace(\",\", \", \")\n",
    "display(df)\n"
   ]
  },
  {
   "cell_type": "code",
   "execution_count": 2,
   "id": "63ab39c7",
   "metadata": {},
   "outputs": [],
   "source": [
    "# Cleanup\n",
    "conn.close()\n"
   ]
  },
  {
   "cell_type": "code",
   "execution_count": null,
   "id": "97b046f6",
   "metadata": {},
   "outputs": [],
   "source": []
  }
 ],
 "metadata": {
  "kernelspec": {
   "display_name": "gen_ML",
   "language": "python",
   "name": "python3"
  },
  "language_info": {
   "codemirror_mode": {
    "name": "ipython",
    "version": 3
   },
   "file_extension": ".py",
   "mimetype": "text/x-python",
   "name": "python",
   "nbconvert_exporter": "python",
   "pygments_lexer": "ipython3",
   "version": "3.9.19"
  }
 },
 "nbformat": 4,
 "nbformat_minor": 5
}
