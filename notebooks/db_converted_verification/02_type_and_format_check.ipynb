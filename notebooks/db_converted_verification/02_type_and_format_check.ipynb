{
 "cells": [
  {
   "cell_type": "code",
   "execution_count": 7,
   "id": "bc419d7c",
   "metadata": {},
   "outputs": [],
   "source": [
    "# 02_type_and_format_check.ipynb\n",
    "\n",
    "# ✅ Notebook Goal:\n",
    "# Verify that numeric fields and date fields were properly converted\n",
    "# in both MongoDB and SQLite\n",
    "\n",
    "# --- MongoDB Setup ---\n",
    "import pymongo\n",
    "from pprint import pprint\n",
    "\n",
    "client = pymongo.MongoClient(\"mongodb://localhost:27017/\")\n",
    "db = client[\"openfda_converted\"]\n",
    "collection = db[\"full_reports\"]\n",
    "\n",
    "# --- SQLite Setup ---\n",
    "import sqlite3\n",
    "import pandas as pd\n",
    "import re\n",
    "\n",
    "conn = sqlite3.connect(\"../../sql/openfda_base_updated.db\")"
   ]
  },
  {
   "cell_type": "code",
   "execution_count": 3,
   "id": "4abcc2d6",
   "metadata": {},
   "outputs": [
    {
     "name": "stdout",
     "output_type": "stream",
     "text": [
      "MongoDB - Check integer fields:\n",
      "\n",
      "Reports with integer 'safetyreportversion': 35999\n",
      "\n",
      "MongoDB - Check float fields (e.g., patient.patientweight):\n",
      "\n",
      "Reports with float 'patient.patientweight': 6874\n",
      "\n",
      "MongoDB - Check ISODate fields (e.g., receivedate):\n",
      "\n",
      "Reports with date-typed 'receivedate': 35999\n"
     ]
    }
   ],
   "source": [
    "# --- 1. MongoDB Type Checks ---\n",
    "print(\"MongoDB - Check integer fields:\\n\")\n",
    "int_query = {\"safetyreportversion\": {\"$type\": \"int\"}}\n",
    "int_count = collection.count_documents(int_query)\n",
    "print(f\"Reports with integer 'safetyreportversion': {int_count}\")\n",
    "\n",
    "print(\"\\nMongoDB - Check float fields (e.g., patient.patientweight):\\n\")\n",
    "float_query = {\"patient.patientweight\": {\"$type\": \"double\"}}\n",
    "float_count = collection.count_documents(float_query)\n",
    "print(f\"Reports with float 'patient.patientweight': {float_count}\")\n",
    "\n",
    "print(\"\\nMongoDB - Check ISODate fields (e.g., receivedate):\\n\")\n",
    "date_query = {\"receivedate\": {\"$type\": \"date\"}}\n",
    "date_count = collection.count_documents(date_query)\n",
    "print(f\"Reports with date-typed 'receivedate': {date_count}\")"
   ]
  },
  {
   "cell_type": "code",
   "execution_count": 4,
   "id": "2a87ff80",
   "metadata": {},
   "outputs": [
    {
     "name": "stdout",
     "output_type": "stream",
     "text": [
      "\n",
      "SQLite - Check format of date strings (e.g., receivedate):\n",
      "  receivedate\n",
      "0    20070320\n",
      "1    20070406\n",
      "2    20080129\n",
      "3    20080414\n",
      "4    20100217\n",
      "5    20100331\n",
      "6    20100616\n",
      "7    20120117\n",
      "8    20120120\n",
      "9    20130626\n",
      "\n",
      "SQLite - Check that padded date format is respected:\n",
      "Invalid format count: 0\n"
     ]
    }
   ],
   "source": [
    "# --- 2. SQLite Type & Format Checks ---\n",
    "print(\"\\nSQLite - Check format of date strings (e.g., receivedate):\")\n",
    "df = pd.read_sql_query(\"SELECT receivedate FROM report LIMIT 10\", conn)\n",
    "print(df)\n",
    "\n",
    "print(\"\\nSQLite - Check that padded date format is respected:\")\n",
    "df_all_dates = pd.read_sql_query(\"SELECT receivedate FROM report\", conn)\n",
    "df_all_dates[\"valid_format\"] = df_all_dates[\"receivedate\"].apply(\n",
    "    lambda x: bool(re.match(r\"^\\d{8}$|^\\d{6}$|^\\d{4}$\", str(x)))\n",
    ")\n",
    "invalid_dates = df_all_dates[~df_all_dates[\"valid_format\"]]\n",
    "print(f\"Invalid format count: {len(invalid_dates)}\")"
   ]
  },
  {
   "cell_type": "code",
   "execution_count": null,
   "id": "1acf6c61",
   "metadata": {},
   "outputs": [
    {
     "name": "stdout",
     "output_type": "stream",
     "text": [
      "\n",
      "SQLite - Checking type for serious in report:\n",
      "serious    int64\n",
      "dtype: object\n",
      "   serious\n",
      "0        1\n",
      "1        1\n",
      "2        1\n",
      "3        1\n",
      "4        1\n",
      "\n",
      "SQLite - Checking type for reactionoutcome in reaction:\n",
      "reactionoutcome    int64\n",
      "dtype: object\n",
      "   reactionoutcome\n",
      "0                6\n",
      "1                6\n",
      "2                6\n",
      "3                6\n",
      "4                6\n",
      "\n",
      "SQLite - Checking type for drugstructuredosagenumb in drug_optional:\n",
      "drugstructuredosagenumb    float64\n",
      "dtype: object\n",
      "   drugstructuredosagenumb\n",
      "0                     75.0\n",
      "1                     15.0\n",
      "2                   1200.0\n",
      "3                    300.0\n",
      "4                    300.0\n",
      "\n",
      "SQLite - Checking type for drugseparatedosagenumb in drug_optional:\n",
      "drugseparatedosagenumb    float64\n",
      "dtype: object\n",
      "   drugseparatedosagenumb\n",
      "0                     2.0\n",
      "1                     1.0\n",
      "2                     1.0\n",
      "3                     1.0\n",
      "4                     1.0\n"
     ]
    }
   ],
   "source": [
    "# --- 3. Additional Numeric Field Checks ---\n",
    "numeric_fields = [\n",
    "    (\"report\", \"serious\"),\n",
    "    (\"reaction\", \"reactionoutcome\"),\n",
    "    (\"drug_optional\", \"drugstructuredosagenumb\"),\n",
    "    (\"drug_optional\", \"drugseparatedosagenumb\")\n",
    "]\n",
    "\n",
    "for table, field in numeric_fields:\n",
    "    print(f\"\\nSQLite - Checking type for {field} in {table}:\")\n",
    "    df_check = pd.read_sql_query(f\"SELECT {field} FROM {table} WHERE {field} IS NOT NULL LIMIT 10\", conn)\n",
    "    print(df_check.dtypes)\n",
    "    print(df_check.head())\n",
    "\n"
   ]
  },
  {
   "cell_type": "code",
   "execution_count": 8,
   "id": "374d3982",
   "metadata": {},
   "outputs": [
    {
     "name": "stdout",
     "output_type": "stream",
     "text": [
      "Count of non-null safetyreportversion: 36000\n"
     ]
    }
   ],
   "source": [
    "### sql count reportversion\n",
    "query = \"\"\"\n",
    "SELECT COUNT(*) AS count\n",
    "FROM report\n",
    "WHERE safetyreportversion IS NOT NULL\n",
    "\"\"\"\n",
    "df = pd.read_sql_query(query, conn)\n",
    "print(f\"Count of non-null safetyreportversion: {df['count'][0]}\")\n",
    "\n"
   ]
  },
  {
   "cell_type": "code",
   "execution_count": 9,
   "id": "a43ee261",
   "metadata": {},
   "outputs": [],
   "source": [
    "# Cleanup\n",
    "conn.close()\n",
    "client.close()"
   ]
  },
  {
   "cell_type": "code",
   "execution_count": null,
   "id": "ac18e62f",
   "metadata": {},
   "outputs": [],
   "source": []
  }
 ],
 "metadata": {
  "kernelspec": {
   "display_name": "gen_ML",
   "language": "python",
   "name": "python3"
  },
  "language_info": {
   "codemirror_mode": {
    "name": "ipython",
    "version": 3
   },
   "file_extension": ".py",
   "mimetype": "text/x-python",
   "name": "python",
   "nbconvert_exporter": "python",
   "pygments_lexer": "ipython3",
   "version": "3.9.19"
  }
 },
 "nbformat": 4,
 "nbformat_minor": 5
}
