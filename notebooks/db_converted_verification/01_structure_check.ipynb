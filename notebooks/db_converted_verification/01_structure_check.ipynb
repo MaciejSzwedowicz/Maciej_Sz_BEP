{
 "cells": [
  {
   "cell_type": "markdown",
   "id": "3d59cb8d",
   "metadata": {},
   "source": [
    "## 01_structure_check.ipynb\n",
    "\n",
    "✅ Notebook Goal:\n",
    "Verify structural consistency between MongoDB and SQLite databases\n",
    "- Check counts\n",
    "- Unique IDs\n",
    "- Presence of records in major tables"
   ]
  },
  {
   "cell_type": "code",
   "execution_count": 1,
   "id": "6a5f6f21",
   "metadata": {},
   "outputs": [],
   "source": [
    "# --- MongoDB Setup ---\n",
    "import pymongo\n",
    "from pprint import pprint\n",
    "\n",
    "mongo_client = pymongo.MongoClient(\"mongodb://localhost:27017/\")\n",
    "mongo_db = mongo_client[\"openfda_converted\"]\n",
    "mongo_collection = mongo_db[\"full_reports\"]\n",
    "\n",
    "# --- SQLite Setup ---\n",
    "import sqlite3\n",
    "import pandas as pd\n",
    "\n",
    "sqlite_path = \"../../sql/openfda_base_updated.db\"\n",
    "conn = sqlite3.connect(sqlite_path)"
   ]
  },
  {
   "cell_type": "code",
   "execution_count": 2,
   "id": "8e19311f",
   "metadata": {},
   "outputs": [
    {
     "name": "stdout",
     "output_type": "stream",
     "text": [
      "MongoDB - Total reports: 35999\n",
      "SQLite - Total reports: 36000\n"
     ]
    }
   ],
   "source": [
    "# --- 1. Total Report Count ---\n",
    "mongo_total = mongo_collection.count_documents({})\n",
    "print(f\"MongoDB - Total reports: {mongo_total}\")\n",
    "\n",
    "sqlite_total = pd.read_sql_query(\"SELECT COUNT(*) as total FROM report\", conn).iloc[0]['total']\n",
    "print(f\"SQLite - Total reports: {sqlite_total}\")"
   ]
  },
  {
   "cell_type": "code",
   "execution_count": 3,
   "id": "6b5179d9",
   "metadata": {},
   "outputs": [
    {
     "name": "stdout",
     "output_type": "stream",
     "text": [
      "SQLite - All safetyreportid values are unique ✅\n"
     ]
    }
   ],
   "source": [
    "# --- 2. Unique Report ID Check ---\n",
    "sqlite_duplicates = pd.read_sql_query(\"\"\"\n",
    "    SELECT safetyreportid, COUNT(*) as cnt\n",
    "    FROM report\n",
    "    GROUP BY safetyreportid\n",
    "    HAVING cnt > 1\n",
    "\"\"\", conn)\n",
    "\n",
    "if sqlite_duplicates.empty:\n",
    "    print(\"SQLite - All safetyreportid values are unique ✅\")\n",
    "else:\n",
    "    print(\"SQLite - Duplicate safetyreportid values found ❌\")\n",
    "    display(sqlite_duplicates)"
   ]
  },
  {
   "cell_type": "code",
   "execution_count": 4,
   "id": "b641e863",
   "metadata": {},
   "outputs": [
    {
     "name": "stdout",
     "output_type": "stream",
     "text": [
      "SQLite - reaction: 126049 rows\n",
      "SQLite - drug: 188847 rows\n",
      "SQLite - drug_optional: 188847 rows\n",
      "SQLite - drug_openfda: 188847 rows\n",
      "SQLite - drug_activesubstance: 185151 rows\n",
      "SQLite - report_duplicate: 26353 rows\n",
      "SQLite - summary: 16948 rows\n",
      "SQLite - patient_optional: 36000 rows\n",
      "SQLite - primarysource_literature_reference: 3309 rows\n"
     ]
    }
   ],
   "source": [
    "# --- 3. Count of Records in Major Tables ---\n",
    "tables = [\n",
    "    \"reaction\", \"drug\", \"drug_optional\", \"drug_openfda\", \"drug_activesubstance\",\n",
    "    \"report_duplicate\", \"summary\", \"patient_optional\", \"primarysource_literature_reference\"\n",
    "]\n",
    "\n",
    "for table in tables:\n",
    "    count = pd.read_sql_query(f\"SELECT COUNT(*) as total FROM {table}\", conn).iloc[0]['total']\n",
    "    print(f\"SQLite - {table}: {count} rows\")\n"
   ]
  },
  {
   "cell_type": "code",
   "execution_count": 5,
   "id": "0438442b",
   "metadata": {},
   "outputs": [
    {
     "name": "stdout",
     "output_type": "stream",
     "text": [
      "\n",
      "Sample MongoDB report structure:\n",
      "{'_id': ObjectId('68246feda116cc7161242716'),\n",
      " 'companynumb': 'US-SECURA BIO, INC.-2021US002331',\n",
      " 'fulfillexpeditecriteria': 2,\n",
      " 'occurcountry': 'US',\n",
      " 'patient': {'drug': [...], 'reaction': [...]},\n",
      " 'primarysource': {'qualification': 5, 'reportercountry': 'US'},\n",
      " 'primarysourcecountry': 'US',\n",
      " 'receiptdate': datetime.datetime(2024, 3, 15, 0, 0),\n",
      " 'receiptdateformat': 102,\n",
      " 'receivedate': datetime.datetime(2021, 7, 12, 0, 0),\n",
      " 'receivedateformat': 102,\n",
      " 'receiver': {'receiverorganization': 'FDA', 'receivertype': 6},\n",
      " 'reporttype': 1,\n",
      " 'safetyreportid': 19520083,\n",
      " 'safetyreportversion': 2,\n",
      " 'sender': {'senderorganization': 'FDA-Public Use', 'sendertype': 2},\n",
      " 'serious': 2,\n",
      " 'seriousnesscongenitalanomali': 2,\n",
      " 'seriousnessdeath': 2,\n",
      " 'seriousnessdisabling': 2,\n",
      " 'seriousnesshospitalization': 2,\n",
      " 'seriousnesslifethreatening': 2,\n",
      " 'seriousnessother': 2,\n",
      " 'transmissiondate': datetime.datetime(2024, 4, 10, 0, 0),\n",
      " 'transmissiondateformat': 102}\n"
     ]
    }
   ],
   "source": [
    "# --- 4. MongoDB Sample Report Structure ---\n",
    "print(\"\\nSample MongoDB report structure:\")\n",
    "sample_doc = mongo_collection.find_one()\n",
    "pprint(sample_doc, depth=2)\n",
    "\n",
    "# Cleanup\n",
    "conn.close()\n",
    "mongo_client.close()"
   ]
  },
  {
   "cell_type": "code",
   "execution_count": null,
   "id": "76888a1e",
   "metadata": {},
   "outputs": [],
   "source": []
  }
 ],
 "metadata": {
  "kernelspec": {
   "display_name": "gen_ML",
   "language": "python",
   "name": "python3"
  },
  "language_info": {
   "codemirror_mode": {
    "name": "ipython",
    "version": 3
   },
   "file_extension": ".py",
   "mimetype": "text/x-python",
   "name": "python",
   "nbconvert_exporter": "python",
   "pygments_lexer": "ipython3",
   "version": "3.9.19"
  }
 },
 "nbformat": 4,
 "nbformat_minor": 5
}
