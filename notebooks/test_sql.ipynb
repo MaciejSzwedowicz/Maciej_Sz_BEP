{
 "cells": [
  {
   "cell_type": "code",
   "execution_count": null,
   "id": "fffc926c",
   "metadata": {},
   "outputs": [],
   "source": [
    "import sqlite3\n",
    "\n",
    "conn = sqlite3.connect(\"sql/openfda_base.db\")\n",
    "cursor = conn.cursor()\n",
    "cursor.execute(\"SELECT COUNT(*) FROM report\")\n",
    "print(\"Rows in report table:\", cursor.fetchone()[0])\n"
   ]
  },
  {
   "cell_type": "code",
   "execution_count": null,
   "id": "644ef75b",
   "metadata": {},
   "outputs": [],
   "source": []
  }
 ],
 "metadata": {
  "kernelspec": {
   "display_name": "gen_ML",
   "language": "python",
   "name": "python3"
  },
  "language_info": {
   "name": "python",
   "version": "3.9.19"
  }
 },
 "nbformat": 4,
 "nbformat_minor": 5
}
