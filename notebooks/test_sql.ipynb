{
 "cells": [
  {
   "cell_type": "code",
   "execution_count": 2,
   "id": "8084b1b9",
   "metadata": {},
   "outputs": [],
   "source": [
    "import sqlite3\n",
    "import os"
   ]
  },
  {
   "cell_type": "code",
   "execution_count": 12,
   "id": "644ef75b",
   "metadata": {},
   "outputs": [
    {
     "name": "stdout",
     "output_type": "stream",
     "text": [
      "Attempting to connect to database at: ..\\sql\\openfda_base.db\n",
      "Rows in report table: 0\n"
     ]
    }
   ],
   "source": [
    "# Use absolute path for the database\n",
    "# current_dir = os.path.dirname(os.path.abspath('__file__'))\n",
    "db_path = os.path.join(\"..\", \"sql\", \"openfda_base.db\")\n",
    "print(f\"Attempting to connect to database at: {db_path}\")\n",
    "db_path = \"../sql/openfda_base.db\"\n",
    "# Make sure the directory exists\n",
    "os.makedirs(os.path.dirname(db_path), exist_ok=True)\n",
    "\n",
    "# Connect to the database\n",
    "conn = sqlite3.connect(db_path)\n",
    "cursor = conn.cursor()\n",
    "cursor.execute(\"SELECT COUNT(*) FROM report\")\n",
    "print(\"Rows in report table:\", cursor.fetchone()[0])"
   ]
  },
  {
   "cell_type": "code",
   "execution_count": 3,
   "id": "c66718c0",
   "metadata": {},
   "outputs": [
    {
     "data": {
      "application/vnd.microsoft.datawrangler.viewer.v0+json": {
       "columns": [
        {
         "name": "index",
         "rawType": "int64",
         "type": "integer"
        },
        {
         "name": "Table",
         "rawType": "object",
         "type": "string"
        },
        {
         "name": "Row Count",
         "rawType": "int64",
         "type": "integer"
        }
       ],
       "conversionMethod": "pd.DataFrame",
       "ref": "0d2b6b03-c04e-43bd-9056-9dc0f091ef43",
       "rows": [
        [
         "0",
         "report",
         "36000"
        ],
        [
         "1",
         "reaction",
         "126049"
        ],
        [
         "2",
         "reportduplicate",
         "26353"
        ],
        [
         "3",
         "patient_optional",
         "36000"
        ],
        [
         "4",
         "summary",
         "16948"
        ],
        [
         "5",
         "drug",
         "188847"
        ],
        [
         "6",
         "drug_openfda",
         "188847"
        ],
        [
         "7",
         "drug_optional",
         "188847"
        ],
        [
         "8",
         "drug_activesubstance",
         "0"
        ]
       ],
       "shape": {
        "columns": 2,
        "rows": 9
       }
      },
      "text/html": [
       "<div>\n",
       "<style scoped>\n",
       "    .dataframe tbody tr th:only-of-type {\n",
       "        vertical-align: middle;\n",
       "    }\n",
       "\n",
       "    .dataframe tbody tr th {\n",
       "        vertical-align: top;\n",
       "    }\n",
       "\n",
       "    .dataframe thead th {\n",
       "        text-align: right;\n",
       "    }\n",
       "</style>\n",
       "<table border=\"1\" class=\"dataframe\">\n",
       "  <thead>\n",
       "    <tr style=\"text-align: right;\">\n",
       "      <th></th>\n",
       "      <th>Table</th>\n",
       "      <th>Row Count</th>\n",
       "    </tr>\n",
       "  </thead>\n",
       "  <tbody>\n",
       "    <tr>\n",
       "      <th>0</th>\n",
       "      <td>report</td>\n",
       "      <td>36000</td>\n",
       "    </tr>\n",
       "    <tr>\n",
       "      <th>1</th>\n",
       "      <td>reaction</td>\n",
       "      <td>126049</td>\n",
       "    </tr>\n",
       "    <tr>\n",
       "      <th>2</th>\n",
       "      <td>reportduplicate</td>\n",
       "      <td>26353</td>\n",
       "    </tr>\n",
       "    <tr>\n",
       "      <th>3</th>\n",
       "      <td>patient_optional</td>\n",
       "      <td>36000</td>\n",
       "    </tr>\n",
       "    <tr>\n",
       "      <th>4</th>\n",
       "      <td>summary</td>\n",
       "      <td>16948</td>\n",
       "    </tr>\n",
       "    <tr>\n",
       "      <th>5</th>\n",
       "      <td>drug</td>\n",
       "      <td>188847</td>\n",
       "    </tr>\n",
       "    <tr>\n",
       "      <th>6</th>\n",
       "      <td>drug_openfda</td>\n",
       "      <td>188847</td>\n",
       "    </tr>\n",
       "    <tr>\n",
       "      <th>7</th>\n",
       "      <td>drug_optional</td>\n",
       "      <td>188847</td>\n",
       "    </tr>\n",
       "    <tr>\n",
       "      <th>8</th>\n",
       "      <td>drug_activesubstance</td>\n",
       "      <td>0</td>\n",
       "    </tr>\n",
       "  </tbody>\n",
       "</table>\n",
       "</div>"
      ],
      "text/plain": [
       "                  Table  Row Count\n",
       "0                report      36000\n",
       "1              reaction     126049\n",
       "2       reportduplicate      26353\n",
       "3      patient_optional      36000\n",
       "4               summary      16948\n",
       "5                  drug     188847\n",
       "6          drug_openfda     188847\n",
       "7         drug_optional     188847\n",
       "8  drug_activesubstance          0"
      ]
     },
     "execution_count": 3,
     "metadata": {},
     "output_type": "execute_result"
    }
   ],
   "source": [
    "\n",
    "import pandas as pd\n",
    "\n",
    "conn = sqlite3.connect(\"../sql/openfda_base.db\")\n",
    "\n",
    "tables = [\n",
    "    \"report\", \"reaction\", \"reportduplicate\", \"patient_optional\", \"summary\",\n",
    "    \"drug\", \"drug_openfda\", \"drug_optional\", \"drug_activesubstance\"\n",
    "]\n",
    "\n",
    "counts = []\n",
    "for table in tables:\n",
    "    try:\n",
    "        count = conn.execute(f\"SELECT COUNT(*) FROM {table}\").fetchone()[0]\n",
    "        counts.append((table, count))\n",
    "    except Exception as e:\n",
    "        counts.append((table, f\"Error: {e}\"))\n",
    "\n",
    "conn.close()\n",
    "\n",
    "pd.DataFrame(counts, columns=[\"Table\", \"Row Count\"])\n"
   ]
  },
  {
   "cell_type": "code",
   "execution_count": 4,
   "id": "af3d09cd",
   "metadata": {},
   "outputs": [
    {
     "data": {
      "application/vnd.microsoft.datawrangler.viewer.v0+json": {
       "columns": [
        {
         "name": "index",
         "rawType": "int64",
         "type": "integer"
        },
        {
         "name": "Table",
         "rawType": "object",
         "type": "string"
        },
        {
         "name": "Row Count",
         "rawType": "int64",
         "type": "integer"
        }
       ],
       "conversionMethod": "pd.DataFrame",
       "ref": "7d31f2be-6b65-4fd5-a267-af2c3b0bb32d",
       "rows": [
        [
         "0",
         "report",
         "36000"
        ],
        [
         "1",
         "reaction",
         "126049"
        ],
        [
         "2",
         "reportduplicate",
         "26353"
        ],
        [
         "3",
         "patient_optional",
         "36000"
        ],
        [
         "4",
         "summary",
         "16948"
        ],
        [
         "5",
         "drug",
         "188847"
        ],
        [
         "6",
         "drug_openfda",
         "188847"
        ],
        [
         "7",
         "drug_optional",
         "188847"
        ],
        [
         "8",
         "drug_activesubstance",
         "0"
        ]
       ],
       "shape": {
        "columns": 2,
        "rows": 9
       }
      },
      "text/html": [
       "<div>\n",
       "<style scoped>\n",
       "    .dataframe tbody tr th:only-of-type {\n",
       "        vertical-align: middle;\n",
       "    }\n",
       "\n",
       "    .dataframe tbody tr th {\n",
       "        vertical-align: top;\n",
       "    }\n",
       "\n",
       "    .dataframe thead th {\n",
       "        text-align: right;\n",
       "    }\n",
       "</style>\n",
       "<table border=\"1\" class=\"dataframe\">\n",
       "  <thead>\n",
       "    <tr style=\"text-align: right;\">\n",
       "      <th></th>\n",
       "      <th>Table</th>\n",
       "      <th>Row Count</th>\n",
       "    </tr>\n",
       "  </thead>\n",
       "  <tbody>\n",
       "    <tr>\n",
       "      <th>0</th>\n",
       "      <td>report</td>\n",
       "      <td>36000</td>\n",
       "    </tr>\n",
       "    <tr>\n",
       "      <th>1</th>\n",
       "      <td>reaction</td>\n",
       "      <td>126049</td>\n",
       "    </tr>\n",
       "    <tr>\n",
       "      <th>2</th>\n",
       "      <td>reportduplicate</td>\n",
       "      <td>26353</td>\n",
       "    </tr>\n",
       "    <tr>\n",
       "      <th>3</th>\n",
       "      <td>patient_optional</td>\n",
       "      <td>36000</td>\n",
       "    </tr>\n",
       "    <tr>\n",
       "      <th>4</th>\n",
       "      <td>summary</td>\n",
       "      <td>16948</td>\n",
       "    </tr>\n",
       "    <tr>\n",
       "      <th>5</th>\n",
       "      <td>drug</td>\n",
       "      <td>188847</td>\n",
       "    </tr>\n",
       "    <tr>\n",
       "      <th>6</th>\n",
       "      <td>drug_openfda</td>\n",
       "      <td>188847</td>\n",
       "    </tr>\n",
       "    <tr>\n",
       "      <th>7</th>\n",
       "      <td>drug_optional</td>\n",
       "      <td>188847</td>\n",
       "    </tr>\n",
       "    <tr>\n",
       "      <th>8</th>\n",
       "      <td>drug_activesubstance</td>\n",
       "      <td>0</td>\n",
       "    </tr>\n",
       "  </tbody>\n",
       "</table>\n",
       "</div>"
      ],
      "text/plain": [
       "                  Table  Row Count\n",
       "0                report      36000\n",
       "1              reaction     126049\n",
       "2       reportduplicate      26353\n",
       "3      patient_optional      36000\n",
       "4               summary      16948\n",
       "5                  drug     188847\n",
       "6          drug_openfda     188847\n",
       "7         drug_optional     188847\n",
       "8  drug_activesubstance          0"
      ]
     },
     "execution_count": 4,
     "metadata": {},
     "output_type": "execute_result"
    }
   ],
   "source": [
    "conn = sqlite3.connect(\"../sql/openfda_base.db\")\n",
    "\n",
    "tables = [\n",
    "    \"report\", \"reaction\", \"reportduplicate\", \"patient_optional\", \"summary\",\n",
    "    \"drug\", \"drug_openfda\", \"drug_optional\", \"drug_activesubstance\"\n",
    "]\n",
    "\n",
    "counts = []\n",
    "for table in tables:\n",
    "    try:\n",
    "        count = conn.execute(f\"SELECT COUNT(*) FROM {table}\").fetchone()[0]\n",
    "        counts.append((table, count))\n",
    "    except Exception as e:\n",
    "        counts.append((table, f\"Error: {e}\"))\n",
    "\n",
    "conn.close()\n",
    "\n",
    "pd.DataFrame(counts, columns=[\"Table\", \"Row Count\"])"
   ]
  },
  {
   "cell_type": "code",
   "execution_count": null,
   "id": "07d7fba7",
   "metadata": {},
   "outputs": [],
   "source": []
  }
 ],
 "metadata": {
  "kernelspec": {
   "display_name": "gen_ML",
   "language": "python",
   "name": "python3"
  },
  "language_info": {
   "codemirror_mode": {
    "name": "ipython",
    "version": 3
   },
   "file_extension": ".py",
   "mimetype": "text/x-python",
   "name": "python",
   "nbconvert_exporter": "python",
   "pygments_lexer": "ipython3",
   "version": "3.9.19"
  }
 },
 "nbformat": 4,
 "nbformat_minor": 5
}
