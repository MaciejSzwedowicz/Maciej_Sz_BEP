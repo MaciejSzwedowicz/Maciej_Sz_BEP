{
 "cells": [
  {
   "cell_type": "markdown",
   "id": "52eaacb1",
   "metadata": {},
   "source": [
    "## 2. Collect all unique value-carrying fields across the dataset\n",
    "\n",
    "In this step, we extract only the paths in each report that correspond to **actual values** (strings, numbers, lists),  \n",
    "excluding structural container fields (like `patient`, `primarysource`, etc.).\n",
    "\n",
    "This gives us a more precise count of \"fields that need to be represented in the SQL schema.\"\n"
   ]
  },
  {
   "cell_type": "code",
   "execution_count": null,
   "id": "4a2986c1",
   "metadata": {},
   "outputs": [],
   "source": [
    "def extract_value_key_set(report):\n",
    "    \"\"\"\n",
    "    Recursively extract only the paths that carry values (not container keys like dicts).\n",
    "    Returns a set of field paths leading to scalars or lists.\n",
    "    \"\"\"\n",
    "    value_keys = set()\n",
    "\n",
    "    def collect(obj, prefix=''):\n",
    "        if isinstance(obj, dict):\n",
    "            for k, v in obj.items():\n",
    "                full_key = f\"{prefix}.{k}\" if prefix else k\n",
    "                if isinstance(v, dict):\n",
    "                    collect(v, full_key)\n",
    "                elif isinstance(v, list):\n",
    "                    if v:  # skip empty lists\n",
    "                        value_keys.add(full_key)\n",
    "                else:\n",
    "                    value_keys.add(full_key)\n",
    "        elif isinstance(obj, list):\n",
    "            for item in obj:\n",
    "                collect(item, prefix)\n",
    "\n",
    "    collect(report)\n",
    "    return value_keys\n"
   ]
  },
  {
   "cell_type": "code",
   "execution_count": null,
   "id": "604bdfa1",
   "metadata": {},
   "outputs": [],
   "source": [
    "value_fields_set = set()\n",
    "max_keys = 0\n",
    "max_report_id = None\n",
    "\n",
    "for report in tqdm(iterate_reports_ijson(data_path), desc=\"Extracting value field paths\"):\n",
    "    keys = extract_value_key_set(report)\n",
    "    value_fields_set.update(keys)\n",
    "    if len(keys) > max_keys:\n",
    "        max_keys = len(keys)\n",
    "        max_report_id = report.get(\"safetyreportid\")\n",
    "\n",
    "print(f\"✅ Unique value-carrying fields in dataset: {len(value_fields_set)}\")\n",
    "print(f\"📈 Max number of value fields in a single report: {max_keys} (report ID: {max_report_id})\")\n"
   ]
  }
 ],
 "metadata": {
  "kernelspec": {
   "display_name": "gen_ML",
   "language": "python",
   "name": "python3"
  },
  "language_info": {
   "name": "python",
   "version": "3.9.19"
  }
 },
 "nbformat": 4,
 "nbformat_minor": 5
}
