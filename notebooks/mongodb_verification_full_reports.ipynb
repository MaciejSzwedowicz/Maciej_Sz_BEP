{
 "cells": [
  {
   "cell_type": "markdown",
   "id": "145bdfdc",
   "metadata": {},
   "source": [
    "# MongoDB Data Verification – Converted OpenFDA Database\n",
    "This notebook verifies the field conversions and data integrity in the MongoDB collection `full_reports`."
   ]
  },
  {
   "cell_type": "code",
   "execution_count": null,
   "id": "daf919ab",
   "metadata": {},
   "outputs": [],
   "source": [
    "import pymongo\n",
    "from bson import json_util\n",
    "from pprint import pprint\n",
    "\n",
    "# Connect to MongoDB\n",
    "client = pymongo.MongoClient(\"mongodb://localhost:27017\")\n",
    "db = client[\"openfda_converted\"]\n",
    "collection = db[\"full_reports\"]"
   ]
  },
  {
   "cell_type": "markdown",
   "id": "e7e72eed",
   "metadata": {},
   "source": [
    "## 1. Check total number of inserted reports"
   ]
  },
  {
   "cell_type": "code",
   "execution_count": null,
   "id": "d8265441",
   "metadata": {},
   "outputs": [],
   "source": [
    "total_reports = collection.count_documents({})\n",
    "print(f\"Total inserted reports: {total_reports}\")"
   ]
  },
  {
   "cell_type": "markdown",
   "id": "7e87fa68",
   "metadata": {},
   "source": [
    "## 2. Verify integer fields"
   ]
  },
  {
   "cell_type": "code",
   "execution_count": null,
   "id": "b027e1df",
   "metadata": {},
   "outputs": [],
   "source": [
    "query = {\"safetyreportversion\": {\"$type\": \"int\"}}\n",
    "docs = list(collection.find(query).limit(5))\n",
    "for doc in docs:\n",
    "    pprint(doc)"
   ]
  },
  {
   "cell_type": "markdown",
   "id": "aae9b9a6",
   "metadata": {},
   "source": [
    "## 3. Verify date normalization"
   ]
  },
  {
   "cell_type": "code",
   "execution_count": null,
   "id": "8d4feb34",
   "metadata": {},
   "outputs": [],
   "source": [
    "query = {\"drug.0.drugstartdate\": {\"$type\": \"date\"}}\n",
    "docs = list(collection.find(query).limit(5))\n",
    "for doc in docs:\n",
    "    pprint(doc[\"drug\"][0][\"drugstartdate\"])"
   ]
  },
  {
   "cell_type": "markdown",
   "id": "199720ae",
   "metadata": {},
   "source": [
    "## 4. Check that oversized reports were skipped (logged to file)"
   ]
  },
  {
   "cell_type": "code",
   "execution_count": null,
   "id": "f4c06861",
   "metadata": {},
   "outputs": [],
   "source": [
    "with open(\"skipped_reports.log\", \"r\") as f:\n",
    "    skipped = f.readlines()\n",
    "print(f\"Total oversized reports skipped: {len(skipped)}\")\n",
    "print(\"First few entries:\")\n",
    "print(\"\".join(skipped[:3]))"
   ]
  }
 ],
 "metadata": {},
 "nbformat": 4,
 "nbformat_minor": 5
}
