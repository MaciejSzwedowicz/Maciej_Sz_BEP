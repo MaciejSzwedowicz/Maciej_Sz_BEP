{
 "cells": [
  {
   "cell_type": "markdown",
   "id": "0b1493bb",
   "metadata": {},
   "source": [
    "# 📊 BEP Performance Evaluation: SQLite vs MongoDB\n",
    "\n",
    "This notebook benchmarks query execution time across SQLite and MongoDB using the OpenFDA dataset.\n",
    "\n",
    "\n",
    "---"
   ]
  },
  {
   "cell_type": "markdown",
   "id": "82f0c524",
   "metadata": {},
   "source": [
    "## 📦 1. Setup"
   ]
  },
  {
   "cell_type": "code",
   "execution_count": 1,
   "id": "d86d1dc7",
   "metadata": {},
   "outputs": [],
   "source": [
    "import time\n",
    "import sqlite3\n",
    "from pymongo import MongoClient\n",
    "import pandas as pd\n",
    "import matplotlib.pyplot as plt\n",
    "import numpy as np\n",
    "import seaborn as sns\n",
    "import matplotlib.pyplot as plt\n",
    "\n",
    "# SQLite\n",
    "sqlite_path = \"../sql/openfda_final_v10.db\"\n",
    "sqlite_conn = sqlite3.connect(sqlite_path)\n",
    "sqlite_cursor = sqlite_conn.cursor()\n",
    "\n",
    "# MongoDB\n",
    "mongo_client = MongoClient(\"mongodb://localhost:27017\")\n",
    "mongo_db = mongo_client[\"openfda_converted\"]\n",
    "mongo_collection = mongo_db[\"full_reports\"]\n",
    "\n",
    "\n",
    "\n",
    "# Helper function to time a query\n",
    "def time_query(func, n_runs=5):\n",
    "    durations = []\n",
    "    for _ in range(n_runs):\n",
    "        start = time.perf_counter()\n",
    "        func()\n",
    "        durations.append(time.perf_counter() - start)\n",
    "    return durations"
   ]
  },
  {
   "cell_type": "markdown",
   "id": "81266ad2",
   "metadata": {},
   "source": [
    "## 🔍 2. Query Performance Comparison Strategy\n",
    "\n",
    "### Query Categories:\n",
    "- **Simple**: Single-table lookups, counts, or filters\n",
    "- **Medium**: Multi-table joins or filtered aggregates\n",
    "- **Complex**: Nested logic, joins with filtering, or document traversals\n",
    "\n",
    "Each query will be:\n",
    "- Executed multiple times (default: 5 runs)\n",
    "- Reported as a list of runtimes\n",
    "- Summarized using mean and standard deviation\n",
    "\n",
    "---"
   ]
  },
  {
   "cell_type": "markdown",
   "id": "5c832654",
   "metadata": {},
   "source": [
    "## 🧪 3. Simple Queries"
   ]
  },
  {
   "cell_type": "markdown",
   "id": "050afd07",
   "metadata": {},
   "source": [
    "### --- Query 1: Count All Reports ---"
   ]
  },
  {
   "cell_type": "code",
   "execution_count": 2,
   "id": "707cba7d",
   "metadata": {},
   "outputs": [
    {
     "name": "stdout",
     "output_type": "stream",
     "text": [
      "SQLite: (35999,)\n",
      "MongoDB: 35999\n"
     ]
    }
   ],
   "source": [
    "# SQLite\n",
    "def sqlite_query_count_reports():\n",
    "    return sqlite_cursor.execute(\"SELECT COUNT(*) FROM report\").fetchone()\n",
    "\n",
    "sqlite_result = sqlite_query_count_reports()\n",
    "print(\"SQLite:\", sqlite_result)\n",
    "\n",
    "# MongoDB\n",
    "def mongo_query_count_reports():\n",
    "    return mongo_collection.count_documents({})\n",
    "\n",
    "mongo_result = mongo_query_count_reports()\n",
    "print(\"MongoDB:\", mongo_result)\n"
   ]
  },
  {
   "cell_type": "markdown",
   "id": "404fd9f3",
   "metadata": {},
   "source": [
    "### --- Query 2: List Distinct Drug Names (first 10 alphabetically) ---"
   ]
  },
  {
   "cell_type": "code",
   "execution_count": 3,
   "id": "96e5fdb5",
   "metadata": {},
   "outputs": [
    {
     "name": "stdout",
     "output_type": "stream",
     "text": [
      "SQLite distinct drugs: 8214 rows\n",
      "SQLite: ['.ALPHA.-PYRROLIDINOISOHEXANOPHENONE', '.ALPHA.-TOCOPHEROL', '.ALPHA.-TOCOPHEROL ACETATE', '.ALPHA.-TOCOPHEROL ACETATE, D-', '.ALPHA.-TOCOPHEROL ACETATE, D-\\\\EVENING PRIMROSE OIL\\\\FISH OIL', '.ALPHA.-TOCOPHEROL ACETATE, DL-', '.ALPHA.-TOCOPHEROL, D-', '.ALPHA.-TOCOPHEROL, DL-', '.ALPHA.1-PROTEINASE INHIBITOR HUMAN', '.DELTA.8-TETRAHYDROCANNABINOL\\\\HERBALS']\n",
      "MongoDB distinct drugs: 8214 rows\n",
      "MongoDB: ['.ALPHA.-PYRROLIDINOISOHEXANOPHENONE', '.ALPHA.-TOCOPHEROL', '.ALPHA.-TOCOPHEROL ACETATE', '.ALPHA.-TOCOPHEROL ACETATE, D-', '.ALPHA.-TOCOPHEROL ACETATE, D-\\\\EVENING PRIMROSE OIL\\\\FISH OIL', '.ALPHA.-TOCOPHEROL ACETATE, DL-', '.ALPHA.-TOCOPHEROL, D-', '.ALPHA.-TOCOPHEROL, DL-', '.ALPHA.1-PROTEINASE INHIBITOR HUMAN', '.DELTA.8-TETRAHYDROCANNABINOL\\\\HERBALS']\n"
     ]
    }
   ],
   "source": [
    "# SQLite\n",
    "def sqlite_query_distinct_drugs():\n",
    "    return sqlite_cursor.execute(\"\"\"\n",
    "        SELECT DISTINCT medicinalproduct\n",
    "        FROM drug_catalog\n",
    "        ORDER BY medicinalproduct\n",
    "    \"\"\").fetchall()\n",
    "\n",
    "sqlite_result = sqlite_query_distinct_drugs()\n",
    "print(f\"SQLite distinct drugs: {len(sqlite_result)} rows\")\n",
    "print(\"SQLite:\", [r[0] for r in sqlite_result[:10]])\n",
    "\n",
    "# MongoDB\n",
    "def mongo_query_distinct_drugs():\n",
    "    pipeline = [\n",
    "        {\"$unwind\": \"$patient.drug\"},\n",
    "        {\"$group\": {\"_id\": \"$patient.drug.medicinalproduct\"}},\n",
    "        {\"$sort\": {\"_id\": 1}},\n",
    "    ]\n",
    "    return [doc[\"_id\"] for doc in mongo_collection.aggregate(pipeline)]\n",
    "\n",
    "mongo_result = mongo_query_distinct_drugs()\n",
    "print(f\"MongoDB distinct drugs: {len(mongo_result)} rows\")\n",
    "print(\"MongoDB:\", mongo_result[:10])"
   ]
  },
  {
   "cell_type": "code",
   "execution_count": 4,
   "id": "1673da62",
   "metadata": {},
   "outputs": [
    {
     "name": "stdout",
     "output_type": "stream",
     "text": [
      "SQLite and MongoDB distinct drugs match: True\n"
     ]
    }
   ],
   "source": [
    "set_sqlite = set([r[0] for r in sqlite_result])\n",
    "set_mongo = set(mongo_result)\n",
    "print(\"SQLite and MongoDB distinct drugs match:\", set_sqlite == set_mongo)\n"
   ]
  },
  {
   "cell_type": "markdown",
   "id": "b2b2fca8",
   "metadata": {},
   "source": [
    "### --- Query 3: Count Reports Mentioning 'ASPIRIN' ---"
   ]
  },
  {
   "cell_type": "code",
   "execution_count": 5,
   "id": "53e933ae",
   "metadata": {},
   "outputs": [
    {
     "name": "stdout",
     "output_type": "stream",
     "text": [
      "SQLite: 1186\n",
      "MongoDB: 1186\n"
     ]
    }
   ],
   "source": [
    "# SQLite\n",
    "def sqlite_query_aspirin_reports():\n",
    "    return sqlite_cursor.execute(\"\"\"\n",
    "        SELECT COUNT(DISTINCT safetyreportid)\n",
    "        FROM patient_drug_history\n",
    "        JOIN drug_catalog USING(drug_id)\n",
    "        WHERE medicinalproduct = 'ASPIRIN'\n",
    "    \"\"\").fetchone()[0]\n",
    "\n",
    "sqlite_result = sqlite_query_aspirin_reports()\n",
    "print(\"SQLite:\", sqlite_result)\n",
    "\n",
    "# MongoDB\n",
    "def mongo_query_aspirin_reports():\n",
    "    return mongo_collection.count_documents({\n",
    "        \"patient.drug.medicinalproduct\": \"ASPIRIN\"\n",
    "    })\n",
    "\n",
    "mongo_result = mongo_query_aspirin_reports()\n",
    "print(\"MongoDB:\", mongo_result)"
   ]
  },
  {
   "cell_type": "markdown",
   "id": "3d927afc",
   "metadata": {},
   "source": [
    "## 🧩 4. Medium Queries"
   ]
  },
  {
   "cell_type": "markdown",
   "id": "25c05d72",
   "metadata": {},
   "source": [
    "### --- Query 4: Count of Serious Reports by Year ---"
   ]
  },
  {
   "cell_type": "code",
   "execution_count": 6,
   "id": "1394f5a5",
   "metadata": {},
   "outputs": [
    {
     "name": "stdout",
     "output_type": "stream",
     "text": [
      "SQLite: [('2007', 2), ('2008', 2), ('2010', 3), ('2012', 2), ('2013', 1), ('2014', 8), ('2015', 21), ('2016', 48), ('2017', 61), ('2018', 85), ('2019', 151), ('2020', 238), ('2021', 417), ('2022', 840), ('2023', 4016), ('2024', 14480)]\n",
      "MongoDB: [('2007', 2), ('2008', 2), ('2010', 3), ('2012', 2), ('2013', 1), ('2014', 8), ('2015', 21), ('2016', 48), ('2017', 61), ('2018', 85), ('2019', 151), ('2020', 238), ('2021', 417), ('2022', 840), ('2023', 4016), ('2024', 14480)]\n"
     ]
    }
   ],
   "source": [
    "# SQLite\n",
    "def sqlite_query_serious_by_year():\n",
    "    return sqlite_cursor.execute(\"\"\"\n",
    "        SELECT SUBSTR(receivedate, 1, 4) AS year, COUNT(*) AS count\n",
    "        FROM report\n",
    "        WHERE serious = 1\n",
    "        GROUP BY year\n",
    "        ORDER BY year\n",
    "    \"\"\").fetchall()\n",
    "\n",
    "sqlite_result = sqlite_query_serious_by_year()\n",
    "print(\"SQLite:\", sqlite_result)\n",
    "\n",
    "# MongoDB\n",
    "def mongo_query_serious_by_year():\n",
    "    pipeline = [\n",
    "        {\"$match\": {\"serious\": 1}},\n",
    "        {\"$project\": {\"year\": {\"$substr\": [\"$receivedate\", 0, 4]}}},\n",
    "        {\"$group\": {\"_id\": \"$year\", \"count\": {\"$sum\": 1}}},\n",
    "        {\"$sort\": {\"_id\": 1}}\n",
    "    ]\n",
    "    return list(mongo_collection.aggregate(pipeline))\n",
    "\n",
    "mongo_result = mongo_query_serious_by_year()\n",
    "print(\"MongoDB:\", [(d[\"_id\"], d[\"count\"]) for d in mongo_result])"
   ]
  },
  {
   "cell_type": "code",
   "execution_count": 7,
   "id": "ee55a870",
   "metadata": {},
   "outputs": [
    {
     "name": "stdout",
     "output_type": "stream",
     "text": [
      "SQLite top reactions: 6110 rows\n",
      "SQLite: [('Off label use', 2872), ('Drug ineffective', 2170), ('Fatigue', 1707), ('Nausea', 1531), ('Diarrhoea', 1470)]\n",
      "MongoDB top reactions: 6110 rows\n",
      "MongoDB: [('Off label use', 2872), ('Drug ineffective', 2170), ('Fatigue', 1707), ('Nausea', 1531), ('Diarrhoea', 1470)]\n"
     ]
    }
   ],
   "source": [
    "# --- Query 5: Top 5 Most Frequently Reported Reactions ---\n",
    "# 🧪 Step 1: Run once and inspect output\n",
    "\n",
    "# SQLite\n",
    "def sqlite_query_top_reactions():\n",
    "    return sqlite_cursor.execute(\"\"\"\n",
    "        SELECT reactionmeddrapt, COUNT(*) AS count\n",
    "        FROM reaction\n",
    "        GROUP BY reactionmeddrapt\n",
    "        ORDER BY count DESC\n",
    "    \"\"\").fetchall()\n",
    "\n",
    "sqlite_result = sqlite_query_top_reactions()\n",
    "print(f\"SQLite top reactions: {len(sqlite_result)} rows\")\n",
    "print(\"SQLite:\", sqlite_result[:5])\n",
    "\n",
    "\n",
    "# MongoDB\n",
    "def mongo_query_top_reactions():\n",
    "    pipeline = [\n",
    "        {\"$unwind\": \"$patient.reaction\"},\n",
    "        {\"$group\": {\"_id\": \"$patient.reaction.reactionmeddrapt\", \"count\": {\"$sum\": 1}}},\n",
    "        {\"$sort\": {\"count\": -1}},\n",
    "    ]\n",
    "    return list(mongo_collection.aggregate(pipeline))\n",
    "\n",
    "mongo_result = mongo_query_top_reactions()\n",
    "print(f\"MongoDB top reactions: {len(mongo_result)} rows\")\n",
    "print(\"MongoDB:\", [(d[\"_id\"], d[\"count\"]) for d in mongo_result[:5]])\n"
   ]
  },
  {
   "cell_type": "code",
   "execution_count": 8,
   "id": "345c9edb",
   "metadata": {},
   "outputs": [
    {
     "name": "stdout",
     "output_type": "stream",
     "text": [
      "SQLite: [(1, 1.82805), (2, 8.067875), (3, 25.309325581395345), (4, 61.58215625), (5, 81.5316234626301), (6, 74.49267149220489)]\n",
      "MongoDB: [(1, 1.82805), (2, 8.067875), (3, 25.309325581395345), (4, 61.58215625), (5, 81.5316234626301), (6, 74.49267149220489)]\n"
     ]
    }
   ],
   "source": [
    "# --- Query 6: Average Patient Weight by Age Group ---\n",
    "# 🧪 Step 1: Run once and inspect output\n",
    "\n",
    "# SQLite\n",
    "def sqlite_query_avg_weight_by_agegroup():\n",
    "    return sqlite_cursor.execute(\"\"\"\n",
    "        SELECT ag.patientagegroup, AVG(w.patientweight) AS avg_weight\n",
    "        FROM patient_age_group ag\n",
    "        JOIN patient_weight w ON ag.safetyreportid = w.safetyreportid\n",
    "        GROUP BY ag.patientagegroup\n",
    "        ORDER BY ag.patientagegroup\n",
    "    \"\"\").fetchall()\n",
    "\n",
    "sqlite_result = sqlite_query_avg_weight_by_agegroup()\n",
    "print(\"SQLite:\", sqlite_result)\n",
    "\n",
    "# MongoDB\n",
    "def mongo_query_avg_weight_by_agegroup():\n",
    "    pipeline = [\n",
    "        {\"$match\": {\n",
    "            \"patient.patientagegroup\": {\"$ne\": None},\n",
    "            \"patient.patientweight\": {\"$ne\": None}\n",
    "        }},\n",
    "        {\"$group\": {\n",
    "            \"_id\": \"$patient.patientagegroup\",\n",
    "            \"avg_weight\": {\"$avg\": \"$patient.patientweight\"}\n",
    "        }},\n",
    "        {\"$sort\": {\"_id\": 1}}\n",
    "    ]\n",
    "    return list(mongo_collection.aggregate(pipeline))\n",
    "\n",
    "mongo_result = mongo_query_avg_weight_by_agegroup()\n",
    "print(\"MongoDB:\", [(d[\"_id\"], d[\"avg_weight\"]) for d in mongo_result])\n"
   ]
  },
  {
   "cell_type": "markdown",
   "id": "ea4922e4",
   "metadata": {},
   "source": [
    "## 🧠 5. Complex Queries"
   ]
  },
  {
   "cell_type": "markdown",
   "id": "947653c8",
   "metadata": {},
   "source": [
    "### --- Query Q7: Top drugs by suspect role count ---"
   ]
  },
  {
   "cell_type": "code",
   "execution_count": 9,
   "id": "ec9218da",
   "metadata": {},
   "outputs": [
    {
     "name": "stdout",
     "output_type": "stream",
     "text": [
      "SQLite top suspect drugs: 3874 rows\n",
      "SQLite: [('MOUNJARO', 10153), ('DUPIXENT', 3670), ('INFLECTRA', 2556), ('REPATHA', 1769), ('METHOTREXATE', 1666), ('RITUXIMAB', 1322), ('PREDNISONE', 1274), ('VEDOLIZUMAB', 1223), ('ZEPBOUND', 1123), ('POMALYST', 1006)]\n",
      "MongoDB top suspect drugs: 3874 rows\n",
      "MongoDB: [('MOUNJARO', 10153), ('DUPIXENT', 3670), ('INFLECTRA', 2556), ('REPATHA', 1769), ('METHOTREXATE', 1666), ('RITUXIMAB', 1322), ('PREDNISONE', 1274), ('VEDOLIZUMAB', 1223), ('ZEPBOUND', 1123), ('POMALYST', 1006)]\n"
     ]
    }
   ],
   "source": [
    "# SQLite\n",
    "def sqlite_query_top_suspect_drugs():\n",
    "    return sqlite_cursor.execute(\"\"\"\n",
    "        SELECT dc.medicinalproduct, COUNT(*) AS suspect_count\n",
    "        FROM patient_drug_history pdh\n",
    "        JOIN drug_catalog dc ON pdh.drug_id = dc.drug_id\n",
    "        WHERE pdh.drugcharacterization = 1\n",
    "        GROUP BY dc.medicinalproduct\n",
    "        ORDER BY suspect_count DESC\n",
    "    \"\"\").fetchall()\n",
    "\n",
    "sqlite_result = sqlite_query_top_suspect_drugs()\n",
    "print(f\"SQLite top suspect drugs: {len(sqlite_result)} rows\")\n",
    "print(\"SQLite:\", sqlite_result[:10])\n",
    "\n",
    "# MongoDB:\n",
    "def mongo_query_top_suspect_drugs():\n",
    "    pipeline = [\n",
    "        {\"$unwind\": \"$patient.drug\"},\n",
    "        {\"$match\": {\"patient.drug.drugcharacterization\": 1}},\n",
    "        {\"$group\": {\"_id\": \"$patient.drug.medicinalproduct\", \"count\": {\"$sum\": 1}}},\n",
    "        {\"$sort\": {\"count\": -1}},\n",
    "    ]\n",
    "    return list(mongo_collection.aggregate(pipeline))\n",
    "\n",
    "mongo_result = mongo_query_top_suspect_drugs()\n",
    "print(f\"MongoDB top suspect drugs: {len(mongo_result)} rows\")\n",
    "print(\"MongoDB:\", [(d[\"_id\"], d[\"count\"]) for d in mongo_result[:10]])\n"
   ]
  },
  {
   "cell_type": "markdown",
   "id": "0f7fb400",
   "metadata": {},
   "source": [
    "### --- Query Q8: Average number of reactions per report per year ---"
   ]
  },
  {
   "cell_type": "code",
   "execution_count": 10,
   "id": "b7f85213",
   "metadata": {},
   "outputs": [
    {
     "name": "stdout",
     "output_type": "stream",
     "text": [
      "SQLite: [('2007', 1.0), ('2008', 3.0), ('2010', 2.3333333333333335), ('2012', 11.5), ('2013', 3.0), ('2014', 7.4), ('2015', 8.130434782608695), ('2016', 6.290909090909091), ('2017', 8.505494505494505), ('2018', 7.4), ('2019', 9.564516129032258), ('2020', 11.808724832214764), ('2021', 7.774137931034483), ('2022', 5.767915844838922), ('2023', 4.513021909880115), ('2024', 2.8027689689844535)]\n",
      "MongoDB: [('2007', 1.0), ('2008', 3.0), ('2010', 2.3333333333333335), ('2012', 11.5), ('2013', 3.0), ('2014', 7.4), ('2015', 8.130434782608695), ('2016', 6.290909090909091), ('2017', 8.505494505494505), ('2018', 7.4), ('2019', 9.564516129032258), ('2020', 11.808724832214764), ('2021', 7.774137931034483), ('2022', 5.767915844838922), ('2023', 4.513021909880115), ('2024', 2.8027689689844535)]\n"
     ]
    }
   ],
   "source": [
    "# SQLite:\n",
    "\n",
    "def sqlite_query_avg_reactions_by_year():\n",
    "    return sqlite_cursor.execute(\"\"\"\n",
    "        SELECT SUBSTR(r.receivedate, 1, 4) AS year, AVG(rx.count) AS avg_reactions\n",
    "        FROM report r\n",
    "        JOIN (\n",
    "            SELECT safetyreportid, COUNT(*) AS count\n",
    "            FROM reaction\n",
    "            GROUP BY safetyreportid\n",
    "        ) rx ON r.safetyreportid = rx.safetyreportid\n",
    "        GROUP BY year\n",
    "        ORDER BY year\n",
    "    \"\"\").fetchall()\n",
    "\n",
    "sqlite_result = sqlite_query_avg_reactions_by_year()\n",
    "print(\"SQLite:\", sqlite_result)\n",
    "\n",
    "# MongoDB:\n",
    "\n",
    "def mongo_query_avg_reactions_by_year():\n",
    "    pipeline = [\n",
    "        {\"$project\": {\n",
    "            \"year\": {\"$substr\": [\"$receivedate\", 0, 4]},\n",
    "            \"reaction_count\": {\"$size\": {\"$ifNull\": [\"$patient.reaction\", []]}}\n",
    "        }},\n",
    "        {\"$group\": {\"_id\": \"$year\", \"avg_reactions\": {\"$avg\": \"$reaction_count\"}}},\n",
    "        {\"$sort\": {\"_id\": 1}}\n",
    "    ]\n",
    "    return list(mongo_collection.aggregate(pipeline))\n",
    "\n",
    "mongo_result = mongo_query_avg_reactions_by_year()\n",
    "print(\"MongoDB:\", [(d[\"_id\"], d[\"avg_reactions\"]) for d in mongo_result])"
   ]
  },
  {
   "cell_type": "markdown",
   "id": "50540da1",
   "metadata": {},
   "source": [
    "### --- Query Q9: Literature references for serious ASPIRIN reports ---"
   ]
  },
  {
   "cell_type": "code",
   "execution_count": 11,
   "id": "37b3af0f",
   "metadata": {},
   "outputs": [
    {
     "name": "stdout",
     "output_type": "stream",
     "text": [
      "SQLite: [('David D. Gummin, James B. Mowry, Michael C. Beuhler, Daniel A. Spyker, Laura J. Rivers, Ryan Feldman, Kaitlyn Brown, Nathaniel P.T. Pham, Alvin C. Bronstein and Carol DesLauriers. 2022 Annual Report of the National Poison Data System?  (NPDS) from America?s Poison Centers? : 40th Annual Report. Clinical Toxicology. 2023;61:10:717-939,',), ('David D. Gummin, James B. Mowry, Michael C. Beuhler, Daniel A. Spyker, Laura J. Rivers, Ryan Feldman, Kaitlyn Brown, Nathaniel P.T. Pham, Alvin C. Bronstein and Carol DesLauriers. 2022 Annual Report of the National Poison Data System?  (NPDS) from America?s Poison Centers? : 40th Annual Report. Clinical Toxicology. 2023;61:10:717-939',), ('Hennawi AH, Lakhani S, Khan SI, Atam S, Sadiq U, Rigotti J, et al. Dipyridamole-induced STEMI: case report and review of the literature. Glob Cardiol Sci Pract. 2023;3: UNKNOWN-UNKNOWN. doi:UNKNOWN.',), ('Senel AS, Denizhan TK, Kiziltepe M, Kokoglu EO, Tutar N. Recurrent spontaneous pneumothorax under nintedanib treatment in ?nterstitial lung disease associated with systemic sclerosis. Sarcoidosis, Vasculitis, and Diffuse Lung Diseases. 2023;40(4): 2023044. doi:10.36141/svdld.v40i4.14716.',), ('Miranda MS, Bento T. WHEN COLONOSCOPY TIGHTENS THE  KIDNEY. Portuguese Journal of General and Family Medicine. 2023;39(10)',), ('Debono J, Balzan D, Borg JJ, Falzon S, al-Haddad D, Micallef B, et al. Nivolumab safety in renal cell carcinoma: a case report. Journal of Pharmacy Technology. 2023;1-6. doi:10.1177/87551225231218164.',), ('Gao, H.. Fatal acute interstitial pneumonia induced by radiotherapy alone. Quantitative Imaging in Medicine and Surgery. 2024;14(1):1241-1244',), ('Kumar C, Kuhn M, Herrmann K, Leuchten N, Aringer M. Severe methotrexate toxicity in elderly patients under diuretics. RMD Open. 2024 Jan 4;10(1):e003827.',), ('Labrecque AA, Roy S, Young D, Chen SA, Brechenmacher L, Le D et al. Romiplostim drug presence in pregnancy and lactation. Blood. 2023;May 18; 141(20):2537-2540',), ('Hixson H, Schaninger T, Davis KW. Efficacy and Safety of Long-Term Tedizolid Use in an Immunocompromised Patient With Intracranial Abscess.. Infect-Dis-Clin-Pract. 2022;30:No. 2',), ('Hoeltzenbein M, Tissen-Diabate T, Fietz AK, Zinke S, Kayser A, Meister R et al.. Increased rate of birth defects after first trimester use of angiotensin converting enzyme inhibitors -Treatment or hypertension related? An observational cohort study. Pregnancy-Hypertens. 2018;13:65-71.',), ('Bento A, Goncalves T, Leitao J, Santos L and Carvalho A Immuno-mediate necrotizant myosite associated with statute taking: For the purpose of a clinical case.. Clinical cases 2018;:-.',), ('Nikzad N, Jackson L.. Naltrexone Monotherapy for Polycythemia Vera-Associated Pruritis (CS344).. J-Pain-Symptom-Manage. 2023;65(5):e562.',), ('Kovacic S, Roginic S. Acute pancreatitis in two patients with Parkinson^s disease. Cogent-Med. 2017 MAR 31;4(1):1-12.',), ('javed et al..The Mystery of Clopidogrel-Associated Inflammatory Arthritis.Cureus.15-DEC-2023;15 (12):e50564',), ('Cheon EJ, Oh JS. Hemolytic anemia associated with intravenous immunoglobulin in Kawasaki disease. BMC Pediatrics. 2024;24(69):1-6',), ('UNKNOWN, Unknown Unknown. ;:-.',), ('Kumar C, Kuhn M, Herrmann K, Leuchten N, Aringer M. Severe methotrexate toxicity in elderly patients under diuretics. Rheumatic and musculoskeletal diseases. 2024;10(1):1-8. doi:10.1136/ rmdopen-2023-003827',), ('Muram S, Panchendrabose K, Eagles ME, Abdul Salam MS, Eesa M, Agbani EO et al. Natural history of antiplatelet nonresponders undergoing carotid artery stenting. Journal of Neurosurgery. 2023;139 (3):661-669',), ('Sykalo CO, Adigopula S.. Presumed Stroke Recrudescence Delays Diagnosis of Statin-Induced Myonecrosis. Southern Medical Journal. 2022;115:1:95-96',), ('Gummin, D.. 2022 Annual Report of the National Poison Data System (NPDS) from America^s Poison Centers: 40th Annual Report. Clinical Toxicology. 2023;61 (10):717-939',), ('Wood, K.. Coronary Artery Aneurysm Rupture in Kawasaki Disease and SARS-CoV-2 Infection. CASE. 2024;8(2):58-61',), ('Benevolo G, Bertuglia G, Bringhen S, Maletta F, Bruno B. An atypical presentation of visceral leishmaniasis mimicking multiple myeloma relapse. American Journal of Hematology. 2024;99(1):137-41. doi:10.1002/ajh.27147',), ('Holla U, Patil A. SSA mediated endocardial fibroelastosis treated with dexamethasone and IVIG. Indian Journal of Rheumatology. 2023;18 (SUPPLEMENT 2):S358-S359. doi:10.4103/0973-3698.393684',), ('Mehri F, Saberi K, Salehi M, Ghotbizadeh Vahdani F, Larti F, Bakhshandeh A, et al.. Successful Pregnancy after a Heart Transplant in Iran: A Case Report. J-Tehran-Heart-Center. 2023;18(4):294-297',), ('De La Torre L.; Huang K.; Angulo J.E.; Ramirez C.. Surgical Management of a Traumatic Retropharyngeal Hematoma in a Patient on Dual Antiplatelet Therapy: A Case Report. Journal of oral and maxillofacial surgery. 2024;XX:1-5',), ('Shaik A, Deb A, Rashid R, Agrawal S, Smith A. A Rare Case of Samter^s Triad Due to Acetaminophen. American Journal of Respiratory and Critical Care Medicine. 2023;207:1:1-3',), ('Shah SM, Syed Q.. Uncontrolled blood pressure due to treatment of latent tuberculosis. J-Am-Geriatr-Soc. 2020;68 (Suppl. 1):S107',), ('Farrell B. Reducing pill burden and helping with medication awareness to improve adherence. Canadian Pharmacists Journal. 2013;146 (5):262-269',), ('Farrell, B.. Reducing fall risk while managing hypotension, pain, and poor sleep in an 83-year-old woman. Canadian family physician. 2013;59 (12):1300-1305',), ('Kumar, C. Severe methotrexate toxicity in elderly patients under diuretics. RMD Open, Rheumatic + Musculoskeletal Diseases. 2024;10 (1):e003827',), ('Sowder A, Ather A, Birks E, Kolodziej A, Malyala R, Sieg A, et al. Evaluation of adjusted international normalized ratio goal in patients with HeartMate 3 left ventricular assist devices. Artif Organs. 2023;47:1613-1621',), ('Tan X, Chen S, He L, Huang M, Zhang X. Successful osimertinib rechallenge after severe thrombocytopenia caused by osimertinib combined with sitagliptin: a case report. Anti-Cancer Drugs. 2023;34:791-796',), ('Sawafta N, Thalji M, Basal S, Ziadeh M. A rare case of multiple high-grade dural arteriovenous fistulas manifesting as progressive confusion and abnormal behavior. International Journal of Surgery Case Reports. 2023 DEC 22;115:1-4. doi:10.1016/j.ijscr.2023.109179',), ('Haley M, Hoenig A. Medical Management of Stroke-related Hemichorea. Am J Respir Crit Care Med. 2023;207:A3525',), ('Homenda W., Kozlowski D.. How to effectively treat a patient with multimorbidity. GERIATRIA. 2023;17(4):238-250',), ('Mehra I, Kundua S, Isaac S, Chahal K. A Case Presentation and Management of a Rare Skin Lesion. South Med J. 2021;115:48',), ('Hoeltzenbein M, Beck E, Meixner K, Schaefer C, Kreutz R. Pregnancy outcome after exposure to the novel oral anticoagulant rivaroxaban in women at suspected risk for thromboembolic events: a case series from the german embryotox pharmacovigilance centre. Clinical Research in Cardiology. 2016;105(2):117-26',), ('Hara A, Sekiguchi K, Yamaguchi S, Komaki R, Suehiro D, Morimoto K, et al.. O-09-8  Search for diagnostic markers in two cases of immune checkpoint inhibitors-induced myositis.. The 61st Annual Meeting of the Japanese Society of Neurology [Actual. 423',), ('Nan L, Xiwen Y, Huaibin Y, Ningbo W. Clinical observation on the treatment of heart failure with reduced ejection fraction of yang deficiency and blood stasis type by bushen huoxue decoction and wuling powder. CLINICAL JOURNAL OF TRADITIONAL CHINESE MEDICINE. 2024;36(2)',), ('Ghorai RP, Panaiyadiyan S, Singh P, Nayak B. Management conundrum in a case of renal cell cancer (RCC) on dual antiplatelet therapy (DAPT) for recently placed coronary drug-eluting stent (DES). BMJ Case Reports. 2024;17(2):e257750. DOI: 10.1136/bcr-2023-257750.',), ('Ciobanu E, Ungurenasu A, Haba M, Petris A, Mitu O. Clinical implications and current perspectives of statin-induced rhabdomyolysis syndrome-case presentation. Romanian Journal of Cardiology 2022;32(1):41-45.',), ('Apraxine M, Levecque P, Druez P, Dahan K, Cambier JF, Lengele JP. Severe hypomagnesemia induced by proton pump inhibitors: Description of two cases and review of the literature. Louvain Medical. 2019;138(1):446-51.',), ('Hannah CE, Little AJ, Wanat K.A, Fairley JA. Drug-Induced Cutaneous Lupus Erythematosus: A Case Series of Five Patients with Bupropion-Associated Disease. Journal of Clinical Rheumatology. 2021;27(4):E125-E128',), ('Kumar N. RARE CASE OF BRILIANTA RESISTANCE MANIFESTING AS FLOW DIVERTER THROMBOSIS. J NeuroIntervent Surg. 2023;15 (Suppl.):A32-A33',), ('Klonner J, Salchow D. [Unusual anisocoria]. Ophthalmologe. 2020',), ('Hyunkyu Kim.Case Report: Cryptococcal Meningitis in a Previously Immunocompetent Patient with Coronavirus Disease 2019.The American Journal of Tropical Medicine and Hygiene.09 JAN 2024;N/A:1-4',), ('Gilhofer TS, Nestelberger T, Kang M, Inohara T, Alfadhel M, McAlister C, et al. Stroke Prevention With Left Atrial Appendage Closure in Patients With Atrial Fibrillation and Prior Intracranial Hemorrhage. CJC Open. 2023;5(6):404-411',), ('Gong Z, Wei P.. Clinical Value of Different doses of statins in the treatment of acute myocardial infarction. Medical Diet and Health 2023;21(2):7-10.',), ('Breivik H. A case-history illustrates importance of knowledge of drug-interactions when pain-patients are prescribed non-pain drugs for co-morbidities.. Scandinavian Journal of Pain. 2017;17:189-190',), ('Ng JY, Lenton D, Kerridge I, Wong C.. A Case Report of Quinine-Induced Thrombotic Microangiopathy Successfully Treated With Eculizumab.. Journal of Investigative Medicine High Impact Case Reports. 2024;12:1-4',), ('Hoeltzenbein M, Tissen-Diabate T, Fietz A-K, Zinke S, Kayser A, Meister R et al. Increased rate of birth defects after first trimester use of angiotensin converting enzyme inhibitors - Treatment or hypertension related? An observational cohort study. Pregnancy Hypertension. 2018;13:65-71',), ('Appelman-dijkstra N. M.; Winter E. M.; Rjenmark L. et al.. Hypercalcemia during pregnancy: management and outcomes for mother and child.. Endocrine. 2021;1-7',), ('Kim EY, Awh KC, Larocca CA. Everolimus-induced Symmetrical Drug-related Intertriginous and Flexural Exanthema. Acta-Derm-Venereol 2023; 103.',), ('Nigam M.; Harrison D.S.; Bhattacharyya S.. Zebra sign in cerebellar haemorrhage after craniotomy. BMJ Case Reports. 2023;16:12:XX',), ('McGarvey C, Franconi C, Prentice D, Bynevelt M. Metformin-induced encephalopathy: the role of thiamine. Internal Medicine Journal. 2018;48:194-197',), ('Miyakawa R, Louie J, Keh C, Chen L, Javid B, Ernst JD, et al. A teenage girl with altered mental status and paraparesis. J-Clin-Tuberc-Other-Mycobact-Dis 2024; 35.',), ('Gras-Champel V, Masmoudi I, Batteux B, Merle P-E, Liabeuf S, Masmoudi K.. Statin-associated myasthenia:A case report and literature review. Therapie. 2020;75(3):301-309',), ('Sun I.; Lee S.-T.; Chen Y.-G.; Mao Y.-C.; Chen F.-C.; Chen Y.-H.; Tsai S.-H.; Ho C.-H.. Thromboembolic events following a pit viper bite from Protobothrops mucrosquamatus (Taiwan Habu): A report of two cases. Toxicon : official journal of the International Society on Toxinology. 2023;XX:107572',), ('Maktabi L, Shipman D, Reinert JP. Serotonin syndrome and neuroleptic malignant syndrome: A case report of intersecting symptomatology. Mental Health Clinician. 2024;14(1):23-27. doi:10.9740/mhc.2024.02.023',), ('Soares C, Plazak M, Seif K, Brophy R, Dees L, Nevin A, et al. Successful C-Section Delivery at 36 Weeks in a Patient With a Heartmate 3 LVAD. Circulation. 2023;148 (suppl):no pagination (18267)',), ('Waselewski AC, Klumpner TT, Kountanis JA, Sandberg ES, Shumer DE. Dexamethasone for postoperative nausea and vomiting prophylaxis in cesarean delivery and a delayed diagnosis of neonatal congenital adrenal hyperplasia. Int J Obstet Anesth. 2024;0:no pagination',), ('Fjaere LO, Arthurson C, Ringdal KG, Morberg PCW. Metformin-associated lactic acidosis. Tidsskr Nor Legeforen. 2023',), ('Killian M, Barry T, Alsidawi S. Apical Cardiomyopathy in a Transplanted Heart. Circulation. 2023;148(Supplement 1). DOI: 10.1161/circ.148.suppl_1.14918.',), ('Ozker E, Krakowiecki A, Cassino R, Pezzuto C, Chadwick P, Romanelli M.. Unique combination of hyaluronic acid and amino acids in the management of patients with a wide range of moderate-to-severe chronic wounds: Evidence from international clinical practice.. International Wound Journal.. 2024;21(S1):9-24',), ('Ahmad K, Shahzad K, Mahmood MM. Acute myocardial infarction after a negative Dobutamine stress echocardiogram in a patient with end-stage liver disease. J Pak Med Assoc. 2023;73 (4):905-907',), ('Kumar C, Kuhn M, Herrmann K, Leuchten N, Aringer M. Severe methotrexate toxicity in elderlypatients under diuretics. RMD Open, Rheumatic + Musculoskeletal Diseases. 2024;10:1-8',), ('Pashun R, Santucci J, Pagano B, Bier B, Bernard S, Yuriditsky E, et al.. A Case of Bivalirudin Associated Diffuse Alveolar Hemorrhage following Percutaneous Coronary Intervention. Research and Practice in Thrombosis and Haemostasis. 2023;7 (2):100680:1-3',), ('Hoeltzenbein M, Beck E, Meixner K, Schaefer C, Kreutz R.. Pregnancy outcome after exposure to the novel oral anticoagulant rivaroxaban in women at suspected risk for thromboembolic events: a case series from the German Embryotox Pharmacovigilance Centre.. Clinical Research in Cardiology.. 2016;105(2):117-26',), ('Driouch L, Azzouzi A, Ouzeddoun N, Benamar L, Bayahia R, Bouattar T. Pregnancy after a kidney transplant: the experience of the Ibn Sina University Hospital of Rabat^s (Morocco) kidney transplant department. NEPHROLOGY AND TREATMENT. 2023;19(2):109-20',), ('Sedlin E, Lau S, von Bernuth H, Kallinich T, Mayer B. Hemolytic anemia following intravenous immunoglobulins in children with PIMS-TS: Two case reports. Front  Pediatr. 2023;11:1-6',), ('Cheon EJ, Oh JS. Hemolytic anemia associated with intravenous immunoglobulin in Kawasaki disease. BMC Pediatrics. 2024;24:1(69):1-6',), ('Source document (Full text)',), ('Keogh, M.J.. Statin-associated weakness in myasthenia gravis: A case report. Journal of Medical Case Reports. 2010;4:61',), ('Gale, J, Danesh-Meyer HV. Statins can induce myasthenia gravis.. Journal of Clinical Neuroscience. 2014;21(2):195-197',), ('Gao W , Liu C, Guo S, Zhao X. Effects of pregnancy complicated with takayasu arteritis on maternal and fetal outcomes. CHIN J OBSTET GYNECOL. 2022;57(2):91-100',), ('Chen X, Zhang Z, Zhang J, Yu Q, Qiu J, Xiao Y, Chen B and Xu P. Toripalimab plus lenalidomide for central nervous system recurrence in refractory CD5+ diffuse large B-cell lymphoma with MYD88 and CD79B comutation: a case report. DOI: 10.21037/tcr-23-1638. Translational Cancer Research 2024;13 (2):1188-95.',), ('Howell, K.. Management of methotrexate and low-dose acetylsalicylic acid interaction in a child with acute lymphoblastic leukemia and moyamoya disease: A case report. Pediatric Blood and Cancer. 2023;70(10):10.1002/pbc.30521',), ('Coello RA, Kulchetscki RM, Chokr M, de Melo SL, Pisani C, Scanavacca M. Adenosine-sensitive incessant right ventricular outflow tract ventricular tachycardia complicating fulminant lymphocytic myocarditis: Case report. Heart Rhythm Case Rep. 2024;10:100-103',), ('Bier, C., Dickey, K., Bibb, B., Crutcher, A., Sponberg, et al. Outcomes in 14 live births resulting from Pegvaliase-treated pregnancies in PKU-affected females.. Molecular Genetics and Metabolism. 2024;141',), ('Ms M, T B, R L.. colonoscopy squeezes the kidney.. Portuguese Journal of General and Family Medicine. 2023;39 (Suppl. 10):S82',), ('Okuda N, Komiyama H, Nagahori H, Kawahara Y, Abe T, Ogata M, et al.. A case of SHOCK due to perforation by lead 10 months after pacemaker insertion upon oral administration of anticoagulation drug and antiplatelet drug. The 62nd Mtg of the Japanese Association of CVIT Kanto Koushinetsu Chapter. 2023',), ('Killian M, Barry T, Alsidawi S. Apical Cardiomyopathy in a Transplanted Heart. Circulation 2023; 148 (Suppl. 1) abstr. 14918.',)]\n",
      "SQLite count: 83\n",
      "MongoDB: ['Maktabi L, Shipman D, Reinert JP. Serotonin syndrome and neuroleptic malignant syndrome: A case report of intersecting symptomatology. Mental Health Clinician. 2024;14(1):23-27. doi:10.9740/mhc.2024.02.023', 'Holla U, Patil A. SSA mediated endocardial fibroelastosis treated with dexamethasone and IVIG. Indian Journal of Rheumatology. 2023;18 (SUPPLEMENT 2):S358-S359. doi:10.4103/0973-3698.393684', 'Soares C, Plazak M, Seif K, Brophy R, Dees L, Nevin A, et al. Successful C-Section Delivery at 36 Weeks in a Patient With a Heartmate 3 LVAD. Circulation. 2023;148 (suppl):no pagination (18267)', 'Kim EY, Awh KC, Larocca CA. Everolimus-induced Symmetrical Drug-related Intertriginous and Flexural Exanthema. Acta-Derm-Venereol 2023; 103.', 'Killian M, Barry T, Alsidawi S. Apical Cardiomyopathy in a Transplanted Heart. Circulation 2023; 148 (Suppl. 1) abstr. 14918.', 'Cheon EJ, Oh JS. Hemolytic anemia associated with intravenous immunoglobulin in Kawasaki disease. BMC Pediatrics. 2024;24(69):1-6', 'Bento A, Goncalves T, Leitao J, Santos L and Carvalho A Immuno-mediate necrotizant myosite associated with statute taking: For the purpose of a clinical case.. Clinical cases 2018;:-.', 'Kumar C, Kuhn M, Herrmann K, Leuchten N, Aringer M. Severe methotrexate toxicity in elderlypatients under diuretics. RMD Open, Rheumatic + Musculoskeletal Diseases. 2024;10:1-8', 'Labrecque AA, Roy S, Young D, Chen SA, Brechenmacher L, Le D et al. Romiplostim drug presence in pregnancy and lactation. Blood. 2023;May 18; 141(20):2537-2540', 'UNKNOWN, Unknown Unknown. ;:-.', 'Senel AS, Denizhan TK, Kiziltepe M, Kokoglu EO, Tutar N. Recurrent spontaneous pneumothorax under nintedanib treatment in ?nterstitial lung disease associated with systemic sclerosis. Sarcoidosis, Vasculitis, and Diffuse Lung Diseases. 2023;40(4): 2023044. doi:10.36141/svdld.v40i4.14716.', 'Gummin, D.. 2022 Annual Report of the National Poison Data System (NPDS) from America^s Poison Centers: 40th Annual Report. Clinical Toxicology. 2023;61 (10):717-939', 'Appelman-dijkstra N. M.; Winter E. M.; Rjenmark L. et al.. Hypercalcemia during pregnancy: management and outcomes for mother and child.. Endocrine. 2021;1-7', 'Source document (Full text)', 'Hixson H, Schaninger T, Davis KW. Efficacy and Safety of Long-Term Tedizolid Use in an Immunocompromised Patient With Intracranial Abscess.. Infect-Dis-Clin-Pract. 2022;30:No. 2', 'Kumar C, Kuhn M, Herrmann K, Leuchten N, Aringer M. Severe methotrexate toxicity in elderly patients under diuretics. Rheumatic and musculoskeletal diseases. 2024;10(1):1-8. doi:10.1136/ rmdopen-2023-003827', 'Gao W , Liu C, Guo S, Zhao X. Effects of pregnancy complicated with takayasu arteritis on maternal and fetal outcomes. CHIN J OBSTET GYNECOL. 2022;57(2):91-100', 'Kumar C, Kuhn M, Herrmann K, Leuchten N, Aringer M. Severe methotrexate toxicity in elderly patients under diuretics. RMD Open. 2024 Jan 4;10(1):e003827.', 'javed et al..The Mystery of Clopidogrel-Associated Inflammatory Arthritis.Cureus.15-DEC-2023;15 (12):e50564', 'Nan L, Xiwen Y, Huaibin Y, Ningbo W. Clinical observation on the treatment of heart failure with reduced ejection fraction of yang deficiency and blood stasis type by bushen huoxue decoction and wuling powder. CLINICAL JOURNAL OF TRADITIONAL CHINESE MEDICINE. 2024;36(2)', 'Killian M, Barry T, Alsidawi S. Apical Cardiomyopathy in a Transplanted Heart. Circulation. 2023;148(Supplement 1). DOI: 10.1161/circ.148.suppl_1.14918.', 'Ozker E, Krakowiecki A, Cassino R, Pezzuto C, Chadwick P, Romanelli M.. Unique combination of hyaluronic acid and amino acids in the management of patients with a wide range of moderate-to-severe chronic wounds: Evidence from international clinical practice.. International Wound Journal.. 2024;21(S1):9-24', 'Ahmad K, Shahzad K, Mahmood MM. Acute myocardial infarction after a negative Dobutamine stress echocardiogram in a patient with end-stage liver disease. J Pak Med Assoc. 2023;73 (4):905-907', 'Homenda W., Kozlowski D.. How to effectively treat a patient with multimorbidity. GERIATRIA. 2023;17(4):238-250', 'Haley M, Hoenig A. Medical Management of Stroke-related Hemichorea. Am J Respir Crit Care Med. 2023;207:A3525', 'Gilhofer TS, Nestelberger T, Kang M, Inohara T, Alfadhel M, McAlister C, et al. Stroke Prevention With Left Atrial Appendage Closure in Patients With Atrial Fibrillation and Prior Intracranial Hemorrhage. CJC Open. 2023;5(6):404-411', 'Keogh, M.J.. Statin-associated weakness in myasthenia gravis: A case report. Journal of Medical Case Reports. 2010;4:61', 'Benevolo G, Bertuglia G, Bringhen S, Maletta F, Bruno B. An atypical presentation of visceral leishmaniasis mimicking multiple myeloma relapse. American Journal of Hematology. 2024;99(1):137-41. doi:10.1002/ajh.27147', 'Farrell B. Reducing pill burden and helping with medication awareness to improve adherence. Canadian Pharmacists Journal. 2013;146 (5):262-269', 'Farrell, B.. Reducing fall risk while managing hypotension, pain, and poor sleep in an 83-year-old woman. Canadian family physician. 2013;59 (12):1300-1305', 'Hoeltzenbein M, Tissen-Diabate T, Fietz AK, Zinke S, Kayser A, Meister R et al.. Increased rate of birth defects after first trimester use of angiotensin converting enzyme inhibitors -Treatment or hypertension related? An observational cohort study. Pregnancy-Hypertens. 2018;13:65-71.', 'Fjaere LO, Arthurson C, Ringdal KG, Morberg PCW. Metformin-associated lactic acidosis. Tidsskr Nor Legeforen. 2023', 'Hyunkyu Kim.Case Report: Cryptococcal Meningitis in a Previously Immunocompetent Patient with Coronavirus Disease 2019.The American Journal of Tropical Medicine and Hygiene.09 JAN 2024;N/A:1-4', 'Nigam M.; Harrison D.S.; Bhattacharyya S.. Zebra sign in cerebellar haemorrhage after craniotomy. BMJ Case Reports. 2023;16:12:XX', 'Hoeltzenbein M, Tissen-Diabate T, Fietz A-K, Zinke S, Kayser A, Meister R et al. Increased rate of birth defects after first trimester use of angiotensin converting enzyme inhibitors - Treatment or hypertension related? An observational cohort study. Pregnancy Hypertension. 2018;13:65-71', 'Gras-Champel V, Masmoudi I, Batteux B, Merle P-E, Liabeuf S, Masmoudi K.. Statin-associated myasthenia:A case report and literature review. Therapie. 2020;75(3):301-309', 'Hoeltzenbein M, Beck E, Meixner K, Schaefer C, Kreutz R. Pregnancy outcome after exposure to the novel oral anticoagulant rivaroxaban in women at suspected risk for thromboembolic events: a case series from the german embryotox pharmacovigilance centre. Clinical Research in Cardiology. 2016;105(2):117-26', 'Sykalo CO, Adigopula S.. Presumed Stroke Recrudescence Delays Diagnosis of Statin-Induced Myonecrosis. Southern Medical Journal. 2022;115:1:95-96', 'Miyakawa R, Louie J, Keh C, Chen L, Javid B, Ernst JD, et al. A teenage girl with altered mental status and paraparesis. J-Clin-Tuberc-Other-Mycobact-Dis 2024; 35.', 'Pashun R, Santucci J, Pagano B, Bier B, Bernard S, Yuriditsky E, et al.. A Case of Bivalirudin Associated Diffuse Alveolar Hemorrhage following Percutaneous Coronary Intervention. Research and Practice in Thrombosis and Haemostasis. 2023;7 (2):100680:1-3', 'Sedlin E, Lau S, von Bernuth H, Kallinich T, Mayer B. Hemolytic anemia following intravenous immunoglobulins in children with PIMS-TS: Two case reports. Front  Pediatr. 2023;11:1-6', 'Wood, K.. Coronary Artery Aneurysm Rupture in Kawasaki Disease and SARS-CoV-2 Infection. CASE. 2024;8(2):58-61', 'De La Torre L.; Huang K.; Angulo J.E.; Ramirez C.. Surgical Management of a Traumatic Retropharyngeal Hematoma in a Patient on Dual Antiplatelet Therapy: A Case Report. Journal of oral and maxillofacial surgery. 2024;XX:1-5', 'Ghorai RP, Panaiyadiyan S, Singh P, Nayak B. Management conundrum in a case of renal cell cancer (RCC) on dual antiplatelet therapy (DAPT) for recently placed coronary drug-eluting stent (DES). BMJ Case Reports. 2024;17(2):e257750. DOI: 10.1136/bcr-2023-257750.', 'Debono J, Balzan D, Borg JJ, Falzon S, al-Haddad D, Micallef B, et al. Nivolumab safety in renal cell carcinoma: a case report. Journal of Pharmacy Technology. 2023;1-6. doi:10.1177/87551225231218164.', 'Nikzad N, Jackson L.. Naltrexone Monotherapy for Polycythemia Vera-Associated Pruritis (CS344).. J-Pain-Symptom-Manage. 2023;65(5):e562.', 'Klonner J, Salchow D. [Unusual anisocoria]. Ophthalmologe. 2020', 'Driouch L, Azzouzi A, Ouzeddoun N, Benamar L, Bayahia R, Bouattar T. Pregnancy after a kidney transplant: the experience of the Ibn Sina University Hospital of Rabat^s (Morocco) kidney transplant department. NEPHROLOGY AND TREATMENT. 2023;19(2):109-20', 'Chen X, Zhang Z, Zhang J, Yu Q, Qiu J, Xiao Y, Chen B and Xu P. Toripalimab plus lenalidomide for central nervous system recurrence in refractory CD5+ diffuse large B-cell lymphoma with MYD88 and CD79B comutation: a case report. DOI: 10.21037/tcr-23-1638. Translational Cancer Research 2024;13 (2):1188-95.', 'Hoeltzenbein M, Beck E, Meixner K, Schaefer C, Kreutz R.. Pregnancy outcome after exposure to the novel oral anticoagulant rivaroxaban in women at suspected risk for thromboembolic events: a case series from the German Embryotox Pharmacovigilance Centre.. Clinical Research in Cardiology.. 2016;105(2):117-26', 'Coello RA, Kulchetscki RM, Chokr M, de Melo SL, Pisani C, Scanavacca M. Adenosine-sensitive incessant right ventricular outflow tract ventricular tachycardia complicating fulminant lymphocytic myocarditis: Case report. Heart Rhythm Case Rep. 2024;10:100-103', 'Gong Z, Wei P.. Clinical Value of Different doses of statins in the treatment of acute myocardial infarction. Medical Diet and Health 2023;21(2):7-10.', 'Sowder A, Ather A, Birks E, Kolodziej A, Malyala R, Sieg A, et al. Evaluation of adjusted international normalized ratio goal in patients with HeartMate 3 left ventricular assist devices. Artif Organs. 2023;47:1613-1621', 'David D. Gummin, James B. Mowry, Michael C. Beuhler, Daniel A. Spyker, Laura J. Rivers, Ryan Feldman, Kaitlyn Brown, Nathaniel P.T. Pham, Alvin C. Bronstein and Carol DesLauriers. 2022 Annual Report of the National Poison Data System?  (NPDS) from America?s Poison Centers? : 40th Annual Report. Clinical Toxicology. 2023;61:10:717-939', 'Hennawi AH, Lakhani S, Khan SI, Atam S, Sadiq U, Rigotti J, et al. Dipyridamole-induced STEMI: case report and review of the literature. Glob Cardiol Sci Pract. 2023;3: UNKNOWN-UNKNOWN. doi:UNKNOWN.', 'Tan X, Chen S, He L, Huang M, Zhang X. Successful osimertinib rechallenge after severe thrombocytopenia caused by osimertinib combined with sitagliptin: a case report. Anti-Cancer Drugs. 2023;34:791-796', 'Apraxine M, Levecque P, Druez P, Dahan K, Cambier JF, Lengele JP. Severe hypomagnesemia induced by proton pump inhibitors: Description of two cases and review of the literature. Louvain Medical. 2019;138(1):446-51.', 'Mehri F, Saberi K, Salehi M, Ghotbizadeh Vahdani F, Larti F, Bakhshandeh A, et al.. Successful Pregnancy after a Heart Transplant in Iran: A Case Report. J-Tehran-Heart-Center. 2023;18(4):294-297', 'Waselewski AC, Klumpner TT, Kountanis JA, Sandberg ES, Shumer DE. Dexamethasone for postoperative nausea and vomiting prophylaxis in cesarean delivery and a delayed diagnosis of neonatal congenital adrenal hyperplasia. Int J Obstet Anesth. 2024;0:no pagination', 'Okuda N, Komiyama H, Nagahori H, Kawahara Y, Abe T, Ogata M, et al.. A case of SHOCK due to perforation by lead 10 months after pacemaker insertion upon oral administration of anticoagulation drug and antiplatelet drug. The 62nd Mtg of the Japanese Association of CVIT Kanto Koushinetsu Chapter. 2023', 'Ciobanu E, Ungurenasu A, Haba M, Petris A, Mitu O. Clinical implications and current perspectives of statin-induced rhabdomyolysis syndrome-case presentation. Romanian Journal of Cardiology 2022;32(1):41-45.', 'David D. Gummin, James B. Mowry, Michael C. Beuhler, Daniel A. Spyker, Laura J. Rivers, Ryan Feldman, Kaitlyn Brown, Nathaniel P.T. Pham, Alvin C. Bronstein and Carol DesLauriers. 2022 Annual Report of the National Poison Data System?  (NPDS) from America?s Poison Centers? : 40th Annual Report. Clinical Toxicology. 2023;61:10:717-939,', 'McGarvey C, Franconi C, Prentice D, Bynevelt M. Metformin-induced encephalopathy: the role of thiamine. Internal Medicine Journal. 2018;48:194-197', 'Hara A, Sekiguchi K, Yamaguchi S, Komaki R, Suehiro D, Morimoto K, et al.. O-09-8  Search for diagnostic markers in two cases of immune checkpoint inhibitors-induced myositis.. The 61st Annual Meeting of the Japanese Society of Neurology [Actual. 423', 'Muram S, Panchendrabose K, Eagles ME, Abdul Salam MS, Eesa M, Agbani EO et al. Natural history of antiplatelet nonresponders undergoing carotid artery stenting. Journal of Neurosurgery. 2023;139 (3):661-669', 'Gale, J, Danesh-Meyer HV. Statins can induce myasthenia gravis.. Journal of Clinical Neuroscience. 2014;21(2):195-197', 'Bier, C., Dickey, K., Bibb, B., Crutcher, A., Sponberg, et al. Outcomes in 14 live births resulting from Pegvaliase-treated pregnancies in PKU-affected females.. Molecular Genetics and Metabolism. 2024;141', 'Shah SM, Syed Q.. Uncontrolled blood pressure due to treatment of latent tuberculosis. J-Am-Geriatr-Soc. 2020;68 (Suppl. 1):S107', 'Shaik A, Deb A, Rashid R, Agrawal S, Smith A. A Rare Case of Samter^s Triad Due to Acetaminophen. American Journal of Respiratory and Critical Care Medicine. 2023;207:1:1-3', 'Hannah CE, Little AJ, Wanat K.A, Fairley JA. Drug-Induced Cutaneous Lupus Erythematosus: A Case Series of Five Patients with Bupropion-Associated Disease. Journal of Clinical Rheumatology. 2021;27(4):E125-E128', 'Breivik H. A case-history illustrates importance of knowledge of drug-interactions when pain-patients are prescribed non-pain drugs for co-morbidities.. Scandinavian Journal of Pain. 2017;17:189-190', 'Miranda MS, Bento T. WHEN COLONOSCOPY TIGHTENS THE  KIDNEY. Portuguese Journal of General and Family Medicine. 2023;39(10)', 'Mehra I, Kundua S, Isaac S, Chahal K. A Case Presentation and Management of a Rare Skin Lesion. South Med J. 2021;115:48', 'Howell, K.. Management of methotrexate and low-dose acetylsalicylic acid interaction in a child with acute lymphoblastic leukemia and moyamoya disease: A case report. Pediatric Blood and Cancer. 2023;70(10):10.1002/pbc.30521', 'Kumar, C. Severe methotrexate toxicity in elderly patients under diuretics. RMD Open, Rheumatic + Musculoskeletal Diseases. 2024;10 (1):e003827', 'Sawafta N, Thalji M, Basal S, Ziadeh M. A rare case of multiple high-grade dural arteriovenous fistulas manifesting as progressive confusion and abnormal behavior. International Journal of Surgery Case Reports. 2023 DEC 22;115:1-4. doi:10.1016/j.ijscr.2023.109179', 'Kumar N. RARE CASE OF BRILIANTA RESISTANCE MANIFESTING AS FLOW DIVERTER THROMBOSIS. J NeuroIntervent Surg. 2023;15 (Suppl.):A32-A33', 'Cheon EJ, Oh JS. Hemolytic anemia associated with intravenous immunoglobulin in Kawasaki disease. BMC Pediatrics. 2024;24:1(69):1-6', 'Ms M, T B, R L.. colonoscopy squeezes the kidney.. Portuguese Journal of General and Family Medicine. 2023;39 (Suppl. 10):S82', 'Gao, H.. Fatal acute interstitial pneumonia induced by radiotherapy alone. Quantitative Imaging in Medicine and Surgery. 2024;14(1):1241-1244', 'Sun I.; Lee S.-T.; Chen Y.-G.; Mao Y.-C.; Chen F.-C.; Chen Y.-H.; Tsai S.-H.; Ho C.-H.. Thromboembolic events following a pit viper bite from Protobothrops mucrosquamatus (Taiwan Habu): A report of two cases. Toxicon : official journal of the International Society on Toxinology. 2023;XX:107572', 'Kovacic S, Roginic S. Acute pancreatitis in two patients with Parkinson^s disease. Cogent-Med. 2017 MAR 31;4(1):1-12.', 'Ng JY, Lenton D, Kerridge I, Wong C.. A Case Report of Quinine-Induced Thrombotic Microangiopathy Successfully Treated With Eculizumab.. Journal of Investigative Medicine High Impact Case Reports. 2024;12:1-4']\n",
      "MongoDB count: 83\n"
     ]
    }
   ],
   "source": [
    "# SQLite:\n",
    "\n",
    "def sqlite_query_litrefs_serious_aspirin():\n",
    "    return sqlite_cursor.execute(\"\"\"\n",
    "        SELECT DISTINCT pr.literature_reference\n",
    "        FROM report r\n",
    "        JOIN patient_drug_history pdh ON r.safetyreportid = pdh.safetyreportid\n",
    "        JOIN drug_catalog dc ON pdh.drug_id = dc.drug_id\n",
    "        JOIN primarysource_literature_reference pr ON r.safetyreportid = pr.safetyreportid\n",
    "        WHERE dc.medicinalproduct = 'ASPIRIN' AND r.serious = 1\n",
    "    \"\"\").fetchall()\n",
    "\n",
    "sqlite_result = sqlite_query_litrefs_serious_aspirin()\n",
    "print(\"SQLite:\", sqlite_result)\n",
    "print(\"SQLite count:\", len(sqlite_result))\n",
    "\n",
    "# MongoDB:\n",
    "\n",
    "def mongo_query_litrefs_serious_aspirin():\n",
    "    pipeline = [\n",
    "        {\"$match\": {\"serious\": 1, \"patient.drug.medicinalproduct\": \"ASPIRIN\"}},\n",
    "        {\"$project\": {\"primarysource.literaturereference\": 1}},\n",
    "        {\"$unwind\": \"$primarysource.literaturereference\"},\n",
    "        {\"$group\": {\"_id\": \"$primarysource.literaturereference\"}}\n",
    "    ]\n",
    "    return list(mongo_collection.aggregate(pipeline))\n",
    "\n",
    "mongo_result = mongo_query_litrefs_serious_aspirin()\n",
    "print(\"MongoDB:\", [d[\"_id\"] for d in mongo_result])\n",
    "print(\"MongoDB count:\", len(mongo_result))"
   ]
  },
  {
   "cell_type": "code",
   "execution_count": 12,
   "id": "122888bb",
   "metadata": {},
   "outputs": [
    {
     "name": "stdout",
     "output_type": "stream",
     "text": [
      "SQLite and MongoDB literature references match: True\n"
     ]
    }
   ],
   "source": [
    "sqlite_result_set = set([r[0] for r in sqlite_result])\n",
    "mongo_result_set = set([d[\"_id\"] for d in mongo_result])\n",
    "print(\"SQLite and MongoDB literature references match:\", sqlite_result_set == mongo_result_set)"
   ]
  },
  {
   "cell_type": "markdown",
   "id": "4c218b16",
   "metadata": {},
   "source": [
    "### --- Query Q10: Top 10 drugs most frequently associated with “DEATH” reactions"
   ]
  },
  {
   "cell_type": "code",
   "execution_count": 13,
   "id": "49f3fbad",
   "metadata": {},
   "outputs": [],
   "source": [
    "# # SQLite\n",
    "\n",
    "# def sqlite_query_top_10_deadly():\n",
    "#     return sqlite_cursor.execute(\"\"\"\n",
    "#         SELECT dc.medicinalproduct, COUNT(*) AS count\n",
    "#         FROM patient_drug_history pdh\n",
    "#         JOIN drug_catalog dc ON pdh.drug_id = dc.drug_id\n",
    "#         JOIN reaction r ON r.safetyreportid = pdh.safetyreportid\n",
    "#         WHERE r.reactionmeddrapt LIKE '%DEATH%'\n",
    "#         GROUP BY dc.medicinalproduct\n",
    "#         ORDER BY count DESC\n",
    "#     \"\"\").fetchall()\n",
    "\n",
    "# sqlite_result = sqlite_query_top_10_deadly()\n",
    "# print(\"SQLite:\", sqlite_result[:10])\n",
    "# print(\"SQLite count:\", len(sqlite_result))\n",
    "\n",
    "\n",
    "\n",
    "# def mongo_query_top_10_deadly():\n",
    "#     pipeline = [\n",
    "#         {\"$unwind\": \"$patient.reaction\"},\n",
    "#         {\"$match\": {\"patient.reaction.reactionmeddrapt\": {\"$regex\": \"Death\"}}},\n",
    "#         {\"$unwind\": \"$patient.drug\"},\n",
    "#         {\"$group\": {\"_id\": \"$patient.drug.medicinalproduct\", \"count\": {\"$sum\": 1}}},\n",
    "#         {\"$sort\": {\"count\": -1}},\n",
    "#     ]\n",
    "#     return list(mongo_collection.aggregate(pipeline))\n",
    "# mongo_result = mongo_query_top_10_deadly()\n",
    "# # print(\"MongoDB:\", [(d[\"_id\"], d[\"count\"]) for d in mongo_result[:10]])\n",
    "# print(\"MongoDB:\", mongo_result[:10])\n",
    "# print(\"MongoDB count:\", len(mongo_result))"
   ]
  },
  {
   "cell_type": "code",
   "execution_count": 14,
   "id": "f4538d55",
   "metadata": {},
   "outputs": [
    {
     "name": "stdout",
     "output_type": "stream",
     "text": [
      "SQLite: [('Death', 1282), ('Completed suicide', 218), ('Off label use', 205), ('Toxicity to various agents', 198), ('Drug abuse', 169), ('Pneumonia', 117), ('Drug ineffective', 96), ('Diarrhoea', 84), ('Sepsis', 82), ('Nausea', 80)]\n",
      "SQLite count: 1700\n",
      "MongoDB: [('Death', 1282), ('Completed suicide', 218), ('Off label use', 205), ('Toxicity to various agents', 198), ('Drug abuse', 169), ('Pneumonia', 117), ('Drug ineffective', 96), ('Diarrhoea', 84), ('Sepsis', 82), ('Dyspnoea', 80)]\n",
      "MongoDB count: 1700\n"
     ]
    }
   ],
   "source": [
    "# --- Query Q10 (Revised): Reactions in Death-Associated Reports ---\n",
    "# 🧪 Step 1: Run once and inspect output\n",
    "\n",
    "# SQLite\n",
    "def sqlite_query_reactions_with_death_flag():\n",
    "    return sqlite_cursor.execute(\"\"\"\n",
    "        SELECT r.reactionmeddrapt, COUNT(*) AS count\n",
    "        FROM report rep\n",
    "        JOIN reaction r ON rep.safetyreportid = r.safetyreportid\n",
    "        WHERE rep.seriousnessdeath = 1\n",
    "        GROUP BY r.reactionmeddrapt\n",
    "        ORDER BY count DESC\n",
    "    \"\"\").fetchall()\n",
    "\n",
    "sqlite_result = sqlite_query_reactions_with_death_flag()\n",
    "print(\"SQLite:\", sqlite_result[:10])\n",
    "print(\"SQLite count:\", len(sqlite_result))\n",
    "\n",
    "# MongoDB\n",
    "def mongo_query_reactions_with_death_flag():\n",
    "    pipeline = [\n",
    "        {\"$match\": {\"seriousnessdeath\": 1}},\n",
    "        {\"$unwind\": \"$patient.reaction\"},\n",
    "        {\"$group\": {\"_id\": \"$patient.reaction.reactionmeddrapt\", \"count\": {\"$sum\": 1}}},\n",
    "        {\"$sort\": {\"count\": -1}},\n",
    "    ]\n",
    "    return list(mongo_collection.aggregate(pipeline))\n",
    "\n",
    "mongo_result = mongo_query_reactions_with_death_flag()\n",
    "print(\"MongoDB:\", [(d[\"_id\"], d[\"count\"]) for d in mongo_result[:10]])\n",
    "print(\"MongoDB count:\", len(mongo_result))\n"
   ]
  },
  {
   "cell_type": "markdown",
   "id": "15e262c5",
   "metadata": {},
   "source": [
    "### 🔴 FOR THE FUTURE. Distribution of serious reports per route of drug"
   ]
  },
  {
   "cell_type": "code",
   "execution_count": 15,
   "id": "f673af20",
   "metadata": {},
   "outputs": [
    {
     "name": "stdout",
     "output_type": "stream",
     "text": [
      "SQLite: [('ORAL', 16122), ('INTRAVENOUS', 11007), ('SUBCUTANEOUS', 5825), ('INTRAMUSCULAR', 4561), ('TOPICAL', 3183), ('RECTAL', 2700), ('OPHTHALMIC', 2194), ('NASAL', 1462), ('INTRATHECAL', 1446), ('INTRA-ARTERIAL', 1116)]\n",
      "SQLite count: 57\n",
      "MongoDB: [('ORAL', 16122), ('INTRAVENOUS', 11007), ('SUBCUTANEOUS', 5825), ('INTRAMUSCULAR', 4561), ('TOPICAL', 3183), ('RECTAL', 2700), ('OPHTHALMIC', 2194), ('NASAL', 1462), ('INTRATHECAL', 1446), ('INTRA-ARTERIAL', 1116), ('RESPIRATORY (INHALATION)', 1114), ('TRANSDERMAL', 1036), ('SUBLINGUAL', 1006), ('INTRAVITREAL', 924), ('INTRACANALICULAR', 765), ('CUTANEOUS', 683), ('EXTRACORPOREAL', 505), ('BUCCAL', 409), ('PARENTERAL', 389), ('VAGINAL', 361), ('INTRAVASCULAR', 312), ('EPIDURAL', 296), ('PERCUTANEOUS', 257), ('IRRIGATION', 256), ('AURICULAR (OTIC)', 218), ('INFILTRATION', 188), ('PERINEURAL', 181), ('INTRA-ARTICULAR', 170), ('SUBMUCOSAL', 136), ('INTRAVENTRICULAR', 126), ('INTRALESIONAL', 121), ('SOFT TISSUE', 118), ('INTRAOCULAR', 115), ('DENTAL', 98), ('INTRAPERITONEAL', 98), ('INTRAUTERINE', 81), ('INTRACAUDAL', 48), ('RETROBULBAR', 43), ('INTRASINAL', 42), ('INTRACAVITARY', 41), ('INTRADERMAL', 41), ('INTRAVESICAL', 41), ('OROPHARYNGEAL', 39), ('INTRAPLEURAL', 25), ('TRANSMUCOSAL', 25), ('INTRASYNOVIAL', 24), ('ENTERAL', 21), ('INTRAMENINGEAL', 19), ('SUBARACHNOID', 17), ('PERIODONTAL', 8)]\n",
      "MongoDB count: 57\n"
     ]
    }
   ],
   "source": [
    "# SQLite Querie\n",
    "\n",
    "def sqlite_query_dist_serious_route():\n",
    "    return sqlite_cursor.execute(\"\"\"\n",
    "        SELECT o.route, COUNT(DISTINCT r.safetyreportid) AS serious_count\n",
    "        FROM report r\n",
    "        JOIN patient_drug_history pdh ON r.safetyreportid = pdh.safetyreportid\n",
    "        JOIN drug_fda_route o ON pdh.drug_id = o.drug_id\n",
    "        WHERE r.serious = 1\n",
    "        GROUP BY o.route\n",
    "        ORDER BY serious_count DESC\n",
    "    \"\"\").fetchall()\n",
    "\n",
    "sqlite_result = sqlite_query_dist_serious_route()\n",
    "print(\"SQLite:\", sqlite_result[:10])\n",
    "print(\"SQLite count:\", len(sqlite_result))\n",
    "\n",
    "def mongo_query_dist_serious_route():\n",
    "    pipeline = [\n",
    "        {\"$match\": {\"serious\": 1}},\n",
    "        {\"$unwind\": \"$patient.drug\"},\n",
    "        {\"$unwind\": \"$patient.drug.openfda.route\"},\n",
    "        {\"$group\": {\n",
    "            \"_id\": {\n",
    "                \"report_id\": \"$safetyreportid\",\n",
    "                \"route\": \"$patient.drug.openfda.route\"\n",
    "            }\n",
    "        }},\n",
    "        {\"$group\": {\n",
    "            \"_id\": \"$_id.route\",\n",
    "            \"count\": {\"$sum\": 1}\n",
    "        }},\n",
    "        {\"$sort\": {\"count\": -1}}\n",
    "    ]\n",
    "    return list(mongo_collection.aggregate(pipeline))\n",
    "mongo_result = mongo_query_dist_serious_route()\n",
    "print(\"MongoDB:\", [(d[\"_id\"], d[\"count\"]) for d in mongo_result[:50]])\n",
    "print(\"MongoDB count:\", len(mongo_result))\n"
   ]
  },
  {
   "cell_type": "code",
   "execution_count": 16,
   "id": "572a453a",
   "metadata": {},
   "outputs": [
    {
     "name": "stdout",
     "output_type": "stream",
     "text": [
      "SQLite and MongoDB literature references match: True\n"
     ]
    }
   ],
   "source": [
    "sqlite_result_set = set([r[0] for r in sqlite_result])\n",
    "mongo_result_set = set([d[\"_id\"] for d in mongo_result])\n",
    "print(\"SQLite and MongoDB literature references match:\", sqlite_result_set == mongo_result_set)"
   ]
  },
  {
   "cell_type": "markdown",
   "id": "f8567962",
   "metadata": {},
   "source": [
    "### Q11. Count of reports where multiple drugs were marked as \"Suspect\""
   ]
  },
  {
   "cell_type": "code",
   "execution_count": 17,
   "id": "be422f14",
   "metadata": {},
   "outputs": [
    {
     "name": "stdout",
     "output_type": "stream",
     "text": [
      "SQLite: [(17317,)]\n",
      "SQLite count: 1\n",
      "MongoDB: [{'multi_suspect_reports': 17317}]\n",
      "MongoDB count: 1\n"
     ]
    }
   ],
   "source": [
    "# SQLite Queries\n",
    "def sqlite_multiple_suspect():\n",
    "    return sqlite_cursor.execute(\"\"\"\n",
    "        SELECT COUNT(*)\n",
    "        FROM (\n",
    "            SELECT safetyreportid\n",
    "            FROM patient_drug_history\n",
    "            WHERE drugcharacterization = 1\n",
    "            GROUP BY safetyreportid\n",
    "            HAVING COUNT(*) > 1\n",
    "        )\n",
    "\n",
    "    \"\"\").fetchall()\n",
    "\n",
    "sqlite_result = sqlite_multiple_suspect()\n",
    "print(\"SQLite:\", sqlite_result)\n",
    "print(\"SQLite count:\", len(sqlite_result))\n",
    "\n",
    "def mongo_multiple_suspect():\n",
    "    pipeline = [\n",
    "        {\"$project\": {\n",
    "            \"suspect_count\": {\n",
    "                \"$size\": {\n",
    "                    \"$filter\": {\n",
    "                        \"input\": \"$patient.drug\",\n",
    "                        \"as\": \"d\",\n",
    "                        \"cond\": {\"$eq\": [\"$$d.drugcharacterization\", 1]}\n",
    "                    }\n",
    "                }\n",
    "            }\n",
    "        }},\n",
    "        {\"$match\": {\"suspect_count\": {\"$gt\": 1}}},\n",
    "        {\"$count\": \"multi_suspect_reports\"}\n",
    "    ]\n",
    "    return list(mongo_collection.aggregate(pipeline))\n",
    "mongo_result = mongo_multiple_suspect()\n",
    "print(\"MongoDB:\", mongo_result)\n",
    "print(\"MongoDB count:\", len(mongo_result))\n"
   ]
  },
  {
   "cell_type": "markdown",
   "id": "5b0c4adb",
   "metadata": {},
   "source": [
    "### --- Query 12: Drugs NEVER marked as suspect (only concomitant or interacting) ---"
   ]
  },
  {
   "cell_type": "code",
   "execution_count": 18,
   "id": "dc643b37",
   "metadata": {},
   "outputs": [
    {
     "name": "stdout",
     "output_type": "stream",
     "text": [
      "SQLite: ['VIT D [VITAMIN D NOS]', 'CLAVULANATE POTASSIUM', 'CAFFEINE CITRATE', 'Atasol', 'ACETAMINOPHEN\\\\CAFFEINE\\\\CODEINE PHOSPHATE', 'FIBER LAX', 'GASTER', 'BEECOM', 'PLASMA SOLUTION A', 'PEPCID']\n",
      "SQLite count: 4340\n",
      "MongoDB: ['.ALPHA.-TOCOPHEROL ACETATE, D-\\\\EVENING PRIMROSE OIL\\\\FISH OIL', '.DELTA.9-TETRAHYDROCANNABINOL\\\\CANNABIDIOL\\\\HERBALS', '0mega3', '1-ALPHA LEO', '20/25 Hydrocortothiazide', '3 more diuretics', '7-AMINOCLONAZEPAM', '800 mg Metaxalone', '81 ASPIRIN', 'A-C-D-VITAMIN']\n",
      "MongoDB count: 4340\n"
     ]
    }
   ],
   "source": [
    "# SQLite\n",
    "def sqlite_query_non_suspect_drugs():\n",
    "    return sqlite_cursor.execute(\"\"\"\n",
    "        SELECT DISTINCT dc.medicinalproduct\n",
    "        FROM patient_drug_history pdh\n",
    "        JOIN drug_catalog dc ON pdh.drug_id = dc.drug_id\n",
    "        WHERE dc.drug_id NOT IN (\n",
    "            SELECT drug_id\n",
    "            FROM patient_drug_history\n",
    "            WHERE drugcharacterization = 1\n",
    "        )\n",
    "    \"\"\").fetchall()\n",
    "\n",
    "sqlite_result = sqlite_query_non_suspect_drugs()\n",
    "print(\"SQLite:\", [r[0] for r in sqlite_result[:10]])\n",
    "print(\"SQLite count:\", len(sqlite_result))\n",
    "\n",
    "# MongoDB\n",
    "def mongo_query_non_suspect_drugs():\n",
    "    # Phase 1: All suspect drugs\n",
    "    suspect_drugs = set([\n",
    "        d[\"_id\"] for d in mongo_collection.aggregate([\n",
    "            {\"$unwind\": \"$patient.drug\"},\n",
    "            {\"$match\": {\"patient.drug.drugcharacterization\": 1}},\n",
    "            {\"$group\": {\"_id\": \"$patient.drug.medicinalproduct\"}}\n",
    "        ])\n",
    "    ])\n",
    "    # Phase 2: All drugs\n",
    "    all_drugs = set([\n",
    "        d[\"_id\"] for d in mongo_collection.aggregate([\n",
    "            {\"$unwind\": \"$patient.drug\"},\n",
    "            {\"$group\": {\"_id\": \"$patient.drug.medicinalproduct\"}}\n",
    "        ])\n",
    "    ])\n",
    "    # Phase 3: Set difference\n",
    "    non_suspect_only = sorted(all_drugs - suspect_drugs)\n",
    "    return non_suspect_only\n",
    "\n",
    "mongo_result = mongo_query_non_suspect_drugs()\n",
    "print(\"MongoDB:\", mongo_result[:10])\n",
    "print(\"MongoDB count:\", len(mongo_result))"
   ]
  },
  {
   "cell_type": "code",
   "execution_count": 19,
   "id": "1b1b5d5a",
   "metadata": {},
   "outputs": [
    {
     "name": "stdout",
     "output_type": "stream",
     "text": [
      "SQLite and MongoDB literature references match: True\n"
     ]
    }
   ],
   "source": [
    "sqlite_result_set = set([r[0] for r in sqlite_result])\n",
    "mongo_result_set = set([d for d in mongo_result])\n",
    "print(\"SQLite and MongoDB literature references match:\", sqlite_result_set == mongo_result_set)"
   ]
  },
  {
   "cell_type": "markdown",
   "id": "77e0683e",
   "metadata": {},
   "source": [
    "# 📈 6. Summary of Results"
   ]
  },
  {
   "cell_type": "markdown",
   "id": "663200cd",
   "metadata": {},
   "source": [
    "###"
   ]
  },
  {
   "cell_type": "code",
   "execution_count": 20,
   "id": "20b5a4bb",
   "metadata": {},
   "outputs": [],
   "source": [
    "# List to store results\n",
    "results = []\n",
    "\n",
    "\n",
    "def add_result(query_name, db, durations):\n",
    "    results.append({\n",
    "        \"query\": query_name,\n",
    "        \"db\": db,\n",
    "        \"mean_time\": np.mean(durations),\n",
    "        \"std_time\": np.std(durations),\n",
    "        \"run_times\": durations\n",
    "    })\n"
   ]
  },
  {
   "cell_type": "markdown",
   "id": "0a6ab330",
   "metadata": {},
   "source": [
    "## Easy"
   ]
  },
  {
   "cell_type": "markdown",
   "id": "e0939310",
   "metadata": {},
   "source": [
    "### 1"
   ]
  },
  {
   "cell_type": "code",
   "execution_count": 21,
   "id": "75f9ef06",
   "metadata": {},
   "outputs": [
    {
     "name": "stdout",
     "output_type": "stream",
     "text": [
      "SQLite timings: [0.009314400000000944, 0.009734500000000423, 0.010219800000001555, 0.015430399999999622, 0.008259100000000075]\n",
      "MongoDB timings: [0.016853899999997424, 0.016124999999998835, 0.05703170000000313, 0.057603699999997815, 0.05952650000000048]\n"
     ]
    }
   ],
   "source": [
    "# --- Timing: Count All Reports ---\n",
    "sqlite_durations = time_query(lambda: sqlite_cursor.execute(\"SELECT COUNT(*) FROM report\").fetchone())\n",
    "mongo_durations = time_query(lambda: mongo_collection.count_documents({}))\n",
    "\n",
    "add_result(\"Q1\", \"SQLite\", sqlite_durations)\n",
    "add_result(\"Q1\", \"MongoDB\", mongo_durations)\n",
    "\n",
    "print(\"SQLite timings:\", sqlite_durations)\n",
    "print(\"MongoDB timings:\", mongo_durations)"
   ]
  },
  {
   "cell_type": "markdown",
   "id": "25dc5c56",
   "metadata": {},
   "source": [
    "### 2"
   ]
  },
  {
   "cell_type": "code",
   "execution_count": 22,
   "id": "49fc2313",
   "metadata": {},
   "outputs": [
    {
     "name": "stdout",
     "output_type": "stream",
     "text": [
      "SQLite timings: [0.04017849999999967, 0.02723310000000012, 0.015001399999999165, 0.011256300000002994, 0.02829940000000164]\n",
      "MongoDB timings: [1.9862747000000027, 1.9307125999999997, 1.9299750000000024, 1.9574475999999983, 1.9176148000000026]\n"
     ]
    }
   ],
   "source": [
    "# ⏱ Timing: Distinct Drug Names\n",
    "sqlite_durations = time_query(sqlite_query_distinct_drugs)\n",
    "mongo_durations = time_query(mongo_query_distinct_drugs)\n",
    "\n",
    "add_result(\"Q2\", \"SQLite\", sqlite_durations)\n",
    "add_result(\"Q2\", \"MongoDB\", mongo_durations)\n",
    "\n",
    "print(\"SQLite timings:\", sqlite_durations)\n",
    "print(\"MongoDB timings:\", mongo_durations)"
   ]
  },
  {
   "cell_type": "markdown",
   "id": "35ffc0be",
   "metadata": {},
   "source": [
    "### 3"
   ]
  },
  {
   "cell_type": "code",
   "execution_count": 23,
   "id": "dd7aaf8e",
   "metadata": {},
   "outputs": [
    {
     "name": "stdout",
     "output_type": "stream",
     "text": [
      "SQLite timings: [0.12734909999999644, 0.07762710000000084, 0.193729900000001, 0.08826919999999916, 0.09892339999999678]\n",
      "MongoDB timings: [0.12750369999999833, 0.1726428999999996, 0.17319129999999916, 0.16769949999999767, 0.18021310000000312]\n"
     ]
    }
   ],
   "source": [
    "sqlite_durations = time_query(sqlite_query_aspirin_reports)\n",
    "mongo_durations = time_query(mongo_query_aspirin_reports)\n",
    "\n",
    "add_result(\"Q3\", \"SQLite\", sqlite_durations)\n",
    "add_result(\"Q3\", \"MongoDB\", mongo_durations)\n",
    "\n",
    "print(\"SQLite timings:\", sqlite_durations)\n",
    "print(\"MongoDB timings:\", mongo_durations)"
   ]
  },
  {
   "cell_type": "markdown",
   "id": "8eb12498",
   "metadata": {},
   "source": [
    "## Medium"
   ]
  },
  {
   "cell_type": "markdown",
   "id": "71efa529",
   "metadata": {},
   "source": [
    "### 4"
   ]
  },
  {
   "cell_type": "code",
   "execution_count": 24,
   "id": "758719e6",
   "metadata": {},
   "outputs": [
    {
     "name": "stdout",
     "output_type": "stream",
     "text": [
      "SQLite timings: [0.02915869999999643, 0.026593500000004155, 0.021103799999998785, 0.021666799999998432, 0.030146900000005417]\n",
      "MongoDB timings: [0.17144559999999842, 0.21638719999999978, 0.20694140000000516, 0.2112677000000005, 0.1971065999999979]\n"
     ]
    }
   ],
   "source": [
    "sqlite_durations = time_query(sqlite_query_serious_by_year)\n",
    "mongo_durations = time_query(mongo_query_serious_by_year)\n",
    "\n",
    "add_result(\"Q4\", \"SQLite\", sqlite_durations)\n",
    "add_result(\"Q4\", \"MongoDB\", mongo_durations)\n",
    "\n",
    "print(\"SQLite timings:\", sqlite_durations)\n",
    "print(\"MongoDB timings:\", mongo_durations)"
   ]
  },
  {
   "cell_type": "markdown",
   "id": "12b0586e",
   "metadata": {},
   "source": [
    "### 5"
   ]
  },
  {
   "cell_type": "code",
   "execution_count": 25,
   "id": "d437ee60",
   "metadata": {},
   "outputs": [
    {
     "name": "stdout",
     "output_type": "stream",
     "text": [
      "SQLite timings: [0.14341830000000044, 0.1553012000000038, 0.20075639999999595, 0.11075409999999408, 0.132260500000001]\n",
      "MongoDB timings: [0.6002711000000005, 0.6291584000000014, 0.6674730999999952, 0.6868817000000007, 0.6547140999999996]\n"
     ]
    }
   ],
   "source": [
    "sqlite_durations = time_query(sqlite_query_top_reactions)\n",
    "mongo_durations = time_query(mongo_query_top_reactions)\n",
    "\n",
    "add_result(\"Q5\", \"SQLite\", sqlite_durations)\n",
    "add_result(\"Q5\", \"MongoDB\", mongo_durations)\n",
    "\n",
    "print(\"SQLite timings:\", sqlite_durations)\n",
    "print(\"MongoDB timings:\", mongo_durations)\n"
   ]
  },
  {
   "cell_type": "markdown",
   "id": "5aa4f0e9",
   "metadata": {},
   "source": [
    "### 6"
   ]
  },
  {
   "cell_type": "code",
   "execution_count": 26,
   "id": "bf57c1d8",
   "metadata": {},
   "outputs": [
    {
     "name": "stdout",
     "output_type": "stream",
     "text": [
      "SQLite timings: [0.00877240000000512, 0.007521799999999246, 0.007748599999999328, 0.007953799999995681, 0.007851399999999842]\n",
      "MongoDB timings: [0.09667790000000309, 0.11458569999999924, 0.14767599999999703, 0.11915230000000321, 0.11411640000000034]\n"
     ]
    }
   ],
   "source": [
    "sqlite_durations = time_query(sqlite_query_avg_weight_by_agegroup)\n",
    "mongo_durations = time_query(mongo_query_avg_weight_by_agegroup)\n",
    "\n",
    "add_result(\"Q6\", \"SQLite\", sqlite_durations)\n",
    "add_result(\"Q6\", \"MongoDB\", mongo_durations)\n",
    "\n",
    "print(\"SQLite timings:\", sqlite_durations)\n",
    "print(\"MongoDB timings:\", mongo_durations)\n"
   ]
  },
  {
   "cell_type": "markdown",
   "id": "1c8ccaf5",
   "metadata": {},
   "source": [
    "## Complex"
   ]
  },
  {
   "cell_type": "code",
   "execution_count": 27,
   "id": "008b179d",
   "metadata": {},
   "outputs": [
    {
     "name": "stdout",
     "output_type": "stream",
     "text": [
      "SQLite timings: [0.15540570000000287, 0.20419040000000166, 0.18104040000000055, 0.14406629999999865, 0.1432134000000005]\n",
      "MongoDB timings: [2.3380024000000006, 2.575652599999998, 2.6859319, 2.6349538999999993, 2.6006962999999956]\n"
     ]
    }
   ],
   "source": [
    "# q7\n",
    "sqlite_query_top_suspect_drugs_durations = time_query(sqlite_query_top_suspect_drugs)\n",
    "mongo_query_top_suspect_drugs_durations = time_query(mongo_query_top_suspect_drugs)\n",
    "\n",
    "add_result(\"Q7\", \"SQLite\", sqlite_query_top_suspect_drugs_durations)\n",
    "add_result(\"Q7\", \"MongoDB\", mongo_query_top_suspect_drugs_durations)\n",
    "\n",
    "print(\"SQLite timings:\", sqlite_query_top_suspect_drugs_durations)\n",
    "print(\"MongoDB timings:\", mongo_query_top_suspect_drugs_durations)\n"
   ]
  },
  {
   "cell_type": "code",
   "execution_count": 28,
   "id": "39a00795",
   "metadata": {},
   "outputs": [
    {
     "name": "stdout",
     "output_type": "stream",
     "text": [
      "SQLite timings: [0.14905379999999724, 0.14198619999999806, 0.16738970000000108, 0.1219856999999962, 0.15295079999999928]\n",
      "MongoDB timings: [0.8379244999999997, 0.9216976999999957, 0.875323200000004, 0.8664340999999993, 0.8616601999999958]\n"
     ]
    }
   ],
   "source": [
    "# q8\n",
    "sqlite_query_avg_reactions_by_year_durations = time_query(sqlite_query_avg_reactions_by_year)\n",
    "mongo_query_avg_reactions_by_year_durations = time_query(mongo_query_avg_reactions_by_year)\n",
    "\n",
    "add_result(\"Q8\", \"SQLite\", sqlite_query_avg_reactions_by_year_durations)\n",
    "add_result(\"Q8\", \"MongoDB\", mongo_query_avg_reactions_by_year_durations)\n",
    "\n",
    "print(\"SQLite timings:\", sqlite_query_avg_reactions_by_year_durations)\n",
    "print(\"MongoDB timings:\", mongo_query_avg_reactions_by_year_durations)"
   ]
  },
  {
   "cell_type": "code",
   "execution_count": 29,
   "id": "bef4ed31",
   "metadata": {},
   "outputs": [
    {
     "name": "stdout",
     "output_type": "stream",
     "text": [
      "SQLite timings: [0.32302490000000006, 0.43368260000000447, 0.2982826000000003, 0.2698365000000038, 0.29563360000000216]\n",
      "MongoDB timings: [0.24743710000000618, 0.2906091999999987, 0.26525060000000167, 0.29331349999999645, 0.2888605999999925]\n"
     ]
    }
   ],
   "source": [
    "#Q9\n",
    "sqlite_query_litrefs_serious_aspirin_durations = time_query(sqlite_query_litrefs_serious_aspirin)\n",
    "mongo_query_litrefs_serious_aspirin_durations = time_query(mongo_query_litrefs_serious_aspirin)\n",
    "\n",
    "add_result(\"Q9\", \"SQLite\", sqlite_query_litrefs_serious_aspirin_durations)\n",
    "add_result(\"Q9\", \"MongoDB\", mongo_query_litrefs_serious_aspirin_durations)\n",
    "print(\"SQLite timings:\", sqlite_query_litrefs_serious_aspirin_durations)\n",
    "print(\"MongoDB timings:\", mongo_query_litrefs_serious_aspirin_durations)"
   ]
  },
  {
   "cell_type": "code",
   "execution_count": 30,
   "id": "7a9da1cb",
   "metadata": {},
   "outputs": [
    {
     "name": "stdout",
     "output_type": "stream",
     "text": [
      "SQLite timings: [0.29580500000000143, 0.22679720000000714, 0.1960701999999941, 0.2135973999999976, 0.18005789999999422]\n",
      "MongoDB timings: [0.10634050000000173, 0.15708630000000312, 0.15192739999999105, 0.1506663000000117, 0.1580832000000072]\n"
     ]
    }
   ],
   "source": [
    "# q10\n",
    "\n",
    "sqlite_query_reactions_with_death_flag_durations = time_query(sqlite_query_reactions_with_death_flag)\n",
    "mongo_query_reactions_with_death_flag_durations = time_query(mongo_query_reactions_with_death_flag)\n",
    "add_result(\"Q10\", \"SQLite\", sqlite_query_reactions_with_death_flag_durations)\n",
    "add_result(\"Q10\", \"MongoDB\", mongo_query_reactions_with_death_flag_durations)\n",
    "print(\"SQLite timings:\", sqlite_query_reactions_with_death_flag_durations)\n",
    "print(\"MongoDB timings:\", mongo_query_reactions_with_death_flag_durations)"
   ]
  },
  {
   "cell_type": "code",
   "execution_count": 31,
   "id": "3cae993f",
   "metadata": {},
   "outputs": [
    {
     "name": "stdout",
     "output_type": "stream",
     "text": [
      "SQLite timings: [0.16414619999999047, 0.16373249999999473, 0.15882089999999494, 0.14176539999999704, 0.13458909999999946]\n",
      "MongoDB timings: [1.2303247999999911, 1.2376786000000095, 1.2865598000000062, 1.2662849000000023, 1.2708092000000022]\n"
     ]
    }
   ],
   "source": [
    "#11\n",
    "sqlite_query_multiple_suspect_durations = time_query(sqlite_multiple_suspect)\n",
    "mongo_query_multiple_suspect_durations = time_query(mongo_multiple_suspect)\n",
    "add_result(\"Q11\", \"SQLite\", sqlite_query_multiple_suspect_durations)\n",
    "add_result(\"Q11\", \"MongoDB\", mongo_query_multiple_suspect_durations)\n",
    "print(\"SQLite timings:\", sqlite_query_multiple_suspect_durations)\n",
    "print(\"MongoDB timings:\", mongo_query_multiple_suspect_durations)"
   ]
  },
  {
   "cell_type": "markdown",
   "id": "09f5be7f",
   "metadata": {},
   "source": [
    "### q12"
   ]
  },
  {
   "cell_type": "code",
   "execution_count": 32,
   "id": "806a48a9",
   "metadata": {},
   "outputs": [
    {
     "name": "stdout",
     "output_type": "stream",
     "text": [
      "SQLite timings: [0.26608730000000946, 0.24704630000000805, 0.21401229999999316, 0.2286090999999999, 0.24509360000000413]\n",
      "MongoDB timings: [4.267200799999998, 4.461299299999993, 4.472178299999996, 4.342616300000003, 4.280646000000004]\n"
     ]
    }
   ],
   "source": [
    "# ⏱ Timing: Non-suspect drugs (Q12)\n",
    "sqlite_durations = time_query(sqlite_query_non_suspect_drugs)\n",
    "mongo_durations = time_query(mongo_query_non_suspect_drugs)\n",
    "add_result(\"Q12\", \"SQLite\", sqlite_durations)\n",
    "add_result(\"Q12\", \"MongoDB\", mongo_durations)\n",
    "print(\"SQLite timings:\", sqlite_durations)\n",
    "print(\"MongoDB timings:\", mongo_durations)\n"
   ]
  },
  {
   "cell_type": "code",
   "execution_count": 33,
   "id": "447ee169",
   "metadata": {},
   "outputs": [
    {
     "name": "stdout",
     "output_type": "stream",
     "text": [
      "SQLite timings: [0.4904466999999926, 0.4569428000000073, 0.5246209000000022, 0.5293070999999969, 0.4898937000000103]\n",
      "MongoDB timings: [2.5935626999999926, 2.5335520000000002, 2.4332550000000026, 2.752799600000003, 2.726987400000013]\n"
     ]
    }
   ],
   "source": [
    "#FOR THE FUTURE\n",
    "sqlite_query_dist_serious_route_durations = time_query(sqlite_query_dist_serious_route)\n",
    "mongo_query_dist_serious_route_durations = time_query(mongo_query_dist_serious_route)\n",
    "add_result(\"Q13\", \"SQLite\", sqlite_query_dist_serious_route_durations)\n",
    "add_result(\"Q13\", \"MongoDB\", mongo_query_dist_serious_route_durations)\n",
    "print(\"SQLite timings:\", sqlite_query_dist_serious_route_durations)\n",
    "print(\"MongoDB timings:\", mongo_query_dist_serious_route_durations)\n"
   ]
  },
  {
   "cell_type": "markdown",
   "id": "de2abc58",
   "metadata": {},
   "source": [
    "### Agregate results"
   ]
  },
  {
   "cell_type": "code",
   "execution_count": 34,
   "id": "e9d303ae",
   "metadata": {},
   "outputs": [
    {
     "name": "stdout",
     "output_type": "stream",
     "text": [
      "Results saved to evaluation_query_performance.csv\n"
     ]
    }
   ],
   "source": [
    "df_results = pd.DataFrame(results)\n",
    "df_results.to_csv(\"../reports/evaluation_results/query_performance_update.csv\", index=False)\n",
    "print(\"Results saved to evaluation_query_performance.csv\")"
   ]
  },
  {
   "cell_type": "code",
   "execution_count": 60,
   "id": "6a4cdad5",
   "metadata": {},
   "outputs": [
    {
     "name": "stdout",
     "output_type": "stream",
     "text": [
      "db query   MongoDB    SQLite\n",
      "0     Q1  0.041428  0.010592\n",
      "1     Q2  1.944405  0.024394\n",
      "2     Q3  0.164250  0.117180\n",
      "3     Q4  0.200630  0.025734\n",
      "4     Q5  0.647700  0.148498\n",
      "5     Q6  0.118442  0.007970\n",
      "6     Q7  2.567047  0.165583\n",
      "7     Q8  0.872608  0.146673\n",
      "8     Q9  0.277094  0.324092\n",
      "9    Q10  0.144821  0.222466\n",
      "10   Q11  1.258331  0.152611\n",
      "11   Q12  4.364788  0.240170\n",
      "12   Q13  2.608031  0.498242\n"
     ]
    },
    {
     "data": {
      "image/png": "[encoded data removed]",
      "text/plain": [
       "<Figure size 640x480 with 1 Axes>"
      ]
     },
     "metadata": {},
     "output_type": "display_data"
    }
   ],
   "source": [
    "df = pd.DataFrame(results)\n",
    "\n",
    "# Pivot for bar chart\n",
    "pivot = df.pivot(index=\"query\", columns=\"db\", values=\"mean_time\")\n",
    "# Reset index to make 'query' a column instead of an index\n",
    "pivot = pivot.reset_index()\n",
    "# Extract query number from string like \"Q1\", \"Q10\", etc.\n",
    "pivot[\"query_num\"] = pivot[\"query\"].str.extract(r\"Q(\\d+)\").astype(int)\n",
    "\n",
    "# Sort by query number\n",
    "pivot_sorted = pivot.sort_values(\"query_num\").reset_index(drop=True)\n",
    "pivot_sorted = pivot_sorted.drop(columns=[\"query_num\"])\n",
    "print(pivot_sorted)\n",
    "\n",
    "# Use pivot_sorted for plotting to maintain the correct query order\n",
    "pivot_sorted.set_index('query').plot(kind=\"bar\", yerr=df.pivot(index=\"query\", columns=\"db\", values=\"std_time\"))\n",
    "plt.ylabel(\"Average Execution Time (s)\")\n",
    "plt.title(\"Query Performance: SQLite vs MongoDB\")\n",
    "plt.xticks(rotation=45)\n",
    "plt.tight_layout()\n",
    "plt.show()\n"
   ]
  },
  {
   "cell_type": "code",
   "execution_count": 40,
   "id": "a309a47f",
   "metadata": {},
   "outputs": [
    {
     "data": {
      "application/vnd.microsoft.datawrangler.viewer.v0+json": {
       "columns": [
        {
         "name": "index",
         "rawType": "int64",
         "type": "integer"
        },
        {
         "name": "query",
         "rawType": "object",
         "type": "string"
        },
        {
         "name": "query_num",
         "rawType": "int32",
         "type": "integer"
        },
        {
         "name": "SQLite",
         "rawType": "float64",
         "type": "float"
        },
        {
         "name": "MongoDB",
         "rawType": "float64",
         "type": "float"
        },
        {
         "name": "pct_improvement",
         "rawType": "float64",
         "type": "float"
        }
       ],
       "ref": "38bac780-3a36-4c02-80c2-e6ce93f16ab0",
       "rows": [
        [
         "0",
         "Q1",
         "1",
         "0.0105916400000005",
         "0.0414281599999995",
         "74.43371851416856"
        ],
        [
         "1",
         "Q2",
         "2",
         "0.0243937400000007",
         "1.9444049400000007",
         "98.74543931162813"
        ],
        [
         "2",
         "Q3",
         "3",
         "0.1171797399999988",
         "0.1642500999999995",
         "28.6577359770258"
        ],
        [
         "3",
         "Q4",
         "4",
         "0.0257339400000006",
         "0.2006297000000003",
         "87.17341450443251"
        ],
        [
         "4",
         "Q5",
         "5",
         "0.148498099999999",
         "0.6476996799999994",
         "77.07300086978597"
        ],
        [
         "5",
         "Q6",
         "6",
         "0.0079695999999998",
         "0.1184416600000005",
         "93.27128647133131"
        ],
        [
         "6",
         "Q7",
         "7",
         "0.1655832400000008",
         "2.567047419999999",
         "93.54966181341516"
        ],
        [
         "7",
         "Q8",
         "8",
         "0.1466732399999983",
         "0.8726079399999989",
         "83.19139291810724"
        ],
        [
         "8",
         "Q9",
         "9",
         "0.3240920400000021",
         "0.277094199999999",
         "-16.960961290421537"
        ],
        [
         "9",
         "Q10",
         "10",
         "0.2224655399999989",
         "0.1448207400000029",
         "-53.614420144514156"
        ],
        [
         "10",
         "Q11",
         "11",
         "0.1526108199999953",
         "1.2583314600000022",
         "87.8719697590653"
        ],
        [
         "11",
         "Q12",
         "12",
         "0.2401697200000029",
         "4.364788139999999",
         "94.49756294471597"
        ],
        [
         "12",
         "Q13",
         "13",
         "0.4982422400000018",
         "2.6080313400000024",
         "80.89584920402062"
        ]
       ],
       "shape": {
        "columns": 5,
        "rows": 13
       }
      },
      "text/html": [
       "<div>\n",
       "<style scoped>\n",
       "    .dataframe tbody tr th:only-of-type {\n",
       "        vertical-align: middle;\n",
       "    }\n",
       "\n",
       "    .dataframe tbody tr th {\n",
       "        vertical-align: top;\n",
       "    }\n",
       "\n",
       "    .dataframe thead th {\n",
       "        text-align: right;\n",
       "    }\n",
       "</style>\n",
       "<table border=\"1\" class=\"dataframe\">\n",
       "  <thead>\n",
       "    <tr style=\"text-align: right;\">\n",
       "      <th>db</th>\n",
       "      <th>query</th>\n",
       "      <th>query_num</th>\n",
       "      <th>SQLite</th>\n",
       "      <th>MongoDB</th>\n",
       "      <th>pct_improvement</th>\n",
       "    </tr>\n",
       "  </thead>\n",
       "  <tbody>\n",
       "    <tr>\n",
       "      <th>0</th>\n",
       "      <td>Q1</td>\n",
       "      <td>1</td>\n",
       "      <td>0.010592</td>\n",
       "      <td>0.041428</td>\n",
       "      <td>74.433719</td>\n",
       "    </tr>\n",
       "    <tr>\n",
       "      <th>1</th>\n",
       "      <td>Q2</td>\n",
       "      <td>2</td>\n",
       "      <td>0.024394</td>\n",
       "      <td>1.944405</td>\n",
       "      <td>98.745439</td>\n",
       "    </tr>\n",
       "    <tr>\n",
       "      <th>2</th>\n",
       "      <td>Q3</td>\n",
       "      <td>3</td>\n",
       "      <td>0.117180</td>\n",
       "      <td>0.164250</td>\n",
       "      <td>28.657736</td>\n",
       "    </tr>\n",
       "    <tr>\n",
       "      <th>3</th>\n",
       "      <td>Q4</td>\n",
       "      <td>4</td>\n",
       "      <td>0.025734</td>\n",
       "      <td>0.200630</td>\n",
       "      <td>87.173415</td>\n",
       "    </tr>\n",
       "    <tr>\n",
       "      <th>4</th>\n",
       "      <td>Q5</td>\n",
       "      <td>5</td>\n",
       "      <td>0.148498</td>\n",
       "      <td>0.647700</td>\n",
       "      <td>77.073001</td>\n",
       "    </tr>\n",
       "    <tr>\n",
       "      <th>5</th>\n",
       "      <td>Q6</td>\n",
       "      <td>6</td>\n",
       "      <td>0.007970</td>\n",
       "      <td>0.118442</td>\n",
       "      <td>93.271286</td>\n",
       "    </tr>\n",
       "    <tr>\n",
       "      <th>6</th>\n",
       "      <td>Q7</td>\n",
       "      <td>7</td>\n",
       "      <td>0.165583</td>\n",
       "      <td>2.567047</td>\n",
       "      <td>93.549662</td>\n",
       "    </tr>\n",
       "    <tr>\n",
       "      <th>7</th>\n",
       "      <td>Q8</td>\n",
       "      <td>8</td>\n",
       "      <td>0.146673</td>\n",
       "      <td>0.872608</td>\n",
       "      <td>83.191393</td>\n",
       "    </tr>\n",
       "    <tr>\n",
       "      <th>8</th>\n",
       "      <td>Q9</td>\n",
       "      <td>9</td>\n",
       "      <td>0.324092</td>\n",
       "      <td>0.277094</td>\n",
       "      <td>-16.960961</td>\n",
       "    </tr>\n",
       "    <tr>\n",
       "      <th>9</th>\n",
       "      <td>Q10</td>\n",
       "      <td>10</td>\n",
       "      <td>0.222466</td>\n",
       "      <td>0.144821</td>\n",
       "      <td>-53.614420</td>\n",
       "    </tr>\n",
       "    <tr>\n",
       "      <th>10</th>\n",
       "      <td>Q11</td>\n",
       "      <td>11</td>\n",
       "      <td>0.152611</td>\n",
       "      <td>1.258331</td>\n",
       "      <td>87.871970</td>\n",
       "    </tr>\n",
       "    <tr>\n",
       "      <th>11</th>\n",
       "      <td>Q12</td>\n",
       "      <td>12</td>\n",
       "      <td>0.240170</td>\n",
       "      <td>4.364788</td>\n",
       "      <td>94.497563</td>\n",
       "    </tr>\n",
       "    <tr>\n",
       "      <th>12</th>\n",
       "      <td>Q13</td>\n",
       "      <td>13</td>\n",
       "      <td>0.498242</td>\n",
       "      <td>2.608031</td>\n",
       "      <td>80.895849</td>\n",
       "    </tr>\n",
       "  </tbody>\n",
       "</table>\n",
       "</div>"
      ],
      "text/plain": [
       "db query  query_num    SQLite   MongoDB  pct_improvement\n",
       "0     Q1          1  0.010592  0.041428        74.433719\n",
       "1     Q2          2  0.024394  1.944405        98.745439\n",
       "2     Q3          3  0.117180  0.164250        28.657736\n",
       "3     Q4          4  0.025734  0.200630        87.173415\n",
       "4     Q5          5  0.148498  0.647700        77.073001\n",
       "5     Q6          6  0.007970  0.118442        93.271286\n",
       "6     Q7          7  0.165583  2.567047        93.549662\n",
       "7     Q8          8  0.146673  0.872608        83.191393\n",
       "8     Q9          9  0.324092  0.277094       -16.960961\n",
       "9    Q10         10  0.222466  0.144821       -53.614420\n",
       "10   Q11         11  0.152611  1.258331        87.871970\n",
       "11   Q12         12  0.240170  4.364788        94.497563\n",
       "12   Q13         13  0.498242  2.608031        80.895849"
      ]
     },
     "execution_count": 40,
     "metadata": {},
     "output_type": "execute_result"
    }
   ],
   "source": [
    "# Reload the summary dataframe to add a numeric index\n",
    "df = pd.read_csv(\"../reports\\evaluation_results\\query_performance_update.csv\")\n",
    "pivot = df.pivot(index=\"query\", columns=\"db\", values=\"mean_time\").reset_index()\n",
    "\n",
    "# Extract query number from string like \"Q1\", \"Q10\", etc.\n",
    "pivot[\"query_num\"] = pivot[\"query\"].str.extract(r\"Q(\\d+)\").astype(int)\n",
    "\n",
    "# Sort by actual query number\n",
    "pivot_sorted = pivot.sort_values(\"query_num\").reset_index(drop=True)\n",
    "\n",
    "# Recalculate % improvement\n",
    "pivot_sorted[\"pct_improvement\"] = 100 * (pivot_sorted[\"MongoDB\"] - pivot_sorted[\"SQLite\"]) / pivot_sorted[\"MongoDB\"]\n",
    "\n",
    "# Output sorted data\n",
    "pivot_sorted[[\"query\", \"query_num\", \"SQLite\", \"MongoDB\", \"pct_improvement\"]]"
   ]
  },
  {
   "cell_type": "code",
   "execution_count": 43,
   "id": "7a99e51d",
   "metadata": {},
   "outputs": [
    {
     "data": {
      "image/png": "[encoded data removed]",
      "text/plain": [
       "<Figure size 1200x600 with 1 Axes>"
      ]
     },
     "metadata": {},
     "output_type": "display_data"
    }
   ],
   "source": [
    "# Barplot\n",
    "plt.figure(figsize=(12, 6))\n",
    "sns.barplot(data=pivot_sorted, x=\"query\", y=\"pct_improvement\")\n",
    "plt.axhline(0, color='gray', linestyle='--')\n",
    "plt.title(\"Relative Speed Advantage of SQLite over MongoDB\")\n",
    "plt.ylabel(\"Improvement (%)\")\n",
    "plt.xticks(rotation=45)\n",
    "plt.tight_layout()"
   ]
  },
  {
   "cell_type": "code",
   "execution_count": null,
   "id": "762d0226",
   "metadata": {},
   "outputs": [],
   "source": []
  }
 ],
 "metadata": {
  "kernelspec": {
   "display_name": "gen_ML",
   "language": "python",
   "name": "python3"
  },
  "language_info": {
   "codemirror_mode": {
    "name": "ipython",
    "version": 3
   },
   "file_extension": ".py",
   "mimetype": "text/x-python",
   "name": "python",
   "nbconvert_exporter": "python",
   "pygments_lexer": "ipython3",
   "version": "3.9.19"
  }
 },
 "nbformat": 4,
 "nbformat_minor": 5
}
