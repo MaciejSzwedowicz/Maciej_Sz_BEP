{
 "cells": [
  {
   "cell_type": "code",
   "execution_count": 11,
   "id": "108b1305",
   "metadata": {},
   "outputs": [],
   "source": [
    "import sqlite3\n",
    "import pandas as pd\n",
    "import re\n",
    "from datetime import datetime\n",
    "from collections import defaultdict, Counter\n",
    "\n",
    "# Set the path to the SQLite DB\n",
    "db_path = \"../sql/openfda_base_updated.db\"\n",
    "conn = sqlite3.connect(db_path)"
   ]
  },
  {
   "cell_type": "code",
   "execution_count": 12,
   "id": "1db13649",
   "metadata": {},
   "outputs": [
    {
     "name": "stdout",
     "output_type": "stream",
     "text": [
      "Available tables:\n",
      "- report\n",
      "- reaction\n",
      "- report_duplicate\n",
      "- patient_optional\n",
      "- drug\n",
      "- drug_openfda\n",
      "- drug_activesubstance\n",
      "- drug_optional\n",
      "- summary\n",
      "- primarysource_literature_reference\n"
     ]
    }
   ],
   "source": [
    "tables = conn.execute(\"SELECT name FROM sqlite_master WHERE type='table';\").fetchall()\n",
    "print(\"Available tables:\")\n",
    "for t in tables:\n",
    "    print(\"-\", t[0])"
   ]
  },
  {
   "cell_type": "code",
   "execution_count": 13,
   "id": "aa2a171a",
   "metadata": {},
   "outputs": [
    {
     "name": "stdout",
     "output_type": "stream",
     "text": [
      "Columns in report 28: ['safetyreportid', 'safetyreportversion', 'receivedateformat', 'receivedate', 'receiptdateformat', 'receiptdate', 'transmissiondateformat', 'transmissiondate', 'companynumb', 'reporttype', 'fulfillexpeditecriteria', 'serious', 'seriousnessdeath', 'seriousnesslifethreatening', 'seriousnesshospitalization', 'seriousnessdisabling', 'seriousnesscongenitalanomali', 'seriousnessother', 'primarysourcecountry', 'sendertype', 'senderorganization', 'receivertype', 'receiverorganization', 'primarysource_qualification', 'primarysource_reportercountry', 'authoritynumb', 'occurcountry', 'duplicate']\n",
      "Columns in reaction 5: ['id', 'safetyreportid', 'reactionmeddrapt', 'reactionmeddraversionpt', 'reactionoutcome']\n",
      "Columns in report_duplicate 4: ['id', 'safetyreportid', 'duplicatenumb', 'duplicatesource']\n",
      "Columns in patient_optional 7: ['safetyreportid', 'patientagegroup', 'patientonsetage', 'patientonsetageunit', 'patientsex', 'patientweight', 'narrativeincludeclinical']\n",
      "Columns in drug 13: ['id', 'safetyreportid', 'medicinalproduct', 'drugcharacterization', 'drugauthorizationnumb', 'drugdosagetext', 'drugstartdate', 'drugstartdateformat', 'drugenddate', 'drugenddateformat', 'drugadministrationroute', 'drugdosageform', 'drugindication']\n",
      "Columns in drug_openfda 20: ['id', 'drug_id', 'application_number', 'brand_name', 'generic_name', 'manufacturer_name', 'nui', 'package_ndc', 'pharm_class_cs', 'pharm_class_epc', 'pharm_class_moa', 'pharm_class_pe', 'product_ndc', 'product_type', 'route', 'rxcui', 'spl_id', 'spl_set_id', 'substance_name', 'unii']\n",
      "Columns in drug_activesubstance 3: ['id', 'drug_id', 'activesubstancename']\n",
      "Columns in drug_optional 15: ['id', 'drug_id', 'actiondrug', 'drugadditional', 'drugbatchnumb', 'drugcumulativedosagenumb', 'drugcumulativedosageunit', 'drugintervaldosagedefinition', 'drugintervaldosageunitnumb', 'drugrecurreadministration', 'drugseparatedosagenumb', 'drugstructuredosagenumb', 'drugstructuredosageunit', 'drugtreatmentduration', 'drugtreatmentdurationunit']\n",
      "Columns in summary 4: ['id', 'safetyreportid', 'narrativeincludeclinical', 'case_event_date_extracted']\n",
      "Columns in primarysource_literature_reference 3: ['id', 'safetyreportid', 'literature_reference']\n",
      "Total columns in all tables: 102\n"
     ]
    }
   ],
   "source": [
    "# list all the columns in a table drug_optional\n",
    "def get_columns(table_name):\n",
    "    query = f\"PRAGMA table_info({table_name})\"\n",
    "    columns = conn.execute(query).fetchall()\n",
    "    return [col[1] for col in columns]\n",
    "\n",
    "total_columns = 0\n",
    "for table in tables:\n",
    "    x = get_columns(table[0])\n",
    "    total_columns += len(x)\n",
    "    print(f\"Columns in {table[0]} {len(x)}: {x}\")\n",
    "\n",
    "print(f\"Total columns in all tables: {total_columns}\")"
   ]
  },
  {
   "cell_type": "code",
   "execution_count": null,
   "id": "85dae704",
   "metadata": {},
   "outputs": [],
   "source": []
  }
 ],
 "metadata": {
  "kernelspec": {
   "display_name": "gen_ML",
   "language": "python",
   "name": "python3"
  },
  "language_info": {
   "codemirror_mode": {
    "name": "ipython",
    "version": 3
   },
   "file_extension": ".py",
   "mimetype": "text/x-python",
   "name": "python",
   "nbconvert_exporter": "python",
   "pygments_lexer": "ipython3",
   "version": "3.9.19"
  }
 },
 "nbformat": 4,
 "nbformat_minor": 5
}
