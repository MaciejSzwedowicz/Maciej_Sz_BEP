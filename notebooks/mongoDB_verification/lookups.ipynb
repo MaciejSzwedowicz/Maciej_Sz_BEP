{
 "cells": [
  {
   "cell_type": "code",
   "execution_count": 3,
   "id": "ac0d646a",
   "metadata": {},
   "outputs": [],
   "source": [
    "# ✅ Notebook Goal:\n",
    "# Use the field presence CSVs to verify which fields are populated in both SQLite and MongoDB\n",
    "\n",
    "import pandas as pd\n",
    "import pymongo\n",
    "import sqlite3\n",
    "\n",
    "# --- Load CSV Files ---\n",
    "value_fields = pd.read_csv(\"../../reports/evaluation_results/value_fields_presence.csv\")\n",
    "object_fields = pd.read_csv(\"../../reports/evaluation_results/object_fields_presence.csv\")\n",
    "\n",
    "# --- MongoDB Setup ---\n",
    "mongo_client = pymongo.MongoClient(\"mongodb://localhost:27017/\")\n",
    "mongo_collection = mongo_client[\"openfda_converted\"][\"full_reports\"]\n",
    "\n",
    "\n",
    "sqlite_path = \"../../sql/openfda_base_updated.db\"\n",
    "conn = sqlite3.connect(sqlite_path)\n",
    "\n"
   ]
  },
  {
   "cell_type": "code",
   "execution_count": 37,
   "id": "13d1380b",
   "metadata": {},
   "outputs": [
    {
     "name": "stdout",
     "output_type": "stream",
     "text": [
      "[34, 35, 36, 56815, 61507, 63240, 79105, 106574, 117790, 142958, 145559]\n"
     ]
    }
   ],
   "source": [
    "# select all the safetyreport ids from drug where medicinalproduct is COPIKTRA\n",
    "query = \"\"\"\n",
    "SELECT DISTINCT id FROM drug WHERE medicinalproduct = 'VENOFER'\n",
    "\"\"\"\n",
    "results = conn.execute(query).fetchall()\n",
    "# convert the results to a list of strings\n",
    "safetyreportids = [row[0] for row in results]\n",
    "\n",
    "print(safetyreportids)\n",
    "\n"
   ]
  },
  {
   "cell_type": "code",
   "execution_count": 38,
   "id": "d0d58e34",
   "metadata": {},
   "outputs": [
    {
     "name": "stdout",
     "output_type": "stream",
     "text": [
      "{('NDA021135', 'VENOFER', 'IRON SUCROSE', 'Fresenius Medical Care Holdings, Inc., American Regent, Inc.', 'M0011718, N0000177913', '49230-530-01, 49230-530-10, 49230-530-25, 49230-534-01, 49230-534-10, 49230-534-25, 0517-2325-01, 0517-2325-10, 0517-2340-01, 0517-2340-10, 0517-2340-25, 0517-2310-01, 0517-2310-05, 0517-2340-99', 'Iron [CS]', 'Parenteral Iron Replacement [EPC]', None, None, '49230-530, 49230-534, 0517-2310, 0517-2325, 0517-2340', 'HUMAN PRESCRIPTION DRUG', 'INTRAVENOUS', '1741267, 1741268, 1741270, 1741271, 1741261, 1741263', 'd169adb0-d1dc-4c19-99b4-f1dce90db380, 1cb19ad9-7a23-43bd-ab28-955cd2fa3750, 91f50fe2-b85d-460d-86a8-469cc16f6a99', 'f1ab1a22-2b99-4d27-8b5a-9c3bcd5e3040, 626dc9e5-c6b4-4f9c-9bf4-774fd3ae619a, b998ef36-81fa-40a1-9cd1-6d6156f91564', 'IRON SUCROSE', 'FZ7NYF5N8L')}\n"
     ]
    }
   ],
   "source": [
    "dupa = set()\n",
    "\n",
    "for id in safetyreportids:\n",
    "    query = f\"\"\"\n",
    "    SELECT *\n",
    "    FROM drug_openfda\n",
    "    WHERE drug_id = '{id}'\n",
    "    \"\"\"\n",
    "    results = conn.execute(query).fetchall()\n",
    "    # print(type(results))\n",
    "    # print(results[0][2:])\n",
    "    dupa.add(results[0][2:])\n",
    "\n",
    "print(dupa)\n"
   ]
  },
  {
   "cell_type": "markdown",
   "id": "e2ecc770",
   "metadata": {},
   "source": [
    "##  check fda for all drugs."
   ]
  },
  {
   "cell_type": "code",
   "execution_count": 36,
   "id": "0a20627b",
   "metadata": {},
   "outputs": [
    {
     "name": "stdout",
     "output_type": "stream",
     "text": [
      "2601\n"
     ]
    }
   ],
   "source": [
    "query = \"\"\"\n",
    "SELECT DISTINCT application_number\n",
    "FROM drug_openfda\n",
    "\"\"\"\n",
    "results = conn.execute(query).fetchall()\n",
    "print(len(results))"
   ]
  },
  {
   "cell_type": "code",
   "execution_count": null,
   "id": "4455519c",
   "metadata": {},
   "outputs": [],
   "source": [
    "from pymongo import MongoClient\n",
    "import json\n",
    "from collections import defaultdict\n",
    "\n",
    "client = MongoClient(\"mongodb://localhost:27017\")\n",
    "collection = client[\"openfda_converted\"][\"full_reports\"]\n",
    "\n",
    "def serialize_openfda(openfda):\n",
    "    if not isinstance(openfda, dict):\n",
    "        return None\n",
    "    # Sort keys to ensure consistent serialization\n",
    "    return json.dumps({k: v for k, v in sorted(openfda.items()) if v not in [None, \"\", [], {}, \"null\"]}, sort_keys=True)\n",
    "\n",
    "variant_tracker = defaultdict(set)\n",
    "\n",
    "cursor = collection.find({}, {\"patient.drug\": 1})\n",
    "\n",
    "for doc in cursor:\n",
    "    drugs = doc.get(\"patient\", {}).get(\"drug\", [])\n",
    "    for drug in drugs:\n",
    "        name = drug.get(\"medicinalproduct\")\n",
    "        openfda = drug.get(\"openfda\")\n",
    "        if not name:\n",
    "            continue\n",
    "        serialized = serialize_openfda(openfda)\n",
    "        if serialized:\n",
    "            variant_tracker[name].add(serialized)\n",
    "\n",
    "# Check for drugs with more than one unique metadata fingerprint\n",
    "conflicting = {name: variants for name, variants in variant_tracker.items() if len(variants) > 1}\n",
    "\n",
    "print(f\"🧪 Drugs with multiple openfda variants: {len(conflicting)}\")\n",
    "for name in list(conflicting)[:10]:\n",
    "    print(f\" - {name}: {len(conflicting[name])} variants\")\n"
   ]
  },
  {
   "cell_type": "code",
   "execution_count": 41,
   "id": "52bdcec1",
   "metadata": {},
   "outputs": [
    {
     "name": "stdout",
     "output_type": "stream",
     "text": [
      "{'drugcharacterization': 1, 'medicinalproduct': 'COPIKTRA', 'drugbatchnumb': '1697765A', 'drugauthorizationnumb': 211155, 'drugstructuredosagenumb': 75.0, 'drugstructuredosageunit': 3, 'drugseparatedosagenumb': 2.0, 'drugintervaldosageunitnumb': 1.0, 'drugintervaldosagedefinition': 804, 'drugdosagetext': '75 MG, BID', 'drugdosageform': 'Capsule', 'drugadministrationroute': 48, 'drugindication': 'Non-Hodgkin^s lymphoma', 'actiondrug': 5, 'drugrecurreadministration': 3, 'drugadditional': 3, 'activesubstance': {'activesubstancename': 'DUVELISIB'}, 'openfda': {'application_number': ['NDA211155'], 'brand_name': ['COPIKTRA'], 'generic_name': ['DUVELISIB'], 'manufacturer_name': ['Secura Bio, Inc'], 'product_ndc': ['73116-215', '73116-225'], 'product_type': ['HUMAN PRESCRIPTION DRUG'], 'route': ['ORAL'], 'substance_name': ['DUVELISIB'], 'rxcui': ['2058514', '2058520', '2058523', '2058525'], 'spl_id': ['de5c746e-bd30-4b3c-a473-b8fe1f70153c'], 'spl_set_id': ['e3c5ac56-e1f6-473a-bc73-687836534780'], 'package_ndc': ['73116-225-28', '73116-225-56', '73116-215-28', '73116-215-56'], 'unii': ['610V23S0JI']}}\n",
      "{'drugcharacterization': 1, 'medicinalproduct': 'AMLODIPINE', 'drugadministrationroute': 65, 'drugindication': 'Product used for unknown indication', 'actiondrug': 5, 'drugrecurreadministration': 3, 'drugadditional': 3, 'activesubstance': {'activesubstancename': 'AMLODIPINE BESYLATE'}, 'openfda': {'application_number': ['NDA214439', 'NDA211340', 'ANDA215035'], 'brand_name': ['NORLIQVA', 'KATERZIA', 'AMLODIPINE'], 'generic_name': ['AMLODIPINE'], 'manufacturer_name': ['CMP Pharma, Inc.', 'Azurity Pharmaceuticals, Inc.', 'Amneal Pharmaceuticals NY LLC'], 'product_ndc': ['46287-035', '52652-5001', '69238-2026'], 'product_type': ['HUMAN PRESCRIPTION DRUG'], 'route': ['ORAL'], 'substance_name': ['AMLODIPINE', 'AMLODIPINE BENZOATE'], 'rxcui': ['2599173', '2599179', '2184120', '2184126'], 'spl_id': ['63a6bb49-fb68-4351-be5f-a6b6e8f6b540', '78965c75-1ba7-48f0-bc14-029d5bb34f88', 'f18fa3f2-2d8f-499f-9708-3748fee89eb3'], 'spl_set_id': ['c1730a51-4383-4c61-a9a1-7e1326bd0abe', 'df673a4d-acb8-444c-a472-c87ab8cbd366', '8394e577-3b64-4655-86b8-b757126672c9'], 'package_ndc': ['46287-035-15', '52652-5001-1', '69238-2026-7'], 'nui': ['N0000000069', 'N0000175421', 'N0000175566', 'M0006414', 'N0000190114'], 'pharm_class_moa': ['Calcium Channel Antagonists [MoA]', 'Cytochrome P450 3A Inhibitors [MoA]'], 'pharm_class_epc': ['Dihydropyridine Calcium Channel Blocker [EPC]', 'Calcium Channel Blocker [EPC]'], 'pharm_class_cs': ['Dihydropyridines [CS]'], 'unii': ['1J444QC288', 'XD75TQ8A2P']}}\n",
      "{'drugcharacterization': 1, 'medicinalproduct': 'BEVACIZUMAB', 'drugauthorizationnumb': 761099, 'drugstructuredosagenumb': 15.0, 'drugstructuredosageunit': 7, 'drugdosagetext': '15 MG/KG OVER 90 MINUTES', 'drugindication': 'Hepatocellular carcinoma', 'actiondrug': 6, 'drugadditional': 4, 'activesubstance': {'activesubstancename': 'BEVACIZUMAB'}, 'openfda': {'application_number': ['BLA761198', 'BLA125085'], 'brand_name': ['AVZIVI TNJN', 'AVASTIN'], 'generic_name': ['BEVACIZUMAB'], 'manufacturer_name': ['Bio-Thera Solutions, Ltd.', 'Genentech, Inc.'], 'product_ndc': ['82143-001', '82143-002', '50242-060', '50242-061'], 'product_type': ['HUMAN PRESCRIPTION DRUG'], 'route': ['INTRAVENOUS'], 'substance_name': ['BEVACIZUMAB-TNJN', 'BEVACIZUMAB'], 'rxcui': ['2700735', '2700742', '2700744', '2700745', '1657066', '1657068', '1657073', '1657074'], 'spl_id': ['24041767-230c-9a58-e063-6394a90ad576', '8debebf6-af94-4ba7-8d67-c801f4ea27eb'], 'spl_set_id': ['a3976cf9-9edb-4ca2-9375-9bcd2e32f5b4', '939b5d1f-9fb2-4499-80ef-0607aa6b114e'], 'package_ndc': ['82143-001-01', '82143-002-01', '50242-060-01', '50242-060-10', '50242-061-01', '50242-061-10'], 'unii': ['2S9ZZM9Q9V'], 'nui': ['N0000193543', 'N0000178291', 'N0000193542'], 'pharm_class_epc': ['Vascular Endothelial Growth Factor Inhibitor [EPC]'], 'pharm_class_moa': ['Vascular Endothelial Growth Factor-directed Antibody Interactions [MoA]', 'Vascular Endothelial Growth Factor Inhibitors [MoA]']}}\n",
      "{'drugcharacterization': 1, 'medicinalproduct': 'ATEZOLIZUMAB', 'drugstructuredosagenumb': 1200.0, 'drugstructuredosageunit': 3, 'drugdosagetext': '1200 MG, OVER 2 HOURS', 'drugindication': 'Hepatocellular carcinoma', 'actiondrug': 6, 'drugadditional': 4, 'activesubstance': {'activesubstancename': 'ATEZOLIZUMAB'}, 'openfda': {'application_number': ['BLA761034'], 'brand_name': ['TECENTRIQ'], 'generic_name': ['ATEZOLIZUMAB'], 'manufacturer_name': ['Genentech, Inc.'], 'product_ndc': ['50242-917', '50242-918'], 'product_type': ['HUMAN PRESCRIPTION DRUG'], 'route': ['INTRAVENOUS'], 'substance_name': ['ATEZOLIZUMAB'], 'rxcui': ['1792780', '1792785', '2119695', '2119696'], 'spl_id': ['f4fe4626-4d6c-4c50-9d52-51aae17f27d6'], 'spl_set_id': ['6fa682c9-a312-4932-9831-f286908660ee'], 'package_ndc': ['50242-917-01', '50242-917-86', '50242-918-01'], 'nui': ['N0000191260', 'N0000191259', 'M0556300', 'M0001357', 'M0001352'], 'pharm_class_epc': ['Programmed Death Receptor-1 Blocking Antibody [EPC]'], 'pharm_class_moa': ['Programmed Death Receptor-1-directed Antibody Interactions [MoA]'], 'pharm_class_cs': ['Antibodies, Monoclonal, Humanized [CS]', 'Antibodies, Monoclonal [CS]', 'Antibodies [CS]'], 'unii': ['52CMI0WC3Y']}}\n",
      "🔍 Total drug entries with openfda: 160279\n",
      "🧪 Drugs with multiple openfda variants: 0\n"
     ]
    }
   ],
   "source": [
    "from pymongo import MongoClient\n",
    "import json\n",
    "from collections import defaultdict\n",
    "\n",
    "client = MongoClient(\"mongodb://localhost:27017\")\n",
    "collection = client[\"openfda_converted\"][\"full_reports\"]\n",
    "\n",
    "def serialize_openfda(openfda):\n",
    "    return json.dumps(openfda, sort_keys=True)\n",
    "\n",
    "variant_tracker = defaultdict(set)\n",
    "total_drugs = 0\n",
    "\n",
    "cursor = collection.find({}, {\"patient.drug\": 1}, batch_size=1000)\n",
    "\n",
    "few = 0\n",
    "\n",
    "for doc in cursor:\n",
    "    for drug in doc.get(\"patient\", {}).get(\"drug\", []):\n",
    "        few += 1\n",
    "        if few < 5:\n",
    "            print(drug)\n",
    "        name = drug.get(\"medicinalproduct\")\n",
    "        openfda = drug.get(\"openfda\", None)\n",
    "        if not name or not isinstance(openfda, dict):\n",
    "            continue\n",
    "        fingerprint = serialize_openfda(openfda)\n",
    "        variant_tracker[name].add(fingerprint)\n",
    "        total_drugs += 1\n",
    "\n",
    "# Extract products with >1 unique fingerprint\n",
    "conflicting = {name: variants for name, variants in variant_tracker.items() if len(variants) > 1}\n",
    "\n",
    "print(f\"🔍 Total drug entries with openfda: {total_drugs}\")\n",
    "print(f\"🧪 Drugs with multiple openfda variants: {len(conflicting)}\")\n",
    "if conflicting:\n",
    "    for name, variants in list(conflicting.items())[:10]:\n",
    "        print(f\" - {name}: {len(variants)} variants\")\n"
   ]
  },
  {
   "cell_type": "code",
   "execution_count": null,
   "id": "0a5ac32e",
   "metadata": {},
   "outputs": [],
   "source": []
  }
 ],
 "metadata": {
  "kernelspec": {
   "display_name": "gen_ML",
   "language": "python",
   "name": "python3"
  },
  "language_info": {
   "codemirror_mode": {
    "name": "ipython",
    "version": 3
   },
   "file_extension": ".py",
   "mimetype": "text/x-python",
   "name": "python",
   "nbconvert_exporter": "python",
   "pygments_lexer": "ipython3",
   "version": "3.9.19"
  }
 },
 "nbformat": 4,
 "nbformat_minor": 5
}
