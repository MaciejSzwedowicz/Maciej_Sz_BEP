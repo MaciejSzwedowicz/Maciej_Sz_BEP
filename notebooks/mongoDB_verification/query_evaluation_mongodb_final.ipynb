{
 "cells": [
  {
   "cell_type": "markdown",
   "id": "032af1d2",
   "metadata": {},
   "source": [
    "# MongoDB Evaluation Queries\n",
    "This notebook evaluates query expressiveness and performance using the MongoDB version of the OpenFDA dataset."
   ]
  },
  {
   "cell_type": "code",
   "execution_count": 1,
   "id": "9a0ae8ce",
   "metadata": {},
   "outputs": [],
   "source": [
    "from pymongo import MongoClient\n",
    "import time\n",
    "\n",
    "# MongoDB connection\n",
    "client = MongoClient('mongodb://localhost:27017')\n",
    "db = client['openfda']\n",
    "collection = db['full_reports']"
   ]
  },
  {
   "cell_type": "markdown",
   "id": "73912c4d",
   "metadata": {},
   "source": [
    "## Query 1: Find all reports where `medicinalproduct = 'INFLECTRA'`\n",
    "We match nested drug names using `$elemMatch`."
   ]
  },
  {
   "cell_type": "code",
   "execution_count": 4,
   "id": "8d07c5f4",
   "metadata": {},
   "outputs": [
    {
     "name": "stdout",
     "output_type": "stream",
     "text": [
      "Found 177 reports.\n"
     ]
    }
   ],
   "source": [
    "query = {\n",
    "    \"patient.drug\": {\n",
    "        \"$elemMatch\": {\n",
    "            \"medicinalproduct\": \"INFLECTRA\"\n",
    "        }\n",
    "    }\n",
    "}\n",
    "\n",
    "# Run the query and fetch results\n",
    "results = list(collection.find(query))\n",
    "\n",
    "# Print how many results we got\n",
    "print(f\"Found {len(results)} reports.\")\n",
    "# Optionally print the first one\n",
    "# if results:\n",
    "#     from pprint import pprint\n",
    "#     pprint(results[0])"
   ]
  },
  {
   "cell_type": "markdown",
   "id": "cdac2fb1",
   "metadata": {},
   "source": [
    "## Query 2: Reports where `patient.patientsex = '2'` and a `reaction.reactionoutcome = '5'` exists"
   ]
  },
  {
   "cell_type": "code",
   "execution_count": 6,
   "id": "949d9f52",
   "metadata": {},
   "outputs": [
    {
     "name": "stdout",
     "output_type": "stream",
     "text": [
      "Found 1094 reports.\n"
     ]
    }
   ],
   "source": [
    "query = {\n",
    "    \"patient.patientsex\": \"2\",\n",
    "    \"patient.reaction\": {\n",
    "        \"$elemMatch\": {\n",
    "            \"reactionoutcome\": \"5\"\n",
    "        }\n",
    "    }\n",
    "}\n",
    "\n",
    "# Execute and display\n",
    "results = list(collection.find(query))\n",
    "print(f\"Found {len(results)} reports.\")\n",
    "# if results:\n",
    "#     from pprint import pprint\n",
    "#     pprint(results[0])"
   ]
  },
  {
   "cell_type": "markdown",
   "id": "fe3a48f0",
   "metadata": {},
   "source": [
    "## Query 3: Count of serious reports grouped by `medicinalproduct`\n",
    "This uses `$unwind` and `$group` for nested aggregation."
   ]
  },
  {
   "cell_type": "code",
   "execution_count": 7,
   "id": "b007254a",
   "metadata": {},
   "outputs": [
    {
     "name": "stdout",
     "output_type": "stream",
     "text": [
      "Found 7198 medicinal products with serious reports.\n",
      "[{'_id': 'INFLECTRA', 'count': 2559},\n",
      " {'_id': 'PREDNISONE', 'count': 2148},\n",
      " {'_id': 'METHOTREXATE', 'count': 1982},\n",
      " {'_id': 'RITUXIMAB', 'count': 1388},\n",
      " {'_id': 'ACETAMINOPHEN', 'count': 1351}]\n"
     ]
    }
   ],
   "source": [
    "pipeline = [\n",
    "    { \"$unwind\": \"$patient.drug\" },\n",
    "    { \"$match\": { \"serious\": \"1\" }},\n",
    "    { \"$group\": {\n",
    "        \"_id\": \"$patient.drug.medicinalproduct\",\n",
    "        \"count\": { \"$sum\": 1 }\n",
    "    }},\n",
    "    { \"$sort\": { \"count\": -1 }}\n",
    "]\n",
    "\n",
    "results = list(collection.aggregate(pipeline))\n",
    "print(f\"Found {len(results)} medicinal products with serious reports.\")\n",
    "from pprint import pprint\n",
    "pprint(results[:5])  # Preview top 5\n"
   ]
  },
  {
   "cell_type": "markdown",
   "id": "18e57e4f",
   "metadata": {},
   "source": [
    "## Query 4: Find reports that have at least one duplicate report reference"
   ]
  },
  {
   "cell_type": "code",
   "execution_count": 12,
   "id": "7e2dbbaa",
   "metadata": {},
   "outputs": [
    {
     "name": "stdout",
     "output_type": "stream",
     "text": [
      "Found 11714 reports marked as duplicates.\n"
     ]
    }
   ],
   "source": [
    "cursor = collection.find({\n",
    "    \"duplicate\": \"1\"\n",
    "})\n",
    "results = list(cursor)\n",
    "print(f\"Found {len(results)} reports marked as duplicates.\")\n"
   ]
  },
  {
   "cell_type": "markdown",
   "id": "a08e4b69",
   "metadata": {},
   "source": [
    "## Query 5: Reports with `activesubstancename = 'INFLIXIMAB'`"
   ]
  },
  {
   "cell_type": "code",
   "execution_count": 9,
   "id": "343ccbaf",
   "metadata": {},
   "outputs": [
    {
     "name": "stdout",
     "output_type": "stream",
     "text": [
      "Found 524 reports with activesubstancename = 'INFLIXIMAB'.\n"
     ]
    }
   ],
   "source": [
    "cursor = collection.find({\n",
    "    \"patient.drug.activesubstance.activesubstancename\": \"INFLIXIMAB\"\n",
    "})\n",
    "results = list(cursor)\n",
    "print(f\"Found {len(results)} reports with activesubstancename = 'INFLIXIMAB'.\")\n"
   ]
  },
  {
   "cell_type": "markdown",
   "id": "f61a4610",
   "metadata": {},
   "source": [
    "## Query 6: Count number of reactions per report"
   ]
  },
  {
   "cell_type": "code",
   "execution_count": 10,
   "id": "9028f918",
   "metadata": {},
   "outputs": [
    {
     "name": "stdout",
     "output_type": "stream",
     "text": [
      "Found reaction counts for 35999 reports.\n",
      "[{'_id': ObjectId('6819f2407894e637cc611f9a'),\n",
      "  'reaction_count': 147,\n",
      "  'safetyreportid': '23604512'},\n",
      " {'_id': ObjectId('6819f1c47894e637cc60e40f'),\n",
      "  'reaction_count': 146,\n",
      "  'safetyreportid': '18422156'},\n",
      " {'_id': ObjectId('6819f2987894e637cc614dc8'),\n",
      "  'reaction_count': 131,\n",
      "  'safetyreportid': '17530620'},\n",
      " {'_id': ObjectId('6819f29a7894e637cc614eab'),\n",
      "  'reaction_count': 116,\n",
      "  'safetyreportid': '15462312'},\n",
      " {'_id': ObjectId('6819f2a87894e637cc6155b2'),\n",
      "  'reaction_count': 111,\n",
      "  'safetyreportid': '22537856'}]\n"
     ]
    }
   ],
   "source": [
    "pipeline = [\n",
    "    {\n",
    "        \"$project\": {\n",
    "            \"safetyreportid\": 1,\n",
    "            \"reaction_count\": { \"$size\": { \"$ifNull\": [\"$patient.reaction\", []] } }\n",
    "        }\n",
    "    },\n",
    "    { \"$sort\": { \"reaction_count\": -1 }}\n",
    "]\n",
    "\n",
    "results = list(collection.aggregate(pipeline))\n",
    "print(f\"Found reaction counts for {len(results)} reports.\")\n",
    "from pprint import pprint\n",
    "pprint(results[:5])  # Top 5 reports with most reactions\n"
   ]
  },
  {
   "cell_type": "code",
   "execution_count": null,
   "id": "7efee9df",
   "metadata": {},
   "outputs": [],
   "source": []
  }
 ],
 "metadata": {
  "kernelspec": {
   "display_name": "gen_ML",
   "language": "python",
   "name": "python3"
  },
  "language_info": {
   "codemirror_mode": {
    "name": "ipython",
    "version": 3
   },
   "file_extension": ".py",
   "mimetype": "text/x-python",
   "name": "python",
   "nbconvert_exporter": "python",
   "pygments_lexer": "ipython3",
   "version": "3.9.19"
  }
 },
 "nbformat": 4,
 "nbformat_minor": 5
}
