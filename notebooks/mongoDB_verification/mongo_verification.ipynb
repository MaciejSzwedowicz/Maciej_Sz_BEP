{
 "cells": [
  {
   "cell_type": "markdown",
   "id": "76c0dc25",
   "metadata": {},
   "source": [
    "### ✅ Notebook Goal:\n",
    "- Compare the raw OpenFDA MongoDB database with the converted one\n",
    "- to verify completeness, field preservation, and transformation accuracy"
   ]
  },
  {
   "cell_type": "code",
   "execution_count": 23,
   "id": "01191cf6",
   "metadata": {},
   "outputs": [],
   "source": [
    "from pymongo import MongoClient\n",
    "import pandas as pd\n",
    "from collections import Counter, defaultdict\n",
    "from pprint import pprint\n",
    "import random\n",
    "import matplotlib.pyplot as plt\n",
    "\n",
    "# --- MongoDB Connections ---\n",
    "client = MongoClient('mongodb://localhost:27017')\n",
    "raw_db = client[\"openfda\"]\n",
    "converted_db = client[\"openfda_converted\"]\n",
    "raw_collection = raw_db[\"full_reports\"]\n",
    "converted_collection = converted_db[\"full_reports\"]"
   ]
  },
  {
   "cell_type": "code",
   "execution_count": 2,
   "id": "3b228df1",
   "metadata": {},
   "outputs": [
    {
     "name": "stdout",
     "output_type": "stream",
     "text": [
      "Raw MongoDB reports: 35999\n",
      "Converted MongoDB reports: 35999\n"
     ]
    }
   ],
   "source": [
    "# --- 1. Basic Count Comparison ---\n",
    "raw_count = raw_collection.count_documents({})\n",
    "converted_count = converted_collection.count_documents({})\n",
    "\n",
    "print(f\"Raw MongoDB reports: {raw_count}\")\n",
    "print(f\"Converted MongoDB reports: {converted_count}\")"
   ]
  },
  {
   "cell_type": "code",
   "execution_count": 4,
   "id": "22c86391",
   "metadata": {},
   "outputs": [
    {
     "name": "stdout",
     "output_type": "stream",
     "text": [
      "\n",
      "📊 Field presence comparison:\n",
      "patient.reaction → Raw: 35999, Converted: 35999\n",
      "patient.drug → Raw: 35999, Converted: 35999\n",
      "reportduplicate → Raw: 11561, Converted: 11561\n",
      "patient.summary.case_event_date_extracted → Raw: 0, Converted: 16948\n",
      "patient.drug.openfda → Raw: 35670, Converted: 35670\n",
      "patient.drug.activesubstance → Raw: 35999, Converted: 35999\n"
     ]
    }
   ],
   "source": [
    "# --- 2. Presence Check for Common Nested Fields ---\n",
    "def field_presence(collection, path):\n",
    "    return collection.count_documents({path: {\"$exists\": True}})\n",
    "\n",
    "fields_to_check = [\n",
    "    \"patient.reaction\",\n",
    "    \"patient.drug\",\n",
    "    \"reportduplicate\",\n",
    "    \"patient.summary.case_event_date_extracted\",\n",
    "    \"patient.drug.openfda\",\n",
    "    \"patient.drug.activesubstance\"\n",
    "]\n",
    "\n",
    "print(\"\\n📊 Field presence comparison:\")\n",
    "for field in fields_to_check:\n",
    "    raw_count = field_presence(raw_collection, field)\n",
    "    conv_count = field_presence(converted_collection, field)\n",
    "    print(f\"{field} → Raw: {raw_count}, Converted: {conv_count}\")"
   ]
  },
  {
   "cell_type": "code",
   "execution_count": null,
   "id": "faca338c",
   "metadata": {},
   "outputs": [],
   "source": [
    "# --- 3. Sample Structural Preview ---\n",
    "print(\"\\n🧬 Sample raw report structure:\")\n",
    "pprint(raw_collection.find_one(), depth=2)\n",
    "\n",
    "print(\"\\n🧬 Sample converted report structure:\")\n",
    "pprint(converted_collection.find_one(), depth=2)"
   ]
  },
  {
   "cell_type": "code",
   "execution_count": null,
   "id": "9e5e4b41",
   "metadata": {},
   "outputs": [],
   "source": [
    "# --- 4. Field Coverage Profiling (Sample-based) ---\n",
    "def extract_field_paths(doc, prefix=\"\"):\n",
    "    paths = []\n",
    "    for k, v in doc.items():\n",
    "        full_path = f\"{prefix}.{k}\" if prefix else k\n",
    "        paths.append(full_path)\n",
    "        if isinstance(v, dict):\n",
    "            paths.extend(extract_field_paths(v, prefix=full_path))\n",
    "        elif isinstance(v, list) and v and isinstance(v[0], dict):\n",
    "            paths.extend(extract_field_paths(v[0], prefix=full_path + \"[]\"))\n",
    "    return paths\n",
    "\n",
    "\n",
    "def profile_field_coverage(collection, sample_size=2000):\n",
    "    total = collection.count_documents({})\n",
    "    skip_values = random.sample(range(total), min(sample_size, total))\n",
    "    counter = defaultdict(int)\n",
    "\n",
    "    for i, skip in enumerate(skip_values):\n",
    "        doc = collection.find().skip(skip).limit(1).next()\n",
    "        seen_fields = set(extract_field_paths(doc))\n",
    "        for f in seen_fields:\n",
    "            counter[f] += 1\n",
    "\n",
    "    df = pd.DataFrame({\"field\": list(counter.keys()),\n",
    "                       \"presence_count\": list(counter.values())})\n",
    "    df[\"presence_pct\"] = (df[\"presence_count\"] / sample_size * 100).round(2)\n",
    "    df = df.sort_values(\"presence_pct\", ascending=False).reset_index(drop=True)\n",
    "    return df\n",
    "\n",
    "# Run for both collections with larger sample\n",
    "print(\"\\n🔍 Sampling field coverage in raw collection:\")\n",
    "raw_fields_df = profile_field_coverage(raw_collection, sample_size=10000)\n",
    "\n",
    "print(\"\\n🔍 Sampling field coverage in converted collection:\")\n",
    "converted_fields_df = profile_field_coverage(converted_collection, sample_size=10000)\n",
    "\n",
    "# --- 5. Side-by-side comparison ---\n",
    "merged = pd.merge(raw_fields_df, converted_fields_df, on=\"field\", how=\"outer\", suffixes=(\"_raw\", \"_converted\"))\n",
    "merged = merged.fillna(0)\n",
    "merged[\"presence_diff\"] = (merged[\"presence_pct_converted\"] - merged[\"presence_pct_raw\"]).round(2)\n",
    "merged = merged.sort_values(\"presence_pct_raw\", ascending=False).reset_index(drop=True)\n",
    "\n",
    "print(\"\\n📊 Top 30 fields by raw presence with difference compared to converted:\")\n",
    "display(merged.head(30))"
   ]
  },
  {
   "cell_type": "code",
   "execution_count": 12,
   "id": "e267d420",
   "metadata": {},
   "outputs": [
    {
     "name": "stdout",
     "output_type": "stream",
     "text": [
      "✅ Exported sparse fields to: reports/evaluation_results//mongo_field_comparison.csv\n"
     ]
    }
   ],
   "source": [
    "merged.to_csv(\"../../reports/evaluation_results/mongo_field_comparison.csv\", index=False)\n",
    "print(\"✅ Exported sparse fields to: reports/evaluation_results//mongo_field_comparison.csv\")"
   ]
  },
  {
   "cell_type": "code",
   "execution_count": null,
   "id": "f08dbb44",
   "metadata": {},
   "outputs": [
    {
     "name": "stdout",
     "output_type": "stream",
     "text": [
      "\n",
      "🔍 Comparing field counts per safetyreportid...\n",
      "\n",
      "✅ Checked 35999 reports — 0 mismatches found.\n",
      "🎉 All field counts match perfectly!\n"
     ]
    }
   ],
   "source": [
    "# --- 6.1 Field Count Per Report Validation ---\n",
    "def count_fields_per_document(doc):\n",
    "    return len(set(extract_field_paths(doc)))\n",
    "\n",
    "raw_cursor = raw_collection.find({}, {\"safetyreportid\": 1})\n",
    "total_checked = 0\n",
    "total_mismatches = 0\n",
    "\n",
    "print(\"\\n🔍 Comparing field counts per safetyreportid...\")\n",
    "\n",
    "for raw_doc in raw_cursor:\n",
    "    sid = int(raw_doc[\"safetyreportid\"])\n",
    "    full_raw_doc = raw_collection.find_one({\"safetyreportid\": str(sid)})\n",
    "    full_conv_doc = converted_collection.find_one({\"safetyreportid\": sid})\n",
    "    if not full_raw_doc or not full_conv_doc:\n",
    "        print(f\"⚠️ Safetyreportid {sid} not found in one of the collections.\")\n",
    "        continue\n",
    "\n",
    "    raw_count = count_fields_per_document(full_raw_doc)\n",
    "    conv_count = count_fields_per_document(full_conv_doc)\n",
    "\n",
    "    # Adjust for derived field in converted\n",
    "    if \"summary\" in full_conv_doc.get(\"patient\", {}):\n",
    "        if \"case_event_date_extracted\" in full_conv_doc[\"patient\"][\"summary\"]:\n",
    "            conv_count -= 1\n",
    "\n",
    "    total_checked += 1\n",
    "    if raw_count != conv_count:\n",
    "        total_mismatches += 1\n",
    "        print(f\"❌ Mismatch in safetyreportid {sid}: raw={raw_count}, converted={conv_count}\")\n",
    "\n",
    "print(f\"\\n✅ Checked {total_checked} reports — {total_mismatches} mismatches found.\")\n",
    "if total_mismatches == 0:\n",
    "    print(\"🎉 All field counts match perfectly!\")"
   ]
  },
  {
   "cell_type": "code",
   "execution_count": 21,
   "id": "88487df2",
   "metadata": {},
   "outputs": [
    {
     "name": "stdout",
     "output_type": "stream",
     "text": [
      "\n",
      "🔍 Comparing field counts per safetyreportid...\n",
      "\n",
      "✅ Field count data exported to 'field_counts_by_report.csv'\n"
     ]
    }
   ],
   "source": [
    "# --- 6.2 Field Count Per Report Validation and Export ---\n",
    "def count_fields_per_document(doc):\n",
    "    return len(set(extract_field_paths(doc)))\n",
    "\n",
    "raw_cursor = raw_collection.find({}, {\"safetyreportid\": 1})\n",
    "field_counts = []\n",
    "\n",
    "print(\"\\n🔍 Comparing field counts per safetyreportid...\")\n",
    "\n",
    "for raw_doc in raw_cursor:\n",
    "    sid = int(raw_doc[\"safetyreportid\"])\n",
    "    full_raw_doc = raw_collection.find_one({\"safetyreportid\": str(sid)})\n",
    "    full_conv_doc = converted_collection.find_one({\"safetyreportid\": sid})\n",
    "    if not full_raw_doc or not full_conv_doc:\n",
    "        continue\n",
    "\n",
    "    raw_count = count_fields_per_document(full_raw_doc)\n",
    "    conv_count = count_fields_per_document(full_conv_doc)\n",
    "\n",
    "    # Adjust for derived field in converted\n",
    "    if \"summary\" in full_conv_doc.get(\"patient\", {}):\n",
    "        if \"case_event_date_extracted\" in full_conv_doc[\"patient\"][\"summary\"]:\n",
    "            conv_count -= 1\n",
    "\n",
    "    field_counts.append({\n",
    "        \"safetyreportid\": sid,\n",
    "        \"field_count_raw\": raw_count,\n",
    "        \"field_count_converted\": conv_count\n",
    "    })\n",
    "\n",
    "field_counts_df = pd.DataFrame(field_counts)\n",
    "field_counts_df.to_csv(\"../../reports/evaluation_results/field_counts_by_report.csv\", index=False)\n",
    "\n",
    "print(\"\\n✅ Field count data exported to 'field_counts_by_report.csv'\")"
   ]
  },
  {
   "cell_type": "code",
   "execution_count": 24,
   "id": "693d8b11",
   "metadata": {},
   "outputs": [
    {
     "data": {
      "image/png": "[encoded data removed]",
      "text/plain": [
       "<Figure size 1200x600 with 1 Axes>"
      ]
     },
     "metadata": {},
     "output_type": "display_data"
    }
   ],
   "source": [
    "# Load the field count CSV\n",
    "df = pd.read_csv(\"../../reports/evaluation_results/field_counts_by_report.csv\")\n",
    "\n",
    "# Plot histograms\n",
    "plt.figure(figsize=(12, 6))\n",
    "plt.hist(df[\"field_count_raw\"], bins=50, alpha=0.6, label=\"Raw\", color=\"blue\")\n",
    "plt.hist(df[\"field_count_converted\"], bins=50, alpha=0.6, label=\"Converted\", color=\"orange\")\n",
    "plt.xlabel(\"Number of Unique Fields per Report\")\n",
    "plt.ylabel(\"Number of Reports\")\n",
    "plt.title(\"Distribution of Unique Field Counts per Report (Raw vs Converted)\")\n",
    "plt.legend()\n",
    "plt.grid(True)\n",
    "plt.tight_layout()\n",
    "plt.show()"
   ]
  },
  {
   "cell_type": "code",
   "execution_count": null,
   "id": "c4e00f3a",
   "metadata": {},
   "outputs": [],
   "source": []
  }
 ],
 "metadata": {
  "kernelspec": {
   "display_name": "gen_ML",
   "language": "python",
   "name": "python3"
  },
  "language_info": {
   "codemirror_mode": {
    "name": "ipython",
    "version": 3
   },
   "file_extension": ".py",
   "mimetype": "text/x-python",
   "name": "python",
   "nbconvert_exporter": "python",
   "pygments_lexer": "ipython3",
   "version": "3.9.19"
  }
 },
 "nbformat": 4,
 "nbformat_minor": 5
}
