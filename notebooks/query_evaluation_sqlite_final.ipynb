{
 "cells": [
  {
   "cell_type": "markdown",
   "id": "c4cd932d",
   "metadata": {},
   "source": [
    "# SQLite Evaluation Queries\n",
    "This notebook evaluates the equivalent queries against the structured SQLite schema."
   ]
  },
  {
   "cell_type": "code",
   "execution_count": 5,
   "id": "cdcca152",
   "metadata": {},
   "outputs": [],
   "source": [
    "import sqlite3\n",
    "conn = sqlite3.connect(\"../sql/openfda_base.db\")\n",
    "cursor = conn.cursor()"
   ]
  },
  {
   "cell_type": "markdown",
   "id": "04cd52bf",
   "metadata": {},
   "source": [
    "## Query 1: All reports where `medicinalproduct = 'INFLECTRA'`"
   ]
  },
  {
   "cell_type": "code",
   "execution_count": 15,
   "id": "bb7ee103",
   "metadata": {},
   "outputs": [
    {
     "name": "stdout",
     "output_type": "stream",
     "text": [
      "Found 2569 reports.\n",
      "Found 177 unique reports.\n"
     ]
    }
   ],
   "source": [
    "query = \"\"\"\n",
    "SELECT r.safetyreportid\n",
    "FROM report r\n",
    "JOIN drug d ON r.safetyreportid = d.safetyreportid\n",
    "WHERE d.medicinalproduct = 'INFLECTRA';\n",
    "\"\"\"\n",
    "cursor.execute(query)\n",
    "results = cursor.fetchall()\n",
    "print(f\"Found {len(results)} reports.\")\n",
    "what = set()\n",
    "for row in results:\n",
    "    what.add(row[0])\n",
    "print(f\"Found {len(what)} unique reports.\")"
   ]
  },
  {
   "cell_type": "markdown",
   "id": "2844cc44",
   "metadata": {},
   "source": [
    "## Query 2: Reports where `patientsex = '2'` and one `reactionoutcome = '5'` exists"
   ]
  },
  {
   "cell_type": "code",
   "execution_count": 20,
   "id": "01345810",
   "metadata": {},
   "outputs": [
    {
     "name": "stdout",
     "output_type": "stream",
     "text": [
      "Found 1094 reports.\n"
     ]
    }
   ],
   "source": [
    "query = \"\"\"\n",
    "SELECT DISTINCT r.safetyreportid\n",
    "FROM report r\n",
    "JOIN patient_optional p ON r.safetyreportid = p.safetyreportid\n",
    "JOIN reaction re ON r.safetyreportid = re.safetyreportid\n",
    "WHERE p.patientsex = '2' AND re.reactionoutcome = '5';\n",
    "\"\"\"\n",
    "\n",
    "cursor.execute(query)\n",
    "results = cursor.fetchall()\n",
    "print(f\"Found {len(results)} reports.\")\n",
    "what = set()\n",
    "for row in results:\n",
    "    what.add(row[0])"
   ]
  },
  {
   "cell_type": "markdown",
   "id": "bae4bf1e",
   "metadata": {},
   "source": [
    "## Query 3: Number of serious reports by `medicinalproduct`"
   ]
  },
  {
   "cell_type": "code",
   "execution_count": 17,
   "id": "1e51f8ab",
   "metadata": {},
   "outputs": [
    {
     "name": "stdout",
     "output_type": "stream",
     "text": [
      "Found 7209 rows.\n",
      "[('INFLECTRA', 2559),\n",
      " ('PREDNISONE', 2149),\n",
      " ('METHOTREXATE', 1982),\n",
      " ('RITUXIMAB', 1388),\n",
      " ('ACETAMINOPHEN', 1351)]\n"
     ]
    }
   ],
   "source": [
    "query = \"\"\"\n",
    "SELECT d.medicinalproduct, COUNT(*) AS serious_count\n",
    "FROM report r\n",
    "JOIN drug d ON r.safetyreportid = d.safetyreportid\n",
    "WHERE r.serious = '1'\n",
    "GROUP BY d.medicinalproduct\n",
    "ORDER BY serious_count DESC;\n",
    "\"\"\"\n",
    "\n",
    "cursor.execute(query)\n",
    "results = cursor.fetchall()\n",
    "print(f\"Found {len(results)} rows.\")\n",
    "from pprint import pprint\n",
    "pprint(results[:5])\n"
   ]
  },
  {
   "cell_type": "markdown",
   "id": "5038f49a",
   "metadata": {},
   "source": [
    "## Query 4: Reports that have duplicate references"
   ]
  },
  {
   "cell_type": "code",
   "execution_count": 19,
   "id": "65cdb8fe",
   "metadata": {},
   "outputs": [
    {
     "name": "stdout",
     "output_type": "stream",
     "text": [
      "Found 11715 reports with duplicates.\n"
     ]
    }
   ],
   "source": [
    "query = \"\"\"\n",
    "SELECT DISTINCT r.safetyreportid\n",
    "FROM report r\n",
    "WHERE r.duplicate = '1';\n",
    "\"\"\"\n",
    "\n",
    "cursor.execute(query)\n",
    "results = cursor.fetchall()\n",
    "print(f\"Found {len(results)} reports with duplicates.\")\n"
   ]
  },
  {
   "cell_type": "markdown",
   "id": "bb14e59a",
   "metadata": {},
   "source": [
    "## Query 5: Reports with `activesubstancename = 'INFLIXIMAB'`"
   ]
  },
  {
   "cell_type": "code",
   "execution_count": 12,
   "id": "6507fe70",
   "metadata": {},
   "outputs": [
    {
     "name": "stdout",
     "output_type": "stream",
     "text": [
      "Found 524 reports with active substance INFLIXIMAB.\n"
     ]
    }
   ],
   "source": [
    "query = \"\"\"\n",
    "SELECT DISTINCT r.safetyreportid\n",
    "FROM report r\n",
    "JOIN drug d ON r.safetyreportid = d.safetyreportid\n",
    "JOIN drug_activesubstance a ON d.id = a.drug_id\n",
    "WHERE a.activesubstancename = 'INFLIXIMAB';\n",
    "\"\"\"\n",
    "\n",
    "cursor.execute(query)\n",
    "results = cursor.fetchall()\n",
    "print(f\"Found {len(results)} reports with active substance INFLIXIMAB.\")\n"
   ]
  },
  {
   "cell_type": "markdown",
   "id": "6518116c",
   "metadata": {},
   "source": [
    "## Query 6: Count of reactions per report"
   ]
  },
  {
   "cell_type": "code",
   "execution_count": 18,
   "id": "bf8a34a5",
   "metadata": {},
   "outputs": [
    {
     "name": "stdout",
     "output_type": "stream",
     "text": [
      "Top report has 147 reactions.\n",
      "Found reaction counts for 36000 reports.\n"
     ]
    }
   ],
   "source": [
    "query = \"\"\"\n",
    "SELECT r.safetyreportid, COUNT(re.id) AS reaction_count\n",
    "FROM report r\n",
    "JOIN reaction re ON r.safetyreportid = re.safetyreportid\n",
    "GROUP BY r.safetyreportid\n",
    "ORDER BY reaction_count DESC;\n",
    "\"\"\"\n",
    "\n",
    "cursor.execute(query)\n",
    "results = cursor.fetchall()\n",
    "print(f\"Top report has {results[0][1]} reactions.\")\n",
    "print(f\"Found reaction counts for {len(results)} reports.\")\n"
   ]
  },
  {
   "cell_type": "code",
   "execution_count": null,
   "id": "5379befc",
   "metadata": {},
   "outputs": [],
   "source": []
  }
 ],
 "metadata": {
  "kernelspec": {
   "display_name": "gen_ML",
   "language": "python",
   "name": "python3"
  },
  "language_info": {
   "codemirror_mode": {
    "name": "ipython",
    "version": 3
   },
   "file_extension": ".py",
   "mimetype": "text/x-python",
   "name": "python",
   "nbconvert_exporter": "python",
   "pygments_lexer": "ipython3",
   "version": "3.9.19"
  }
 },
 "nbformat": 4,
 "nbformat_minor": 5
}
